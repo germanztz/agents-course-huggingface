{
 "cells": [
  {
   "cell_type": "markdown",
   "metadata": {},
   "source": [
    "### Original Pipelieline"
   ]
  },
  {
   "cell_type": "code",
   "execution_count": 1,
   "metadata": {},
   "outputs": [
    {
     "name": "stdout",
     "output_type": "stream",
     "text": [
      "Requirement already satisfied: llama_index in /home/daimler/workspaces/agents-course-huggingface/.venv/lib/python3.12/site-packages (0.14.6)\n",
      "Requirement already satisfied: llama_index.llms.ollama in /home/daimler/workspaces/agents-course-huggingface/.venv/lib/python3.12/site-packages (0.9.0)\n",
      "Requirement already satisfied: llama_index.embeddings.ollama in /home/daimler/workspaces/agents-course-huggingface/.venv/lib/python3.12/site-packages (0.8.3)\n",
      "Requirement already satisfied: llama_index.vector_stores.chroma in /home/daimler/workspaces/agents-course-huggingface/.venv/lib/python3.12/site-packages (0.5.3)\n",
      "Requirement already satisfied: llama-index-callbacks-arize-phoenix in /home/daimler/workspaces/agents-course-huggingface/.venv/lib/python3.12/site-packages (0.6.1)\n",
      "Requirement already satisfied: llama_index.embeddings.huggingface in /home/daimler/workspaces/agents-course-huggingface/.venv/lib/python3.12/site-packages (0.6.1)\n",
      "Requirement already satisfied: PyPDF2 in /home/daimler/workspaces/agents-course-huggingface/.venv/lib/python3.12/site-packages (3.0.1)\n",
      "Requirement already satisfied: transformers in /home/daimler/workspaces/agents-course-huggingface/.venv/lib/python3.12/site-packages (4.57.1)\n",
      "Requirement already satisfied: torch in /home/daimler/workspaces/agents-course-huggingface/.venv/lib/python3.12/site-packages (2.9.0)\n",
      "Requirement already satisfied: sentence-transformers in /home/daimler/workspaces/agents-course-huggingface/.venv/lib/python3.12/site-packages (5.1.2)\n",
      "Requirement already satisfied: ipywidgets in /home/daimler/workspaces/agents-course-huggingface/.venv/lib/python3.12/site-packages (8.1.7)\n",
      "Requirement already satisfied: llama-index-cli<0.6,>=0.5.0 in /home/daimler/workspaces/agents-course-huggingface/.venv/lib/python3.12/site-packages (from llama_index) (0.5.3)\n",
      "Requirement already satisfied: llama-index-core<0.15.0,>=0.14.6 in /home/daimler/workspaces/agents-course-huggingface/.venv/lib/python3.12/site-packages (from llama_index) (0.14.6)\n",
      "Requirement already satisfied: llama-index-embeddings-openai<0.6,>=0.5.0 in /home/daimler/workspaces/agents-course-huggingface/.venv/lib/python3.12/site-packages (from llama_index) (0.5.1)\n",
      "Requirement already satisfied: llama-index-indices-managed-llama-cloud>=0.4.0 in /home/daimler/workspaces/agents-course-huggingface/.venv/lib/python3.12/site-packages (from llama_index) (0.9.4)\n",
      "Requirement already satisfied: llama-index-llms-openai<0.7,>=0.6.0 in /home/daimler/workspaces/agents-course-huggingface/.venv/lib/python3.12/site-packages (from llama_index) (0.6.5)\n",
      "Requirement already satisfied: llama-index-readers-file<0.6,>=0.5.0 in /home/daimler/workspaces/agents-course-huggingface/.venv/lib/python3.12/site-packages (from llama_index) (0.5.4)\n",
      "Requirement already satisfied: llama-index-readers-llama-parse>=0.4.0 in /home/daimler/workspaces/agents-course-huggingface/.venv/lib/python3.12/site-packages (from llama_index) (0.5.1)\n",
      "Requirement already satisfied: nltk>3.8.1 in /home/daimler/workspaces/agents-course-huggingface/.venv/lib/python3.12/site-packages (from llama_index) (3.9.2)\n",
      "Requirement already satisfied: aiohttp<4,>=3.8.6 in /home/daimler/workspaces/agents-course-huggingface/.venv/lib/python3.12/site-packages (from llama-index-core<0.15.0,>=0.14.6->llama_index) (3.13.0)\n",
      "Requirement already satisfied: aiosqlite in /home/daimler/workspaces/agents-course-huggingface/.venv/lib/python3.12/site-packages (from llama-index-core<0.15.0,>=0.14.6->llama_index) (0.21.0)\n",
      "Requirement already satisfied: banks<3,>=2.2.0 in /home/daimler/workspaces/agents-course-huggingface/.venv/lib/python3.12/site-packages (from llama-index-core<0.15.0,>=0.14.6->llama_index) (2.2.0)\n",
      "Requirement already satisfied: dataclasses-json in /home/daimler/workspaces/agents-course-huggingface/.venv/lib/python3.12/site-packages (from llama-index-core<0.15.0,>=0.14.6->llama_index) (0.6.7)\n",
      "Requirement already satisfied: deprecated>=1.2.9.3 in /home/daimler/workspaces/agents-course-huggingface/.venv/lib/python3.12/site-packages (from llama-index-core<0.15.0,>=0.14.6->llama_index) (1.2.18)\n",
      "Requirement already satisfied: dirtyjson<2,>=1.0.8 in /home/daimler/workspaces/agents-course-huggingface/.venv/lib/python3.12/site-packages (from llama-index-core<0.15.0,>=0.14.6->llama_index) (1.0.8)\n",
      "Requirement already satisfied: filetype<2,>=1.2.0 in /home/daimler/workspaces/agents-course-huggingface/.venv/lib/python3.12/site-packages (from llama-index-core<0.15.0,>=0.14.6->llama_index) (1.2.0)\n",
      "Requirement already satisfied: fsspec>=2023.5.0 in /home/daimler/workspaces/agents-course-huggingface/.venv/lib/python3.12/site-packages (from llama-index-core<0.15.0,>=0.14.6->llama_index) (2025.9.0)\n",
      "Requirement already satisfied: httpx in /home/daimler/workspaces/agents-course-huggingface/.venv/lib/python3.12/site-packages (from llama-index-core<0.15.0,>=0.14.6->llama_index) (0.28.1)\n",
      "Requirement already satisfied: llama-index-workflows<3,>=2 in /home/daimler/workspaces/agents-course-huggingface/.venv/lib/python3.12/site-packages (from llama-index-core<0.15.0,>=0.14.6->llama_index) (2.8.3)\n",
      "Requirement already satisfied: nest-asyncio<2,>=1.5.8 in /home/daimler/workspaces/agents-course-huggingface/.venv/lib/python3.12/site-packages (from llama-index-core<0.15.0,>=0.14.6->llama_index) (1.6.0)\n",
      "Requirement already satisfied: networkx>=3.0 in /home/daimler/workspaces/agents-course-huggingface/.venv/lib/python3.12/site-packages (from llama-index-core<0.15.0,>=0.14.6->llama_index) (3.5)\n",
      "Requirement already satisfied: numpy in /home/daimler/workspaces/agents-course-huggingface/.venv/lib/python3.12/site-packages (from llama-index-core<0.15.0,>=0.14.6->llama_index) (2.3.3)\n",
      "Requirement already satisfied: pillow>=9.0.0 in /home/daimler/workspaces/agents-course-huggingface/.venv/lib/python3.12/site-packages (from llama-index-core<0.15.0,>=0.14.6->llama_index) (12.0.0)\n",
      "Requirement already satisfied: platformdirs in /home/daimler/workspaces/agents-course-huggingface/.venv/lib/python3.12/site-packages (from llama-index-core<0.15.0,>=0.14.6->llama_index) (4.5.0)\n",
      "Requirement already satisfied: pydantic>=2.8.0 in /home/daimler/workspaces/agents-course-huggingface/.venv/lib/python3.12/site-packages (from llama-index-core<0.15.0,>=0.14.6->llama_index) (2.12.0)\n",
      "Requirement already satisfied: pyyaml>=6.0.1 in /home/daimler/workspaces/agents-course-huggingface/.venv/lib/python3.12/site-packages (from llama-index-core<0.15.0,>=0.14.6->llama_index) (6.0.3)\n",
      "Requirement already satisfied: requests>=2.31.0 in /home/daimler/workspaces/agents-course-huggingface/.venv/lib/python3.12/site-packages (from llama-index-core<0.15.0,>=0.14.6->llama_index) (2.32.5)\n",
      "Requirement already satisfied: setuptools>=80.9.0 in /home/daimler/workspaces/agents-course-huggingface/.venv/lib/python3.12/site-packages (from llama-index-core<0.15.0,>=0.14.6->llama_index) (80.9.0)\n",
      "Requirement already satisfied: sqlalchemy>=1.4.49 in /home/daimler/workspaces/agents-course-huggingface/.venv/lib/python3.12/site-packages (from sqlalchemy[asyncio]>=1.4.49->llama-index-core<0.15.0,>=0.14.6->llama_index) (2.0.43)\n",
      "Requirement already satisfied: tenacity!=8.4.0,<10.0.0,>=8.2.0 in /home/daimler/workspaces/agents-course-huggingface/.venv/lib/python3.12/site-packages (from llama-index-core<0.15.0,>=0.14.6->llama_index) (9.1.2)\n",
      "Requirement already satisfied: tiktoken>=0.7.0 in /home/daimler/workspaces/agents-course-huggingface/.venv/lib/python3.12/site-packages (from llama-index-core<0.15.0,>=0.14.6->llama_index) (0.12.0)\n",
      "Requirement already satisfied: tqdm<5,>=4.66.1 in /home/daimler/workspaces/agents-course-huggingface/.venv/lib/python3.12/site-packages (from llama-index-core<0.15.0,>=0.14.6->llama_index) (4.67.1)\n",
      "Requirement already satisfied: typing-extensions>=4.5.0 in /home/daimler/workspaces/agents-course-huggingface/.venv/lib/python3.12/site-packages (from llama-index-core<0.15.0,>=0.14.6->llama_index) (4.15.0)\n",
      "Requirement already satisfied: typing-inspect>=0.8.0 in /home/daimler/workspaces/agents-course-huggingface/.venv/lib/python3.12/site-packages (from llama-index-core<0.15.0,>=0.14.6->llama_index) (0.9.0)\n",
      "Requirement already satisfied: wrapt in /home/daimler/workspaces/agents-course-huggingface/.venv/lib/python3.12/site-packages (from llama-index-core<0.15.0,>=0.14.6->llama_index) (1.17.3)\n",
      "Requirement already satisfied: aiohappyeyeballs>=2.5.0 in /home/daimler/workspaces/agents-course-huggingface/.venv/lib/python3.12/site-packages (from aiohttp<4,>=3.8.6->llama-index-core<0.15.0,>=0.14.6->llama_index) (2.6.1)\n",
      "Requirement already satisfied: aiosignal>=1.4.0 in /home/daimler/workspaces/agents-course-huggingface/.venv/lib/python3.12/site-packages (from aiohttp<4,>=3.8.6->llama-index-core<0.15.0,>=0.14.6->llama_index) (1.4.0)\n",
      "Requirement already satisfied: attrs>=17.3.0 in /home/daimler/workspaces/agents-course-huggingface/.venv/lib/python3.12/site-packages (from aiohttp<4,>=3.8.6->llama-index-core<0.15.0,>=0.14.6->llama_index) (25.4.0)\n",
      "Requirement already satisfied: frozenlist>=1.1.1 in /home/daimler/workspaces/agents-course-huggingface/.venv/lib/python3.12/site-packages (from aiohttp<4,>=3.8.6->llama-index-core<0.15.0,>=0.14.6->llama_index) (1.8.0)\n",
      "Requirement already satisfied: multidict<7.0,>=4.5 in /home/daimler/workspaces/agents-course-huggingface/.venv/lib/python3.12/site-packages (from aiohttp<4,>=3.8.6->llama-index-core<0.15.0,>=0.14.6->llama_index) (6.7.0)\n",
      "Requirement already satisfied: propcache>=0.2.0 in /home/daimler/workspaces/agents-course-huggingface/.venv/lib/python3.12/site-packages (from aiohttp<4,>=3.8.6->llama-index-core<0.15.0,>=0.14.6->llama_index) (0.4.1)\n",
      "Requirement already satisfied: yarl<2.0,>=1.17.0 in /home/daimler/workspaces/agents-course-huggingface/.venv/lib/python3.12/site-packages (from aiohttp<4,>=3.8.6->llama-index-core<0.15.0,>=0.14.6->llama_index) (1.22.0)\n",
      "Requirement already satisfied: griffe in /home/daimler/workspaces/agents-course-huggingface/.venv/lib/python3.12/site-packages (from banks<3,>=2.2.0->llama-index-core<0.15.0,>=0.14.6->llama_index) (1.14.0)\n",
      "Requirement already satisfied: jinja2 in /home/daimler/workspaces/agents-course-huggingface/.venv/lib/python3.12/site-packages (from banks<3,>=2.2.0->llama-index-core<0.15.0,>=0.14.6->llama_index) (3.1.6)\n",
      "Requirement already satisfied: openai>=1.1.0 in /home/daimler/workspaces/agents-course-huggingface/.venv/lib/python3.12/site-packages (from llama-index-embeddings-openai<0.6,>=0.5.0->llama_index) (1.109.1)\n",
      "Requirement already satisfied: beautifulsoup4<5,>=4.12.3 in /home/daimler/workspaces/agents-course-huggingface/.venv/lib/python3.12/site-packages (from llama-index-readers-file<0.6,>=0.5.0->llama_index) (4.14.2)\n",
      "Requirement already satisfied: defusedxml>=0.7.1 in /home/daimler/workspaces/agents-course-huggingface/.venv/lib/python3.12/site-packages (from llama-index-readers-file<0.6,>=0.5.0->llama_index) (0.7.1)\n",
      "Requirement already satisfied: pandas<2.3.0 in /home/daimler/workspaces/agents-course-huggingface/.venv/lib/python3.12/site-packages (from llama-index-readers-file<0.6,>=0.5.0->llama_index) (2.2.3)\n",
      "Requirement already satisfied: pypdf<7,>=5.1.0 in /home/daimler/workspaces/agents-course-huggingface/.venv/lib/python3.12/site-packages (from llama-index-readers-file<0.6,>=0.5.0->llama_index) (6.1.3)\n",
      "Requirement already satisfied: striprtf<0.0.27,>=0.0.26 in /home/daimler/workspaces/agents-course-huggingface/.venv/lib/python3.12/site-packages (from llama-index-readers-file<0.6,>=0.5.0->llama_index) (0.0.26)\n",
      "Requirement already satisfied: soupsieve>1.2 in /home/daimler/workspaces/agents-course-huggingface/.venv/lib/python3.12/site-packages (from beautifulsoup4<5,>=4.12.3->llama-index-readers-file<0.6,>=0.5.0->llama_index) (2.8)\n",
      "Requirement already satisfied: llama-index-instrumentation>=0.1.0 in /home/daimler/workspaces/agents-course-huggingface/.venv/lib/python3.12/site-packages (from llama-index-workflows<3,>=2->llama-index-core<0.15.0,>=0.14.6->llama_index) (0.4.2)\n",
      "Requirement already satisfied: anyio<5,>=3.5.0 in /home/daimler/workspaces/agents-course-huggingface/.venv/lib/python3.12/site-packages (from openai>=1.1.0->llama-index-embeddings-openai<0.6,>=0.5.0->llama_index) (4.11.0)\n",
      "Requirement already satisfied: distro<2,>=1.7.0 in /home/daimler/workspaces/agents-course-huggingface/.venv/lib/python3.12/site-packages (from openai>=1.1.0->llama-index-embeddings-openai<0.6,>=0.5.0->llama_index) (1.9.0)\n",
      "Requirement already satisfied: jiter<1,>=0.4.0 in /home/daimler/workspaces/agents-course-huggingface/.venv/lib/python3.12/site-packages (from openai>=1.1.0->llama-index-embeddings-openai<0.6,>=0.5.0->llama_index) (0.11.0)\n",
      "Requirement already satisfied: sniffio in /home/daimler/workspaces/agents-course-huggingface/.venv/lib/python3.12/site-packages (from openai>=1.1.0->llama-index-embeddings-openai<0.6,>=0.5.0->llama_index) (1.3.1)\n",
      "Requirement already satisfied: idna>=2.8 in /home/daimler/workspaces/agents-course-huggingface/.venv/lib/python3.12/site-packages (from anyio<5,>=3.5.0->openai>=1.1.0->llama-index-embeddings-openai<0.6,>=0.5.0->llama_index) (3.10)\n",
      "Requirement already satisfied: certifi in /home/daimler/workspaces/agents-course-huggingface/.venv/lib/python3.12/site-packages (from httpx->llama-index-core<0.15.0,>=0.14.6->llama_index) (2025.10.5)\n",
      "Requirement already satisfied: httpcore==1.* in /home/daimler/workspaces/agents-course-huggingface/.venv/lib/python3.12/site-packages (from httpx->llama-index-core<0.15.0,>=0.14.6->llama_index) (1.0.9)\n",
      "Requirement already satisfied: h11>=0.16 in /home/daimler/workspaces/agents-course-huggingface/.venv/lib/python3.12/site-packages (from httpcore==1.*->httpx->llama-index-core<0.15.0,>=0.14.6->llama_index) (0.16.0)\n",
      "Requirement already satisfied: python-dateutil>=2.8.2 in /home/daimler/workspaces/agents-course-huggingface/.venv/lib/python3.12/site-packages (from pandas<2.3.0->llama-index-readers-file<0.6,>=0.5.0->llama_index) (2.9.0.post0)\n",
      "Requirement already satisfied: pytz>=2020.1 in /home/daimler/workspaces/agents-course-huggingface/.venv/lib/python3.12/site-packages (from pandas<2.3.0->llama-index-readers-file<0.6,>=0.5.0->llama_index) (2025.2)\n",
      "Requirement already satisfied: tzdata>=2022.7 in /home/daimler/workspaces/agents-course-huggingface/.venv/lib/python3.12/site-packages (from pandas<2.3.0->llama-index-readers-file<0.6,>=0.5.0->llama_index) (2025.2)\n",
      "Requirement already satisfied: annotated-types>=0.6.0 in /home/daimler/workspaces/agents-course-huggingface/.venv/lib/python3.12/site-packages (from pydantic>=2.8.0->llama-index-core<0.15.0,>=0.14.6->llama_index) (0.7.0)\n",
      "Requirement already satisfied: pydantic-core==2.41.1 in /home/daimler/workspaces/agents-course-huggingface/.venv/lib/python3.12/site-packages (from pydantic>=2.8.0->llama-index-core<0.15.0,>=0.14.6->llama_index) (2.41.1)\n",
      "Requirement already satisfied: typing-inspection>=0.4.2 in /home/daimler/workspaces/agents-course-huggingface/.venv/lib/python3.12/site-packages (from pydantic>=2.8.0->llama-index-core<0.15.0,>=0.14.6->llama_index) (0.4.2)\n",
      "Requirement already satisfied: ollama>=0.5.1 in /home/daimler/workspaces/agents-course-huggingface/.venv/lib/python3.12/site-packages (from llama_index.llms.ollama) (0.6.0)\n",
      "Requirement already satisfied: pytest-asyncio>=0.23.8 in /home/daimler/workspaces/agents-course-huggingface/.venv/lib/python3.12/site-packages (from llama_index.embeddings.ollama) (1.2.0)\n",
      "Requirement already satisfied: chromadb>=0.5.17 in /home/daimler/workspaces/agents-course-huggingface/.venv/lib/python3.12/site-packages (from llama_index.vector_stores.chroma) (1.2.2)\n",
      "Requirement already satisfied: openinference-instrumentation-llama-index>=4.1.0 in /home/daimler/workspaces/agents-course-huggingface/.venv/lib/python3.12/site-packages (from llama-index-callbacks-arize-phoenix) (4.3.8)\n",
      "Requirement already satisfied: huggingface-hub>=0.19.0 in /home/daimler/workspaces/agents-course-huggingface/.venv/lib/python3.12/site-packages (from huggingface-hub[inference]>=0.19.0->llama_index.embeddings.huggingface) (0.36.0)\n",
      "Requirement already satisfied: filelock in /home/daimler/workspaces/agents-course-huggingface/.venv/lib/python3.12/site-packages (from transformers) (3.20.0)\n",
      "Requirement already satisfied: packaging>=20.0 in /home/daimler/workspaces/agents-course-huggingface/.venv/lib/python3.12/site-packages (from transformers) (25.0)\n",
      "Requirement already satisfied: regex!=2019.12.17 in /home/daimler/workspaces/agents-course-huggingface/.venv/lib/python3.12/site-packages (from transformers) (2025.10.23)\n",
      "Requirement already satisfied: tokenizers<=0.23.0,>=0.22.0 in /home/daimler/workspaces/agents-course-huggingface/.venv/lib/python3.12/site-packages (from transformers) (0.22.1)\n",
      "Requirement already satisfied: safetensors>=0.4.3 in /home/daimler/workspaces/agents-course-huggingface/.venv/lib/python3.12/site-packages (from transformers) (0.6.2)\n",
      "Requirement already satisfied: hf-xet<2.0.0,>=1.1.3 in /home/daimler/workspaces/agents-course-huggingface/.venv/lib/python3.12/site-packages (from huggingface-hub>=0.19.0->huggingface-hub[inference]>=0.19.0->llama_index.embeddings.huggingface) (1.2.0)\n",
      "Requirement already satisfied: sympy>=1.13.3 in /home/daimler/workspaces/agents-course-huggingface/.venv/lib/python3.12/site-packages (from torch) (1.14.0)\n",
      "Requirement already satisfied: nvidia-cuda-nvrtc-cu12==12.8.93 in /home/daimler/workspaces/agents-course-huggingface/.venv/lib/python3.12/site-packages (from torch) (12.8.93)\n",
      "Requirement already satisfied: nvidia-cuda-runtime-cu12==12.8.90 in /home/daimler/workspaces/agents-course-huggingface/.venv/lib/python3.12/site-packages (from torch) (12.8.90)\n",
      "Requirement already satisfied: nvidia-cuda-cupti-cu12==12.8.90 in /home/daimler/workspaces/agents-course-huggingface/.venv/lib/python3.12/site-packages (from torch) (12.8.90)\n",
      "Requirement already satisfied: nvidia-cudnn-cu12==9.10.2.21 in /home/daimler/workspaces/agents-course-huggingface/.venv/lib/python3.12/site-packages (from torch) (9.10.2.21)\n",
      "Requirement already satisfied: nvidia-cublas-cu12==12.8.4.1 in /home/daimler/workspaces/agents-course-huggingface/.venv/lib/python3.12/site-packages (from torch) (12.8.4.1)\n",
      "Requirement already satisfied: nvidia-cufft-cu12==11.3.3.83 in /home/daimler/workspaces/agents-course-huggingface/.venv/lib/python3.12/site-packages (from torch) (11.3.3.83)\n",
      "Requirement already satisfied: nvidia-curand-cu12==10.3.9.90 in /home/daimler/workspaces/agents-course-huggingface/.venv/lib/python3.12/site-packages (from torch) (10.3.9.90)\n",
      "Requirement already satisfied: nvidia-cusolver-cu12==11.7.3.90 in /home/daimler/workspaces/agents-course-huggingface/.venv/lib/python3.12/site-packages (from torch) (11.7.3.90)\n",
      "Requirement already satisfied: nvidia-cusparse-cu12==12.5.8.93 in /home/daimler/workspaces/agents-course-huggingface/.venv/lib/python3.12/site-packages (from torch) (12.5.8.93)\n",
      "Requirement already satisfied: nvidia-cusparselt-cu12==0.7.1 in /home/daimler/workspaces/agents-course-huggingface/.venv/lib/python3.12/site-packages (from torch) (0.7.1)\n",
      "Requirement already satisfied: nvidia-nccl-cu12==2.27.5 in /home/daimler/workspaces/agents-course-huggingface/.venv/lib/python3.12/site-packages (from torch) (2.27.5)\n",
      "Requirement already satisfied: nvidia-nvshmem-cu12==3.3.20 in /home/daimler/workspaces/agents-course-huggingface/.venv/lib/python3.12/site-packages (from torch) (3.3.20)\n",
      "Requirement already satisfied: nvidia-nvtx-cu12==12.8.90 in /home/daimler/workspaces/agents-course-huggingface/.venv/lib/python3.12/site-packages (from torch) (12.8.90)\n",
      "Requirement already satisfied: nvidia-nvjitlink-cu12==12.8.93 in /home/daimler/workspaces/agents-course-huggingface/.venv/lib/python3.12/site-packages (from torch) (12.8.93)\n",
      "Requirement already satisfied: nvidia-cufile-cu12==1.13.1.3 in /home/daimler/workspaces/agents-course-huggingface/.venv/lib/python3.12/site-packages (from torch) (1.13.1.3)\n",
      "Requirement already satisfied: triton==3.5.0 in /home/daimler/workspaces/agents-course-huggingface/.venv/lib/python3.12/site-packages (from torch) (3.5.0)\n",
      "Requirement already satisfied: scikit-learn in /home/daimler/workspaces/agents-course-huggingface/.venv/lib/python3.12/site-packages (from sentence-transformers) (1.7.2)\n",
      "Requirement already satisfied: scipy in /home/daimler/workspaces/agents-course-huggingface/.venv/lib/python3.12/site-packages (from sentence-transformers) (1.16.2)\n",
      "Requirement already satisfied: comm>=0.1.3 in /home/daimler/workspaces/agents-course-huggingface/.venv/lib/python3.12/site-packages (from ipywidgets) (0.2.3)\n",
      "Requirement already satisfied: ipython>=6.1.0 in /home/daimler/workspaces/agents-course-huggingface/.venv/lib/python3.12/site-packages (from ipywidgets) (9.6.0)\n",
      "Requirement already satisfied: traitlets>=4.3.1 in /home/daimler/workspaces/agents-course-huggingface/.venv/lib/python3.12/site-packages (from ipywidgets) (5.14.3)\n",
      "Requirement already satisfied: widgetsnbextension~=4.0.14 in /home/daimler/workspaces/agents-course-huggingface/.venv/lib/python3.12/site-packages (from ipywidgets) (4.0.14)\n",
      "Requirement already satisfied: jupyterlab_widgets~=3.0.15 in /home/daimler/workspaces/agents-course-huggingface/.venv/lib/python3.12/site-packages (from ipywidgets) (3.0.15)\n",
      "Requirement already satisfied: build>=1.0.3 in /home/daimler/workspaces/agents-course-huggingface/.venv/lib/python3.12/site-packages (from chromadb>=0.5.17->llama_index.vector_stores.chroma) (1.3.0)\n",
      "Requirement already satisfied: pybase64>=1.4.1 in /home/daimler/workspaces/agents-course-huggingface/.venv/lib/python3.12/site-packages (from chromadb>=0.5.17->llama_index.vector_stores.chroma) (1.4.2)\n",
      "Requirement already satisfied: uvicorn>=0.18.3 in /home/daimler/workspaces/agents-course-huggingface/.venv/lib/python3.12/site-packages (from uvicorn[standard]>=0.18.3->chromadb>=0.5.17->llama_index.vector_stores.chroma) (0.37.0)\n",
      "Requirement already satisfied: posthog<6.0.0,>=2.4.0 in /home/daimler/workspaces/agents-course-huggingface/.venv/lib/python3.12/site-packages (from chromadb>=0.5.17->llama_index.vector_stores.chroma) (5.4.0)\n",
      "Requirement already satisfied: onnxruntime>=1.14.1 in /home/daimler/workspaces/agents-course-huggingface/.venv/lib/python3.12/site-packages (from chromadb>=0.5.17->llama_index.vector_stores.chroma) (1.23.2)\n",
      "Requirement already satisfied: opentelemetry-api>=1.2.0 in /home/daimler/workspaces/agents-course-huggingface/.venv/lib/python3.12/site-packages (from chromadb>=0.5.17->llama_index.vector_stores.chroma) (1.38.0)\n",
      "Requirement already satisfied: opentelemetry-exporter-otlp-proto-grpc>=1.2.0 in /home/daimler/workspaces/agents-course-huggingface/.venv/lib/python3.12/site-packages (from chromadb>=0.5.17->llama_index.vector_stores.chroma) (1.38.0)\n",
      "Requirement already satisfied: opentelemetry-sdk>=1.2.0 in /home/daimler/workspaces/agents-course-huggingface/.venv/lib/python3.12/site-packages (from chromadb>=0.5.17->llama_index.vector_stores.chroma) (1.38.0)\n",
      "Requirement already satisfied: pypika>=0.48.9 in /home/daimler/workspaces/agents-course-huggingface/.venv/lib/python3.12/site-packages (from chromadb>=0.5.17->llama_index.vector_stores.chroma) (0.48.9)\n",
      "Requirement already satisfied: overrides>=7.3.1 in /home/daimler/workspaces/agents-course-huggingface/.venv/lib/python3.12/site-packages (from chromadb>=0.5.17->llama_index.vector_stores.chroma) (7.7.0)\n",
      "Requirement already satisfied: importlib-resources in /home/daimler/workspaces/agents-course-huggingface/.venv/lib/python3.12/site-packages (from chromadb>=0.5.17->llama_index.vector_stores.chroma) (6.5.2)\n",
      "Requirement already satisfied: grpcio>=1.58.0 in /home/daimler/workspaces/agents-course-huggingface/.venv/lib/python3.12/site-packages (from chromadb>=0.5.17->llama_index.vector_stores.chroma) (1.75.1)\n",
      "Requirement already satisfied: bcrypt>=4.0.1 in /home/daimler/workspaces/agents-course-huggingface/.venv/lib/python3.12/site-packages (from chromadb>=0.5.17->llama_index.vector_stores.chroma) (5.0.0)\n",
      "Requirement already satisfied: typer>=0.9.0 in /home/daimler/workspaces/agents-course-huggingface/.venv/lib/python3.12/site-packages (from chromadb>=0.5.17->llama_index.vector_stores.chroma) (0.20.0)\n",
      "Requirement already satisfied: kubernetes>=28.1.0 in /home/daimler/workspaces/agents-course-huggingface/.venv/lib/python3.12/site-packages (from chromadb>=0.5.17->llama_index.vector_stores.chroma) (34.1.0)\n",
      "Requirement already satisfied: mmh3>=4.0.1 in /home/daimler/workspaces/agents-course-huggingface/.venv/lib/python3.12/site-packages (from chromadb>=0.5.17->llama_index.vector_stores.chroma) (5.2.0)\n",
      "Requirement already satisfied: orjson>=3.9.12 in /home/daimler/workspaces/agents-course-huggingface/.venv/lib/python3.12/site-packages (from chromadb>=0.5.17->llama_index.vector_stores.chroma) (3.11.3)\n",
      "Requirement already satisfied: rich>=10.11.0 in /home/daimler/workspaces/agents-course-huggingface/.venv/lib/python3.12/site-packages (from chromadb>=0.5.17->llama_index.vector_stores.chroma) (14.2.0)\n",
      "Requirement already satisfied: jsonschema>=4.19.0 in /home/daimler/workspaces/agents-course-huggingface/.venv/lib/python3.12/site-packages (from chromadb>=0.5.17->llama_index.vector_stores.chroma) (4.25.1)\n",
      "Requirement already satisfied: six>=1.5 in /home/daimler/workspaces/agents-course-huggingface/.venv/lib/python3.12/site-packages (from posthog<6.0.0,>=2.4.0->chromadb>=0.5.17->llama_index.vector_stores.chroma) (1.17.0)\n",
      "Requirement already satisfied: backoff>=1.10.0 in /home/daimler/workspaces/agents-course-huggingface/.venv/lib/python3.12/site-packages (from posthog<6.0.0,>=2.4.0->chromadb>=0.5.17->llama_index.vector_stores.chroma) (2.2.1)\n",
      "Requirement already satisfied: charset_normalizer<4,>=2 in /home/daimler/workspaces/agents-course-huggingface/.venv/lib/python3.12/site-packages (from requests>=2.31.0->llama-index-core<0.15.0,>=0.14.6->llama_index) (3.4.3)\n",
      "Requirement already satisfied: urllib3<3,>=1.21.1 in /home/daimler/workspaces/agents-course-huggingface/.venv/lib/python3.12/site-packages (from requests>=2.31.0->llama-index-core<0.15.0,>=0.14.6->llama_index) (2.3.0)\n",
      "Requirement already satisfied: pyproject_hooks in /home/daimler/workspaces/agents-course-huggingface/.venv/lib/python3.12/site-packages (from build>=1.0.3->chromadb>=0.5.17->llama_index.vector_stores.chroma) (1.2.0)\n",
      "Requirement already satisfied: decorator in /home/daimler/workspaces/agents-course-huggingface/.venv/lib/python3.12/site-packages (from ipython>=6.1.0->ipywidgets) (5.2.1)\n",
      "Requirement already satisfied: ipython-pygments-lexers in /home/daimler/workspaces/agents-course-huggingface/.venv/lib/python3.12/site-packages (from ipython>=6.1.0->ipywidgets) (1.1.1)\n",
      "Requirement already satisfied: jedi>=0.16 in /home/daimler/workspaces/agents-course-huggingface/.venv/lib/python3.12/site-packages (from ipython>=6.1.0->ipywidgets) (0.19.2)\n",
      "Requirement already satisfied: matplotlib-inline in /home/daimler/workspaces/agents-course-huggingface/.venv/lib/python3.12/site-packages (from ipython>=6.1.0->ipywidgets) (0.1.7)\n",
      "Requirement already satisfied: pexpect>4.3 in /home/daimler/workspaces/agents-course-huggingface/.venv/lib/python3.12/site-packages (from ipython>=6.1.0->ipywidgets) (4.9.0)\n",
      "Requirement already satisfied: prompt_toolkit<3.1.0,>=3.0.41 in /home/daimler/workspaces/agents-course-huggingface/.venv/lib/python3.12/site-packages (from ipython>=6.1.0->ipywidgets) (3.0.52)\n",
      "Requirement already satisfied: pygments>=2.4.0 in /home/daimler/workspaces/agents-course-huggingface/.venv/lib/python3.12/site-packages (from ipython>=6.1.0->ipywidgets) (2.19.2)\n",
      "Requirement already satisfied: stack_data in /home/daimler/workspaces/agents-course-huggingface/.venv/lib/python3.12/site-packages (from ipython>=6.1.0->ipywidgets) (0.6.3)\n",
      "Requirement already satisfied: wcwidth in /home/daimler/workspaces/agents-course-huggingface/.venv/lib/python3.12/site-packages (from prompt_toolkit<3.1.0,>=3.0.41->ipython>=6.1.0->ipywidgets) (0.2.14)\n",
      "Requirement already satisfied: parso<0.9.0,>=0.8.4 in /home/daimler/workspaces/agents-course-huggingface/.venv/lib/python3.12/site-packages (from jedi>=0.16->ipython>=6.1.0->ipywidgets) (0.8.5)\n",
      "Requirement already satisfied: jsonschema-specifications>=2023.03.6 in /home/daimler/workspaces/agents-course-huggingface/.venv/lib/python3.12/site-packages (from jsonschema>=4.19.0->chromadb>=0.5.17->llama_index.vector_stores.chroma) (2025.9.1)\n",
      "Requirement already satisfied: referencing>=0.28.4 in /home/daimler/workspaces/agents-course-huggingface/.venv/lib/python3.12/site-packages (from jsonschema>=4.19.0->chromadb>=0.5.17->llama_index.vector_stores.chroma) (0.36.2)\n",
      "Requirement already satisfied: rpds-py>=0.7.1 in /home/daimler/workspaces/agents-course-huggingface/.venv/lib/python3.12/site-packages (from jsonschema>=4.19.0->chromadb>=0.5.17->llama_index.vector_stores.chroma) (0.27.1)\n",
      "Requirement already satisfied: google-auth>=1.0.1 in /home/daimler/workspaces/agents-course-huggingface/.venv/lib/python3.12/site-packages (from kubernetes>=28.1.0->chromadb>=0.5.17->llama_index.vector_stores.chroma) (2.41.1)\n",
      "Requirement already satisfied: websocket-client!=0.40.0,!=0.41.*,!=0.42.*,>=0.32.0 in /home/daimler/workspaces/agents-course-huggingface/.venv/lib/python3.12/site-packages (from kubernetes>=28.1.0->chromadb>=0.5.17->llama_index.vector_stores.chroma) (1.9.0)\n",
      "Requirement already satisfied: requests-oauthlib in /home/daimler/workspaces/agents-course-huggingface/.venv/lib/python3.12/site-packages (from kubernetes>=28.1.0->chromadb>=0.5.17->llama_index.vector_stores.chroma) (2.0.0)\n",
      "Requirement already satisfied: durationpy>=0.7 in /home/daimler/workspaces/agents-course-huggingface/.venv/lib/python3.12/site-packages (from kubernetes>=28.1.0->chromadb>=0.5.17->llama_index.vector_stores.chroma) (0.10)\n",
      "Requirement already satisfied: cachetools<7.0,>=2.0.0 in /home/daimler/workspaces/agents-course-huggingface/.venv/lib/python3.12/site-packages (from google-auth>=1.0.1->kubernetes>=28.1.0->chromadb>=0.5.17->llama_index.vector_stores.chroma) (6.2.1)\n",
      "Requirement already satisfied: pyasn1-modules>=0.2.1 in /home/daimler/workspaces/agents-course-huggingface/.venv/lib/python3.12/site-packages (from google-auth>=1.0.1->kubernetes>=28.1.0->chromadb>=0.5.17->llama_index.vector_stores.chroma) (0.4.2)\n",
      "Requirement already satisfied: rsa<5,>=3.1.4 in /home/daimler/workspaces/agents-course-huggingface/.venv/lib/python3.12/site-packages (from google-auth>=1.0.1->kubernetes>=28.1.0->chromadb>=0.5.17->llama_index.vector_stores.chroma) (4.9.1)\n",
      "Requirement already satisfied: pyasn1>=0.1.3 in /home/daimler/workspaces/agents-course-huggingface/.venv/lib/python3.12/site-packages (from rsa<5,>=3.1.4->google-auth>=1.0.1->kubernetes>=28.1.0->chromadb>=0.5.17->llama_index.vector_stores.chroma) (0.6.1)\n",
      "Requirement already satisfied: llama-cloud==0.1.35 in /home/daimler/workspaces/agents-course-huggingface/.venv/lib/python3.12/site-packages (from llama-index-indices-managed-llama-cloud>=0.4.0->llama_index) (0.1.35)\n",
      "Requirement already satisfied: llama-parse>=0.5.0 in /home/daimler/workspaces/agents-course-huggingface/.venv/lib/python3.12/site-packages (from llama-index-readers-llama-parse>=0.4.0->llama_index) (0.6.54)\n",
      "Requirement already satisfied: llama-cloud-services>=0.6.54 in /home/daimler/workspaces/agents-course-huggingface/.venv/lib/python3.12/site-packages (from llama-parse>=0.5.0->llama-index-readers-llama-parse>=0.4.0->llama_index) (0.6.54)\n",
      "Requirement already satisfied: click<9,>=8.1.7 in /home/daimler/workspaces/agents-course-huggingface/.venv/lib/python3.12/site-packages (from llama-cloud-services>=0.6.54->llama-parse>=0.5.0->llama-index-readers-llama-parse>=0.4.0->llama_index) (8.3.0)\n",
      "Requirement already satisfied: python-dotenv<2,>=1.0.1 in /home/daimler/workspaces/agents-course-huggingface/.venv/lib/python3.12/site-packages (from llama-cloud-services>=0.6.54->llama-parse>=0.5.0->llama-index-readers-llama-parse>=0.4.0->llama_index) (1.1.1)\n",
      "Requirement already satisfied: joblib in /home/daimler/workspaces/agents-course-huggingface/.venv/lib/python3.12/site-packages (from nltk>3.8.1->llama_index) (1.5.2)\n",
      "Requirement already satisfied: coloredlogs in /home/daimler/workspaces/agents-course-huggingface/.venv/lib/python3.12/site-packages (from onnxruntime>=1.14.1->chromadb>=0.5.17->llama_index.vector_stores.chroma) (15.0.1)\n",
      "Requirement already satisfied: flatbuffers in /home/daimler/workspaces/agents-course-huggingface/.venv/lib/python3.12/site-packages (from onnxruntime>=1.14.1->chromadb>=0.5.17->llama_index.vector_stores.chroma) (25.9.23)\n",
      "Requirement already satisfied: protobuf in /home/daimler/workspaces/agents-course-huggingface/.venv/lib/python3.12/site-packages (from onnxruntime>=1.14.1->chromadb>=0.5.17->llama_index.vector_stores.chroma) (6.32.1)\n",
      "Requirement already satisfied: openinference-instrumentation>=0.1.27 in /home/daimler/workspaces/agents-course-huggingface/.venv/lib/python3.12/site-packages (from openinference-instrumentation-llama-index>=4.1.0->llama-index-callbacks-arize-phoenix) (0.1.41)\n",
      "Requirement already satisfied: openinference-semantic-conventions>=0.1.17 in /home/daimler/workspaces/agents-course-huggingface/.venv/lib/python3.12/site-packages (from openinference-instrumentation-llama-index>=4.1.0->llama-index-callbacks-arize-phoenix) (0.1.24)\n",
      "Requirement already satisfied: opentelemetry-instrumentation in /home/daimler/workspaces/agents-course-huggingface/.venv/lib/python3.12/site-packages (from openinference-instrumentation-llama-index>=4.1.0->llama-index-callbacks-arize-phoenix) (0.59b0)\n",
      "Requirement already satisfied: opentelemetry-semantic-conventions in /home/daimler/workspaces/agents-course-huggingface/.venv/lib/python3.12/site-packages (from openinference-instrumentation-llama-index>=4.1.0->llama-index-callbacks-arize-phoenix) (0.59b0)\n",
      "Requirement already satisfied: importlib-metadata<8.8.0,>=6.0 in /home/daimler/workspaces/agents-course-huggingface/.venv/lib/python3.12/site-packages (from opentelemetry-api>=1.2.0->chromadb>=0.5.17->llama_index.vector_stores.chroma) (8.7.0)\n",
      "Requirement already satisfied: zipp>=3.20 in /home/daimler/workspaces/agents-course-huggingface/.venv/lib/python3.12/site-packages (from importlib-metadata<8.8.0,>=6.0->opentelemetry-api>=1.2.0->chromadb>=0.5.17->llama_index.vector_stores.chroma) (3.23.0)\n",
      "Requirement already satisfied: googleapis-common-protos~=1.57 in /home/daimler/workspaces/agents-course-huggingface/.venv/lib/python3.12/site-packages (from opentelemetry-exporter-otlp-proto-grpc>=1.2.0->chromadb>=0.5.17->llama_index.vector_stores.chroma) (1.70.0)\n",
      "Requirement already satisfied: opentelemetry-exporter-otlp-proto-common==1.38.0 in /home/daimler/workspaces/agents-course-huggingface/.venv/lib/python3.12/site-packages (from opentelemetry-exporter-otlp-proto-grpc>=1.2.0->chromadb>=0.5.17->llama_index.vector_stores.chroma) (1.38.0)\n",
      "Requirement already satisfied: opentelemetry-proto==1.38.0 in /home/daimler/workspaces/agents-course-huggingface/.venv/lib/python3.12/site-packages (from opentelemetry-exporter-otlp-proto-grpc>=1.2.0->chromadb>=0.5.17->llama_index.vector_stores.chroma) (1.38.0)\n",
      "Requirement already satisfied: ptyprocess>=0.5 in /home/daimler/workspaces/agents-course-huggingface/.venv/lib/python3.12/site-packages (from pexpect>4.3->ipython>=6.1.0->ipywidgets) (0.7.0)\n",
      "Requirement already satisfied: pytest<9,>=8.2 in /home/daimler/workspaces/agents-course-huggingface/.venv/lib/python3.12/site-packages (from pytest-asyncio>=0.23.8->llama_index.embeddings.ollama) (8.4.2)\n",
      "Requirement already satisfied: iniconfig>=1 in /home/daimler/workspaces/agents-course-huggingface/.venv/lib/python3.12/site-packages (from pytest<9,>=8.2->pytest-asyncio>=0.23.8->llama_index.embeddings.ollama) (2.3.0)\n",
      "Requirement already satisfied: pluggy<2,>=1.5 in /home/daimler/workspaces/agents-course-huggingface/.venv/lib/python3.12/site-packages (from pytest<9,>=8.2->pytest-asyncio>=0.23.8->llama_index.embeddings.ollama) (1.6.0)\n",
      "Requirement already satisfied: markdown-it-py>=2.2.0 in /home/daimler/workspaces/agents-course-huggingface/.venv/lib/python3.12/site-packages (from rich>=10.11.0->chromadb>=0.5.17->llama_index.vector_stores.chroma) (4.0.0)\n",
      "Requirement already satisfied: mdurl~=0.1 in /home/daimler/workspaces/agents-course-huggingface/.venv/lib/python3.12/site-packages (from markdown-it-py>=2.2.0->rich>=10.11.0->chromadb>=0.5.17->llama_index.vector_stores.chroma) (0.1.2)\n",
      "Requirement already satisfied: greenlet>=1 in /home/daimler/workspaces/agents-course-huggingface/.venv/lib/python3.12/site-packages (from sqlalchemy>=1.4.49->sqlalchemy[asyncio]>=1.4.49->llama-index-core<0.15.0,>=0.14.6->llama_index) (3.2.4)\n",
      "Requirement already satisfied: mpmath<1.4,>=1.1.0 in /home/daimler/workspaces/agents-course-huggingface/.venv/lib/python3.12/site-packages (from sympy>=1.13.3->torch) (1.3.0)\n",
      "Requirement already satisfied: shellingham>=1.3.0 in /home/daimler/workspaces/agents-course-huggingface/.venv/lib/python3.12/site-packages (from typer>=0.9.0->chromadb>=0.5.17->llama_index.vector_stores.chroma) (1.5.4)\n",
      "Requirement already satisfied: mypy-extensions>=0.3.0 in /home/daimler/workspaces/agents-course-huggingface/.venv/lib/python3.12/site-packages (from typing-inspect>=0.8.0->llama-index-core<0.15.0,>=0.14.6->llama_index) (1.1.0)\n",
      "Requirement already satisfied: httptools>=0.6.3 in /home/daimler/workspaces/agents-course-huggingface/.venv/lib/python3.12/site-packages (from uvicorn[standard]>=0.18.3->chromadb>=0.5.17->llama_index.vector_stores.chroma) (0.7.1)\n",
      "Requirement already satisfied: uvloop>=0.15.1 in /home/daimler/workspaces/agents-course-huggingface/.venv/lib/python3.12/site-packages (from uvicorn[standard]>=0.18.3->chromadb>=0.5.17->llama_index.vector_stores.chroma) (0.22.1)\n",
      "Requirement already satisfied: watchfiles>=0.13 in /home/daimler/workspaces/agents-course-huggingface/.venv/lib/python3.12/site-packages (from uvicorn[standard]>=0.18.3->chromadb>=0.5.17->llama_index.vector_stores.chroma) (1.1.1)\n",
      "Requirement already satisfied: websockets>=10.4 in /home/daimler/workspaces/agents-course-huggingface/.venv/lib/python3.12/site-packages (from uvicorn[standard]>=0.18.3->chromadb>=0.5.17->llama_index.vector_stores.chroma) (15.0.1)\n",
      "Requirement already satisfied: humanfriendly>=9.1 in /home/daimler/workspaces/agents-course-huggingface/.venv/lib/python3.12/site-packages (from coloredlogs->onnxruntime>=1.14.1->chromadb>=0.5.17->llama_index.vector_stores.chroma) (10.0)\n",
      "Requirement already satisfied: marshmallow<4.0.0,>=3.18.0 in /home/daimler/workspaces/agents-course-huggingface/.venv/lib/python3.12/site-packages (from dataclasses-json->llama-index-core<0.15.0,>=0.14.6->llama_index) (3.26.1)\n",
      "Requirement already satisfied: colorama>=0.4 in /home/daimler/workspaces/agents-course-huggingface/.venv/lib/python3.12/site-packages (from griffe->banks<3,>=2.2.0->llama-index-core<0.15.0,>=0.14.6->llama_index) (0.4.6)\n",
      "Requirement already satisfied: MarkupSafe>=2.0 in /home/daimler/workspaces/agents-course-huggingface/.venv/lib/python3.12/site-packages (from jinja2->banks<3,>=2.2.0->llama-index-core<0.15.0,>=0.14.6->llama_index) (3.0.3)\n",
      "Requirement already satisfied: oauthlib>=3.0.0 in /home/daimler/workspaces/agents-course-huggingface/.venv/lib/python3.12/site-packages (from requests-oauthlib->kubernetes>=28.1.0->chromadb>=0.5.17->llama_index.vector_stores.chroma) (3.3.1)\n",
      "Requirement already satisfied: threadpoolctl>=3.1.0 in /home/daimler/workspaces/agents-course-huggingface/.venv/lib/python3.12/site-packages (from scikit-learn->sentence-transformers) (3.6.0)\n",
      "Requirement already satisfied: executing>=1.2.0 in /home/daimler/workspaces/agents-course-huggingface/.venv/lib/python3.12/site-packages (from stack_data->ipython>=6.1.0->ipywidgets) (2.2.1)\n",
      "Requirement already satisfied: asttokens>=2.1.0 in /home/daimler/workspaces/agents-course-huggingface/.venv/lib/python3.12/site-packages (from stack_data->ipython>=6.1.0->ipywidgets) (3.0.0)\n",
      "Requirement already satisfied: pure-eval in /home/daimler/workspaces/agents-course-huggingface/.venv/lib/python3.12/site-packages (from stack_data->ipython>=6.1.0->ipywidgets) (0.2.3)\n",
      "Note: you may need to restart the kernel to use updated packages.\n"
     ]
    }
   ],
   "source": [
    "%pip install -U llama_index llama_index.llms.ollama llama_index.embeddings.ollama llama_index.vector_stores.chroma llama-index-callbacks-arize-phoenix llama_index.embeddings.huggingface PyPDF2 transformers torch sentence-transformers ipywidgets"
   ]
  },
  {
   "cell_type": "code",
   "execution_count": 2,
   "metadata": {},
   "outputs": [],
   "source": [
    "import llama_index\n",
    "from llama_index.llms.ollama import Ollama \n",
    "from llama_index.core.agent.workflow import ReActAgent, AgentWorkflow, ToolCallResult, AgentStream\n",
    "from llama_index.embeddings.ollama import OllamaEmbedding\n",
    "from llama_index.core import SimpleDirectoryReader, Settings\n",
    "from llama_index.vector_stores.chroma import ChromaVectorStore\n",
    "from llama_index.core.ingestion import IngestionPipeline, IngestionCache, DocstoreStrategy\n",
    "from llama_index.core.node_parser import SentenceSplitter\n",
    "# from llama_index.core.node_parser import TokenTextSplitter\n",
    "from llama_index.core import VectorStoreIndex\n",
    "from llama_index.core.tools import QueryEngineTool\n",
    "from llama_index.core.prompts import PromptTemplate\n",
    "from llama_index.core.evaluation import FaithfulnessEvaluator\n",
    "from llama_index.core.schema import TransformComponent\n",
    "from llama_index.embeddings.huggingface import HuggingFaceEmbedding\n",
    "\n",
    "import nest_asyncio\n",
    "import pandas as pd\n",
    "import chromadb\n",
    "import asyncio\n",
    "import os\n",
    "from dotenv import load_dotenv\n",
    "import glob\n",
    "import PyPDF2\n",
    "import json\n",
    "import re\n",
    "from typing import ClassVar\n",
    "import torch\n",
    "\n",
    "from llama_index.core.extractors import TitleExtractor, QuestionsAnsweredExtractor\n",
    "from llama_index.core.llama_dataset.legacy.embedding import DEFAULT_QA_GENERATE_PROMPT_TMPL\n",
    "import random\n",
    "\n",
    "data_path = \"./data/\"\n",
    "project_name = \"neus_catala\"\n",
    "# embed_model=\"jinaai/jina-embeddings-v2-base-es\"\n",
    "# embed_model=\"qllama/bge-small-en-v1.5:f16\"\n",
    "# embed_model=\"BAAI/bge-base-en-v1.5\"\n",
    "embed_model=\"nomic-embed-text\"\n",
    "file_prefix = re.sub('[^A-Za-z0-9]', '_', f\"{project_name}_{embed_model}\")\n",
    "default_path = f\"{data_path}{file_prefix}\"\n",
    "\n",
    "chroma_file = default_path + '_chroma.db' #68MB\n",
    "ingest_cache_file = default_path + \"_cache.json\"\n",
    "\n",
    "from llama_index.core import Settings\n",
    "# Settings.embed_model = HuggingFaceEmbedding(model_name=\"BAAI/bge-base-en-v1.5\")\n",
    "Settings.embed_model = OllamaEmbedding(model_name=embed_model)\n",
    "# Settings.llm = Ollama(model=\"qwen2.5:7b-instruct\")\n",
    "# Settings.llm = Ollama(model=\"qwen3\", thinking=False, request_timeout=360.0)\n",
    "Settings.llm = Ollama(model=\"deepseek-r1:8b\", thinking=False, request_timeout=360.0)\n",
    "# Settings.llm = Ollama(model=\"qwen3:1.7b\", thinking=False, request_timeout=360.0)\n",
    "\n",
    "\n",
    "db = chromadb.PersistentClient(path=chroma_file)\n",
    "chroma_collection = db.get_or_create_collection(name=project_name)\n",
    "vector_store = ChromaVectorStore(chroma_collection=chroma_collection)\n",
    "ingest_cache = IngestionCache()\n",
    "if os.path.isfile(ingest_cache_file):\n",
    "    ingest_cache.from_persist_path(ingest_cache_file)\n",
    "\n",
    "\n",
    "class TextCleaner(TransformComponent):\n",
    "\n",
    "    rx_nl: ClassVar  = re.compile(r'(\\n\\s*\\n)')\n",
    "    rx_hyphen: ClassVar  = re.compile(r'(-\\n)')\n",
    "    rx_notdot: ClassVar  = re.compile(r'(?<!\\.)\\n')\n",
    "    rx_num_leter: ClassVar  = re.compile(r'(\\d)([a-zA-Z])')\n",
    "\n",
    "    def __call__(self, nodes, **kwargs):\n",
    "        # nodes = list(map(lambda node: TextCleaner()(node), nodes))\n",
    "        for node in nodes:\n",
    "            text = self.rx_nl.sub('\\n', node.text)\n",
    "            text = self.rx_hyphen.sub('', text)\n",
    "            text = self.rx_notdot.sub(' ', text)\n",
    "            text = self.rx_num_leter.sub(r'\\1 \\2', text)   \n",
    "            node.set_content(text)\n",
    "        return nodes\n",
    "\n",
    "\n",
    "pipeline = IngestionPipeline(\n",
    "    transformations=[\n",
    "        TextCleaner(),\n",
    "        SentenceSplitter(chunk_size=512),\n",
    "        Settings.embed_model,\n",
    "    ],\n",
    "    vector_store=vector_store,\n",
    "    cache=ingest_cache,\n",
    ")\n",
    "\n"
   ]
  },
  {
   "cell_type": "markdown",
   "metadata": {},
   "source": [
    "### Digest Documents"
   ]
  },
  {
   "cell_type": "code",
   "execution_count": 3,
   "metadata": {},
   "outputs": [
    {
     "name": "stdout",
     "output_type": "stream",
     "text": [
      "No new Documents\n"
     ]
    }
   ],
   "source": [
    "input_dir = data_path + \"documents\"\n",
    "already_processed_files = list(set( m['file_path'] for m in chroma_collection.get(include=['metadatas'])['metadatas']))\n",
    "\n",
    "try:\n",
    "    documents = SimpleDirectoryReader(\n",
    "        input_dir=input_dir, \n",
    "        exclude=already_processed_files\n",
    "        ).load_data()\n",
    "\n",
    "\n",
    "    nodes = await pipeline.arun(documents=documents, show_progress=True)\n",
    "    ingest_cache.persist(ingest_cache_file)\n",
    "    len(nodes)\n",
    "except ValueError:\n",
    "    print('No new Documents')"
   ]
  },
  {
   "cell_type": "markdown",
   "metadata": {},
   "source": [
    "## Evaluation\n",
    "\n",
    "### Generation of the pairs Question / answer"
   ]
  },
  {
   "cell_type": "code",
   "execution_count": 113,
   "metadata": {},
   "outputs": [],
   "source": [
    "from llama_index.core.evaluation import (\n",
    "    generate_question_context_pairs,\n",
    "    EmbeddingQAFinetuneDataset\n",
    "    )\n",
    "from llama_index.core.llama_dataset.legacy.embedding import DEFAULT_QA_GENERATE_PROMPT_TMPL\n",
    "import os\n",
    "\n",
    "import torch\n",
    "torch.cuda.empty_cache()\n",
    "\n",
    "from llama_index.core import VectorStoreIndex, SimpleDirectoryReader, StorageContext\n",
    "\n",
    "index = VectorStoreIndex.from_vector_store(vector_store)\n",
    "\n",
    "qa_file = default_path + \"_qa.json\"\n",
    "regenerate = False\n",
    "\n",
    "if not os.path.isfile(qa_file) or regenerate:\n",
    "    \n",
    "    nodes = [item.node for item in index.as_retriever(similarity_top_k=1000000).retrieve(\"\")]\n",
    "    # nodes = [node for node in nodes if node.metadata.get(\"file_name\") == \"NeusCatala-llibre.pdf\"]\n",
    "    qa_dataset = generate_question_context_pairs(\n",
    "        nodes=random.sample(nodes, min(len(nodes), 50)), \n",
    "        num_questions_per_chunk=1,\n",
    "        qa_generate_prompt_tmpl=DEFAULT_QA_GENERATE_PROMPT_TMPL+ \"Use Catalan language. do not add any introductory text or formatting. /no_think\",\n",
    "    )\n",
    "    qa_dataset.save_json(qa_file)\n"
   ]
  },
  {
   "cell_type": "markdown",
   "metadata": {},
   "source": [
    "### Generation of the responses"
   ]
  },
  {
   "cell_type": "code",
   "execution_count": 5,
   "metadata": {},
   "outputs": [
    {
     "name": "stderr",
     "output_type": "stream",
     "text": [
      "100%|██████████| 50/50 [00:01<00:00, 45.67it/s]\n"
     ]
    }
   ],
   "source": [
    "from llama_index.core.evaluation import RetrieverEvaluator\n",
    "\n",
    "# Convert to retriever\n",
    "retriever = index.as_retriever(similarity_top_k=5)\n",
    "# Define metrics\n",
    "metrics = [\"hit_rate\", \"mrr\", \"precision\", \"recall\", \"ap\", \"ndcg\"]\n",
    "\n",
    "# Create RetrieverEvaluator\n",
    "retriever_evaluator = RetrieverEvaluator.from_metric_names(metrics, retriever=retriever)\n",
    "qa_dataset = EmbeddingQAFinetuneDataset.from_json(qa_file)\n",
    "\n",
    "eval_results = await retriever_evaluator.aevaluate_dataset(qa_dataset, show_progress=True)\n"
   ]
  },
  {
   "cell_type": "code",
   "execution_count": 6,
   "metadata": {},
   "outputs": [
    {
     "data": {
      "text/html": [
       "<div>\n",
       "<style scoped>\n",
       "    .dataframe tbody tr th:only-of-type {\n",
       "        vertical-align: middle;\n",
       "    }\n",
       "\n",
       "    .dataframe tbody tr th {\n",
       "        vertical-align: top;\n",
       "    }\n",
       "\n",
       "    .dataframe thead th {\n",
       "        text-align: right;\n",
       "    }\n",
       "</style>\n",
       "<table border=\"1\" class=\"dataframe\">\n",
       "  <thead>\n",
       "    <tr style=\"text-align: right;\">\n",
       "      <th></th>\n",
       "      <th>retrievers</th>\n",
       "      <th>hit_rate</th>\n",
       "      <th>mrr</th>\n",
       "      <th>precision</th>\n",
       "      <th>recall</th>\n",
       "      <th>ap</th>\n",
       "      <th>ndcg</th>\n",
       "    </tr>\n",
       "  </thead>\n",
       "  <tbody>\n",
       "    <tr>\n",
       "      <th>0</th>\n",
       "      <td>top-2 eval</td>\n",
       "      <td>0.34</td>\n",
       "      <td>0.242333</td>\n",
       "      <td>0.068</td>\n",
       "      <td>0.34</td>\n",
       "      <td>0.242333</td>\n",
       "      <td>0.266196</td>\n",
       "    </tr>\n",
       "  </tbody>\n",
       "</table>\n",
       "</div>"
      ],
      "text/plain": [
       "   retrievers  hit_rate       mrr  precision  recall        ap      ndcg\n",
       "0  top-2 eval      0.34  0.242333      0.068    0.34  0.242333  0.266196"
      ]
     },
     "execution_count": 6,
     "metadata": {},
     "output_type": "execute_result"
    }
   ],
   "source": [
    "\n",
    "import pandas as pd\n",
    "\n",
    "\n",
    "def display_results(name, eval_results):\n",
    "    \"\"\"Display results from evaluate.\"\"\"\n",
    "\n",
    "    metric_dicts = []\n",
    "    for eval_result in eval_results:\n",
    "        metric_dict = eval_result.metric_vals_dict\n",
    "        metric_dicts.append(metric_dict)\n",
    "\n",
    "    full_df = pd.DataFrame(metric_dicts)\n",
    "\n",
    "    columns = {\n",
    "        \"retrievers\": [name],\n",
    "        **{k: [full_df[k].mean()] for k in metrics},\n",
    "    }\n",
    "\n",
    "    metric_df = pd.DataFrame(columns)\n",
    "\n",
    "    return metric_df\n",
    "\n",
    "display_results(\"top-2 eval\", eval_results)"
   ]
  },
  {
   "cell_type": "code",
   "execution_count": 112,
   "metadata": {},
   "outputs": [
    {
     "data": {
      "text/html": [
       "Query: Quines categories de persones van ser principalsment acceptades a les receptacions del maquis de Turnac segons el text?\n",
       "Metrics: {'hit_rate': 1.0, 'mrr': 1.0, 'precision': 0.2, 'recall': 1.0, 'ap': 1.0, 'ndcg': 1.0}\n"
      ],
      "text/plain": [
       "<IPython.core.display.HTML object>"
      ]
     },
     "metadata": {},
     "output_type": "display_data"
    },
    {
     "name": "stdout",
     "output_type": "stream",
     "text": [
      "📄 Expected Nodes:\n"
     ]
    },
    {
     "data": {
      "text/html": [
       "2870f183-1253-48d0-86f9-096dab70db37: En començar el 1943, ja portaven un maquis de 20 persones.\n",
       "La Neus i l’Albert feien la recepció i instal·lació dels francesos i espanyols que volien entrar al maquis de Turnac. Això sí, per a evitar infiltrats, sempre els feien passar per un exhaustiu interrogatori. Eren homes que havien desertat del S.T.O., exiliats republicans, antics combatents de les Brigades Internacionals, ex presoners de guerra o bé militars francesos desertats. Alguns eren maquis que passaven d’un departament a un altre, solien provenir de Brive o de Les Eyzies, on estaven perseguits. En general, tots ells acostumaven a ser homes que volien fer la Resistència i que, a més a més, a l’estar perseguits no podien fer vida normal. Per això, una altra de les tasques de la Neus i l’Albert era facilitar-los documentació falsa per a què poguessin circular.\n",
       "Els carnets els robaven als despatxos d’algunes alcaldies o, de vegades, els hi facilitaven els mateixos secretaris. Als pobles petits solien ser els mestres d’escola qui acostumaven a fer aquesta funció. (NeusCatala-llibre.pdf)"
      ],
      "text/plain": [
       "<IPython.core.display.HTML object>"
      ]
     },
     "metadata": {},
     "output_type": "display_data"
    },
    {
     "name": "stdout",
     "output_type": "stream",
     "text": [
      "eval_result Query: Quines categories de persones van ser principalsment acceptades a les receptacions del maquis de Turnac segons el text?\n",
      "Metrics: {'hit_rate': 1.0, 'mrr': 1.0, 'precision': 0.2, 'recall': 1.0, 'ap': 1.0, 'ndcg': 1.0}\n",
      "\n",
      "📄 Retrieved Nodes:\n"
     ]
    },
    {
     "data": {
      "text/html": [
       "2870f183-1253-48d0-86f9-096dab70db37: En començar el 1943, ja portaven un maquis de 20 persones.\n",
       "La Neus i l’Albert feien la recepció i instal·lació dels francesos i espanyols que volien entrar al maquis de Turnac. Això sí, per a evitar infiltrats, sempre els feien passar per un exhaustiu interrogatori. Eren homes que havien desertat del S.T.O., exiliats republicans, antics combatents de les Brigades Internacionals, ex presoners de guerra o bé militars francesos desertats. Alguns eren maquis que passaven d’un departament a un altre, solien provenir de Brive o de Les Eyzies, on estaven perseguits. En general, tots ells acostumaven a ser homes que volien fer la Resistència i que, a més a més, a l’estar perseguits no podien fer vida normal. Per això, una altra de les tasques de la Neus i l’Albert era facilitar-los documentació falsa per a què poguessin circular.\n",
       "Els carnets els robaven als despatxos d’algunes alcaldies o, de vegades, els hi facilitaven els mateixos secretaris. Als pobles petits solien ser els mestres d’escola qui acostumaven a fer aquesta funció. (NeusCatala-llibre.pdf)"
      ],
      "text/plain": [
       "<IPython.core.display.HTML object>"
      ]
     },
     "metadata": {},
     "output_type": "display_data"
    },
    {
     "data": {
      "text/html": [
       "a81207a4-3e85-4963-8d42-2dea26c1ef48: La Neus explica que les normes que devien respectar els enllaços eren no parlar amb les persones a qui lliuraven els paquets o limitar-se a enunciar el missatge i marxar.\n",
       "Es reconeixien perquè portaven una senyal. “Si les cites es retardaven més de 5 minuts, foties el camp. Tornaves l’endemà i si allò fallava, buscaves un altre lloc”. En el cas de no trobar-lo o que fos tancat, no havia de preguntar a ningú, havia de prendre un taxi i intentar no aixecar sospites. La Neus recorda la vegada que va seguir aquest procediment a Madrid. Com que era molt aviat, li va demanar al taxista que la passegés per la ciutat, argumentant que no tenia esma per ferho caminant. Tenia temps i preferia despistar. Mai baixava davant el lloc on anava. Però el taxista de tant en tant li tirava indirectes: “Vam passar pel ‘Palacio de Oriente’ i em digué: ‘la meva família vivíem en unes golfes i veiem quan canviava la guàrdia, i el meu pare em deia: veus fill quantes despeses i la misèria que patim nosaltres!’. I jo, muts i a la gàbia! Quan el vaig fer parar, em deixà anar: ‘no s’ha refiat de mi; digui als seus companys que vigilin amb els taxistes, perquè (NeusCatala-llibre.pdf)"
      ],
      "text/plain": [
       "<IPython.core.display.HTML object>"
      ]
     },
     "metadata": {},
     "output_type": "display_data"
    },
    {
     "data": {
      "text/html": [
       "9bd16ae0-137b-4d9f-8971-c233b2aba5c1: Capítol I 28 generació de mestres que va sortir durant la República. Fundadors de la Federació dels Treballadors de l’Ensenyança, van fer una gran tasca pedagògica en les noves escoles mixtes. La Neus, en canvi, va rebre una educació separada dels nens. A l’escola del poble, anava a classe amb nenes de diferents edats i allà aprenien, bàsicament, a llegir i escriure, a fer labors i a resar el rosari.\n",
       "Tot i així, la Neus valora la gran sort de tenir una mestra que va aconseguir que les nenes rebessin la mateixa educació que els nens. “Es deia Pepita Hugues i tenia clar que també havíem de saber matemàtiques, àlgebra...”.\n",
       "En aquells temps, les classes s’impartien obligatòriament en castellà. I així ho feia la mestra, però després s’explicava en català, perquè considerava que l’ús de la llengua materna facilitava l’aprenentatge. La Neus també recorda com, cada matí, el primer que feien era llegir. I, de vegades, la mestra les portava al camp i els ensenyava els valors de la naturalesa.\n",
       "La Neus reconeix que aquesta dona la va marcar molt. Més endavant sabrà que la Pepita Hugues es va fer miliciana de la cultura quan esclatà la guerra civil. Els feixistes la van capturar i la portaren a la presó de Tarragona, on va ser torturada.\n",
       "Un cop fora de la presó, va morir d’esgotament a casa d’un germà. (NeusCatala-llibre.pdf)"
      ],
      "text/plain": [
       "<IPython.core.display.HTML object>"
      ]
     },
     "metadata": {},
     "output_type": "display_data"
    },
    {
     "data": {
      "text/html": [
       "ca6b8530-4feb-43ed-9ce1-902ac244f746: El maquis de Turnac necessitava armes urgentment i no se n’aniria així com així. “Qui t’ha donat el meu nom?” li preguntava l’home, tot enfadat. “Es diu el pecat, però no el pecador!”, contestava la Neus, que de cap de les maneres delataria el seu confident. Aquell home s’adonà que si ella coneixia el seu nom, sabia del cert que tenia armes i, per tant, moralment no s’hi podia negar.\n",
       "Finalment, l’home li donà una metralladora. La Neus quedà bastant satisfeta del resultat d’aquella difícil negociació. Un cop aconseguida la nova joguina, havia de portar-la ràpidament al maquis. Així que desmuntà la metralladora i l’amagà dins d’una maleta per iniciar el camí de tornada, exposant-se a ser descoberta en un possible control o registre durant el trajecte.\n",
       "Enllaç del maquis La Neus va participar activament a la Resistència als seus dos nuclis més importants, als departaments de la Dordogna i La Corréze. Com la majoria de dones resistents, s’encarregava de (NeusCatala-llibre.pdf)"
      ],
      "text/plain": [
       "<IPython.core.display.HTML object>"
      ]
     },
     "metadata": {},
     "output_type": "display_data"
    },
    {
     "data": {
      "text/html": [
       "e3f0ae6c-6fa4-435c-9558-1b368ac57179: Capítol  II 54 els mostrà la decadència en què vivien. L ’intèrpret tornava a ser el jove refugiat basc, a qui la Neus va advertir que no canviés ni una sola paraula de la conversa entre ella i els agents, que en van prendre nota i van marxar.\n",
       "En uns quants dies, les peticions de la Neus foren ateses. Després de dos mesos d’hivern al vell Château de Caussade, serien traslladats i acollits a unes dependències d’un hospici del poblet de Carsac. Però el Dr. Queyroi s’havia quedat sorprès i preocupat per la decidida actuació de la Neus.\n",
       "Ella es disculpà dient: “Això no ha anat per vostè, de qui n’estic molt contenta. Potser l’hauria d’haver previngut, però no el veig tots els dies i a mi, quan se m’acut alguna cosa, actuo de pressa!”. I afegí: “ Aquests nens no poden estar a l’exili tota la vida, alguns només tenen 8 o 9 anys!”.\n",
       "Tot just en aquells dies d’entre febrer i març de 1939, el govern francès i el recent reconegut govern de Burgos començaven a negociar el retorn dels exiliats. En el cas dels nens, si trobaven un familiar que els reclamés les autoritats franceses afavorien la seva repatriació. Arran d’això, el Dr. Queyroi començà a fer gestions per a què publiquessin gratuïtament el llistat de noms dels infants a la premsa espanyola i francesa, i així poguessin ser reclamats. (NeusCatala-llibre.pdf)"
      ],
      "text/plain": [
       "<IPython.core.display.HTML object>"
      ]
     },
     "metadata": {},
     "output_type": "display_data"
    },
    {
     "data": {
      "text/html": [
       "Segons el text, les principals categories de persones acceptades a les receptacions del maquis de Turnac incluïen homes que havien desertat del S.T.O., exiliats republicans, antics combatents de les Brigades Internacionals, ex presoners de guerra i militars francesos desertats. Aquestes persones eren sovint maquis que passaven d’un departament a un altre, com els que venien de Brive o de Les Eyzies, i que necessitaven ingressar a la Resistència degut a les persecucions."
      ],
      "text/plain": [
       "<IPython.core.display.HTML object>"
      ]
     },
     "metadata": {},
     "output_type": "display_data"
    }
   ],
   "source": [
    "# import nest_asyncio\n",
    "from IPython.display import display, HTML\n",
    "import nest_asyncio\n",
    "\n",
    "for (sample_id, sample_query) in random.sample(list(qa_dataset.queries.items()),1):\n",
    "    sample_expected = qa_dataset.relevant_docs[sample_id]\n",
    "\n",
    "    eval_result = retriever_evaluator.evaluate(sample_query, sample_expected)\n",
    "    display(HTML(f'{eval_result}'))\n",
    "\n",
    "    print('📄 Expected Nodes:')\n",
    "    for id in eval_result.expected_ids:\n",
    "        for node in index.vector_store.get_nodes(id):\n",
    "            display(HTML(f\"{id}: {node.text} ({node.metadata.get('file_name', 'N/A')})\"))\n",
    "\n",
    "    print('eval_result',eval_result) \n",
    "    \n",
    "    print('📄 Retrieved Nodes:')\n",
    "    for id in eval_result.retrieved_ids:\n",
    "        for node in index.vector_store.get_nodes(id):\n",
    "            display(HTML(f\"{id}: {node.text} ({node.metadata.get('file_name', 'N/A')})\"))\n",
    "\n",
    "    nest_asyncio.apply()\n",
    "    query_engine = index.as_query_engine()\n",
    "    response = query_engine.query(sample_query)\n",
    "    display(HTML(f'{response}'))\n"
   ]
  }
 ],
 "metadata": {
  "kernelspec": {
   "display_name": ".venv",
   "language": "python",
   "name": "python3"
  },
  "language_info": {
   "codemirror_mode": {
    "name": "ipython",
    "version": 3
   },
   "file_extension": ".py",
   "mimetype": "text/x-python",
   "name": "python",
   "nbconvert_exporter": "python",
   "pygments_lexer": "ipython3",
   "version": "3.12.3"
  }
 },
 "nbformat": 4,
 "nbformat_minor": 2
}
