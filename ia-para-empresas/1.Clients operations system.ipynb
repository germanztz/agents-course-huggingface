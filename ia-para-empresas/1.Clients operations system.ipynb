{
 "cells": [
  {
   "cell_type": "markdown",
   "id": "a3e3ebc4-57af-4fe4-bdd3-36aff67bf276",
   "metadata": {},
   "source": [
    "# Client system operations agent system\n",
    "\n",
    "Este proyecto realiza operaciones sobre los clientes de una empresa. \n",
    "En este caso, consulta los clientes de una empresa y genera un e-mail utilizando el idioma prefrido del cliente\n",
    "\n",
    "1. Utiliza Langchain agents.\n",
    "1. No requiere suscriciones, Utiliza solamente modelos de LLM locales y ligeros, en este caso usamos qwen3:7b sobre ollama.\n",
    "1. No requiere conocimientos de IA tooling ya que utiliza el LLM local para generar su própio código python.\n",
    "1. Utiliza el propio LLM local para generar los datos dummy con los que trabajan el resto de agentes.\n"
   ]
  },
  {
   "cell_type": "code",
   "execution_count": null,
   "id": "0d30b6f7-3bec-4d9f-af50-43dfdc81ae6c",
   "metadata": {
    "ExecuteTime": {
     "end_time": "2024-05-15T08:19:42.364369Z",
     "start_time": "2024-05-15T08:19:42.359273Z"
    }
   },
   "outputs": [],
   "source": [
    "# %%capture --no-stderr\n",
    "%pip install -U --upgrade pip langgraph langchain_community langchain_anthropic langchain-tavily langchain_experimental langchain_ollama mcp langchain-mcp-adapters langfuse pandas"
   ]
  },
  {
   "cell_type": "code",
   "execution_count": 1,
   "id": "30c2f3de-c730-4aec-85a6-af2c2f058803",
   "metadata": {
    "ExecuteTime": {
     "end_time": "2024-05-15T08:19:42.395571Z",
     "start_time": "2024-05-15T08:19:42.365662Z"
    }
   },
   "outputs": [],
   "source": [
    "from dotenv import load_dotenv\n",
    "import os\n",
    "load_dotenv()\n",
    "workfolder = os.getenv('WORKFOLDER')\n",
    "llm_config = {\"recursion_limit\": 10}"
   ]
  },
  {
   "cell_type": "code",
   "execution_count": null,
   "id": "46fed548",
   "metadata": {},
   "outputs": [],
   "source": [
    "from langchain_ollama import ChatOllama\n",
    "from langgraph.prebuilt import create_react_agent\n",
    "\n",
    "simple_agent = create_react_agent(name=\"simple_agent\", model=ChatOllama(model=\"qwen3\"), \n",
    "    tools=[], response_format='json', prompt=\"You are a helpful assistant. Your task is to respond to a user's question.\")\n",
    "\n",
    "input_message = {\"role\": \"user\", \"content\": \"\"\"\n",
    "Generate the python code for a function that writes a string content in a file name path given. \n",
    "the function is a langchain tool\n",
    "three parameters: content , full_file_path and append (True or False)\n",
    "should be able to handle exceptions and return an error message if the file cannot be written.\n",
    "Function must have a docstring\n",
    "use encoding utf8\n",
    "give just the code, no introduction /no_think\"\"\"\n",
    "}\n",
    "\n",
    "# Use the agent\n",
    "for step in simple_agent.stream(\n",
    "    {\"messages\": [input_message]}, llm_config, stream_mode=\"values\"\n",
    "):\n",
    "    step[\"messages\"][-1].pretty_print()"
   ]
  },
  {
   "cell_type": "code",
   "execution_count": null,
   "id": "240354bd",
   "metadata": {},
   "outputs": [],
   "source": [
    "from langchain_core.tools import tool \n",
    "\n",
    "@tool\n",
    "def write_to_file(content: str, full_file_path: str, append: bool = False) -> str:\n",
    "    \"\"\"\n",
    "    Writes the given content to a file at the specified full_file_path.\n",
    "    If append is True, the content is added to the end of the file.\n",
    "    If False, the file is overwritten.\n",
    "    Returns a success message or an error message if writing fails.\n",
    "    \"\"\"\n",
    "    try:\n",
    "        mode = 'a' if append else 'w'\n",
    "        with open(full_file_path, mode, encoding='utf-8') as file:\n",
    "            file.write(content)\n",
    "        return f\"Successfully wrote content to {full_file_path}\"\n",
    "    except Exception as e:\n",
    "        return f\"Failed to write to file {full_file_path}. Error: {str(e)}\""
   ]
  },
  {
   "cell_type": "code",
   "execution_count": null,
   "id": "6b5dc4e4",
   "metadata": {},
   "outputs": [],
   "source": [
    "simple_agent = create_react_agent(name=\"simple_agent\", model=ChatOllama(model=\"qwen3\"), \n",
    "    tools=[write_to_file], response_format='json', prompt=\"You are a helpful assistant. Your task is to respond to a user's question.\")\n",
    "\n",
    "input_message = {\"role\": \"user\", \"content\": f\"\"\"\n",
    "generate a csv list of 50 dummy clients\n",
    "with columns headers \n",
    "with client_id, name, address, phone_number, email, prefered_languaje\n",
    "write the list in a file in '{workfolder}/clients.csv'\n",
    " /no_think\"\"\"\n",
    "}\n",
    "\n",
    "# Use the agent\n",
    "for step in simple_agent.stream(\n",
    "    {\"messages\": [input_message]}, llm_config, stream_mode=\"values\"\n",
    "):\n",
    "    step[\"messages\"][-1].pretty_print()"
   ]
  },
  {
   "cell_type": "code",
   "execution_count": null,
   "id": "4024eb89-843d-4cc3-ab3f-e1eb4d031179",
   "metadata": {
    "ExecuteTime": {
     "end_time": "2024-05-15T08:19:44.477064Z",
     "start_time": "2024-05-15T08:19:42.397083Z"
    }
   },
   "outputs": [],
   "source": [
    "input_message = {\"role\": \"user\", \"content\": f\"\"\"\n",
    "Generate the python code for a function that returns the client details for a client id given. \n",
    "the function is a langchain tool\n",
    "one parameters: client_id\n",
    "use pandas to load a csv file in '{workfolder}/clients.csv'\n",
    "find the client details in a pandas dataframe return dict with all columns\n",
    "should be able to handle exceptions and return an error message if the file cannot be found.\n",
    "Function must have a docstring\n",
    "use encoding utf8\n",
    "give just the code, no introduction /no_think\"\"\"\n",
    "}\n",
    "\n",
    "# Use the agent\n",
    "for step in simple_agent.stream(\n",
    "    {\"messages\": [input_message]}, llm_config, stream_mode=\"values\"\n",
    "):\n",
    "    step[\"messages\"][-1].pretty_print()\n"
   ]
  },
  {
   "cell_type": "code",
   "execution_count": null,
   "id": "53db0c78-e357-48ba-ae5f-3fc04735a3b7",
   "metadata": {
    "ExecuteTime": {
     "end_time": "2024-05-15T08:19:48.810290Z",
     "start_time": "2024-05-15T08:19:46.561088Z"
    }
   },
   "outputs": [],
   "source": [
    "import pandas as pd\n",
    "from langchain_core.tools import tool \n",
    "\n",
    "@tool\n",
    "def get_client_details(client_id):\n",
    "    \"\"\"\n",
    "    Retrieve client details of the provided client ID.\n",
    "\n",
    "    Parameters:\n",
    "    client_id (str): The ID of the client to retrieve details for.\n",
    "\n",
    "    Returns:\n",
    "    dict: A dictionary containing all client details if found, otherwise an error message.\n",
    "    \"\"\"\n",
    "    try:\n",
    "        file_path = workfolder+'/clients.csv'\n",
    "        df = pd.read_csv(file_path, encoding='utf-8')\n",
    "        client_details = df[df['client_id'] == int(client_id)].to_dict(orient='records')\n",
    "        if client_details:\n",
    "            return client_details[0]\n",
    "        else:\n",
    "            return {\"error\": \"Client not found\"}\n",
    "    except FileNotFoundError:\n",
    "        return {\"error\": \"File not found\"}\n",
    "    except Exception as e:\n",
    "        return {\"error\": str(e)}\n",
    "\n",
    "get_client_details.invoke('31')"
   ]
  },
  {
   "cell_type": "code",
   "execution_count": null,
   "id": "1a7a1260-d9f6-4011-b2b1-13fab5126997",
   "metadata": {
    "ExecuteTime": {
     "end_time": "2024-05-15T08:19:48.825649Z",
     "start_time": "2024-05-15T08:19:48.811753Z"
    }
   },
   "outputs": [],
   "source": [
    "from langchain_ollama import ChatOllama\n",
    "from langgraph.prebuilt import create_react_agent\n",
    "import random\n",
    "\n",
    "simple_agent = create_react_agent(name=\"simple_agent\", model=ChatOllama(model=\"qwen3\"), \n",
    "    tools=[get_client_details], response_format='json', prompt=\"You are a helpful assistant. Your task is to respond to a user's question.\")\n",
    "\n",
    "input_message = {\"role\": \"user\", \"content\": f\"\"\"\n",
    "get the client details of a client with id '{random.randint(0, 50)}'\n",
    "generate an email explaining we could not deliver the package at his address nor contact him at his phone number.\n",
    "use they prefered language\n",
    "especify the actual address and phone number of the client.\n",
    "/no_think\"\"\"\n",
    "}\n",
    "\n",
    "# Use the agent\n",
    "for step in simple_agent.stream(\n",
    "    {\"messages\": [input_message]}, llm_config, stream_mode=\"values\"\n",
    "):\n",
    "    step[\"messages\"][-1].pretty_print()"
   ]
  }
 ],
 "metadata": {
  "kernelspec": {
   "display_name": ".venv",
   "language": "python",
   "name": "python3"
  },
  "language_info": {
   "codemirror_mode": {
    "name": "ipython",
    "version": 3
   },
   "file_extension": ".py",
   "mimetype": "text/x-python",
   "name": "python",
   "nbconvert_exporter": "python",
   "pygments_lexer": "ipython3",
   "version": "3.12.3"
  }
 },
 "nbformat": 4,
 "nbformat_minor": 5
}
