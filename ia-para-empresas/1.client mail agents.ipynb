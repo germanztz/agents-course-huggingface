{
 "cells": [
  {
   "cell_type": "markdown",
   "id": "a3e3ebc4-57af-4fe4-bdd3-36aff67bf276",
   "metadata": {},
   "source": [
    "# Client system operations agent system\n",
    "\n",
    "Este proyecto realiza operaciones sobre los clientes de una empresa. \n",
    "En este caso, consulta los clientes de una empresa y genera un e-mail utilizando el idioma prefrido del cliente\n",
    "\n",
    "1. Utiliza Langchain agents.\n",
    "1. No requiere suscriciones, Utiliza solamente modelos de LLM locales y ligeros, en este caso usamos qwen3:7b sobre ollama.\n",
    "1. No requiere conocimientos de IA tooling ya que utiliza el LLM local para generar su própio código python.\n",
    "1. Utiliza el propio LLM local para generar los datos dummy con los que trabajan el resto de agentes.\n"
   ]
  },
  {
   "cell_type": "code",
   "execution_count": 4,
   "id": "0d30b6f7-3bec-4d9f-af50-43dfdc81ae6c",
   "metadata": {
    "ExecuteTime": {
     "end_time": "2024-05-15T08:19:42.364369Z",
     "start_time": "2024-05-15T08:19:42.359273Z"
    }
   },
   "outputs": [],
   "source": [
    "%%capture --no-stderr\n",
    "%pip install -U --upgrade pip langgraph langchain_ollama pandas"
   ]
  },
  {
   "cell_type": "code",
   "execution_count": 5,
   "id": "30c2f3de-c730-4aec-85a6-af2c2f058803",
   "metadata": {
    "ExecuteTime": {
     "end_time": "2024-05-15T08:19:42.395571Z",
     "start_time": "2024-05-15T08:19:42.365662Z"
    }
   },
   "outputs": [],
   "source": [
    "from dotenv import load_dotenv\n",
    "import os\n",
    "load_dotenv()\n",
    "workfolder = os.getenv('WORKFOLDER')\n",
    "llm_config = {\"recursion_limit\": 10}"
   ]
  },
  {
   "cell_type": "code",
   "execution_count": 6,
   "id": "46fed548",
   "metadata": {},
   "outputs": [
    {
     "name": "stdout",
     "output_type": "stream",
     "text": [
      "================================\u001b[1m Human Message \u001b[0m=================================\n",
      "\n",
      "\n",
      "Generate the python code for a function that writes a string content in a file. \n",
      "a langchain tool with Annotated parameters and return type.\n",
      "3 parameters: content, file_path and append (True or False)\n",
      "should be able to handle exceptions and return an error message if the file cannot be written.\n",
      "Function must have a 30 words docstring\n",
      "use encoding utf8\n",
      "give just the code, no introduction /no_think\n",
      "==================================\u001b[1m Ai Message \u001b[0m==================================\n",
      "Name: simple_agent\n",
      "\n",
      "<think>\n",
      "\n",
      "</think>\n",
      "\n",
      "```python\n",
      "from langchain.tools import tool\n",
      "from typing import Annotated\n",
      "\n",
      "@tool\n",
      "def write_to_file(\n",
      "    content: Annotated[str, \"The content to write to the file.\"],\n",
      "    file_path: Annotated[str, \"The path to the file.\"],\n",
      "    append: Annotated[bool, \"Whether to append to the file or overwrite it.\"]\n",
      ") -> Annotated[str, \"Result message indicating success or error.\"]:\n",
      "    \"\"\"\n",
      "    Writes content to a file with specified path, using UTF-8 encoding. Handles exceptions and returns error message if failed.\n",
      "    \"\"\"\n",
      "    try:\n",
      "        mode = 'a' if append else 'w'\n",
      "        with open(file_path, mode, encoding='utf-8') as f:\n",
      "            f.write(content)\n",
      "        return f\"Successfully wrote content to {file_path}\"\n",
      "    except Exception as e:\n",
      "        return f\"Error writing to file: {str(e)}\"\n",
      "```\n",
      "==================================\u001b[1m Ai Message \u001b[0m==================================\n",
      "Name: simple_agent\n",
      "\n",
      "<think>\n",
      "\n",
      "</think>\n",
      "\n",
      "```python\n",
      "from langchain.tools import tool\n",
      "from typing import Annotated\n",
      "\n",
      "@tool\n",
      "def write_to_file(\n",
      "    content: Annotated[str, \"The content to write to the file.\"],\n",
      "    file_path: Annotated[str, \"The path to the file.\"],\n",
      "    append: Annotated[bool, \"Whether to append to the file or overwrite it.\"]\n",
      ") -> Annotated[str, \"Result message indicating success or error.\"]:\n",
      "    \"\"\"\n",
      "    Writes content to a file with specified path, using UTF-8 encoding. Handles exceptions and returns error message if failed.\n",
      "    \"\"\"\n",
      "    try:\n",
      "        mode = 'a' if append else 'w'\n",
      "        with open(file_path, mode, encoding='utf-8') as f:\n",
      "            f.write(content)\n",
      "        return f\"Successfully wrote content to {file_path}\"\n",
      "    except Exception as e:\n",
      "        return f\"Error writing to file: {str(e)}\"\n",
      "```\n"
     ]
    }
   ],
   "source": [
    "from langchain_ollama import ChatOllama\n",
    "from langgraph.prebuilt import create_react_agent\n",
    "\n",
    "simple_agent = create_react_agent(name=\"simple_agent\", model=ChatOllama(model=\"qwen3\"), \n",
    "    tools=[], response_format='json', prompt=\"You are a helpful assistant.\")\n",
    "\n",
    "input_message = {\"role\": \"user\", \"content\": \"\"\"\n",
    "Generate the python code for a function that writes a string content in a file. \n",
    "a langchain tool with Annotated parameters and return type.\n",
    "3 parameters: content, file_path and append (True or False)\n",
    "should be able to handle exceptions and return an error message if the file cannot be written.\n",
    "Function must have a 30 words docstring\n",
    "use encoding utf8\n",
    "give just the code, no introduction /no_think\"\"\"\n",
    "}\n",
    "\n",
    "# Use the agent\n",
    "for step in simple_agent.stream(\n",
    "    {\"messages\": [input_message]}, llm_config, stream_mode=\"values\"\n",
    "):\n",
    "    step[\"messages\"][-1].pretty_print()"
   ]
  },
  {
   "cell_type": "code",
   "execution_count": 13,
   "id": "240354bd",
   "metadata": {},
   "outputs": [
    {
     "data": {
      "text/plain": [
       "\"Error writing to file: [Errno 2] No such file or directory: '/tmp4/file.txt'\""
      ]
     },
     "execution_count": 13,
     "metadata": {},
     "output_type": "execute_result"
    }
   ],
   "source": [
    "from langchain.tools import tool\n",
    "from typing import Annotated, Optional\n",
    "\n",
    "@tool\n",
    "def write_file(\n",
    "    content: Annotated[str, \"The content to be written to the file.\"],\n",
    "    file_path: Annotated[str, \"The path to the file where content will be written.\"],\n",
    "    append: Annotated[bool, \"If True, append to the file; if False, overwrite it.\"],\n",
    "    encoding: Annotated[Optional[str], \"The encoding of the file.\"] = 'utf-8'\n",
    ") -> Annotated[str, \"Result message indicating success or error.\"]:\n",
    "    \"\"\"Writes content to a file in append or overwrite mode.\"\"\"\n",
    "    try:\n",
    "        mode = 'a' if append else 'w'\n",
    "        content = '\\n'+content if append else content\n",
    "        with open(file_path, mode, encoding=encoding) as f:\n",
    "            f.write(content)\n",
    "        return f\"Content successfully written to {file_path}\"\n",
    "    except Exception as e:\n",
    "        return f\"Error writing to file: {str(e)}\"\n",
    "\n",
    "write_file.invoke(input={'content':'this is a test\\n', 'file_path':'/tmp4/file.txt', 'append': True})"
   ]
  },
  {
   "cell_type": "code",
   "execution_count": 15,
   "id": "6b5dc4e4",
   "metadata": {},
   "outputs": [
    {
     "name": "stdout",
     "output_type": "stream",
     "text": [
      "================================\u001b[1m Human Message \u001b[0m=================================\n",
      "\n",
      "\n",
      "generate a csv list of 10 dummy clients with the following columns:\n",
      "id, name, address, phone, email, prefered_languaje\n",
      "write the list to file in '/home/daimler/workspaces/agents-course-huggingface/.workspace/clients.csv'\n",
      " /no_think\n",
      "==================================\u001b[1m Ai Message \u001b[0m==================================\n",
      "Name: simple_agent\n",
      "\n",
      "<think>\n",
      "\n",
      "</think>\n",
      "Tool Calls:\n",
      "  write_file (d8013bdc-9783-4251-ad2f-0606b4538ca3)\n",
      " Call ID: d8013bdc-9783-4251-ad2f-0606b4538ca3\n",
      "  Args:\n",
      "    append: False\n",
      "    content: id,name,address,phone,email,prefered_languaje\n",
      "1,John Doe,123 Main St,555-1234,john@example.com,English\n",
      "2,Jane Smith,456 Oak St,555-5678,jane@example.com,Spanish\n",
      "3,Bob Johnson,789 Pine St,555-9012,bob@example.com,French\n",
      "4,Alice Williams,101 Maple St,555-1357,alice@example.com,German\n",
      "5,Michael Brown,202 Cedar St,555-2468,michael@example.com,Italian\n",
      "6,Emily Davis,303 Birch St,555-3579,emily@example.com,Dutch\n",
      "7,David Wilson,404 Elm St,555-4680,david@example.com,Portuguese\n",
      "8,Sarah Johnson,505 Walnut St,555-5791,sarah@example.com,Japanese\n",
      "9,James Lee,606 Oak St,555-6802,james@example.com,Korean\n",
      "10,Emma Taylor,707 Pine St,555-7913,emma@example.com,Chinese\n",
      "    file_path: /home/daimler/workspaces/agents-course-huggingface/.workspace/clients.csv\n",
      "=================================\u001b[1m Tool Message \u001b[0m=================================\n",
      "Name: write_file\n",
      "\n",
      "Content successfully written to /home/daimler/workspaces/agents-course-huggingface/.workspace/clients.csv\n",
      "==================================\u001b[1m Ai Message \u001b[0m==================================\n",
      "Name: simple_agent\n",
      "\n",
      "<think>\n",
      "\n",
      "</think>\n",
      "\n",
      "The CSV file with 10 dummy clients has been successfully written to the specified path:  \n",
      "`/home/daimler/workspaces/agents-course-huggingface/.workspace/clients.csv`  \n",
      "\n",
      "Let me know if you need further assistance!\n",
      "==================================\u001b[1m Ai Message \u001b[0m==================================\n",
      "Name: simple_agent\n",
      "\n",
      "<think>\n",
      "\n",
      "</think>\n",
      "\n",
      "The CSV file with 10 dummy clients has been successfully written to the specified path:  \n",
      "`/home/daimler/workspaces/agents-course-huggingface/.workspace/clients.csv`  \n",
      "\n",
      "Let me know if you need further assistance!\n"
     ]
    }
   ],
   "source": [
    "simple_agent = create_react_agent(name=\"simple_agent\", model=ChatOllama(model=\"qwen3\"), \n",
    "    tools=[write_file], response_format='json', prompt=\"You are a helpful assistant.\")\n",
    "\n",
    "input_message = {\"role\": \"user\", \"content\": f\"\"\"\n",
    "generate a csv list of 10 dummy clients with the following columns:\n",
    "id, name, address, phone, email, prefered_languaje\n",
    "write the list to file in '{workfolder}/clients.csv'\n",
    " /no_think\"\"\"\n",
    "}\n",
    "\n",
    "# Use the agent\n",
    "for step in simple_agent.stream(\n",
    "    {\"messages\": [input_message]}, llm_config, stream_mode=\"values\"\n",
    "):\n",
    "    step[\"messages\"][-1].pretty_print()"
   ]
  },
  {
   "cell_type": "code",
   "execution_count": 32,
   "id": "4024eb89-843d-4cc3-ab3f-e1eb4d031179",
   "metadata": {
    "ExecuteTime": {
     "end_time": "2024-05-15T08:19:44.477064Z",
     "start_time": "2024-05-15T08:19:42.397083Z"
    }
   },
   "outputs": [
    {
     "name": "stdout",
     "output_type": "stream",
     "text": [
      "================================\u001b[1m Human Message \u001b[0m=================================\n",
      "\n",
      "\n",
      "Generate the python code for a function that return dict with all the client details for a given id. \n",
      "is a langchain tool with typing Annotated .\n",
      "parameters id int\n",
      "use pandas to load a csv file in '/home/daimler/workspaces/agents-course-huggingface/.workspace/clients.csv' in utf8\n",
      "handle exceptions\n",
      "Function must have a 20 word docstring\n",
      "give just the code, no introduction /no_think\n",
      "==================================\u001b[1m Ai Message \u001b[0m==================================\n",
      "Name: simple_agent\n",
      "\n",
      "<think>\n",
      "\n",
      "</think>\n",
      "\n",
      "from langchain.tools import tool\n",
      "import pandas as pd\n",
      "from typing import Annotated, Dict\n",
      "\n",
      "@tool\n",
      "def get_client_details(id: Annotated[int, \"Client ID\"]) -> Dict[str, str]:\n",
      "    \"\"\"Fetches client details by ID from a CSV file. Handles exceptions and returns a dictionary.\"\"\"\n",
      "    try:\n",
      "        file_path = \"/home/daimler/workspaces/agents-course-huggingface/.workspace/clients.csv\"\n",
      "        df = pd.read_csv(file_path, encoding=\"utf-8\")\n",
      "        client = df[df[\"id\"] == id].to_dict(orient=\"records\")[0]\n",
      "        return client\n",
      "    except Exception as e:\n",
      "        return {\"error\": str(e)}\n",
      "==================================\u001b[1m Ai Message \u001b[0m==================================\n",
      "Name: simple_agent\n",
      "\n",
      "<think>\n",
      "\n",
      "</think>\n",
      "\n",
      "from langchain.tools import tool\n",
      "import pandas as pd\n",
      "from typing import Annotated, Dict\n",
      "\n",
      "@tool\n",
      "def get_client_details(id: Annotated[int, \"Client ID\"]) -> Dict[str, str]:\n",
      "    \"\"\"Fetches client details by ID from a CSV file. Handles exceptions and returns a dictionary.\"\"\"\n",
      "    try:\n",
      "        file_path = \"/home/daimler/workspaces/agents-course-huggingface/.workspace/clients.csv\"\n",
      "        df = pd.read_csv(file_path, encoding=\"utf-8\")\n",
      "        client = df[df[\"id\"] == id].to_dict(orient=\"records\")[0]\n",
      "        return client\n",
      "    except Exception as e:\n",
      "        return {\"error\": str(e)}\n"
     ]
    }
   ],
   "source": [
    "input_message = {\"role\": \"user\", \"content\": f\"\"\"\n",
    "Generate the python code for a function that return dict with all the client details for a given id. \n",
    "is a langchain tool with typing Annotated .\n",
    "parameters id int\n",
    "use pandas to load a csv file in '{workfolder}/clients.csv' in utf8\n",
    "handle exceptions\n",
    "Function must have a 20 word docstring\n",
    "give just the code, no introduction /no_think\"\"\"\n",
    "}\n",
    "\n",
    "# Use the agent\n",
    "for step in simple_agent.stream({\"messages\": [input_message]}, llm_config, stream_mode=\"values\"):\n",
    "    step[\"messages\"][-1].pretty_print()\n"
   ]
  },
  {
   "cell_type": "code",
   "execution_count": 7,
   "id": "53db0c78-e357-48ba-ae5f-3fc04735a3b7",
   "metadata": {
    "ExecuteTime": {
     "end_time": "2024-05-15T08:19:48.810290Z",
     "start_time": "2024-05-15T08:19:46.561088Z"
    }
   },
   "outputs": [
    {
     "data": {
      "text/plain": [
       "{'client_id': 31,\n",
       " 'name': 'Mary Brown',\n",
       " 'address': '112 Pine St',\n",
       " 'phone_number': '555-5544',\n",
       " 'email': 'mary@example.com',\n",
       " 'prefered_languaje': 'Japanese'}"
      ]
     },
     "execution_count": 7,
     "metadata": {},
     "output_type": "execute_result"
    }
   ],
   "source": [
    "import pandas as pd\n",
    "from langchain_core.tools import tool \n",
    "\n",
    "@tool\n",
    "def get_client_details(client_id):\n",
    "    \"\"\"\n",
    "    Retrieve client details of the provided client ID.\n",
    "\n",
    "    Parameters:\n",
    "    client_id (str): The ID of the client to retrieve details for.\n",
    "\n",
    "    Returns:\n",
    "    dict: A dictionary containing all client details if found, otherwise an error message.\n",
    "    \"\"\"\n",
    "    try:\n",
    "        file_path = workfolder+'/clients.csv'\n",
    "        df = pd.read_csv(file_path, encoding='utf-8')\n",
    "        client_details = df[df['client_id'] == int(client_id)].to_dict(orient='records')\n",
    "        if client_details:\n",
    "            return client_details[0]\n",
    "        else:\n",
    "            return {\"error\": \"Client not found\"}\n",
    "    except FileNotFoundError:\n",
    "        return {\"error\": \"File not found\"}\n",
    "    except Exception as e:\n",
    "        return {\"error\": str(e)}\n",
    "\n",
    "get_client_details.invoke('31')"
   ]
  },
  {
   "cell_type": "code",
   "execution_count": null,
   "id": "1a7a1260-d9f6-4011-b2b1-13fab5126997",
   "metadata": {
    "ExecuteTime": {
     "end_time": "2024-05-15T08:19:48.825649Z",
     "start_time": "2024-05-15T08:19:48.811753Z"
    }
   },
   "outputs": [
    {
     "name": "stdout",
     "output_type": "stream",
     "text": [
      "================================\u001b[1m Human Message \u001b[0m=================================\n",
      "\n",
      "\n",
      "get the client details of a client with id '11'\n",
      "generate an email explaining we could not deliver the package at his address nor contact him at his phone number.\n",
      "use they prefered language\n",
      "especify the actual address and phone number of the client.\n",
      "/no_think\n",
      "==================================\u001b[1m Ai Message \u001b[0m==================================\n",
      "Name: simple_agent\n",
      "\n",
      "<think>\n",
      "\n",
      "</think>\n",
      "Tool Calls:\n",
      "  get_client_details (3a9ac96e-b82f-4e9e-84d6-42af5f92e2b3)\n",
      " Call ID: 3a9ac96e-b82f-4e9e-84d6-42af5f92e2b3\n",
      "  Args:\n",
      "    client_id: 11\n",
      "=================================\u001b[1m Tool Message \u001b[0m=================================\n",
      "Name: get_client_details\n",
      "\n",
      "{\"client_id\": 11, \"name\": \"Robert Smith\", \"address\": \"345 Maple St\", \"phone_number\": \"555-6677\", \"email\": \"robert@example.com\", \"prefered_languaje\": \"Russian\"}\n",
      "==================================\u001b[1m Ai Message \u001b[0m==================================\n",
      "Name: simple_agent\n",
      "\n",
      "<think>\n",
      "\n",
      "</think>\n",
      "\n",
      "Subject: Невозможно доставить посылку\n",
      "\n",
      "Здравствуйте, Robert Smith!\n",
      "\n",
      "Мы не смогли доставить посылку по указанному адресу: 345 Maple St, и не смогли связаться с вами по телефону: 555-6677. Пожалуйста, свяжитесь с нами, чтобы уточнить детали или изменить адрес доставки.\n",
      "\n",
      "С уважением,  \n",
      "Ваша служба доставки\n",
      "==================================\u001b[1m Ai Message \u001b[0m==================================\n",
      "Name: simple_agent\n",
      "\n",
      "<think>\n",
      "\n",
      "</think>\n",
      "\n",
      "Subject: Невозможно доставить посылку\n",
      "\n",
      "Здравствуйте, Robert Smith!\n",
      "\n",
      "Мы не смогли доставить посылку по указанному адресу: 345 Maple St, и не смогли связаться с вами по телефону: 555-6677. Пожалуйста, свяжитесь с нами, чтобы уточнить детали или изменить адрес доставки.\n",
      "\n",
      "С уважением,  \n",
      "Ваша служба доставки\n"
     ]
    }
   ],
   "source": [
    "from langchain_ollama import ChatOllama\n",
    "from langgraph.prebuilt import create_react_agent\n",
    "import random\n",
    "\n",
    "simple_agent = create_react_agent(name=\"simple_agent\", model=ChatOllama(model=\"qwen3\"), \n",
    "    tools=[get_client_details], response_format='json', prompt=\"You are a helpful assistant. Your task is to respond to a user's question.\")\n",
    "\n",
    "input_message = {\"role\": \"user\", \"content\": f\"\"\"\n",
    "get the client details of a client with id '{random.randint(0, 10)}'\n",
    "generate an email explaining we could not deliver the package at his address nor contact him at his phone number.\n",
    "use they prefered language\n",
    "especify the actual address and phone number of the client.\n",
    "/no_think\"\"\"\n",
    "}\n",
    "\n",
    "# Use the agent\n",
    "for step in simple_agent.stream(\n",
    "    {\"messages\": [input_message]}, llm_config, stream_mode=\"values\"\n",
    "):\n",
    "    step[\"messages\"][-1].pretty_print()"
   ]
  }
 ],
 "metadata": {
  "kernelspec": {
   "display_name": ".venv",
   "language": "python",
   "name": "python3"
  },
  "language_info": {
   "codemirror_mode": {
    "name": "ipython",
    "version": 3
   },
   "file_extension": ".py",
   "mimetype": "text/x-python",
   "name": "python",
   "nbconvert_exporter": "python",
   "pygments_lexer": "ipython3",
   "version": "3.12.3"
  }
 },
 "nbformat": 4,
 "nbformat_minor": 5
}
