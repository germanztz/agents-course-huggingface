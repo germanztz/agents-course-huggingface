{
 "cells": [
  {
   "cell_type": "markdown",
   "id": "a3e3ebc4-57af-4fe4-bdd3-36aff67bf276",
   "metadata": {},
   "source": [
    "# Deep research Multiagent system\n",
    "\n",
    "\n",
    "### Original doc:\n",
    "\n",
    "    https://www.youtube.com/watch?v=mjPSkPLbu1s\n",
    "\n",
    "<div style=\"width: 100%; height: 768px; overflow: hidden;\">\n",
    "  <iframe width=\"1024\" height=\"768\" src=\"https://www.youtube.com/embed/mjPSkPLbu1s?si=nrN8Y4pnHNAj-5WZ\" title=\"YouTube video player\" frameborder=\"0\" allow=\"accelerometer; autoplay; clipboard-write; encrypted-media; gyroscope; picture-in-picture; web-share\" referrerpolicy=\"strict-origin-when-cross-origin\" allowfullscreen></iframe>\n",
    "</div>"
   ]
  },
  {
   "cell_type": "code",
   "execution_count": 21,
   "id": "0d30b6f7-3bec-4d9f-af50-43dfdc81ae6c",
   "metadata": {
    "ExecuteTime": {
     "end_time": "2024-05-15T08:19:42.364369Z",
     "start_time": "2024-05-15T08:19:42.359273Z"
    }
   },
   "outputs": [],
   "source": [
    "%%capture --no-stderr\n",
    "%pip install -U pip langgraph langchain_community langchain_anthropic langchain-tavily langchain_experimental langchain_ollama mcp langchain-mcp-adapters langchain-google-genai langchain_openai"
   ]
  },
  {
   "cell_type": "code",
   "execution_count": 22,
   "id": "30c2f3de-c730-4aec-85a6-af2c2f058803",
   "metadata": {
    "ExecuteTime": {
     "end_time": "2024-05-15T08:19:42.395571Z",
     "start_time": "2024-05-15T08:19:42.365662Z"
    }
   },
   "outputs": [],
   "source": [
    "from dotenv import load_dotenv\n",
    "import os\n",
    "# load environment variables from .env file\n",
    "load_dotenv()\n",
    "workfolder = os.getenv('WORKFOLDER')\n",
    "mcp_file_path = os.getenv('MCP_SRV_PATH')\n",
    " "
   ]
  },
  {
   "cell_type": "code",
   "execution_count": 23,
   "id": "ffd0c4e3",
   "metadata": {},
   "outputs": [
    {
     "data": {
      "text/plain": [
       "[StructuredTool(name='get_current_time', description='Returns current system time.', args_schema={'description': 'Returns current system time.', 'properties': {}, 'title': 'get_current_time', 'type': 'object'}, response_format='content_and_artifact', coroutine=<function convert_mcp_tool_to_langchain_tool.<locals>.call_tool at 0x717fae5d1580>),\n",
       " StructuredTool(name='web_search', description='A Internet search engine. Useful for when you need to answer questions about current events', args_schema={'description': 'A Internet search engine. Useful for when you need to answer questions about current events', 'properties': {'query': {'description': 'search query to look up', 'title': 'Query', 'type': 'string'}, 'num_results': {'anyOf': [{'type': 'integer'}, {'type': 'null'}], 'default': 5, 'description': 'Max search results per query to return (default: 5)', 'title': 'Num Results'}}, 'required': ['query'], 'title': 'web_search', 'type': 'object'}, response_format='content_and_artifact', coroutine=<function convert_mcp_tool_to_langchain_tool.<locals>.call_tool at 0x717fae7c8a40>),\n",
       " StructuredTool(name='scrape_webpages', description='Scrape and read the provided web page url for detailed information', args_schema={'description': 'Scrape and read the provided web page url for detailed information', 'properties': {'url': {'description': 'The URL of the webpage to scrape', 'title': 'Url', 'type': 'string'}}, 'required': ['url'], 'title': 'scrape_webpages', 'type': 'object'}, response_format='content_and_artifact', coroutine=<function convert_mcp_tool_to_langchain_tool.<locals>.call_tool at 0x717fae7c8cc0>),\n",
       " StructuredTool(name='read_file', description='Read content from a file.', args_schema={'description': 'Read content from a file.', 'properties': {'file_path': {'description': 'Path to the file to read', 'title': 'File Path', 'type': 'string'}, 'encoding': {'anyOf': [{'type': 'string'}, {'type': 'null'}], 'default': 'utf-8', 'description': 'The encoding of the file.', 'title': 'Encoding'}, 'start': {'anyOf': [{'type': 'integer'}, {'type': 'null'}], 'default': 0, 'description': 'The start line. Default is 0', 'title': 'Start'}, 'end': {'anyOf': [{'type': 'integer'}, {'type': 'null'}], 'default': None, 'description': 'The end line. Default is None', 'title': 'End'}}, 'required': ['file_path'], 'title': 'read_file', 'type': 'object'}, response_format='content_and_artifact', coroutine=<function convert_mcp_tool_to_langchain_tool.<locals>.call_tool at 0x717fae7c8d60>),\n",
       " StructuredTool(name='write_file', description='Writes text content to a file in append or overwrite mode.', args_schema={'description': 'Writes text content to a file in append or overwrite mode.', 'properties': {'file_path': {'description': 'The full path to the file where content will be written.', 'title': 'File Path', 'type': 'string'}, 'mode': {'description': \"Mode in which the file is opened. 'w' for writing, 'x' for creating and writing to a new file, and 'a' for appending\", 'enum': ['w', 'x', 'a'], 'title': 'Mode', 'type': 'string'}, 'content': {'description': 'The content to be written to the file.', 'title': 'Content', 'type': 'string'}, 'encoding': {'anyOf': [{'type': 'string'}, {'type': 'null'}], 'default': 'utf-8', 'description': 'The encoding of the file.', 'title': 'Encoding'}}, 'required': ['file_path', 'mode', 'content'], 'title': 'write_file', 'type': 'object'}, response_format='content_and_artifact', coroutine=<function convert_mcp_tool_to_langchain_tool.<locals>.call_tool at 0x717fae7cb240>),\n",
       " StructuredTool(name='execute_bash', description='Execute a bash command.', args_schema={'description': 'Execute a bash command.', 'properties': {'command': {'description': 'The bash command to execute', 'title': 'Command', 'type': 'string'}, 'timeout': {'anyOf': [{'type': 'integer'}, {'type': 'null'}], 'default': 60, 'description': 'Timeout in seconds.', 'title': 'Timeout'}}, 'required': ['command'], 'title': 'execute_bash', 'type': 'object'}, response_format='content_and_artifact', coroutine=<function convert_mcp_tool_to_langchain_tool.<locals>.call_tool at 0x717fae7c99e0>)]"
      ]
     },
     "metadata": {},
     "output_type": "display_data"
    },
    {
     "name": "stdout",
     "output_type": "stream",
     "text": [
      "name='web_search' description='A Internet search engine. Useful for when you need to answer questions about current events' args_schema={'description': 'A Internet search engine. Useful for when you need to answer questions about current events', 'properties': {'query': {'description': 'search query to look up', 'title': 'Query', 'type': 'string'}, 'num_results': {'anyOf': [{'type': 'integer'}, {'type': 'null'}], 'default': 5, 'description': 'Max search results per query to return (default: 5)', 'title': 'Num Results'}}, 'required': ['query'], 'title': 'web_search', 'type': 'object'} response_format='content_and_artifact' coroutine=<function convert_mcp_tool_to_langchain_tool.<locals>.call_tool at 0x717fae7c8a40>\n"
     ]
    }
   ],
   "source": [
    "from typing import List, Optional, Literal, TypedDict\n",
    "from langchain_mcp_adapters.client import MultiServerMCPClient\n",
    "client = MultiServerMCPClient({\"mcp\": {\"command\": \"python\",\"args\": [mcp_file_path], \"transport\": \"stdio\", }})\n",
    "tools = await client.get_tools()\n",
    "display(tools)\n",
    "\n",
    "def get_tool(name: str):\n",
    "    return next((tool for tool in tools if tool.name == name), None)\n",
    "\n",
    "print(get_tool('web_search'))"
   ]
  },
  {
   "cell_type": "code",
   "execution_count": 24,
   "id": "46fed548",
   "metadata": {},
   "outputs": [],
   "source": [
    "from langchain_ollama import ChatOllama\n",
    "from langchain_google_genai import ChatGoogleGenerativeAI\n",
    "from langchain_openai import ChatOpenAI\n",
    "from langfuse.langchain import CallbackHandler\n",
    "\n",
    "llm_model = ChatOllama(model=\"qwen3\")\n",
    "# llm_model = ChatGoogleGenerativeAI(model=\"gemini-2.0-flash\", temperature=0.2)\n",
    "# llm_model = ChatOpenAI(model=\"qwen-plus\", api_key=os.getenv('DASHSCOPE_API_KEY'), base_url=os.getenv('DASHSCOPE_BASE_URL'))\n",
    "\n",
    "# Initialize Langfuse CallbackHandler for LangGraph/Langchain (tracing)\n",
    "langfuse_handler = CallbackHandler() \n",
    "llm_config = {\"configurable\": {\"thread_id\": \"abc123\"}, \"recursion_limit\": 20, \"callbacks\": [langfuse_handler]}"
   ]
  },
  {
   "cell_type": "code",
   "execution_count": 25,
   "id": "b21c0f87",
   "metadata": {},
   "outputs": [],
   "source": [
    "from langchain.agents import create_agent\n",
    "from langchain.agents.structured_output import ToolStrategy\n",
    "from typing import TypedDict\n",
    "\n",
    "topic_analizer_prompt = \"\"\" \n",
    "You are a topic analizer. \n",
    "Your goal is to generate 4 questions that, together, cover the topic.\n",
    "output format :\n",
    "**question 1**:\n",
    "**question 2**:\n",
    "\n",
    "\"\"\"\n",
    "\n",
    "# # Define structured output schema\n",
    "# class TopicAnalysis(TypedDict):\n",
    "#     topic: str\n",
    "#     questions: list[str]\n",
    "    \n",
    "# Create the agent\n",
    "topic_analizer = create_agent(name=\"topic_analizer\", model=llm_model, \n",
    "    system_prompt=topic_analizer_prompt, \n",
    "    # response_format=ToolStrategy(TopicAnalysis)\n",
    "     )"
   ]
  },
  {
   "cell_type": "code",
   "execution_count": 26,
   "id": "499c6f7d",
   "metadata": {},
   "outputs": [],
   "source": [
    "# # Use the agent\n",
    "# input_message = {\"role\": \"user\", \"content\": \"multi-agent deep research system using langchain in local ollama qwen3\"}\n",
    "# async for step in topic_analizer.astream(\n",
    "#     {\"messages\": [input_message]}, llm_config, stream_mode=\"values\"\n",
    "# ):\n",
    "#     step[\"messages\"][-1].pretty_print()"
   ]
  },
  {
   "cell_type": "code",
   "execution_count": 27,
   "id": "240354bd",
   "metadata": {},
   "outputs": [],
   "source": [
    "from langchain.agents import create_agent\n",
    "from langchain.agents.structured_output import ToolStrategy\n",
    "from typing import TypedDict\n",
    "\n",
    "search_agent_prompt = \"\"\" \n",
    "You are a Internet search assistant.\n",
    "Your goal is to find information from web search.\n",
    "Get 2 results for a given query string. \n",
    "Do not elaborate, do not ask any questions\n",
    "1. Optimize the query string before search on the Internet\n",
    "2. output format:\n",
    "**url 1**:\n",
    "**url 2**:\n",
    "\"\"\"\n",
    "\n",
    "# # Define structured output schema\n",
    "# class SearchItem(TypedDict):\n",
    "#     href: str\n",
    "#     # title: str\n",
    "#     # body: str\n",
    "\n",
    "# class SearchFormat(TypedDict):\n",
    "#     summary: str\n",
    "#     # results: list[SearchItem]\n",
    "    \n",
    "# Create the agent\n",
    "search_agent = create_agent(name=\"search_agent\", model=llm_model, tools=[get_tool('web_search')], \n",
    "    system_prompt=search_agent_prompt, \n",
    "    # response_format=ToolStrategy(SearchFormat)\n",
    "    )\n"
   ]
  },
  {
   "cell_type": "code",
   "execution_count": 28,
   "id": "67934853",
   "metadata": {},
   "outputs": [],
   "source": [
    "\n",
    "input_message = {\"role\": \"user\", \"content\": \"\"\"**question 1**:  \n",
    "What are the key components and architecture required to build a multi-agent deep research system using LangChain and Ollama's Qwen3 model?\"\"\"\n",
    "}\n",
    "\n",
    "# # Use the agent\n",
    "# async for step in search_agent.astream(\n",
    "#     {\"messages\": [input_message]}, llm_config, stream_mode=\"values\"\n",
    "# ):\n",
    "#     step[\"messages\"][-1].pretty_print()"
   ]
  },
  {
   "cell_type": "code",
   "execution_count": 29,
   "id": "6b5dc4e4",
   "metadata": {},
   "outputs": [],
   "source": [
    "from langchain.agents import create_agent\n",
    "\n",
    "# Create the agent\n",
    "summarization_agent_prompt = \"\"\" \n",
    "You are a summarization assistant \n",
    "1. For each url scrape the web pages for detailed information.\n",
    "2. Summarize each source in 2-4 concise bullet points.\n",
    "2. output format:\n",
    "**url 1**:\n",
    "**summary**:\n",
    "**url 2**:\n",
    "**summary**:\n",
    "\"\"\"\n",
    "summarization_agent = create_agent(name=\"summarization_agent\", model=llm_model, tools=[get_tool('scrape_webpages')], system_prompt=summarization_agent_prompt)"
   ]
  },
  {
   "cell_type": "code",
   "execution_count": 30,
   "id": "0ef1027b",
   "metadata": {},
   "outputs": [],
   "source": [
    "input_message = {\"role\": \"user\", \"content\": \"\"\"**url 1**:  \n",
    "https://composio.dev/blog/deep-research-agent-qwen3-using-langgraph-and-ollama  \n",
    "**url 2**:  \n",
    "https://www.freecodecamp.org/news/build-a-local-ai/  \"\"\"\n",
    "  }\n",
    "\n",
    "# # Use the agent\n",
    "# async for step in summarization_agent.astream(\n",
    "#     {\"messages\": [input_message]}, llm_config, stream_mode=\"values\"\n",
    "# ):\n",
    "#     step[\"messages\"][-1].pretty_print()"
   ]
  },
  {
   "cell_type": "code",
   "execution_count": 31,
   "id": "e09fb60f-1aac-455b-b67d-8d2e4ccfd747",
   "metadata": {
    "ExecuteTime": {
     "end_time": "2024-05-15T08:19:46.559082Z",
     "start_time": "2024-05-15T08:19:44.541330Z"
    }
   },
   "outputs": [
    {
     "data": {
      "image/png": "[encoded data removed]",
      "text/plain": [
       "<IPython.core.display.Image object>"
      ]
     },
     "metadata": {},
     "output_type": "display_data"
    }
   ],
   "source": [
    "from typing import List, Optional, Literal, TypedDict\n",
    "from langchain_core.language_models.chat_models import BaseChatModel\n",
    "from IPython.display import Image, display\n",
    "from langgraph.graph import StateGraph, MessagesState, START, END\n",
    "from langgraph.types import Command\n",
    "from langchain_core.messages import HumanMessage, trim_messages\n",
    "\n",
    "\n",
    "class State(MessagesState):\n",
    "    next: str\n",
    "\n",
    "async def make_supervisor_node(llm: BaseChatModel, members: list[str]) -> str:\n",
    "    options = [\"FINISH\"] + members\n",
    "\n",
    "    class Router(TypedDict):\n",
    "        \"\"\"Worker to route to next. If no workers needed, route to FINISH.\"\"\"\n",
    "        next: Literal[*options]\n",
    "\n",
    "    supervisor_system_prompt = f\"\"\"\n",
    "You are a supervisor tasked with managing a conversation between the following workers: {members}. \n",
    "Given the following user request, respond with the worker to act next. \n",
    "Break multiple lines outputs into single separate items requests to the workers. \n",
    "Each worker will perform a task and respond with their results. \n",
    "When finished, respond with FINISH. /think\"\"\"\n",
    "\n",
    "    async def supervisor_node(state: State) -> Command[Literal[*members, \"__end__\"]]:\n",
    "        \"\"\"An LLM-based router.\"\"\"\n",
    "        messages = [ {\"role\": \"system\", \"content\": supervisor_system_prompt},] + state[\"messages\"]\n",
    "        response = await llm.with_structured_output(Router).ainvoke(messages)\n",
    "        goto = response[\"next\"]\n",
    "        if goto == \"FINISH\":\n",
    "            goto = END\n",
    "\n",
    "        return Command(\n",
    "            update={\"next\": goto},\n",
    "            goto=goto, \n",
    "            )\n",
    "\n",
    "    return supervisor_node\n",
    "\n",
    "\n",
    "async def topic_analizer_node(state: State) -> Command[Literal[\"search_agent\"]]:\n",
    "    result = await topic_analizer.ainvoke(state)\n",
    "    return Command(\n",
    "        update={\n",
    "            \"messages\": [\n",
    "                HumanMessage(content=result[\"messages\"][-1].content, name=\"topic_analizer\")\n",
    "            ]\n",
    "        },\n",
    "        # We want our workers to ALWAYS \"report back\" to the supervisor when done\n",
    "        goto=\"search_agent\",\n",
    "    )\n",
    "\n",
    "async def search_agent_node(state: State) -> Command[Literal[\"summarization_agent\"]]:\n",
    "    result = await search_agent.ainvoke(state)\n",
    "    return Command(\n",
    "        update={\n",
    "            \"messages\": [\n",
    "                HumanMessage(content=result[\"messages\"][-1].content, name=\"search_agent\")\n",
    "            ]\n",
    "        },\n",
    "        # We want our workers to ALWAYS \"report back\" to the supervisor when done\n",
    "        goto=\"summarization_agent\",\n",
    "    )\n",
    "\n",
    "async def summarization_agent_node(state: State) -> Command[Literal[\"__end__\"]]:\n",
    "    result = await summarization_agent.ainvoke(state)\n",
    "    return Command(\n",
    "        update={\n",
    "            \"messages\": [\n",
    "                HumanMessage(content=result[\"messages\"][-1].content, name=\"summarization_agent\")\n",
    "            ]\n",
    "        },\n",
    "        # We want our workers to ALWAYS \"report back\" to the supervisor when done\n",
    "        goto=\"__end__\",\n",
    "    )\n",
    "\n",
    "research_builder = StateGraph(State)\n",
    "\n",
    "# research_supervisor_node = await make_supervisor_node(llm_model, [\"topic_analizer\", \"search_agent\", \"summarization_agent\"])\n",
    "# research_builder.add_edge(START, \"supervisor\")\n",
    "# research_builder.add_node(\"supervisor\", research_supervisor_node)\n",
    "# research_builder.add_node(\"topic_analizer\", topic_analizer_node)\n",
    "# research_builder.add_node(\"search_agent\", search_agent_node)\n",
    "# research_builder.add_node(\"summarization_agent\", summarization_agent_node)\n",
    "\n",
    "research_builder.add_edge(START, \"topic_analizer\")\n",
    "research_builder.add_node(\"topic_analizer\", topic_analizer_node)\n",
    "research_builder.add_node(\"search_agent\", search_agent_node)\n",
    "research_builder.add_node(\"summarization_agent\", summarization_agent_node)\n",
    "\n",
    "\n",
    "research_graph = research_builder.compile()\n",
    "display(Image(research_graph.get_graph().draw_mermaid_png()))"
   ]
  },
  {
   "cell_type": "code",
   "execution_count": 32,
   "id": "c2801266",
   "metadata": {},
   "outputs": [
    {
     "name": "stdout",
     "output_type": "stream",
     "text": [
      "================================\u001b[1m Human Message \u001b[0m=================================\n",
      "\n",
      "multi-agent deep research system using langchain in local ollama qwen3\n",
      "================================\u001b[1m Human Message \u001b[0m=================================\n",
      "Name: topic_analizer\n",
      "\n",
      "<think>\n",
      "Okay, the user is asking about a multi-agent deep research system using LangChain with local Ollama and Qwen3. Let me break down what they need. First, I should figure out the key components here. Multi-agent systems involve multiple AI agents working together, so I need to cover how they interact. LangChain is for building applications with LLMs, so maybe questions about integrating LangChain with Ollama. Ollama is a local LLM runtime, so using it with Qwen3, which is a model from Alibaba. \n",
      "\n",
      "The user might be looking to set up a local environment for research. So questions about setting up the local environment with Ollama and Qwen3. Then, how to structure the agents—like roles, communication protocols. Also, how to handle complex tasks with multiple agents. Maybe data handling and processing in such a system. Wait, the user mentioned \"deep research,\" so maybe they need to handle large data or complex workflows. \n",
      "\n",
      "I need to make sure the questions cover setup, integration, agent interaction, and task management. Let me check if I missed anything. Oh, maybe how to evaluate the system's effectiveness. But the user might be more focused on the technical setup and operation. Let me structure four questions: setup with Ollama and Qwen3, agent architecture, task decomposition, and communication protocols. That should cover the main aspects.\n",
      "</think>\n",
      "\n",
      "**question 1**:  \n",
      "How can I set up a local environment using Ollama to run Qwen3 and integrate it with LangChain for multi-agent collaboration?  \n",
      "\n",
      "**question 2**:  \n",
      "What are the key architectural considerations for designing a multi-agent system with LangChain, Ollama, and Qwen3 to enable seamless task delegation and coordination?  \n",
      "\n",
      "**question 3**:  \n",
      "How does LangChain facilitate the creation of complex workflows in a multi-agent research system, and what role does Qwen3 play in enhancing decision-making processes?  \n",
      "\n",
      "**question 4**:  \n",
      "What challenges might arise when implementing a deep research system with local Ollama and Qwen3, and how can they be mitigated through agent communication protocols and data management strategies?\n",
      "================================\u001b[1m Human Message \u001b[0m=================================\n",
      "Name: search_agent\n",
      "\n",
      "<think>\n",
      "Okay, let's see. The user asked about a multi-agent deep research system using LangChain with local Ollama and Qwen3. I need to find two relevant results.\n",
      "\n",
      "First, I'll optimize the query. The original query is a bit long, so breaking it down into key terms: \"multi-agent system,\" \"LangChain,\" \"local Ollama,\" \"Qwen3,\" and \"research.\" Maybe rephrase to something like \"multi-agent research system LangChain Ollama Qwen3\" to get more precise results.\n",
      "\n",
      "Now, looking at the tool response. The first result is about Qwen3 Coder building multi-agent systems with LangChain. That seems directly relevant. The second result is from Medium about building multi-agent systems with LangGraph and Ollama. While it mentions LangGraph instead of LangChain, it's still related to multi-agent systems using Ollama. The user might be okay with similar tools, so this could be a good second result. \n",
      "\n",
      "I should check if these URLs are about research systems. The first link mentions \"deep research\" in the title, which matches the user's query. The second link talks about architectures and code, which could be part of a research setup. Even though it's about LangGraph, it's still within the scope of multi-agent systems using Ollama. \n",
      "\n",
      "So, the two URLs provided in the tool response are the best matches. They cover both Qwen3 and Ollama integration with LangChain/LangGraph, which aligns with the user's request. No need to adjust further; these are the top results.\n",
      "</think>\n",
      "\n",
      "**url 1**:  \n",
      "https://qwen3lm.com/qwen3-multi-agent-systems/  \n",
      "\n",
      "**url 2**:  \n",
      "https://medium.com/@diwakarkumar_18755/building-multi-agent-systems-with-langgraph-and-ollama-architectures-concepts-and-code-383d4c01e00c\n",
      "================================\u001b[1m Human Message \u001b[0m=================================\n",
      "Name: summarization_agent\n",
      "\n",
      "<think>\n",
      "Okay, let me break this down. The user is asking about a multi-agent deep research system using LangChain with local Ollama and Qwen3. First, I need to understand what each component does. LangChain is a framework for building applications with large language models, right? Ollama is a tool for running local LLMs, and Qwen3 is a specific model from Alibaba. \n",
      "\n",
      "The user wants to set up a system where multiple agents work together, probably for research purposes. So, the key points would be integrating LangChain with Ollama to run Qwen3 locally. Maybe they need to handle complex tasks by splitting them into agents, each using Qwen3. \n",
      "\n",
      "I should check if there are resources or guides on setting up such a system. The first URL mentioned is about Qwen3 and multi-agent systems, which seems relevant. The second URL is from Medium discussing multi-agent systems with LangGraph and Ollama. Even though it's LangGraph instead of LangChain, it's still about multi-agent systems using Ollama, which might be useful.\n",
      "\n",
      "Wait, the user specifically mentioned LangChain, so maybe the second URL isn't directly relevant. But since the user might be looking for similar concepts, it's still a good resource. The first URL is more aligned with Qwen3 and LangChain, so that's better. \n",
      "\n",
      "I need to make sure the summaries capture the main points: setting up the environment, agent architecture, task decomposition, and communication protocols. Also, mention how LangChain and Ollama integrate with Qwen3 for research. The user might be interested in both the technical setup and the research applications. \n",
      "\n",
      "So, the summaries should highlight the integration steps, system architecture, task handling, and communication methods. That should cover the user's needs for building a multi-agent research system.\n",
      "</think>\n",
      "\n",
      "**url 1**:  \n",
      "https://qwen3lm.com/qwen3-multi-agent-systems/  \n",
      "\n",
      "**summary**:  \n",
      "- Focuses on building multi-agent systems using Qwen3, emphasizing collaboration between agents for complex problem-solving.  \n",
      "- Highlights integration with LangChain for task decomposition, memory management, and dynamic role assignment.  \n",
      "- Discusses scalability and real-time decision-making in research scenarios using local Ollama deployment.  \n",
      "\n",
      "**url 2**:  \n",
      "https://medium.com/@diwakarkumar_18755/building-multi-agent-systems-with-langgraph-and-ollama-architectures-concepts-and-code-383d4c01e00c  \n",
      "\n",
      "**summary**:  \n",
      "- Explains architectures for multi-agent systems using LangGraph (similar to LangChain) and Ollama for local LLM execution.  \n",
      "- Covers agent communication protocols, state management, and workflow orchestration for research applications.  \n",
      "- Provides code examples for deploying agents with Ollama and Qwen3-like models in a decentralized setup.\n"
     ]
    }
   ],
   "source": [
    "messages = {\"messages\": [(\"user\", \"multi-agent deep research system using langchain in local ollama qwen3\")]}\n",
    "async for step in research_graph.astream(messages, config=llm_config, stream_mode=\"values\" ):\n",
    "    step[\"messages\"][-1].pretty_print()"
   ]
  },
  {
   "cell_type": "code",
   "execution_count": null,
   "id": "1bcdbf44-9481-430c-8429-fa142ed8a626",
   "metadata": {
    "ExecuteTime": {
     "end_time": "2024-05-15T08:19:53.677722Z",
     "start_time": "2024-05-15T08:19:51.953933Z"
    }
   },
   "outputs": [],
   "source": [
    "llm = ChatOllama(model=\"qwen3\")\n",
    "\n",
    "doc_writer_agent = create_react_agent(\n",
    "    llm,\n",
    "    tools=[write_file, edit_document, read_file],\n",
    "    prompt=(\n",
    "        \"You can read, write and edit documents based on note-taker's outlines. \"\n",
    "        \"Don't ask follow-up questions.\"\n",
    "    ),\n",
    ")\n",
    "\n",
    "\n",
    "def doc_writing_node(state: State) -> Command[Literal[\"supervisor\"]]:\n",
    "    result = doc_writer_agent.invoke(state)\n",
    "    return Command(\n",
    "        update={\n",
    "            \"messages\": [\n",
    "                HumanMessage(content=result[\"messages\"][-1].content, name=\"doc_writer\")\n",
    "            ]\n",
    "        },\n",
    "        # We want our workers to ALWAYS \"report back\" to the supervisor when done\n",
    "        goto=\"supervisor\",\n",
    "    )\n",
    "\n",
    "\n",
    "note_taking_agent = create_react_agent(\n",
    "    llm,\n",
    "    tools=[create_outline, read_file],\n",
    "    prompt=(\n",
    "        \"You can read documents and create outlines for the document writer. \"\n",
    "        \"Don't ask follow-up questions.\"\n",
    "    ),\n",
    ")\n",
    "\n",
    "\n",
    "def note_taking_node(state: State) -> Command[Literal[\"supervisor\"]]:\n",
    "    result = note_taking_agent.invoke(state)\n",
    "    return Command(\n",
    "        update={\n",
    "            \"messages\": [\n",
    "                HumanMessage(content=result[\"messages\"][-1].content, name=\"note_taker\")\n",
    "            ]\n",
    "        },\n",
    "        # We want our workers to ALWAYS \"report back\" to the supervisor when done\n",
    "        goto=\"supervisor\",\n",
    "    )\n",
    "\n",
    "\n",
    "chart_generating_agent = create_react_agent(\n",
    "    llm, tools=[read_file, python_repl_tool]\n",
    ")\n",
    "\n",
    "\n",
    "def chart_generating_node(state: State) -> Command[Literal[\"supervisor\"]]:\n",
    "    result = chart_generating_agent.invoke(state)\n",
    "    return Command(\n",
    "        update={\n",
    "            \"messages\": [\n",
    "                HumanMessage(\n",
    "                    content=result[\"messages\"][-1].content, name=\"chart_generator\"\n",
    "                )\n",
    "            ]\n",
    "        },\n",
    "        # We want our workers to ALWAYS \"report back\" to the supervisor when done\n",
    "        goto=\"supervisor\",\n",
    "    )\n",
    "\n",
    "\n",
    "doc_writing_supervisor_node = make_supervisor_node(\n",
    "    llm, [\"doc_writer\", \"note_taker\", \"chart_generator\"]\n",
    ")"
   ]
  },
  {
   "cell_type": "markdown",
   "id": "aee2cd9b-29aa-458e-903d-4e49179e5d59",
   "metadata": {},
   "source": [
    "With the objects themselves created, we can form the graph."
   ]
  },
  {
   "cell_type": "code",
   "execution_count": null,
   "id": "9c5c644f-8966-4d2e-98d2-80d73520e9fe",
   "metadata": {
    "ExecuteTime": {
     "end_time": "2024-05-15T08:19:53.693123Z",
     "start_time": "2024-05-15T08:19:53.678906Z"
    }
   },
   "outputs": [],
   "source": [
    "# Create the graph here\n",
    "paper_writing_builder = StateGraph(State)\n",
    "paper_writing_builder.add_node(\"supervisor\", doc_writing_supervisor_node)\n",
    "paper_writing_builder.add_node(\"doc_writer\", doc_writing_node)\n",
    "paper_writing_builder.add_node(\"note_taker\", note_taking_node)\n",
    "paper_writing_builder.add_node(\"chart_generator\", chart_generating_node)\n",
    "\n",
    "paper_writing_builder.add_edge(START, \"supervisor\")\n",
    "paper_writing_graph = paper_writing_builder.compile()"
   ]
  },
  {
   "cell_type": "code",
   "execution_count": null,
   "id": "58e7d1e48a9c39a5",
   "metadata": {
    "ExecuteTime": {
     "end_time": "2024-05-15T08:32:13.913188Z",
     "start_time": "2024-05-15T08:32:11.598993Z"
    }
   },
   "outputs": [],
   "source": [
    "from IPython.display import Image, display\n",
    "\n",
    "display(Image(paper_writing_graph.get_graph().draw_mermaid_png()))"
   ]
  },
  {
   "cell_type": "code",
   "execution_count": null,
   "id": "9860fd46-c24d-40a5-a6ba-e8fddcd43369",
   "metadata": {
    "ExecuteTime": {
     "end_time": "2024-05-15T08:19:53.723467Z",
     "start_time": "2024-05-15T08:19:53.709307Z"
    }
   },
   "outputs": [],
   "source": [
    "# for s in paper_writing_graph.stream(\n",
    "#     {\n",
    "#         \"messages\": [\n",
    "#             (\n",
    "#                 \"user\",\n",
    "#                 \"Write an outline for poem about cats and then write the poem to disk.\",\n",
    "#             )\n",
    "#         ]\n",
    "#     },\n",
    "#     {\"recursion_limit\": 100, \"callbacks\": [langfuse_handler]},\n",
    "# ):\n",
    "#     print(s)\n",
    "#     print(\"---\")"
   ]
  },
  {
   "cell_type": "markdown",
   "id": "f4b5b08d-9a9a-474a-94b4-f7aaa8ff19e6",
   "metadata": {},
   "source": [
    "## Add Layers\n",
    "\n",
    "In this design, we are enforcing a top-down planning policy. We've created two graphs already, but we have to decide how to route work between the two.\n",
    "\n",
    "We'll create a _third_ graph to orchestrate the previous two, and add some connectors to define how this top-level state is shared between the different graphs."
   ]
  },
  {
   "cell_type": "code",
   "execution_count": null,
   "id": "8cbfbe34-43f5-4a3d-8e9b-6a1d9b339aec",
   "metadata": {},
   "outputs": [],
   "source": [
    "from langchain_core.messages import BaseMessage\n",
    "\n",
    "teams_supervisor_node = make_supervisor_node(llm, [\"research_team\", \"writing_team\"])"
   ]
  },
  {
   "cell_type": "code",
   "execution_count": null,
   "id": "4880e573-612f-4d24-97c1-2079382a4a2f",
   "metadata": {
    "ExecuteTime": {
     "end_time": "2024-05-15T08:19:55.469348Z",
     "start_time": "2024-05-15T08:19:55.455831Z"
    }
   },
   "outputs": [],
   "source": [
    "def call_research_team(state: State) -> Command[Literal[\"supervisor\"]]:\n",
    "    response = research_graph.invoke({\"messages\": state[\"messages\"][-1]})\n",
    "    return Command(\n",
    "        update={\n",
    "            \"messages\": [\n",
    "                HumanMessage(\n",
    "                    content=response[\"messages\"][-1].content, name=\"research_team\"\n",
    "                )\n",
    "            ]\n",
    "        },\n",
    "        goto=\"supervisor\",\n",
    "    )\n",
    "\n",
    "\n",
    "def call_paper_writing_team(state: State) -> Command[Literal[\"supervisor\"]]:\n",
    "    response = paper_writing_graph.invoke({\"messages\": state[\"messages\"][-1]})\n",
    "    return Command(\n",
    "        update={\n",
    "            \"messages\": [\n",
    "                HumanMessage(\n",
    "                    content=response[\"messages\"][-1].content, name=\"writing_team\"\n",
    "                )\n",
    "            ]\n",
    "        },\n",
    "        goto=\"supervisor\",\n",
    "    )\n",
    "\n",
    "\n",
    "# Define the graph.\n",
    "super_builder = StateGraph(State)\n",
    "super_builder.add_node(\"supervisor\", teams_supervisor_node)\n",
    "super_builder.add_node(\"research_team\", call_research_team)\n",
    "super_builder.add_node(\"writing_team\", call_paper_writing_team)\n",
    "\n",
    "super_builder.add_edge(START, \"supervisor\")\n",
    "super_graph = super_builder.compile()"
   ]
  },
  {
   "cell_type": "code",
   "execution_count": null,
   "id": "270ff3ae26cd42ff",
   "metadata": {
    "ExecuteTime": {
     "end_time": "2024-05-15T08:32:33.694459Z",
     "start_time": "2024-05-15T08:32:31.524790Z"
    }
   },
   "outputs": [],
   "source": [
    "from IPython.display import Image, display\n",
    "\n",
    "display(Image(super_graph.get_graph().draw_mermaid_png()))"
   ]
  },
  {
   "cell_type": "code",
   "execution_count": null,
   "id": "6b8badbf-d728-44bd-a2a7-5b4e587c92fe",
   "metadata": {
    "ExecuteTime": {
     "end_time": "2024-05-15T08:19:55.796497Z",
     "start_time": "2024-05-15T08:19:55.796497Z"
    }
   },
   "outputs": [],
   "source": [
    "for s in super_graph.stream(\n",
    "    {\n",
    "        \"messages\": [\n",
    "            (\"user\", \"Research AI agents and write in a file using the writing_team a brief report about them.\")\n",
    "        ],\n",
    "    },\n",
    "    {\"recursion_limit\": 150, \"callbacks\": [langfuse_handler]},\n",
    "):\n",
    "    print(s)\n",
    "    print(\"---\")"
   ]
  }
 ],
 "metadata": {
  "kernelspec": {
   "display_name": ".venv",
   "language": "python",
   "name": "python3"
  },
  "language_info": {
   "codemirror_mode": {
    "name": "ipython",
    "version": 3
   },
   "file_extension": ".py",
   "mimetype": "text/x-python",
   "name": "python",
   "nbconvert_exporter": "python",
   "pygments_lexer": "ipython3",
   "version": "3.12.3"
  }
 },
 "nbformat": 4,
 "nbformat_minor": 5
}
