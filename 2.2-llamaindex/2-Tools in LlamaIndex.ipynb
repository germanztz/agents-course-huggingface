{
 "cells": [
  {
   "cell_type": "markdown",
   "metadata": {
    "id": "cJqyhgeqGo46"
   },
   "source": [
    "# Tools in LlamaIndex\n",
    "\n",
    "\n",
    "This notebook is part of the [Hugging Face Agents Course](https://www.hf.co/learn/agents-course), a free Course from beginner to expert, where you learn to build Agents.\n",
    "\n",
    "![Agents course share](https://huggingface.co/datasets/agents-course/course-images/resolve/main/en/communication/share.png)\n",
    "\n",
    "## Let's install the dependencies\n",
    "\n",
    "We will install the dependencies for this unit."
   ]
  },
  {
   "cell_type": "code",
   "execution_count": 1,
   "metadata": {
    "id": "J0NudPMzGo47"
   },
   "outputs": [
    {
     "name": "stdout",
     "output_type": "stream",
     "text": [
      "Requirement already satisfied: llama-index in /home/daimler/workspaces/smolagent-local/.venv/lib/python3.12/site-packages (0.12.23)\n",
      "Requirement already satisfied: datasets in /home/daimler/workspaces/smolagent-local/.venv/lib/python3.12/site-packages (3.3.2)\n",
      "Requirement already satisfied: llama-index-callbacks-arize-phoenix in /home/daimler/workspaces/smolagent-local/.venv/lib/python3.12/site-packages (0.4.0)\n",
      "Requirement already satisfied: llama-index-vector-stores-chroma in /home/daimler/workspaces/smolagent-local/.venv/lib/python3.12/site-packages (0.4.1)\n",
      "Requirement already satisfied: llama-index-llms-huggingface-api in /home/daimler/workspaces/smolagent-local/.venv/lib/python3.12/site-packages (0.4.1)\n",
      "Requirement already satisfied: llama-index-agent-openai<0.5.0,>=0.4.0 in /home/daimler/workspaces/smolagent-local/.venv/lib/python3.12/site-packages (from llama-index) (0.4.6)\n",
      "Requirement already satisfied: llama-index-cli<0.5.0,>=0.4.1 in /home/daimler/workspaces/smolagent-local/.venv/lib/python3.12/site-packages (from llama-index) (0.4.1)\n",
      "Requirement already satisfied: llama-index-core<0.13.0,>=0.12.23 in /home/daimler/workspaces/smolagent-local/.venv/lib/python3.12/site-packages (from llama-index) (0.12.23.post2)\n",
      "Requirement already satisfied: llama-index-embeddings-openai<0.4.0,>=0.3.0 in /home/daimler/workspaces/smolagent-local/.venv/lib/python3.12/site-packages (from llama-index) (0.3.1)\n",
      "Requirement already satisfied: llama-index-indices-managed-llama-cloud>=0.4.0 in /home/daimler/workspaces/smolagent-local/.venv/lib/python3.12/site-packages (from llama-index) (0.6.8)\n",
      "Requirement already satisfied: llama-index-llms-openai<0.4.0,>=0.3.0 in /home/daimler/workspaces/smolagent-local/.venv/lib/python3.12/site-packages (from llama-index) (0.3.25)\n",
      "Requirement already satisfied: llama-index-multi-modal-llms-openai<0.5.0,>=0.4.0 in /home/daimler/workspaces/smolagent-local/.venv/lib/python3.12/site-packages (from llama-index) (0.4.3)\n",
      "Requirement already satisfied: llama-index-program-openai<0.4.0,>=0.3.0 in /home/daimler/workspaces/smolagent-local/.venv/lib/python3.12/site-packages (from llama-index) (0.3.1)\n",
      "Requirement already satisfied: llama-index-question-gen-openai<0.4.0,>=0.3.0 in /home/daimler/workspaces/smolagent-local/.venv/lib/python3.12/site-packages (from llama-index) (0.3.0)\n",
      "Requirement already satisfied: llama-index-readers-file<0.5.0,>=0.4.0 in /home/daimler/workspaces/smolagent-local/.venv/lib/python3.12/site-packages (from llama-index) (0.4.6)\n",
      "Requirement already satisfied: llama-index-readers-llama-parse>=0.4.0 in /home/daimler/workspaces/smolagent-local/.venv/lib/python3.12/site-packages (from llama-index) (0.4.0)\n",
      "Requirement already satisfied: nltk>3.8.1 in /home/daimler/workspaces/smolagent-local/.venv/lib/python3.12/site-packages (from llama-index) (3.9.1)\n",
      "Requirement already satisfied: filelock in /home/daimler/workspaces/smolagent-local/.venv/lib/python3.12/site-packages (from datasets) (3.17.0)\n",
      "Requirement already satisfied: numpy>=1.17 in /home/daimler/workspaces/smolagent-local/.venv/lib/python3.12/site-packages (from datasets) (2.2.3)\n",
      "Requirement already satisfied: pyarrow>=15.0.0 in /home/daimler/workspaces/smolagent-local/.venv/lib/python3.12/site-packages (from datasets) (19.0.1)\n",
      "Requirement already satisfied: dill<0.3.9,>=0.3.0 in /home/daimler/workspaces/smolagent-local/.venv/lib/python3.12/site-packages (from datasets) (0.3.8)\n",
      "Requirement already satisfied: pandas in /home/daimler/workspaces/smolagent-local/.venv/lib/python3.12/site-packages (from datasets) (2.2.3)\n",
      "Requirement already satisfied: requests>=2.32.2 in /home/daimler/workspaces/smolagent-local/.venv/lib/python3.12/site-packages (from datasets) (2.32.3)\n",
      "Requirement already satisfied: tqdm>=4.66.3 in /home/daimler/workspaces/smolagent-local/.venv/lib/python3.12/site-packages (from datasets) (4.67.1)\n",
      "Requirement already satisfied: xxhash in /home/daimler/workspaces/smolagent-local/.venv/lib/python3.12/site-packages (from datasets) (3.5.0)\n",
      "Requirement already satisfied: multiprocess<0.70.17 in /home/daimler/workspaces/smolagent-local/.venv/lib/python3.12/site-packages (from datasets) (0.70.16)\n",
      "Requirement already satisfied: fsspec<=2024.12.0,>=2023.1.0 in /home/daimler/workspaces/smolagent-local/.venv/lib/python3.12/site-packages (from fsspec[http]<=2024.12.0,>=2023.1.0->datasets) (2024.12.0)\n",
      "Requirement already satisfied: aiohttp in /home/daimler/workspaces/smolagent-local/.venv/lib/python3.12/site-packages (from datasets) (3.11.13)\n",
      "Requirement already satisfied: huggingface-hub>=0.24.0 in /home/daimler/workspaces/smolagent-local/.venv/lib/python3.12/site-packages (from datasets) (0.29.2)\n",
      "Requirement already satisfied: packaging in /home/daimler/workspaces/smolagent-local/.venv/lib/python3.12/site-packages (from datasets) (24.2)\n",
      "Requirement already satisfied: pyyaml>=5.1 in /home/daimler/workspaces/smolagent-local/.venv/lib/python3.12/site-packages (from datasets) (6.0.2)\n",
      "Requirement already satisfied: openinference-instrumentation-llama-index>=3.0.0 in /home/daimler/workspaces/smolagent-local/.venv/lib/python3.12/site-packages (from llama-index-callbacks-arize-phoenix) (3.3.1)\n",
      "Requirement already satisfied: chromadb>=0.5.17 in /home/daimler/workspaces/smolagent-local/.venv/lib/python3.12/site-packages (from llama-index-vector-stores-chroma) (0.6.3)\n",
      "Requirement already satisfied: build>=1.0.3 in /home/daimler/workspaces/smolagent-local/.venv/lib/python3.12/site-packages (from chromadb>=0.5.17->llama-index-vector-stores-chroma) (1.2.2.post1)\n",
      "Requirement already satisfied: pydantic>=1.9 in /home/daimler/workspaces/smolagent-local/.venv/lib/python3.12/site-packages (from chromadb>=0.5.17->llama-index-vector-stores-chroma) (2.10.6)\n",
      "Requirement already satisfied: chroma-hnswlib==0.7.6 in /home/daimler/workspaces/smolagent-local/.venv/lib/python3.12/site-packages (from chromadb>=0.5.17->llama-index-vector-stores-chroma) (0.7.6)\n",
      "Requirement already satisfied: fastapi>=0.95.2 in /home/daimler/workspaces/smolagent-local/.venv/lib/python3.12/site-packages (from chromadb>=0.5.17->llama-index-vector-stores-chroma) (0.115.11)\n",
      "Requirement already satisfied: uvicorn>=0.18.3 in /home/daimler/workspaces/smolagent-local/.venv/lib/python3.12/site-packages (from uvicorn[standard]>=0.18.3->chromadb>=0.5.17->llama-index-vector-stores-chroma) (0.34.0)\n",
      "Requirement already satisfied: posthog>=2.4.0 in /home/daimler/workspaces/smolagent-local/.venv/lib/python3.12/site-packages (from chromadb>=0.5.17->llama-index-vector-stores-chroma) (3.19.1)\n",
      "Requirement already satisfied: typing_extensions>=4.5.0 in /home/daimler/workspaces/smolagent-local/.venv/lib/python3.12/site-packages (from chromadb>=0.5.17->llama-index-vector-stores-chroma) (4.12.2)\n",
      "Requirement already satisfied: onnxruntime>=1.14.1 in /home/daimler/workspaces/smolagent-local/.venv/lib/python3.12/site-packages (from chromadb>=0.5.17->llama-index-vector-stores-chroma) (1.21.0)\n",
      "Requirement already satisfied: opentelemetry-api>=1.2.0 in /home/daimler/workspaces/smolagent-local/.venv/lib/python3.12/site-packages (from chromadb>=0.5.17->llama-index-vector-stores-chroma) (1.30.0)\n",
      "Requirement already satisfied: opentelemetry-exporter-otlp-proto-grpc>=1.2.0 in /home/daimler/workspaces/smolagent-local/.venv/lib/python3.12/site-packages (from chromadb>=0.5.17->llama-index-vector-stores-chroma) (1.30.0)\n",
      "Requirement already satisfied: opentelemetry-instrumentation-fastapi>=0.41b0 in /home/daimler/workspaces/smolagent-local/.venv/lib/python3.12/site-packages (from chromadb>=0.5.17->llama-index-vector-stores-chroma) (0.51b0)\n",
      "Requirement already satisfied: opentelemetry-sdk>=1.2.0 in /home/daimler/workspaces/smolagent-local/.venv/lib/python3.12/site-packages (from chromadb>=0.5.17->llama-index-vector-stores-chroma) (1.30.0)\n",
      "Requirement already satisfied: tokenizers>=0.13.2 in /home/daimler/workspaces/smolagent-local/.venv/lib/python3.12/site-packages (from chromadb>=0.5.17->llama-index-vector-stores-chroma) (0.21.0)\n",
      "Requirement already satisfied: pypika>=0.48.9 in /home/daimler/workspaces/smolagent-local/.venv/lib/python3.12/site-packages (from chromadb>=0.5.17->llama-index-vector-stores-chroma) (0.48.9)\n",
      "Requirement already satisfied: overrides>=7.3.1 in /home/daimler/workspaces/smolagent-local/.venv/lib/python3.12/site-packages (from chromadb>=0.5.17->llama-index-vector-stores-chroma) (7.7.0)\n",
      "Requirement already satisfied: importlib-resources in /home/daimler/workspaces/smolagent-local/.venv/lib/python3.12/site-packages (from chromadb>=0.5.17->llama-index-vector-stores-chroma) (6.5.2)\n",
      "Requirement already satisfied: grpcio>=1.58.0 in /home/daimler/workspaces/smolagent-local/.venv/lib/python3.12/site-packages (from chromadb>=0.5.17->llama-index-vector-stores-chroma) (1.70.0)\n",
      "Requirement already satisfied: bcrypt>=4.0.1 in /home/daimler/workspaces/smolagent-local/.venv/lib/python3.12/site-packages (from chromadb>=0.5.17->llama-index-vector-stores-chroma) (4.3.0)\n",
      "Requirement already satisfied: typer>=0.9.0 in /home/daimler/workspaces/smolagent-local/.venv/lib/python3.12/site-packages (from chromadb>=0.5.17->llama-index-vector-stores-chroma) (0.15.2)\n",
      "Requirement already satisfied: kubernetes>=28.1.0 in /home/daimler/workspaces/smolagent-local/.venv/lib/python3.12/site-packages (from chromadb>=0.5.17->llama-index-vector-stores-chroma) (32.0.1)\n",
      "Requirement already satisfied: tenacity>=8.2.3 in /home/daimler/workspaces/smolagent-local/.venv/lib/python3.12/site-packages (from chromadb>=0.5.17->llama-index-vector-stores-chroma) (9.0.0)\n",
      "Requirement already satisfied: mmh3>=4.0.1 in /home/daimler/workspaces/smolagent-local/.venv/lib/python3.12/site-packages (from chromadb>=0.5.17->llama-index-vector-stores-chroma) (5.1.0)\n",
      "Requirement already satisfied: orjson>=3.9.12 in /home/daimler/workspaces/smolagent-local/.venv/lib/python3.12/site-packages (from chromadb>=0.5.17->llama-index-vector-stores-chroma) (3.10.15)\n",
      "Requirement already satisfied: httpx>=0.27.0 in /home/daimler/workspaces/smolagent-local/.venv/lib/python3.12/site-packages (from chromadb>=0.5.17->llama-index-vector-stores-chroma) (0.28.1)\n",
      "Requirement already satisfied: rich>=10.11.0 in /home/daimler/workspaces/smolagent-local/.venv/lib/python3.12/site-packages (from chromadb>=0.5.17->llama-index-vector-stores-chroma) (13.9.4)\n",
      "Requirement already satisfied: aiohappyeyeballs>=2.3.0 in /home/daimler/workspaces/smolagent-local/.venv/lib/python3.12/site-packages (from aiohttp->datasets) (2.5.0)\n",
      "Requirement already satisfied: aiosignal>=1.1.2 in /home/daimler/workspaces/smolagent-local/.venv/lib/python3.12/site-packages (from aiohttp->datasets) (1.3.2)\n",
      "Requirement already satisfied: attrs>=17.3.0 in /home/daimler/workspaces/smolagent-local/.venv/lib/python3.12/site-packages (from aiohttp->datasets) (25.1.0)\n",
      "Requirement already satisfied: frozenlist>=1.1.1 in /home/daimler/workspaces/smolagent-local/.venv/lib/python3.12/site-packages (from aiohttp->datasets) (1.5.0)\n",
      "Requirement already satisfied: multidict<7.0,>=4.5 in /home/daimler/workspaces/smolagent-local/.venv/lib/python3.12/site-packages (from aiohttp->datasets) (6.1.0)\n",
      "Requirement already satisfied: propcache>=0.2.0 in /home/daimler/workspaces/smolagent-local/.venv/lib/python3.12/site-packages (from aiohttp->datasets) (0.3.0)\n",
      "Requirement already satisfied: yarl<2.0,>=1.17.0 in /home/daimler/workspaces/smolagent-local/.venv/lib/python3.12/site-packages (from aiohttp->datasets) (1.18.3)\n",
      "Requirement already satisfied: openai>=1.14.0 in /home/daimler/workspaces/smolagent-local/.venv/lib/python3.12/site-packages (from llama-index-agent-openai<0.5.0,>=0.4.0->llama-index) (1.65.5)\n",
      "Requirement already satisfied: SQLAlchemy>=1.4.49 in /home/daimler/workspaces/smolagent-local/.venv/lib/python3.12/site-packages (from SQLAlchemy[asyncio]>=1.4.49->llama-index-core<0.13.0,>=0.12.23->llama-index) (2.0.38)\n",
      "Requirement already satisfied: dataclasses-json in /home/daimler/workspaces/smolagent-local/.venv/lib/python3.12/site-packages (from llama-index-core<0.13.0,>=0.12.23->llama-index) (0.6.7)\n",
      "Requirement already satisfied: deprecated>=1.2.9.3 in /home/daimler/workspaces/smolagent-local/.venv/lib/python3.12/site-packages (from llama-index-core<0.13.0,>=0.12.23->llama-index) (1.2.18)\n",
      "Requirement already satisfied: dirtyjson<2.0.0,>=1.0.8 in /home/daimler/workspaces/smolagent-local/.venv/lib/python3.12/site-packages (from llama-index-core<0.13.0,>=0.12.23->llama-index) (1.0.8)\n",
      "Requirement already satisfied: filetype<2.0.0,>=1.2.0 in /home/daimler/workspaces/smolagent-local/.venv/lib/python3.12/site-packages (from llama-index-core<0.13.0,>=0.12.23->llama-index) (1.2.0)\n",
      "Requirement already satisfied: nest-asyncio<2.0.0,>=1.5.8 in /home/daimler/workspaces/smolagent-local/.venv/lib/python3.12/site-packages (from llama-index-core<0.13.0,>=0.12.23->llama-index) (1.6.0)\n",
      "Requirement already satisfied: networkx>=3.0 in /home/daimler/workspaces/smolagent-local/.venv/lib/python3.12/site-packages (from llama-index-core<0.13.0,>=0.12.23->llama-index) (3.4.2)\n",
      "Requirement already satisfied: pillow>=9.0.0 in /home/daimler/workspaces/smolagent-local/.venv/lib/python3.12/site-packages (from llama-index-core<0.13.0,>=0.12.23->llama-index) (11.1.0)\n",
      "Requirement already satisfied: tiktoken>=0.3.3 in /home/daimler/workspaces/smolagent-local/.venv/lib/python3.12/site-packages (from llama-index-core<0.13.0,>=0.12.23->llama-index) (0.9.0)\n",
      "Requirement already satisfied: typing-inspect>=0.8.0 in /home/daimler/workspaces/smolagent-local/.venv/lib/python3.12/site-packages (from llama-index-core<0.13.0,>=0.12.23->llama-index) (0.9.0)\n",
      "Requirement already satisfied: wrapt in /home/daimler/workspaces/smolagent-local/.venv/lib/python3.12/site-packages (from llama-index-core<0.13.0,>=0.12.23->llama-index) (1.17.2)\n",
      "Requirement already satisfied: llama-cloud<0.2.0,>=0.1.13 in /home/daimler/workspaces/smolagent-local/.venv/lib/python3.12/site-packages (from llama-index-indices-managed-llama-cloud>=0.4.0->llama-index) (0.1.14)\n",
      "Requirement already satisfied: beautifulsoup4<5.0.0,>=4.12.3 in /home/daimler/workspaces/smolagent-local/.venv/lib/python3.12/site-packages (from llama-index-readers-file<0.5.0,>=0.4.0->llama-index) (4.13.3)\n",
      "Requirement already satisfied: pypdf<6.0.0,>=5.1.0 in /home/daimler/workspaces/smolagent-local/.venv/lib/python3.12/site-packages (from llama-index-readers-file<0.5.0,>=0.4.0->llama-index) (5.3.1)\n",
      "Requirement already satisfied: striprtf<0.0.27,>=0.0.26 in /home/daimler/workspaces/smolagent-local/.venv/lib/python3.12/site-packages (from llama-index-readers-file<0.5.0,>=0.4.0->llama-index) (0.0.26)\n",
      "Requirement already satisfied: llama-parse>=0.5.0 in /home/daimler/workspaces/smolagent-local/.venv/lib/python3.12/site-packages (from llama-index-readers-llama-parse>=0.4.0->llama-index) (0.6.4.post1)\n",
      "Requirement already satisfied: click in /home/daimler/workspaces/smolagent-local/.venv/lib/python3.12/site-packages (from nltk>3.8.1->llama-index) (8.1.8)\n",
      "Requirement already satisfied: joblib in /home/daimler/workspaces/smolagent-local/.venv/lib/python3.12/site-packages (from nltk>3.8.1->llama-index) (1.4.2)\n",
      "Requirement already satisfied: regex>=2021.8.3 in /home/daimler/workspaces/smolagent-local/.venv/lib/python3.12/site-packages (from nltk>3.8.1->llama-index) (2024.11.6)\n",
      "Requirement already satisfied: openinference-instrumentation>=0.1.17 in /home/daimler/workspaces/smolagent-local/.venv/lib/python3.12/site-packages (from openinference-instrumentation-llama-index>=3.0.0->llama-index-callbacks-arize-phoenix) (0.1.23)\n",
      "Requirement already satisfied: openinference-semantic-conventions>=0.1.9 in /home/daimler/workspaces/smolagent-local/.venv/lib/python3.12/site-packages (from openinference-instrumentation-llama-index>=3.0.0->llama-index-callbacks-arize-phoenix) (0.1.14)\n",
      "Requirement already satisfied: opentelemetry-instrumentation in /home/daimler/workspaces/smolagent-local/.venv/lib/python3.12/site-packages (from openinference-instrumentation-llama-index>=3.0.0->llama-index-callbacks-arize-phoenix) (0.51b0)\n",
      "Requirement already satisfied: opentelemetry-semantic-conventions in /home/daimler/workspaces/smolagent-local/.venv/lib/python3.12/site-packages (from openinference-instrumentation-llama-index>=3.0.0->llama-index-callbacks-arize-phoenix) (0.51b0)\n",
      "Requirement already satisfied: charset-normalizer<4,>=2 in /home/daimler/workspaces/smolagent-local/.venv/lib/python3.12/site-packages (from requests>=2.32.2->datasets) (3.4.1)\n",
      "Requirement already satisfied: idna<4,>=2.5 in /home/daimler/workspaces/smolagent-local/.venv/lib/python3.12/site-packages (from requests>=2.32.2->datasets) (3.10)\n",
      "Requirement already satisfied: urllib3<3,>=1.21.1 in /home/daimler/workspaces/smolagent-local/.venv/lib/python3.12/site-packages (from requests>=2.32.2->datasets) (2.3.0)\n",
      "Requirement already satisfied: certifi>=2017.4.17 in /home/daimler/workspaces/smolagent-local/.venv/lib/python3.12/site-packages (from requests>=2.32.2->datasets) (2025.1.31)\n",
      "Requirement already satisfied: python-dateutil>=2.8.2 in /home/daimler/workspaces/smolagent-local/.venv/lib/python3.12/site-packages (from pandas->datasets) (2.9.0.post0)\n",
      "Requirement already satisfied: pytz>=2020.1 in /home/daimler/workspaces/smolagent-local/.venv/lib/python3.12/site-packages (from pandas->datasets) (2025.1)\n",
      "Requirement already satisfied: tzdata>=2022.7 in /home/daimler/workspaces/smolagent-local/.venv/lib/python3.12/site-packages (from pandas->datasets) (2025.1)\n",
      "Requirement already satisfied: soupsieve>1.2 in /home/daimler/workspaces/smolagent-local/.venv/lib/python3.12/site-packages (from beautifulsoup4<5.0.0,>=4.12.3->llama-index-readers-file<0.5.0,>=0.4.0->llama-index) (2.6)\n",
      "Requirement already satisfied: pyproject_hooks in /home/daimler/workspaces/smolagent-local/.venv/lib/python3.12/site-packages (from build>=1.0.3->chromadb>=0.5.17->llama-index-vector-stores-chroma) (1.2.0)\n",
      "Requirement already satisfied: starlette<0.47.0,>=0.40.0 in /home/daimler/workspaces/smolagent-local/.venv/lib/python3.12/site-packages (from fastapi>=0.95.2->chromadb>=0.5.17->llama-index-vector-stores-chroma) (0.46.1)\n",
      "Requirement already satisfied: anyio in /home/daimler/workspaces/smolagent-local/.venv/lib/python3.12/site-packages (from httpx>=0.27.0->chromadb>=0.5.17->llama-index-vector-stores-chroma) (4.8.0)\n",
      "Requirement already satisfied: httpcore==1.* in /home/daimler/workspaces/smolagent-local/.venv/lib/python3.12/site-packages (from httpx>=0.27.0->chromadb>=0.5.17->llama-index-vector-stores-chroma) (1.0.7)\n",
      "Requirement already satisfied: h11<0.15,>=0.13 in /home/daimler/workspaces/smolagent-local/.venv/lib/python3.12/site-packages (from httpcore==1.*->httpx>=0.27.0->chromadb>=0.5.17->llama-index-vector-stores-chroma) (0.14.0)\n",
      "Requirement already satisfied: six>=1.9.0 in /home/daimler/workspaces/smolagent-local/.venv/lib/python3.12/site-packages (from kubernetes>=28.1.0->chromadb>=0.5.17->llama-index-vector-stores-chroma) (1.17.0)\n",
      "Requirement already satisfied: google-auth>=1.0.1 in /home/daimler/workspaces/smolagent-local/.venv/lib/python3.12/site-packages (from kubernetes>=28.1.0->chromadb>=0.5.17->llama-index-vector-stores-chroma) (2.38.0)\n",
      "Requirement already satisfied: websocket-client!=0.40.0,!=0.41.*,!=0.42.*,>=0.32.0 in /home/daimler/workspaces/smolagent-local/.venv/lib/python3.12/site-packages (from kubernetes>=28.1.0->chromadb>=0.5.17->llama-index-vector-stores-chroma) (1.8.0)\n",
      "Requirement already satisfied: requests-oauthlib in /home/daimler/workspaces/smolagent-local/.venv/lib/python3.12/site-packages (from kubernetes>=28.1.0->chromadb>=0.5.17->llama-index-vector-stores-chroma) (2.0.0)\n",
      "Requirement already satisfied: oauthlib>=3.2.2 in /home/daimler/workspaces/smolagent-local/.venv/lib/python3.12/site-packages (from kubernetes>=28.1.0->chromadb>=0.5.17->llama-index-vector-stores-chroma) (3.2.2)\n",
      "Requirement already satisfied: durationpy>=0.7 in /home/daimler/workspaces/smolagent-local/.venv/lib/python3.12/site-packages (from kubernetes>=28.1.0->chromadb>=0.5.17->llama-index-vector-stores-chroma) (0.9)\n",
      "Requirement already satisfied: llama-cloud-services>=0.6.4 in /home/daimler/workspaces/smolagent-local/.venv/lib/python3.12/site-packages (from llama-parse>=0.5.0->llama-index-readers-llama-parse>=0.4.0->llama-index) (0.6.5)\n",
      "Requirement already satisfied: coloredlogs in /home/daimler/workspaces/smolagent-local/.venv/lib/python3.12/site-packages (from onnxruntime>=1.14.1->chromadb>=0.5.17->llama-index-vector-stores-chroma) (15.0.1)\n",
      "Requirement already satisfied: flatbuffers in /home/daimler/workspaces/smolagent-local/.venv/lib/python3.12/site-packages (from onnxruntime>=1.14.1->chromadb>=0.5.17->llama-index-vector-stores-chroma) (25.2.10)\n",
      "Requirement already satisfied: protobuf in /home/daimler/workspaces/smolagent-local/.venv/lib/python3.12/site-packages (from onnxruntime>=1.14.1->chromadb>=0.5.17->llama-index-vector-stores-chroma) (5.29.3)\n",
      "Requirement already satisfied: sympy in /home/daimler/workspaces/smolagent-local/.venv/lib/python3.12/site-packages (from onnxruntime>=1.14.1->chromadb>=0.5.17->llama-index-vector-stores-chroma) (1.13.3)\n",
      "Requirement already satisfied: distro<2,>=1.7.0 in /home/daimler/workspaces/smolagent-local/.venv/lib/python3.12/site-packages (from openai>=1.14.0->llama-index-agent-openai<0.5.0,>=0.4.0->llama-index) (1.9.0)\n",
      "Requirement already satisfied: jiter<1,>=0.4.0 in /home/daimler/workspaces/smolagent-local/.venv/lib/python3.12/site-packages (from openai>=1.14.0->llama-index-agent-openai<0.5.0,>=0.4.0->llama-index) (0.8.2)\n",
      "Requirement already satisfied: sniffio in /home/daimler/workspaces/smolagent-local/.venv/lib/python3.12/site-packages (from openai>=1.14.0->llama-index-agent-openai<0.5.0,>=0.4.0->llama-index) (1.3.1)\n",
      "Requirement already satisfied: importlib-metadata<=8.5.0,>=6.0 in /home/daimler/workspaces/smolagent-local/.venv/lib/python3.12/site-packages (from opentelemetry-api>=1.2.0->chromadb>=0.5.17->llama-index-vector-stores-chroma) (8.5.0)\n",
      "Requirement already satisfied: googleapis-common-protos~=1.52 in /home/daimler/workspaces/smolagent-local/.venv/lib/python3.12/site-packages (from opentelemetry-exporter-otlp-proto-grpc>=1.2.0->chromadb>=0.5.17->llama-index-vector-stores-chroma) (1.69.1)\n",
      "Requirement already satisfied: opentelemetry-exporter-otlp-proto-common==1.30.0 in /home/daimler/workspaces/smolagent-local/.venv/lib/python3.12/site-packages (from opentelemetry-exporter-otlp-proto-grpc>=1.2.0->chromadb>=0.5.17->llama-index-vector-stores-chroma) (1.30.0)\n",
      "Requirement already satisfied: opentelemetry-proto==1.30.0 in /home/daimler/workspaces/smolagent-local/.venv/lib/python3.12/site-packages (from opentelemetry-exporter-otlp-proto-grpc>=1.2.0->chromadb>=0.5.17->llama-index-vector-stores-chroma) (1.30.0)\n",
      "Requirement already satisfied: opentelemetry-instrumentation-asgi==0.51b0 in /home/daimler/workspaces/smolagent-local/.venv/lib/python3.12/site-packages (from opentelemetry-instrumentation-fastapi>=0.41b0->chromadb>=0.5.17->llama-index-vector-stores-chroma) (0.51b0)\n",
      "Requirement already satisfied: opentelemetry-util-http==0.51b0 in /home/daimler/workspaces/smolagent-local/.venv/lib/python3.12/site-packages (from opentelemetry-instrumentation-fastapi>=0.41b0->chromadb>=0.5.17->llama-index-vector-stores-chroma) (0.51b0)\n",
      "Requirement already satisfied: asgiref~=3.0 in /home/daimler/workspaces/smolagent-local/.venv/lib/python3.12/site-packages (from opentelemetry-instrumentation-asgi==0.51b0->opentelemetry-instrumentation-fastapi>=0.41b0->chromadb>=0.5.17->llama-index-vector-stores-chroma) (3.8.1)\n",
      "Requirement already satisfied: monotonic>=1.5 in /home/daimler/workspaces/smolagent-local/.venv/lib/python3.12/site-packages (from posthog>=2.4.0->chromadb>=0.5.17->llama-index-vector-stores-chroma) (1.6)\n",
      "Requirement already satisfied: backoff>=1.10.0 in /home/daimler/workspaces/smolagent-local/.venv/lib/python3.12/site-packages (from posthog>=2.4.0->chromadb>=0.5.17->llama-index-vector-stores-chroma) (2.2.1)\n",
      "Requirement already satisfied: annotated-types>=0.6.0 in /home/daimler/workspaces/smolagent-local/.venv/lib/python3.12/site-packages (from pydantic>=1.9->chromadb>=0.5.17->llama-index-vector-stores-chroma) (0.7.0)\n",
      "Requirement already satisfied: pydantic-core==2.27.2 in /home/daimler/workspaces/smolagent-local/.venv/lib/python3.12/site-packages (from pydantic>=1.9->chromadb>=0.5.17->llama-index-vector-stores-chroma) (2.27.2)\n",
      "Requirement already satisfied: markdown-it-py>=2.2.0 in /home/daimler/workspaces/smolagent-local/.venv/lib/python3.12/site-packages (from rich>=10.11.0->chromadb>=0.5.17->llama-index-vector-stores-chroma) (3.0.0)\n",
      "Requirement already satisfied: pygments<3.0.0,>=2.13.0 in /home/daimler/workspaces/smolagent-local/.venv/lib/python3.12/site-packages (from rich>=10.11.0->chromadb>=0.5.17->llama-index-vector-stores-chroma) (2.19.1)\n",
      "Requirement already satisfied: greenlet!=0.4.17 in /home/daimler/workspaces/smolagent-local/.venv/lib/python3.12/site-packages (from SQLAlchemy>=1.4.49->SQLAlchemy[asyncio]>=1.4.49->llama-index-core<0.13.0,>=0.12.23->llama-index) (3.1.1)\n",
      "Requirement already satisfied: shellingham>=1.3.0 in /home/daimler/workspaces/smolagent-local/.venv/lib/python3.12/site-packages (from typer>=0.9.0->chromadb>=0.5.17->llama-index-vector-stores-chroma) (1.5.4)\n",
      "Requirement already satisfied: mypy-extensions>=0.3.0 in /home/daimler/workspaces/smolagent-local/.venv/lib/python3.12/site-packages (from typing-inspect>=0.8.0->llama-index-core<0.13.0,>=0.12.23->llama-index) (1.0.0)\n",
      "Requirement already satisfied: httptools>=0.6.3 in /home/daimler/workspaces/smolagent-local/.venv/lib/python3.12/site-packages (from uvicorn[standard]>=0.18.3->chromadb>=0.5.17->llama-index-vector-stores-chroma) (0.6.4)\n",
      "Requirement already satisfied: python-dotenv>=0.13 in /home/daimler/workspaces/smolagent-local/.venv/lib/python3.12/site-packages (from uvicorn[standard]>=0.18.3->chromadb>=0.5.17->llama-index-vector-stores-chroma) (1.0.1)\n",
      "Requirement already satisfied: uvloop!=0.15.0,!=0.15.1,>=0.14.0 in /home/daimler/workspaces/smolagent-local/.venv/lib/python3.12/site-packages (from uvicorn[standard]>=0.18.3->chromadb>=0.5.17->llama-index-vector-stores-chroma) (0.21.0)\n",
      "Requirement already satisfied: watchfiles>=0.13 in /home/daimler/workspaces/smolagent-local/.venv/lib/python3.12/site-packages (from uvicorn[standard]>=0.18.3->chromadb>=0.5.17->llama-index-vector-stores-chroma) (1.0.4)\n",
      "Requirement already satisfied: websockets>=10.4 in /home/daimler/workspaces/smolagent-local/.venv/lib/python3.12/site-packages (from uvicorn[standard]>=0.18.3->chromadb>=0.5.17->llama-index-vector-stores-chroma) (15.0.1)\n",
      "Requirement already satisfied: marshmallow<4.0.0,>=3.18.0 in /home/daimler/workspaces/smolagent-local/.venv/lib/python3.12/site-packages (from dataclasses-json->llama-index-core<0.13.0,>=0.12.23->llama-index) (3.26.1)\n",
      "Requirement already satisfied: cachetools<6.0,>=2.0.0 in /home/daimler/workspaces/smolagent-local/.venv/lib/python3.12/site-packages (from google-auth>=1.0.1->kubernetes>=28.1.0->chromadb>=0.5.17->llama-index-vector-stores-chroma) (5.5.2)\n",
      "Requirement already satisfied: pyasn1-modules>=0.2.1 in /home/daimler/workspaces/smolagent-local/.venv/lib/python3.12/site-packages (from google-auth>=1.0.1->kubernetes>=28.1.0->chromadb>=0.5.17->llama-index-vector-stores-chroma) (0.4.1)\n",
      "Requirement already satisfied: rsa<5,>=3.1.4 in /home/daimler/workspaces/smolagent-local/.venv/lib/python3.12/site-packages (from google-auth>=1.0.1->kubernetes>=28.1.0->chromadb>=0.5.17->llama-index-vector-stores-chroma) (4.9)\n",
      "Requirement already satisfied: zipp>=3.20 in /home/daimler/workspaces/smolagent-local/.venv/lib/python3.12/site-packages (from importlib-metadata<=8.5.0,>=6.0->opentelemetry-api>=1.2.0->chromadb>=0.5.17->llama-index-vector-stores-chroma) (3.21.0)\n",
      "Requirement already satisfied: mdurl~=0.1 in /home/daimler/workspaces/smolagent-local/.venv/lib/python3.12/site-packages (from markdown-it-py>=2.2.0->rich>=10.11.0->chromadb>=0.5.17->llama-index-vector-stores-chroma) (0.1.2)\n",
      "Requirement already satisfied: humanfriendly>=9.1 in /home/daimler/workspaces/smolagent-local/.venv/lib/python3.12/site-packages (from coloredlogs->onnxruntime>=1.14.1->chromadb>=0.5.17->llama-index-vector-stores-chroma) (10.0)\n",
      "Requirement already satisfied: mpmath<1.4,>=1.1.0 in /home/daimler/workspaces/smolagent-local/.venv/lib/python3.12/site-packages (from sympy->onnxruntime>=1.14.1->chromadb>=0.5.17->llama-index-vector-stores-chroma) (1.3.0)\n",
      "Requirement already satisfied: pyasn1<0.7.0,>=0.4.6 in /home/daimler/workspaces/smolagent-local/.venv/lib/python3.12/site-packages (from pyasn1-modules>=0.2.1->google-auth>=1.0.1->kubernetes>=28.1.0->chromadb>=0.5.17->llama-index-vector-stores-chroma) (0.6.1)\n"
     ]
    }
   ],
   "source": [
    "!pip install llama-index datasets llama-index-callbacks-arize-phoenix llama-index-vector-stores-chroma llama-index-llms-huggingface-api -U "
   ]
  },
  {
   "cell_type": "markdown",
   "metadata": {
    "id": "TS49KP5sGo48"
   },
   "source": [
    "And, let's log in to Hugging Face to use serverless Inference APIs."
   ]
  },
  {
   "cell_type": "code",
   "execution_count": null,
   "metadata": {
    "id": "1KgA91rRGo48"
   },
   "outputs": [],
   "source": [
    "# from huggingface_hub import login\n",
    "\n",
    "# login()"
   ]
  },
  {
   "cell_type": "markdown",
   "metadata": {
    "id": "iDZb0R9gGo48"
   },
   "source": [
    "## Creating a FunctionTool\n",
    "\n",
    "Let's create a basic `FunctionTool` and call it."
   ]
  },
  {
   "cell_type": "code",
   "execution_count": 2,
   "metadata": {
    "id": "tHFO0YeLGo48"
   },
   "outputs": [
    {
     "name": "stdout",
     "output_type": "stream",
     "text": [
      "Getting weather for New York\n"
     ]
    },
    {
     "data": {
      "text/plain": [
       "ToolOutput(content='The weather in New York is sunny', tool_name='my_weather_tool', raw_input={'args': ('New York',), 'kwargs': {}}, raw_output='The weather in New York is sunny', is_error=False)"
      ]
     },
     "execution_count": 2,
     "metadata": {},
     "output_type": "execute_result"
    }
   ],
   "source": [
    "from llama_index.core.tools import FunctionTool\n",
    "\n",
    "\n",
    "def get_weather(location: str) -> str:\n",
    "    \"\"\"Useful for getting the weather for a given location.\"\"\"\n",
    "    print(f\"Getting weather for {location}\")\n",
    "    return f\"The weather in {location} is sunny\"\n",
    "\n",
    "\n",
    "tool = FunctionTool.from_defaults(\n",
    "    get_weather,\n",
    "    name=\"my_weather_tool\",\n",
    "    description=\"Useful for getting the weather for a given location.\",\n",
    ")\n",
    "tool.call(\"New York\")"
   ]
  },
  {
   "cell_type": "markdown",
   "metadata": {
    "id": "DhDaC_OzGo48"
   },
   "source": [
    "## Creating a QueryEngineTool\n",
    "\n",
    "Let's now re-use the `QueryEngine` we defined in the [previous unit on tools](/tools.ipynb) and convert it into a `QueryEngineTool`."
   ]
  },
  {
   "cell_type": "code",
   "execution_count": 3,
   "metadata": {
    "id": "EIL5BHGhGo48",
    "outputId": "71384d7b-f632-4e26-fb58-fcd4cc6e96f3"
   },
   "outputs": [
    {
     "data": {
      "text/plain": [
       "ToolOutput(content='The provided text focuses on an anthropologist or cultural expert with a deep understanding of Cypriot culture, history, and society. This background does not directly relate to the query about research on the impact of AI on the future of work and society. To respond to that specific topic, one would need information related to studies, reports, or analyses concerning artificial intelligence and its effects on employment and social structures.', tool_name='some useful name', raw_input={'input': 'Responds about research on the impact of AI on the future of work and society?'}, raw_output=Response(response='The provided text focuses on an anthropologist or cultural expert with a deep understanding of Cypriot culture, history, and society. This background does not directly relate to the query about research on the impact of AI on the future of work and society. To respond to that specific topic, one would need information related to studies, reports, or analyses concerning artificial intelligence and its effects on employment and social structures.', source_nodes=[NodeWithScore(node=TextNode(id_='372496be-c985-453a-b534-bbbdbfdd02fa', embedding=None, metadata={'file_path': '/home/daimler/workspaces/agents-course-huggingface/2.2-llamaindex/data/persona_1.txt', 'file_name': 'persona_1.txt', 'file_type': 'text/plain', 'file_size': 266, 'creation_date': '2025-03-11', 'last_modified_date': '2025-03-11'}, excluded_embed_metadata_keys=['file_name', 'file_type', 'file_size', 'creation_date', 'last_modified_date', 'last_accessed_date'], excluded_llm_metadata_keys=['file_name', 'file_type', 'file_size', 'creation_date', 'last_modified_date', 'last_accessed_date'], relationships={<NodeRelationship.SOURCE: '1'>: RelatedNodeInfo(node_id='2fc1c32a-0584-4da3-bd4d-75a0ab5e6288', node_type='4', metadata={'file_path': '/home/daimler/workspaces/agents-course-huggingface/2.2-llamaindex/data/persona_1.txt', 'file_name': 'persona_1.txt', 'file_type': 'text/plain', 'file_size': 266, 'creation_date': '2025-03-11', 'last_modified_date': '2025-03-11'}, hash='e6c87149a97bf9e5dbdf33922a4e5023c6b72550ca0b63472bd5d25103b28e99')}, metadata_template='{key}: {value}', metadata_separator='\\n', text='An anthropologist or a cultural expert interested in the intricacies of Cypriot culture, history, and society, particularly someone who has spent considerable time researching and living in Cyprus to gain a deep understanding of its people, customs, and way of life.', mimetype='text/plain', start_char_idx=0, end_char_idx=266, metadata_seperator='\\n', text_template='{metadata_str}\\n\\n{content}'), score=3.156795228309288e-35), NodeWithScore(node=TextNode(id_='b1b88e22-80c1-41ae-ba94-a54bfeafda72', embedding=None, metadata={'file_path': '/home/daimler/workspaces/agents-course-huggingface/2.2-llamaindex/data/persona_1.txt', 'file_name': 'persona_1.txt', 'file_type': 'text/plain', 'file_size': 266, 'creation_date': '2025-03-11', 'last_modified_date': '2025-03-11'}, excluded_embed_metadata_keys=['file_name', 'file_type', 'file_size', 'creation_date', 'last_modified_date', 'last_accessed_date'], excluded_llm_metadata_keys=['file_name', 'file_type', 'file_size', 'creation_date', 'last_modified_date', 'last_accessed_date'], relationships={<NodeRelationship.SOURCE: '1'>: RelatedNodeInfo(node_id='f404972e-6750-4523-99c2-30d3cd84854e', node_type='4', metadata={'file_path': '/home/daimler/workspaces/agents-course-huggingface/2.2-llamaindex/data/persona_1.txt', 'file_name': 'persona_1.txt', 'file_type': 'text/plain', 'file_size': 266, 'creation_date': '2025-03-11', 'last_modified_date': '2025-03-11'}, hash='e6c87149a97bf9e5dbdf33922a4e5023c6b72550ca0b63472bd5d25103b28e99')}, metadata_template='{key}: {value}', metadata_separator='\\n', text='An anthropologist or a cultural expert interested in the intricacies of Cypriot culture, history, and society, particularly someone who has spent considerable time researching and living in Cyprus to gain a deep understanding of its people, customs, and way of life.', mimetype='text/plain', start_char_idx=0, end_char_idx=266, metadata_seperator='\\n', text_template='{metadata_str}\\n\\n{content}'), score=3.156795228309288e-35)], metadata={'372496be-c985-453a-b534-bbbdbfdd02fa': {'file_path': '/home/daimler/workspaces/agents-course-huggingface/2.2-llamaindex/data/persona_1.txt', 'file_name': 'persona_1.txt', 'file_type': 'text/plain', 'file_size': 266, 'creation_date': '2025-03-11', 'last_modified_date': '2025-03-11'}, 'b1b88e22-80c1-41ae-ba94-a54bfeafda72': {'file_path': '/home/daimler/workspaces/agents-course-huggingface/2.2-llamaindex/data/persona_1.txt', 'file_name': 'persona_1.txt', 'file_type': 'text/plain', 'file_size': 266, 'creation_date': '2025-03-11', 'last_modified_date': '2025-03-11'}}), is_error=False)"
      ]
     },
     "execution_count": 3,
     "metadata": {},
     "output_type": "execute_result"
    }
   ],
   "source": [
    "import chromadb\n",
    "\n",
    "from llama_index.core import VectorStoreIndex\n",
    "# from llama_index.llms.huggingface_api import HuggingFaceInferenceAPI\n",
    "# from llama_index.embeddings.huggingface_api import HuggingFaceInferenceAPIEmbedding\n",
    "from llama_index.core.tools import QueryEngineTool\n",
    "from llama_index.vector_stores.chroma import ChromaVectorStore\n",
    "from llama_index.embeddings.ollama import OllamaEmbedding\n",
    "from llama_index.llms.ollama import Ollama \n",
    "\n",
    "db = chromadb.PersistentClient(path=\"./alfred_chroma_db\")\n",
    "chroma_collection = db.get_or_create_collection(\"alfred\")\n",
    "vector_store = ChromaVectorStore(chroma_collection=chroma_collection)\n",
    "# embed_model = HuggingFaceInferenceAPIEmbedding(model_name=\"BAAI/bge-small-en-v1.5\")\n",
    "embed_model = OllamaEmbedding(model_name=\"qllama/bge-small-en-v1.5:f16\")\n",
    "\n",
    "# llm = HuggingFaceInferenceAPI(model_name=\"meta-llama/Llama-3.2-3B-Instruct\")\n",
    "llm = Ollama(model=\"myaniu/qwen2.5-1m:7b\")\n",
    "\n",
    "index = VectorStoreIndex.from_vector_store(\n",
    "    vector_store=vector_store, embed_model=embed_model\n",
    ")\n",
    "query_engine = index.as_query_engine(llm=llm)\n",
    "tool = QueryEngineTool.from_defaults(\n",
    "    query_engine=query_engine,\n",
    "    name=\"some useful name\",\n",
    "    description=\"some useful description\",\n",
    ")\n",
    "await tool.acall(\n",
    "    \"Responds about research on the impact of AI on the future of work and society?\"\n",
    ")"
   ]
  },
  {
   "cell_type": "markdown",
   "metadata": {
    "id": "BzKtLYxmGo49"
   },
   "source": [
    "## Creating Toolspecs\n",
    "\n",
    "Let's create a `ToolSpec` from the `GmailToolSpec` from the LlamaHub and convert it to a list of tools."
   ]
  },
  {
   "cell_type": "code",
   "execution_count": 15,
   "metadata": {
    "id": "8Vh1KFVJGo49",
    "outputId": "7c3129b5-fd51-47e1-d610-2d0d360ce639"
   },
   "outputs": [
    {
     "name": "stdout",
     "output_type": "stream",
     "text": [
      "Requirement already satisfied: llama-index==0.10.38 in /home/daimler/workspaces/agents-course-huggingface/.venv/lib/python3.12/site-packages (0.10.38)\n",
      "Collecting llama-index-tools-google\n",
      "  Using cached llama_index_tools_google-0.3.0-py3-none-any.whl.metadata (894 bytes)\n",
      "Requirement already satisfied: llama-index-agent-openai<0.3.0,>=0.1.4 in /home/daimler/workspaces/agents-course-huggingface/.venv/lib/python3.12/site-packages (from llama-index==0.10.38) (0.2.9)\n",
      "Requirement already satisfied: llama-index-cli<0.2.0,>=0.1.2 in /home/daimler/workspaces/agents-course-huggingface/.venv/lib/python3.12/site-packages (from llama-index==0.10.38) (0.1.13)\n",
      "Requirement already satisfied: llama-index-core<0.11.0,>=0.10.38 in /home/daimler/workspaces/agents-course-huggingface/.venv/lib/python3.12/site-packages (from llama-index==0.10.38) (0.10.68.post1)\n",
      "Requirement already satisfied: llama-index-embeddings-openai<0.2.0,>=0.1.5 in /home/daimler/workspaces/agents-course-huggingface/.venv/lib/python3.12/site-packages (from llama-index==0.10.38) (0.1.11)\n",
      "Requirement already satisfied: llama-index-indices-managed-llama-cloud<0.2.0,>=0.1.2 in /home/daimler/workspaces/agents-course-huggingface/.venv/lib/python3.12/site-packages (from llama-index==0.10.38) (0.1.6)\n",
      "Requirement already satisfied: llama-index-legacy<0.10.0,>=0.9.48 in /home/daimler/workspaces/agents-course-huggingface/.venv/lib/python3.12/site-packages (from llama-index==0.10.38) (0.9.48.post4)\n",
      "Requirement already satisfied: llama-index-llms-openai<0.2.0,>=0.1.13 in /home/daimler/workspaces/agents-course-huggingface/.venv/lib/python3.12/site-packages (from llama-index==0.10.38) (0.1.31)\n",
      "Requirement already satisfied: llama-index-multi-modal-llms-openai<0.2.0,>=0.1.3 in /home/daimler/workspaces/agents-course-huggingface/.venv/lib/python3.12/site-packages (from llama-index==0.10.38) (0.1.9)\n",
      "Requirement already satisfied: llama-index-program-openai<0.2.0,>=0.1.3 in /home/daimler/workspaces/agents-course-huggingface/.venv/lib/python3.12/site-packages (from llama-index==0.10.38) (0.1.7)\n",
      "Requirement already satisfied: llama-index-question-gen-openai<0.2.0,>=0.1.2 in /home/daimler/workspaces/agents-course-huggingface/.venv/lib/python3.12/site-packages (from llama-index==0.10.38) (0.1.3)\n",
      "Requirement already satisfied: llama-index-readers-file<0.2.0,>=0.1.4 in /home/daimler/workspaces/agents-course-huggingface/.venv/lib/python3.12/site-packages (from llama-index==0.10.38) (0.1.33)\n",
      "Requirement already satisfied: llama-index-readers-llama-parse<0.2.0,>=0.1.2 in /home/daimler/workspaces/agents-course-huggingface/.venv/lib/python3.12/site-packages (from llama-index==0.10.38) (0.1.6)\n",
      "Requirement already satisfied: beautifulsoup4<5.0.0,>=4.12.3 in /home/daimler/workspaces/agents-course-huggingface/.venv/lib/python3.12/site-packages (from llama-index-tools-google) (4.13.3)\n",
      "Collecting google-api-python-client<3.0.0,>=2.115.0 (from llama-index-tools-google)\n",
      "  Using cached google_api_python_client-2.163.0-py2.py3-none-any.whl.metadata (6.7 kB)\n",
      "Collecting google-auth-httplib2<0.3.0,>=0.2.0 (from llama-index-tools-google)\n",
      "  Using cached google_auth_httplib2-0.2.0-py2.py3-none-any.whl.metadata (2.2 kB)\n",
      "Collecting google-auth-oauthlib<2.0.0,>=1.2.0 (from llama-index-tools-google)\n",
      "  Using cached google_auth_oauthlib-1.2.1-py2.py3-none-any.whl.metadata (2.7 kB)\n",
      "INFO: pip is looking at multiple versions of llama-index-tools-google to determine which version is compatible with other requirements. This could take a while.\n",
      "Collecting llama-index-tools-google\n",
      "  Downloading llama_index_tools_google-0.2.0-py3-none-any.whl.metadata (896 bytes)\n",
      "  Downloading llama_index_tools_google-0.1.6-py3-none-any.whl.metadata (896 bytes)\n",
      "Requirement already satisfied: soupsieve>1.2 in /home/daimler/workspaces/agents-course-huggingface/.venv/lib/python3.12/site-packages (from beautifulsoup4<5.0.0,>=4.12.3->llama-index-tools-google) (2.6)\n",
      "Requirement already satisfied: typing-extensions>=4.0.0 in /home/daimler/workspaces/agents-course-huggingface/.venv/lib/python3.12/site-packages (from beautifulsoup4<5.0.0,>=4.12.3->llama-index-tools-google) (4.12.2)\n",
      "Collecting httplib2<1.dev0,>=0.19.0 (from google-api-python-client<3.0.0,>=2.115.0->llama-index-tools-google)\n",
      "  Using cached httplib2-0.22.0-py3-none-any.whl.metadata (2.6 kB)\n",
      "Requirement already satisfied: google-auth!=2.24.0,!=2.25.0,<3.0.0.dev0,>=1.32.0 in /home/daimler/workspaces/agents-course-huggingface/.venv/lib/python3.12/site-packages (from google-api-python-client<3.0.0,>=2.115.0->llama-index-tools-google) (2.38.0)\n",
      "Collecting google-api-core!=2.0.*,!=2.1.*,!=2.2.*,!=2.3.0,<3.0.0.dev0,>=1.31.5 (from google-api-python-client<3.0.0,>=2.115.0->llama-index-tools-google)\n",
      "  Using cached google_api_core-2.24.2-py3-none-any.whl.metadata (3.0 kB)\n",
      "Collecting uritemplate<5,>=3.0.1 (from google-api-python-client<3.0.0,>=2.115.0->llama-index-tools-google)\n",
      "  Using cached uritemplate-4.1.1-py2.py3-none-any.whl.metadata (2.9 kB)\n",
      "Requirement already satisfied: requests-oauthlib>=0.7.0 in /home/daimler/workspaces/agents-course-huggingface/.venv/lib/python3.12/site-packages (from google-auth-oauthlib<2.0.0,>=1.2.0->llama-index-tools-google) (2.0.0)\n",
      "Requirement already satisfied: openai>=1.14.0 in /home/daimler/workspaces/agents-course-huggingface/.venv/lib/python3.12/site-packages (from llama-index-agent-openai<0.3.0,>=0.1.4->llama-index==0.10.38) (1.65.5)\n",
      "Requirement already satisfied: PyYAML>=6.0.1 in /home/daimler/workspaces/agents-course-huggingface/.venv/lib/python3.12/site-packages (from llama-index-core<0.11.0,>=0.10.38->llama-index==0.10.38) (6.0.2)\n",
      "Requirement already satisfied: SQLAlchemy>=1.4.49 in /home/daimler/workspaces/agents-course-huggingface/.venv/lib/python3.12/site-packages (from SQLAlchemy[asyncio]>=1.4.49->llama-index-core<0.11.0,>=0.10.38->llama-index==0.10.38) (2.0.38)\n",
      "Requirement already satisfied: aiohttp<4.0.0,>=3.8.6 in /home/daimler/workspaces/agents-course-huggingface/.venv/lib/python3.12/site-packages (from llama-index-core<0.11.0,>=0.10.38->llama-index==0.10.38) (3.11.13)\n",
      "Requirement already satisfied: dataclasses-json in /home/daimler/workspaces/agents-course-huggingface/.venv/lib/python3.12/site-packages (from llama-index-core<0.11.0,>=0.10.38->llama-index==0.10.38) (0.6.7)\n",
      "Requirement already satisfied: deprecated>=1.2.9.3 in /home/daimler/workspaces/agents-course-huggingface/.venv/lib/python3.12/site-packages (from llama-index-core<0.11.0,>=0.10.38->llama-index==0.10.38) (1.2.18)\n",
      "Requirement already satisfied: dirtyjson<2.0.0,>=1.0.8 in /home/daimler/workspaces/agents-course-huggingface/.venv/lib/python3.12/site-packages (from llama-index-core<0.11.0,>=0.10.38->llama-index==0.10.38) (1.0.8)\n",
      "Requirement already satisfied: fsspec>=2023.5.0 in /home/daimler/workspaces/agents-course-huggingface/.venv/lib/python3.12/site-packages (from llama-index-core<0.11.0,>=0.10.38->llama-index==0.10.38) (2024.12.0)\n",
      "Requirement already satisfied: httpx in /home/daimler/workspaces/agents-course-huggingface/.venv/lib/python3.12/site-packages (from llama-index-core<0.11.0,>=0.10.38->llama-index==0.10.38) (0.28.1)\n",
      "Requirement already satisfied: nest-asyncio<2.0.0,>=1.5.8 in /home/daimler/workspaces/agents-course-huggingface/.venv/lib/python3.12/site-packages (from llama-index-core<0.11.0,>=0.10.38->llama-index==0.10.38) (1.6.0)\n",
      "Requirement already satisfied: networkx>=3.0 in /home/daimler/workspaces/agents-course-huggingface/.venv/lib/python3.12/site-packages (from llama-index-core<0.11.0,>=0.10.38->llama-index==0.10.38) (3.4.2)\n",
      "Requirement already satisfied: nltk!=3.9,>=3.8.1 in /home/daimler/workspaces/agents-course-huggingface/.venv/lib/python3.12/site-packages (from llama-index-core<0.11.0,>=0.10.38->llama-index==0.10.38) (3.9.1)\n",
      "Requirement already satisfied: numpy<2.0.0 in /home/daimler/workspaces/agents-course-huggingface/.venv/lib/python3.12/site-packages (from llama-index-core<0.11.0,>=0.10.38->llama-index==0.10.38) (1.26.4)\n",
      "Requirement already satisfied: pandas in /home/daimler/workspaces/agents-course-huggingface/.venv/lib/python3.12/site-packages (from llama-index-core<0.11.0,>=0.10.38->llama-index==0.10.38) (2.2.3)\n",
      "Requirement already satisfied: pillow>=9.0.0 in /home/daimler/workspaces/agents-course-huggingface/.venv/lib/python3.12/site-packages (from llama-index-core<0.11.0,>=0.10.38->llama-index==0.10.38) (11.1.0)\n",
      "Requirement already satisfied: pydantic<3.0 in /home/daimler/workspaces/agents-course-huggingface/.venv/lib/python3.12/site-packages (from llama-index-core<0.11.0,>=0.10.38->llama-index==0.10.38) (2.10.6)\n",
      "Requirement already satisfied: requests>=2.31.0 in /home/daimler/workspaces/agents-course-huggingface/.venv/lib/python3.12/site-packages (from llama-index-core<0.11.0,>=0.10.38->llama-index==0.10.38) (2.32.3)\n",
      "Requirement already satisfied: tenacity!=8.4.0,<9.0.0,>=8.2.0 in /home/daimler/workspaces/agents-course-huggingface/.venv/lib/python3.12/site-packages (from llama-index-core<0.11.0,>=0.10.38->llama-index==0.10.38) (8.5.0)\n",
      "Requirement already satisfied: tiktoken>=0.3.3 in /home/daimler/workspaces/agents-course-huggingface/.venv/lib/python3.12/site-packages (from llama-index-core<0.11.0,>=0.10.38->llama-index==0.10.38) (0.9.0)\n",
      "Requirement already satisfied: tqdm<5.0.0,>=4.66.1 in /home/daimler/workspaces/agents-course-huggingface/.venv/lib/python3.12/site-packages (from llama-index-core<0.11.0,>=0.10.38->llama-index==0.10.38) (4.67.1)\n",
      "Requirement already satisfied: typing-inspect>=0.8.0 in /home/daimler/workspaces/agents-course-huggingface/.venv/lib/python3.12/site-packages (from llama-index-core<0.11.0,>=0.10.38->llama-index==0.10.38) (0.9.0)\n",
      "Requirement already satisfied: wrapt in /home/daimler/workspaces/agents-course-huggingface/.venv/lib/python3.12/site-packages (from llama-index-core<0.11.0,>=0.10.38->llama-index==0.10.38) (1.17.2)\n",
      "Requirement already satisfied: llamaindex-py-client<0.2.0,>=0.1.19 in /home/daimler/workspaces/agents-course-huggingface/.venv/lib/python3.12/site-packages (from llama-index-indices-managed-llama-cloud<0.2.0,>=0.1.2->llama-index==0.10.38) (0.1.19)\n",
      "Requirement already satisfied: pypdf<5.0.0,>=4.0.1 in /home/daimler/workspaces/agents-course-huggingface/.venv/lib/python3.12/site-packages (from llama-index-readers-file<0.2.0,>=0.1.4->llama-index==0.10.38) (4.3.1)\n",
      "Requirement already satisfied: striprtf<0.0.27,>=0.0.26 in /home/daimler/workspaces/agents-course-huggingface/.venv/lib/python3.12/site-packages (from llama-index-readers-file<0.2.0,>=0.1.4->llama-index==0.10.38) (0.0.26)\n",
      "Requirement already satisfied: llama-parse>=0.4.0 in /home/daimler/workspaces/agents-course-huggingface/.venv/lib/python3.12/site-packages (from llama-index-readers-llama-parse<0.2.0,>=0.1.2->llama-index==0.10.38) (0.4.9)\n",
      "Requirement already satisfied: aiohappyeyeballs>=2.3.0 in /home/daimler/workspaces/agents-course-huggingface/.venv/lib/python3.12/site-packages (from aiohttp<4.0.0,>=3.8.6->llama-index-core<0.11.0,>=0.10.38->llama-index==0.10.38) (2.5.0)\n",
      "Requirement already satisfied: aiosignal>=1.1.2 in /home/daimler/workspaces/agents-course-huggingface/.venv/lib/python3.12/site-packages (from aiohttp<4.0.0,>=3.8.6->llama-index-core<0.11.0,>=0.10.38->llama-index==0.10.38) (1.3.2)\n",
      "Requirement already satisfied: attrs>=17.3.0 in /home/daimler/workspaces/agents-course-huggingface/.venv/lib/python3.12/site-packages (from aiohttp<4.0.0,>=3.8.6->llama-index-core<0.11.0,>=0.10.38->llama-index==0.10.38) (25.1.0)\n",
      "Requirement already satisfied: frozenlist>=1.1.1 in /home/daimler/workspaces/agents-course-huggingface/.venv/lib/python3.12/site-packages (from aiohttp<4.0.0,>=3.8.6->llama-index-core<0.11.0,>=0.10.38->llama-index==0.10.38) (1.5.0)\n",
      "Requirement already satisfied: multidict<7.0,>=4.5 in /home/daimler/workspaces/agents-course-huggingface/.venv/lib/python3.12/site-packages (from aiohttp<4.0.0,>=3.8.6->llama-index-core<0.11.0,>=0.10.38->llama-index==0.10.38) (6.1.0)\n",
      "Requirement already satisfied: propcache>=0.2.0 in /home/daimler/workspaces/agents-course-huggingface/.venv/lib/python3.12/site-packages (from aiohttp<4.0.0,>=3.8.6->llama-index-core<0.11.0,>=0.10.38->llama-index==0.10.38) (0.3.0)\n",
      "Requirement already satisfied: yarl<2.0,>=1.17.0 in /home/daimler/workspaces/agents-course-huggingface/.venv/lib/python3.12/site-packages (from aiohttp<4.0.0,>=3.8.6->llama-index-core<0.11.0,>=0.10.38->llama-index==0.10.38) (1.18.3)\n",
      "Requirement already satisfied: googleapis-common-protos<2.0.0,>=1.56.2 in /home/daimler/workspaces/agents-course-huggingface/.venv/lib/python3.12/site-packages (from google-api-core!=2.0.*,!=2.1.*,!=2.2.*,!=2.3.0,<3.0.0.dev0,>=1.31.5->google-api-python-client<3.0.0,>=2.115.0->llama-index-tools-google) (1.69.1)\n",
      "Requirement already satisfied: protobuf!=3.20.0,!=3.20.1,!=4.21.0,!=4.21.1,!=4.21.2,!=4.21.3,!=4.21.4,!=4.21.5,<7.0.0,>=3.19.5 in /home/daimler/workspaces/agents-course-huggingface/.venv/lib/python3.12/site-packages (from google-api-core!=2.0.*,!=2.1.*,!=2.2.*,!=2.3.0,<3.0.0.dev0,>=1.31.5->google-api-python-client<3.0.0,>=2.115.0->llama-index-tools-google) (5.29.3)\n",
      "Collecting proto-plus<2.0.0,>=1.22.3 (from google-api-core!=2.0.*,!=2.1.*,!=2.2.*,!=2.3.0,<3.0.0.dev0,>=1.31.5->google-api-python-client<3.0.0,>=2.115.0->llama-index-tools-google)\n",
      "  Using cached proto_plus-1.26.1-py3-none-any.whl.metadata (2.2 kB)\n",
      "Requirement already satisfied: cachetools<6.0,>=2.0.0 in /home/daimler/workspaces/agents-course-huggingface/.venv/lib/python3.12/site-packages (from google-auth!=2.24.0,!=2.25.0,<3.0.0.dev0,>=1.32.0->google-api-python-client<3.0.0,>=2.115.0->llama-index-tools-google) (5.5.2)\n",
      "Requirement already satisfied: pyasn1-modules>=0.2.1 in /home/daimler/workspaces/agents-course-huggingface/.venv/lib/python3.12/site-packages (from google-auth!=2.24.0,!=2.25.0,<3.0.0.dev0,>=1.32.0->google-api-python-client<3.0.0,>=2.115.0->llama-index-tools-google) (0.4.1)\n",
      "Requirement already satisfied: rsa<5,>=3.1.4 in /home/daimler/workspaces/agents-course-huggingface/.venv/lib/python3.12/site-packages (from google-auth!=2.24.0,!=2.25.0,<3.0.0.dev0,>=1.32.0->google-api-python-client<3.0.0,>=2.115.0->llama-index-tools-google) (4.9)\n",
      "Collecting pyparsing!=3.0.0,!=3.0.1,!=3.0.2,!=3.0.3,<4,>=2.4.2 (from httplib2<1.dev0,>=0.19.0->google-api-python-client<3.0.0,>=2.115.0->llama-index-tools-google)\n",
      "  Using cached pyparsing-3.2.1-py3-none-any.whl.metadata (5.0 kB)\n",
      "Requirement already satisfied: anyio in /home/daimler/workspaces/agents-course-huggingface/.venv/lib/python3.12/site-packages (from httpx->llama-index-core<0.11.0,>=0.10.38->llama-index==0.10.38) (4.8.0)\n",
      "Requirement already satisfied: certifi in /home/daimler/workspaces/agents-course-huggingface/.venv/lib/python3.12/site-packages (from httpx->llama-index-core<0.11.0,>=0.10.38->llama-index==0.10.38) (2025.1.31)\n",
      "Requirement already satisfied: httpcore==1.* in /home/daimler/workspaces/agents-course-huggingface/.venv/lib/python3.12/site-packages (from httpx->llama-index-core<0.11.0,>=0.10.38->llama-index==0.10.38) (1.0.7)\n",
      "Requirement already satisfied: idna in /home/daimler/workspaces/agents-course-huggingface/.venv/lib/python3.12/site-packages (from httpx->llama-index-core<0.11.0,>=0.10.38->llama-index==0.10.38) (3.10)\n",
      "Requirement already satisfied: h11<0.15,>=0.13 in /home/daimler/workspaces/agents-course-huggingface/.venv/lib/python3.12/site-packages (from httpcore==1.*->httpx->llama-index-core<0.11.0,>=0.10.38->llama-index==0.10.38) (0.14.0)\n",
      "Requirement already satisfied: click in /home/daimler/workspaces/agents-course-huggingface/.venv/lib/python3.12/site-packages (from nltk!=3.9,>=3.8.1->llama-index-core<0.11.0,>=0.10.38->llama-index==0.10.38) (8.1.8)\n",
      "Requirement already satisfied: joblib in /home/daimler/workspaces/agents-course-huggingface/.venv/lib/python3.12/site-packages (from nltk!=3.9,>=3.8.1->llama-index-core<0.11.0,>=0.10.38->llama-index==0.10.38) (1.4.2)\n",
      "Requirement already satisfied: regex>=2021.8.3 in /home/daimler/workspaces/agents-course-huggingface/.venv/lib/python3.12/site-packages (from nltk!=3.9,>=3.8.1->llama-index-core<0.11.0,>=0.10.38->llama-index==0.10.38) (2024.11.6)\n",
      "Requirement already satisfied: distro<2,>=1.7.0 in /home/daimler/workspaces/agents-course-huggingface/.venv/lib/python3.12/site-packages (from openai>=1.14.0->llama-index-agent-openai<0.3.0,>=0.1.4->llama-index==0.10.38) (1.9.0)\n",
      "Requirement already satisfied: jiter<1,>=0.4.0 in /home/daimler/workspaces/agents-course-huggingface/.venv/lib/python3.12/site-packages (from openai>=1.14.0->llama-index-agent-openai<0.3.0,>=0.1.4->llama-index==0.10.38) (0.8.2)\n",
      "Requirement already satisfied: sniffio in /home/daimler/workspaces/agents-course-huggingface/.venv/lib/python3.12/site-packages (from openai>=1.14.0->llama-index-agent-openai<0.3.0,>=0.1.4->llama-index==0.10.38) (1.3.1)\n",
      "Requirement already satisfied: annotated-types>=0.6.0 in /home/daimler/workspaces/agents-course-huggingface/.venv/lib/python3.12/site-packages (from pydantic<3.0->llama-index-core<0.11.0,>=0.10.38->llama-index==0.10.38) (0.7.0)\n",
      "Requirement already satisfied: pydantic-core==2.27.2 in /home/daimler/workspaces/agents-course-huggingface/.venv/lib/python3.12/site-packages (from pydantic<3.0->llama-index-core<0.11.0,>=0.10.38->llama-index==0.10.38) (2.27.2)\n",
      "Requirement already satisfied: charset-normalizer<4,>=2 in /home/daimler/workspaces/agents-course-huggingface/.venv/lib/python3.12/site-packages (from requests>=2.31.0->llama-index-core<0.11.0,>=0.10.38->llama-index==0.10.38) (3.4.1)\n",
      "Requirement already satisfied: urllib3<3,>=1.21.1 in /home/daimler/workspaces/agents-course-huggingface/.venv/lib/python3.12/site-packages (from requests>=2.31.0->llama-index-core<0.11.0,>=0.10.38->llama-index==0.10.38) (2.3.0)\n",
      "Requirement already satisfied: oauthlib>=3.0.0 in /home/daimler/workspaces/agents-course-huggingface/.venv/lib/python3.12/site-packages (from requests-oauthlib>=0.7.0->google-auth-oauthlib<2.0.0,>=1.2.0->llama-index-tools-google) (3.2.2)\n",
      "Requirement already satisfied: greenlet!=0.4.17 in /home/daimler/workspaces/agents-course-huggingface/.venv/lib/python3.12/site-packages (from SQLAlchemy>=1.4.49->SQLAlchemy[asyncio]>=1.4.49->llama-index-core<0.11.0,>=0.10.38->llama-index==0.10.38) (3.1.1)\n",
      "Requirement already satisfied: mypy-extensions>=0.3.0 in /home/daimler/workspaces/agents-course-huggingface/.venv/lib/python3.12/site-packages (from typing-inspect>=0.8.0->llama-index-core<0.11.0,>=0.10.38->llama-index==0.10.38) (1.0.0)\n",
      "Requirement already satisfied: marshmallow<4.0.0,>=3.18.0 in /home/daimler/workspaces/agents-course-huggingface/.venv/lib/python3.12/site-packages (from dataclasses-json->llama-index-core<0.11.0,>=0.10.38->llama-index==0.10.38) (3.26.1)\n",
      "Requirement already satisfied: python-dateutil>=2.8.2 in /home/daimler/workspaces/agents-course-huggingface/.venv/lib/python3.12/site-packages (from pandas->llama-index-core<0.11.0,>=0.10.38->llama-index==0.10.38) (2.9.0.post0)\n",
      "Requirement already satisfied: pytz>=2020.1 in /home/daimler/workspaces/agents-course-huggingface/.venv/lib/python3.12/site-packages (from pandas->llama-index-core<0.11.0,>=0.10.38->llama-index==0.10.38) (2025.1)\n",
      "Requirement already satisfied: tzdata>=2022.7 in /home/daimler/workspaces/agents-course-huggingface/.venv/lib/python3.12/site-packages (from pandas->llama-index-core<0.11.0,>=0.10.38->llama-index==0.10.38) (2025.1)\n",
      "Requirement already satisfied: packaging>=17.0 in /home/daimler/workspaces/agents-course-huggingface/.venv/lib/python3.12/site-packages (from marshmallow<4.0.0,>=3.18.0->dataclasses-json->llama-index-core<0.11.0,>=0.10.38->llama-index==0.10.38) (24.2)\n",
      "Requirement already satisfied: pyasn1<0.7.0,>=0.4.6 in /home/daimler/workspaces/agents-course-huggingface/.venv/lib/python3.12/site-packages (from pyasn1-modules>=0.2.1->google-auth!=2.24.0,!=2.25.0,<3.0.0.dev0,>=1.32.0->google-api-python-client<3.0.0,>=2.115.0->llama-index-tools-google) (0.6.1)\n",
      "Requirement already satisfied: six>=1.5 in /home/daimler/workspaces/agents-course-huggingface/.venv/lib/python3.12/site-packages (from python-dateutil>=2.8.2->pandas->llama-index-core<0.11.0,>=0.10.38->llama-index==0.10.38) (1.17.0)\n",
      "Downloading llama_index_tools_google-0.1.6-py3-none-any.whl (8.2 kB)\n",
      "Using cached google_api_python_client-2.163.0-py2.py3-none-any.whl (13.1 MB)\n",
      "Using cached google_auth_httplib2-0.2.0-py2.py3-none-any.whl (9.3 kB)\n",
      "Using cached google_auth_oauthlib-1.2.1-py2.py3-none-any.whl (24 kB)\n",
      "Using cached google_api_core-2.24.2-py3-none-any.whl (160 kB)\n",
      "Using cached httplib2-0.22.0-py3-none-any.whl (96 kB)\n",
      "Using cached uritemplate-4.1.1-py2.py3-none-any.whl (10 kB)\n",
      "Using cached proto_plus-1.26.1-py3-none-any.whl (50 kB)\n",
      "Using cached pyparsing-3.2.1-py3-none-any.whl (107 kB)\n",
      "Installing collected packages: uritemplate, pyparsing, proto-plus, httplib2, google-auth-oauthlib, google-auth-httplib2, google-api-core, google-api-python-client, llama-index-tools-google\n",
      "Successfully installed google-api-core-2.24.2 google-api-python-client-2.163.0 google-auth-httplib2-0.2.0 google-auth-oauthlib-1.2.1 httplib2-0.22.0 llama-index-tools-google-0.1.6 proto-plus-1.26.1 pyparsing-3.2.1 uritemplate-4.1.1\n",
      "Note: you may need to restart the kernel to use updated packages.\n"
     ]
    }
   ],
   "source": [
    "pip install llama-index==0.10.38 llama-index-tools-google -U\n"
   ]
  },
  {
   "cell_type": "code",
   "execution_count": 16,
   "metadata": {},
   "outputs": [
    {
     "data": {
      "text/plain": [
       "[<llama_index.core.tools.function_tool.FunctionTool at 0x7583c57513d0>,\n",
       " <llama_index.core.tools.function_tool.FunctionTool at 0x7583c45260c0>,\n",
       " <llama_index.core.tools.function_tool.FunctionTool at 0x7583c57522d0>,\n",
       " <llama_index.core.tools.function_tool.FunctionTool at 0x7583c4929f70>,\n",
       " <llama_index.core.tools.function_tool.FunctionTool at 0x7583c4929820>,\n",
       " <llama_index.core.tools.function_tool.FunctionTool at 0x7583c4d803b0>]"
      ]
     },
     "execution_count": 16,
     "metadata": {},
     "output_type": "execute_result"
    }
   ],
   "source": [
    "\n",
    "from llama_index.tools.google import GmailToolSpec\n",
    "\n",
    "tool_spec = GmailToolSpec()\n",
    "tool_spec_list = tool_spec.to_tool_list()\n",
    "tool_spec_list"
   ]
  },
  {
   "cell_type": "markdown",
   "metadata": {
    "id": "Zo27cMgaGo4-"
   },
   "source": [
    "To get a more detailed view of the tools, we can take a look at the `metadata` of each tool."
   ]
  },
  {
   "cell_type": "code",
   "execution_count": 20,
   "metadata": {
    "id": "6zt5Yw0BGo4_",
    "outputId": "ffa6b2b0-e130-4377-883b-e5d6c2f5c52d"
   },
   "outputs": [
    {
     "data": {
      "text/plain": [
       "[('load_data',\n",
       "  \"load_data() -> List[llama_index.core.schema.Document]\\nLoad emails from the user's account.\"),\n",
       " ('search_messages',\n",
       "  \"search_messages(query: str, max_results: Optional[int] = None)\\nSearches email messages given a query string and the maximum number\\n        of results requested by the user\\n           Returns: List of relevant message objects up to the maximum number of results.\\n\\n        Args:\\n            query[str]: The user's query\\n            max_results (Optional[int]): The maximum number of search results\\n            to return.\\n        \"),\n",
       " ('create_draft',\n",
       "  \"create_draft(to: Optional[List[str]] = None, subject: Optional[str] = None, message: Optional[str] = None) -> str\\nCreate and insert a draft email.\\n           Print the returned draft's message and id.\\n           Returns: Draft object, including draft id and message meta data.\\n\\n        Args:\\n            to (Optional[str]): The email addresses to send the message to\\n            subject (Optional[str]): The subject for the event\\n            message (Optional[str]): The message for the event\\n        \"),\n",
       " ('update_draft',\n",
       "  \"update_draft(to: Optional[List[str]] = None, subject: Optional[str] = None, message: Optional[str] = None, draft_id: str = None) -> str\\nUpdate a draft email.\\n           Print the returned draft's message and id.\\n           This function is required to be passed a draft_id that is obtained when creating messages\\n           Returns: Draft object, including draft id and message meta data.\\n\\n        Args:\\n            to (Optional[str]): The email addresses to send the message to\\n            subject (Optional[str]): The subject for the event\\n            message (Optional[str]): The message for the event\\n            draft_id (str): the id of the draft to be updated\\n        \"),\n",
       " ('get_draft',\n",
       "  \"get_draft(draft_id: str = None) -> str\\nGet a draft email.\\n           Print the returned draft's message and id.\\n           Returns: Draft object, including draft id and message meta data.\\n\\n        Args:\\n            draft_id (str): the id of the draft to be updated\\n        \"),\n",
       " ('send_draft',\n",
       "  \"send_draft(draft_id: str = None) -> str\\nSends a draft email.\\n           Print the returned draft's message and id.\\n           Returns: Draft object, including draft id and message meta data.\\n\\n        Args:\\n            draft_id (str): the id of the draft to be updated\\n        \")]"
      ]
     },
     "execution_count": 20,
     "metadata": {},
     "output_type": "execute_result"
    }
   ],
   "source": [
    "[(tool.metadata.name, tool.metadata.description) for tool in tool_spec_list]"
   ]
  }
 ],
 "metadata": {
  "colab": {
   "provenance": [
    {
     "file_id": "https://huggingface.co/agents-course/notebooks/blob/main/unit2/llama-index/tools.ipynb",
     "timestamp": 1741778759471
    }
   ]
  },
  "kernelspec": {
   "display_name": ".venv",
   "language": "python",
   "name": "python3"
  },
  "language_info": {
   "codemirror_mode": {
    "name": "ipython",
    "version": 3
   },
   "file_extension": ".py",
   "mimetype": "text/x-python",
   "name": "python",
   "nbconvert_exporter": "python",
   "pygments_lexer": "ipython3",
   "version": "3.11.11"
  }
 },
 "nbformat": 4,
 "nbformat_minor": 0
}
