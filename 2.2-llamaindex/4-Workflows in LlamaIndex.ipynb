{
 "cells": [
  {
   "cell_type": "markdown",
   "metadata": {},
   "source": [
    "# Workflows in LlamaIndex\n",
    "\n",
    "\n",
    "This notebook is part of the [Hugging Face Agents Course](https://www.hf.co/learn/agents-course), a free Course from beginner to expert, where you learn to build Agents.\n",
    "\n",
    "![Agents course share](https://huggingface.co/datasets/agents-course/course-images/resolve/main/en/communication/share.png)\n",
    "\n",
    "## Let's install the dependencies\n",
    "\n",
    "We will install the dependencies for this unit."
   ]
  },
  {
   "cell_type": "code",
   "execution_count": 2,
   "metadata": {},
   "outputs": [
    {
     "name": "stdout",
     "output_type": "stream",
     "text": [
      "Requirement already satisfied: llama-index in /home/daimler/workspaces/agents-course-huggingface/.venv/lib/python3.11/site-packages (0.12.23)\n",
      "Requirement already satisfied: datasets in /home/daimler/workspaces/agents-course-huggingface/.venv/lib/python3.11/site-packages (3.3.2)\n",
      "Requirement already satisfied: llama-index-callbacks-arize-phoenix in /home/daimler/workspaces/agents-course-huggingface/.venv/lib/python3.11/site-packages (0.4.0)\n",
      "Requirement already satisfied: llama-index-vector-stores-chroma in /home/daimler/workspaces/agents-course-huggingface/.venv/lib/python3.11/site-packages (0.4.1)\n",
      "Requirement already satisfied: llama-index-utils-workflow in /home/daimler/workspaces/agents-course-huggingface/.venv/lib/python3.11/site-packages (0.3.0)\n",
      "Requirement already satisfied: llama-index-llms-huggingface-api in /home/daimler/workspaces/agents-course-huggingface/.venv/lib/python3.11/site-packages (0.4.1)\n",
      "Requirement already satisfied: pyvis in /home/daimler/workspaces/agents-course-huggingface/.venv/lib/python3.11/site-packages (0.3.2)\n",
      "Requirement already satisfied: llama-index-agent-openai<0.5.0,>=0.4.0 in /home/daimler/workspaces/agents-course-huggingface/.venv/lib/python3.11/site-packages (from llama-index) (0.4.6)\n",
      "Requirement already satisfied: llama-index-cli<0.5.0,>=0.4.1 in /home/daimler/workspaces/agents-course-huggingface/.venv/lib/python3.11/site-packages (from llama-index) (0.4.1)\n",
      "Requirement already satisfied: llama-index-core<0.13.0,>=0.12.23 in /home/daimler/workspaces/agents-course-huggingface/.venv/lib/python3.11/site-packages (from llama-index) (0.12.23.post2)\n",
      "Requirement already satisfied: llama-index-embeddings-openai<0.4.0,>=0.3.0 in /home/daimler/workspaces/agents-course-huggingface/.venv/lib/python3.11/site-packages (from llama-index) (0.3.1)\n",
      "Requirement already satisfied: llama-index-indices-managed-llama-cloud>=0.4.0 in /home/daimler/workspaces/agents-course-huggingface/.venv/lib/python3.11/site-packages (from llama-index) (0.6.8)\n",
      "Requirement already satisfied: llama-index-llms-openai<0.4.0,>=0.3.0 in /home/daimler/workspaces/agents-course-huggingface/.venv/lib/python3.11/site-packages (from llama-index) (0.3.25)\n",
      "Requirement already satisfied: llama-index-multi-modal-llms-openai<0.5.0,>=0.4.0 in /home/daimler/workspaces/agents-course-huggingface/.venv/lib/python3.11/site-packages (from llama-index) (0.4.3)\n",
      "Requirement already satisfied: llama-index-program-openai<0.4.0,>=0.3.0 in /home/daimler/workspaces/agents-course-huggingface/.venv/lib/python3.11/site-packages (from llama-index) (0.3.1)\n",
      "Requirement already satisfied: llama-index-question-gen-openai<0.4.0,>=0.3.0 in /home/daimler/workspaces/agents-course-huggingface/.venv/lib/python3.11/site-packages (from llama-index) (0.3.0)\n",
      "Requirement already satisfied: llama-index-readers-file<0.5.0,>=0.4.0 in /home/daimler/workspaces/agents-course-huggingface/.venv/lib/python3.11/site-packages (from llama-index) (0.4.6)\n",
      "Requirement already satisfied: llama-index-readers-llama-parse>=0.4.0 in /home/daimler/workspaces/agents-course-huggingface/.venv/lib/python3.11/site-packages (from llama-index) (0.4.0)\n",
      "Requirement already satisfied: nltk>3.8.1 in /home/daimler/workspaces/agents-course-huggingface/.venv/lib/python3.11/site-packages (from llama-index) (3.9.1)\n",
      "Requirement already satisfied: filelock in /home/daimler/workspaces/agents-course-huggingface/.venv/lib/python3.11/site-packages (from datasets) (3.17.0)\n",
      "Requirement already satisfied: numpy>=1.17 in /home/daimler/workspaces/agents-course-huggingface/.venv/lib/python3.11/site-packages (from datasets) (2.2.3)\n",
      "Requirement already satisfied: pyarrow>=15.0.0 in /home/daimler/workspaces/agents-course-huggingface/.venv/lib/python3.11/site-packages (from datasets) (19.0.1)\n",
      "Requirement already satisfied: dill<0.3.9,>=0.3.0 in /home/daimler/workspaces/agents-course-huggingface/.venv/lib/python3.11/site-packages (from datasets) (0.3.8)\n",
      "Requirement already satisfied: pandas in /home/daimler/workspaces/agents-course-huggingface/.venv/lib/python3.11/site-packages (from datasets) (2.2.3)\n",
      "Requirement already satisfied: requests>=2.32.2 in /home/daimler/workspaces/agents-course-huggingface/.venv/lib/python3.11/site-packages (from datasets) (2.32.3)\n",
      "Requirement already satisfied: tqdm>=4.66.3 in /home/daimler/workspaces/agents-course-huggingface/.venv/lib/python3.11/site-packages (from datasets) (4.67.1)\n",
      "Requirement already satisfied: xxhash in /home/daimler/workspaces/agents-course-huggingface/.venv/lib/python3.11/site-packages (from datasets) (3.5.0)\n",
      "Requirement already satisfied: multiprocess<0.70.17 in /home/daimler/workspaces/agents-course-huggingface/.venv/lib/python3.11/site-packages (from datasets) (0.70.16)\n",
      "Requirement already satisfied: fsspec<=2024.12.0,>=2023.1.0 in /home/daimler/workspaces/agents-course-huggingface/.venv/lib/python3.11/site-packages (from fsspec[http]<=2024.12.0,>=2023.1.0->datasets) (2024.12.0)\n",
      "Requirement already satisfied: aiohttp in /home/daimler/workspaces/agents-course-huggingface/.venv/lib/python3.11/site-packages (from datasets) (3.11.13)\n",
      "Requirement already satisfied: huggingface-hub>=0.24.0 in /home/daimler/workspaces/agents-course-huggingface/.venv/lib/python3.11/site-packages (from datasets) (0.29.3)\n",
      "Requirement already satisfied: packaging in /home/daimler/workspaces/agents-course-huggingface/.venv/lib/python3.11/site-packages (from datasets) (24.2)\n",
      "Requirement already satisfied: pyyaml>=5.1 in /home/daimler/workspaces/agents-course-huggingface/.venv/lib/python3.11/site-packages (from datasets) (6.0.2)\n",
      "Requirement already satisfied: openinference-instrumentation-llama-index>=3.0.0 in /home/daimler/workspaces/agents-course-huggingface/.venv/lib/python3.11/site-packages (from llama-index-callbacks-arize-phoenix) (3.3.1)\n",
      "Requirement already satisfied: chromadb>=0.5.17 in /home/daimler/workspaces/agents-course-huggingface/.venv/lib/python3.11/site-packages (from llama-index-vector-stores-chroma) (0.6.3)\n",
      "Requirement already satisfied: ipython>=5.3.0 in /home/daimler/workspaces/agents-course-huggingface/.venv/lib/python3.11/site-packages (from pyvis) (9.0.2)\n",
      "Requirement already satisfied: jinja2>=2.9.6 in /home/daimler/workspaces/agents-course-huggingface/.venv/lib/python3.11/site-packages (from pyvis) (3.1.6)\n",
      "Requirement already satisfied: jsonpickle>=1.4.1 in /home/daimler/workspaces/agents-course-huggingface/.venv/lib/python3.11/site-packages (from pyvis) (4.0.2)\n",
      "Requirement already satisfied: networkx>=1.11 in /home/daimler/workspaces/agents-course-huggingface/.venv/lib/python3.11/site-packages (from pyvis) (3.4.2)\n",
      "Requirement already satisfied: build>=1.0.3 in /home/daimler/workspaces/agents-course-huggingface/.venv/lib/python3.11/site-packages (from chromadb>=0.5.17->llama-index-vector-stores-chroma) (1.2.2.post1)\n",
      "Requirement already satisfied: pydantic>=1.9 in /home/daimler/workspaces/agents-course-huggingface/.venv/lib/python3.11/site-packages (from chromadb>=0.5.17->llama-index-vector-stores-chroma) (2.10.6)\n",
      "Requirement already satisfied: chroma-hnswlib==0.7.6 in /home/daimler/workspaces/agents-course-huggingface/.venv/lib/python3.11/site-packages (from chromadb>=0.5.17->llama-index-vector-stores-chroma) (0.7.6)\n",
      "Requirement already satisfied: fastapi>=0.95.2 in /home/daimler/workspaces/agents-course-huggingface/.venv/lib/python3.11/site-packages (from chromadb>=0.5.17->llama-index-vector-stores-chroma) (0.115.11)\n",
      "Requirement already satisfied: uvicorn>=0.18.3 in /home/daimler/workspaces/agents-course-huggingface/.venv/lib/python3.11/site-packages (from uvicorn[standard]>=0.18.3->chromadb>=0.5.17->llama-index-vector-stores-chroma) (0.34.0)\n",
      "Requirement already satisfied: posthog>=2.4.0 in /home/daimler/workspaces/agents-course-huggingface/.venv/lib/python3.11/site-packages (from chromadb>=0.5.17->llama-index-vector-stores-chroma) (3.19.1)\n",
      "Requirement already satisfied: typing_extensions>=4.5.0 in /home/daimler/workspaces/agents-course-huggingface/.venv/lib/python3.11/site-packages (from chromadb>=0.5.17->llama-index-vector-stores-chroma) (4.12.2)\n",
      "Requirement already satisfied: onnxruntime>=1.14.1 in /home/daimler/workspaces/agents-course-huggingface/.venv/lib/python3.11/site-packages (from chromadb>=0.5.17->llama-index-vector-stores-chroma) (1.21.0)\n",
      "Requirement already satisfied: opentelemetry-api>=1.2.0 in /home/daimler/workspaces/agents-course-huggingface/.venv/lib/python3.11/site-packages (from chromadb>=0.5.17->llama-index-vector-stores-chroma) (1.31.0)\n",
      "Requirement already satisfied: opentelemetry-exporter-otlp-proto-grpc>=1.2.0 in /home/daimler/workspaces/agents-course-huggingface/.venv/lib/python3.11/site-packages (from chromadb>=0.5.17->llama-index-vector-stores-chroma) (1.31.0)\n",
      "Requirement already satisfied: opentelemetry-instrumentation-fastapi>=0.41b0 in /home/daimler/workspaces/agents-course-huggingface/.venv/lib/python3.11/site-packages (from chromadb>=0.5.17->llama-index-vector-stores-chroma) (0.52b0)\n",
      "Requirement already satisfied: opentelemetry-sdk>=1.2.0 in /home/daimler/workspaces/agents-course-huggingface/.venv/lib/python3.11/site-packages (from chromadb>=0.5.17->llama-index-vector-stores-chroma) (1.31.0)\n",
      "Requirement already satisfied: tokenizers>=0.13.2 in /home/daimler/workspaces/agents-course-huggingface/.venv/lib/python3.11/site-packages (from chromadb>=0.5.17->llama-index-vector-stores-chroma) (0.21.1)\n",
      "Requirement already satisfied: pypika>=0.48.9 in /home/daimler/workspaces/agents-course-huggingface/.venv/lib/python3.11/site-packages (from chromadb>=0.5.17->llama-index-vector-stores-chroma) (0.48.9)\n",
      "Requirement already satisfied: overrides>=7.3.1 in /home/daimler/workspaces/agents-course-huggingface/.venv/lib/python3.11/site-packages (from chromadb>=0.5.17->llama-index-vector-stores-chroma) (7.7.0)\n",
      "Requirement already satisfied: importlib-resources in /home/daimler/workspaces/agents-course-huggingface/.venv/lib/python3.11/site-packages (from chromadb>=0.5.17->llama-index-vector-stores-chroma) (6.5.2)\n",
      "Requirement already satisfied: grpcio>=1.58.0 in /home/daimler/workspaces/agents-course-huggingface/.venv/lib/python3.11/site-packages (from chromadb>=0.5.17->llama-index-vector-stores-chroma) (1.71.0)\n",
      "Requirement already satisfied: bcrypt>=4.0.1 in /home/daimler/workspaces/agents-course-huggingface/.venv/lib/python3.11/site-packages (from chromadb>=0.5.17->llama-index-vector-stores-chroma) (4.3.0)\n",
      "Requirement already satisfied: typer>=0.9.0 in /home/daimler/workspaces/agents-course-huggingface/.venv/lib/python3.11/site-packages (from chromadb>=0.5.17->llama-index-vector-stores-chroma) (0.15.2)\n",
      "Requirement already satisfied: kubernetes>=28.1.0 in /home/daimler/workspaces/agents-course-huggingface/.venv/lib/python3.11/site-packages (from chromadb>=0.5.17->llama-index-vector-stores-chroma) (32.0.1)\n",
      "Requirement already satisfied: tenacity>=8.2.3 in /home/daimler/workspaces/agents-course-huggingface/.venv/lib/python3.11/site-packages (from chromadb>=0.5.17->llama-index-vector-stores-chroma) (9.0.0)\n",
      "Requirement already satisfied: mmh3>=4.0.1 in /home/daimler/workspaces/agents-course-huggingface/.venv/lib/python3.11/site-packages (from chromadb>=0.5.17->llama-index-vector-stores-chroma) (5.1.0)\n",
      "Requirement already satisfied: orjson>=3.9.12 in /home/daimler/workspaces/agents-course-huggingface/.venv/lib/python3.11/site-packages (from chromadb>=0.5.17->llama-index-vector-stores-chroma) (3.10.15)\n",
      "Requirement already satisfied: httpx>=0.27.0 in /home/daimler/workspaces/agents-course-huggingface/.venv/lib/python3.11/site-packages (from chromadb>=0.5.17->llama-index-vector-stores-chroma) (0.28.1)\n",
      "Requirement already satisfied: rich>=10.11.0 in /home/daimler/workspaces/agents-course-huggingface/.venv/lib/python3.11/site-packages (from chromadb>=0.5.17->llama-index-vector-stores-chroma) (13.9.4)\n",
      "Requirement already satisfied: aiohappyeyeballs>=2.3.0 in /home/daimler/workspaces/agents-course-huggingface/.venv/lib/python3.11/site-packages (from aiohttp->datasets) (2.6.1)\n",
      "Requirement already satisfied: aiosignal>=1.1.2 in /home/daimler/workspaces/agents-course-huggingface/.venv/lib/python3.11/site-packages (from aiohttp->datasets) (1.3.2)\n",
      "Requirement already satisfied: attrs>=17.3.0 in /home/daimler/workspaces/agents-course-huggingface/.venv/lib/python3.11/site-packages (from aiohttp->datasets) (25.3.0)\n",
      "Requirement already satisfied: frozenlist>=1.1.1 in /home/daimler/workspaces/agents-course-huggingface/.venv/lib/python3.11/site-packages (from aiohttp->datasets) (1.5.0)\n",
      "Requirement already satisfied: multidict<7.0,>=4.5 in /home/daimler/workspaces/agents-course-huggingface/.venv/lib/python3.11/site-packages (from aiohttp->datasets) (6.1.0)\n",
      "Requirement already satisfied: propcache>=0.2.0 in /home/daimler/workspaces/agents-course-huggingface/.venv/lib/python3.11/site-packages (from aiohttp->datasets) (0.3.0)\n",
      "Requirement already satisfied: yarl<2.0,>=1.17.0 in /home/daimler/workspaces/agents-course-huggingface/.venv/lib/python3.11/site-packages (from aiohttp->datasets) (1.18.3)\n",
      "Requirement already satisfied: decorator in /home/daimler/workspaces/agents-course-huggingface/.venv/lib/python3.11/site-packages (from ipython>=5.3.0->pyvis) (5.2.1)\n",
      "Requirement already satisfied: ipython-pygments-lexers in /home/daimler/workspaces/agents-course-huggingface/.venv/lib/python3.11/site-packages (from ipython>=5.3.0->pyvis) (1.1.1)\n",
      "Requirement already satisfied: jedi>=0.16 in /home/daimler/workspaces/agents-course-huggingface/.venv/lib/python3.11/site-packages (from ipython>=5.3.0->pyvis) (0.19.2)\n",
      "Requirement already satisfied: matplotlib-inline in /home/daimler/workspaces/agents-course-huggingface/.venv/lib/python3.11/site-packages (from ipython>=5.3.0->pyvis) (0.1.7)\n",
      "Requirement already satisfied: pexpect>4.3 in /home/daimler/workspaces/agents-course-huggingface/.venv/lib/python3.11/site-packages (from ipython>=5.3.0->pyvis) (4.9.0)\n",
      "Requirement already satisfied: prompt_toolkit<3.1.0,>=3.0.41 in /home/daimler/workspaces/agents-course-huggingface/.venv/lib/python3.11/site-packages (from ipython>=5.3.0->pyvis) (3.0.50)\n",
      "Requirement already satisfied: pygments>=2.4.0 in /home/daimler/workspaces/agents-course-huggingface/.venv/lib/python3.11/site-packages (from ipython>=5.3.0->pyvis) (2.19.1)\n",
      "Requirement already satisfied: stack_data in /home/daimler/workspaces/agents-course-huggingface/.venv/lib/python3.11/site-packages (from ipython>=5.3.0->pyvis) (0.6.3)\n",
      "Requirement already satisfied: traitlets>=5.13.0 in /home/daimler/workspaces/agents-course-huggingface/.venv/lib/python3.11/site-packages (from ipython>=5.3.0->pyvis) (5.14.3)\n",
      "Requirement already satisfied: MarkupSafe>=2.0 in /home/daimler/workspaces/agents-course-huggingface/.venv/lib/python3.11/site-packages (from jinja2>=2.9.6->pyvis) (3.0.2)\n",
      "Requirement already satisfied: openai>=1.14.0 in /home/daimler/workspaces/agents-course-huggingface/.venv/lib/python3.11/site-packages (from llama-index-agent-openai<0.5.0,>=0.4.0->llama-index) (1.66.3)\n",
      "Requirement already satisfied: SQLAlchemy>=1.4.49 in /home/daimler/workspaces/agents-course-huggingface/.venv/lib/python3.11/site-packages (from SQLAlchemy[asyncio]>=1.4.49->llama-index-core<0.13.0,>=0.12.23->llama-index) (2.0.39)\n",
      "Requirement already satisfied: dataclasses-json in /home/daimler/workspaces/agents-course-huggingface/.venv/lib/python3.11/site-packages (from llama-index-core<0.13.0,>=0.12.23->llama-index) (0.6.7)\n",
      "Requirement already satisfied: deprecated>=1.2.9.3 in /home/daimler/workspaces/agents-course-huggingface/.venv/lib/python3.11/site-packages (from llama-index-core<0.13.0,>=0.12.23->llama-index) (1.2.18)\n",
      "Requirement already satisfied: dirtyjson<2.0.0,>=1.0.8 in /home/daimler/workspaces/agents-course-huggingface/.venv/lib/python3.11/site-packages (from llama-index-core<0.13.0,>=0.12.23->llama-index) (1.0.8)\n",
      "Requirement already satisfied: filetype<2.0.0,>=1.2.0 in /home/daimler/workspaces/agents-course-huggingface/.venv/lib/python3.11/site-packages (from llama-index-core<0.13.0,>=0.12.23->llama-index) (1.2.0)\n",
      "Requirement already satisfied: nest-asyncio<2.0.0,>=1.5.8 in /home/daimler/workspaces/agents-course-huggingface/.venv/lib/python3.11/site-packages (from llama-index-core<0.13.0,>=0.12.23->llama-index) (1.6.0)\n",
      "Requirement already satisfied: pillow>=9.0.0 in /home/daimler/workspaces/agents-course-huggingface/.venv/lib/python3.11/site-packages (from llama-index-core<0.13.0,>=0.12.23->llama-index) (11.1.0)\n",
      "Requirement already satisfied: tiktoken>=0.3.3 in /home/daimler/workspaces/agents-course-huggingface/.venv/lib/python3.11/site-packages (from llama-index-core<0.13.0,>=0.12.23->llama-index) (0.9.0)\n",
      "Requirement already satisfied: typing-inspect>=0.8.0 in /home/daimler/workspaces/agents-course-huggingface/.venv/lib/python3.11/site-packages (from llama-index-core<0.13.0,>=0.12.23->llama-index) (0.9.0)\n",
      "Requirement already satisfied: wrapt in /home/daimler/workspaces/agents-course-huggingface/.venv/lib/python3.11/site-packages (from llama-index-core<0.13.0,>=0.12.23->llama-index) (1.17.2)\n",
      "Requirement already satisfied: llama-cloud<0.2.0,>=0.1.13 in /home/daimler/workspaces/agents-course-huggingface/.venv/lib/python3.11/site-packages (from llama-index-indices-managed-llama-cloud>=0.4.0->llama-index) (0.1.14)\n",
      "Requirement already satisfied: beautifulsoup4<5.0.0,>=4.12.3 in /home/daimler/workspaces/agents-course-huggingface/.venv/lib/python3.11/site-packages (from llama-index-readers-file<0.5.0,>=0.4.0->llama-index) (4.13.3)\n",
      "Requirement already satisfied: pypdf<6.0.0,>=5.1.0 in /home/daimler/workspaces/agents-course-huggingface/.venv/lib/python3.11/site-packages (from llama-index-readers-file<0.5.0,>=0.4.0->llama-index) (5.3.1)\n",
      "Requirement already satisfied: striprtf<0.0.27,>=0.0.26 in /home/daimler/workspaces/agents-course-huggingface/.venv/lib/python3.11/site-packages (from llama-index-readers-file<0.5.0,>=0.4.0->llama-index) (0.0.26)\n",
      "Requirement already satisfied: llama-parse>=0.5.0 in /home/daimler/workspaces/agents-course-huggingface/.venv/lib/python3.11/site-packages (from llama-index-readers-llama-parse>=0.4.0->llama-index) (0.6.4.post1)\n",
      "Requirement already satisfied: click in /home/daimler/workspaces/agents-course-huggingface/.venv/lib/python3.11/site-packages (from nltk>3.8.1->llama-index) (8.1.8)\n",
      "Requirement already satisfied: joblib in /home/daimler/workspaces/agents-course-huggingface/.venv/lib/python3.11/site-packages (from nltk>3.8.1->llama-index) (1.4.2)\n",
      "Requirement already satisfied: regex>=2021.8.3 in /home/daimler/workspaces/agents-course-huggingface/.venv/lib/python3.11/site-packages (from nltk>3.8.1->llama-index) (2024.11.6)\n",
      "Requirement already satisfied: openinference-instrumentation>=0.1.17 in /home/daimler/workspaces/agents-course-huggingface/.venv/lib/python3.11/site-packages (from openinference-instrumentation-llama-index>=3.0.0->llama-index-callbacks-arize-phoenix) (0.1.23)\n",
      "Requirement already satisfied: openinference-semantic-conventions>=0.1.9 in /home/daimler/workspaces/agents-course-huggingface/.venv/lib/python3.11/site-packages (from openinference-instrumentation-llama-index>=3.0.0->llama-index-callbacks-arize-phoenix) (0.1.14)\n",
      "Requirement already satisfied: opentelemetry-instrumentation in /home/daimler/workspaces/agents-course-huggingface/.venv/lib/python3.11/site-packages (from openinference-instrumentation-llama-index>=3.0.0->llama-index-callbacks-arize-phoenix) (0.52b0)\n",
      "Requirement already satisfied: opentelemetry-semantic-conventions in /home/daimler/workspaces/agents-course-huggingface/.venv/lib/python3.11/site-packages (from openinference-instrumentation-llama-index>=3.0.0->llama-index-callbacks-arize-phoenix) (0.52b0)\n",
      "Requirement already satisfied: charset-normalizer<4,>=2 in /home/daimler/workspaces/agents-course-huggingface/.venv/lib/python3.11/site-packages (from requests>=2.32.2->datasets) (3.4.1)\n",
      "Requirement already satisfied: idna<4,>=2.5 in /home/daimler/workspaces/agents-course-huggingface/.venv/lib/python3.11/site-packages (from requests>=2.32.2->datasets) (3.10)\n",
      "Requirement already satisfied: urllib3<3,>=1.21.1 in /home/daimler/workspaces/agents-course-huggingface/.venv/lib/python3.11/site-packages (from requests>=2.32.2->datasets) (2.3.0)\n",
      "Requirement already satisfied: certifi>=2017.4.17 in /home/daimler/workspaces/agents-course-huggingface/.venv/lib/python3.11/site-packages (from requests>=2.32.2->datasets) (2025.1.31)\n",
      "Requirement already satisfied: python-dateutil>=2.8.2 in /home/daimler/workspaces/agents-course-huggingface/.venv/lib/python3.11/site-packages (from pandas->datasets) (2.9.0.post0)\n",
      "Requirement already satisfied: pytz>=2020.1 in /home/daimler/workspaces/agents-course-huggingface/.venv/lib/python3.11/site-packages (from pandas->datasets) (2025.1)\n",
      "Requirement already satisfied: tzdata>=2022.7 in /home/daimler/workspaces/agents-course-huggingface/.venv/lib/python3.11/site-packages (from pandas->datasets) (2025.1)\n",
      "Requirement already satisfied: soupsieve>1.2 in /home/daimler/workspaces/agents-course-huggingface/.venv/lib/python3.11/site-packages (from beautifulsoup4<5.0.0,>=4.12.3->llama-index-readers-file<0.5.0,>=0.4.0->llama-index) (2.6)\n",
      "Requirement already satisfied: pyproject_hooks in /home/daimler/workspaces/agents-course-huggingface/.venv/lib/python3.11/site-packages (from build>=1.0.3->chromadb>=0.5.17->llama-index-vector-stores-chroma) (1.2.0)\n",
      "Requirement already satisfied: starlette<0.47.0,>=0.40.0 in /home/daimler/workspaces/agents-course-huggingface/.venv/lib/python3.11/site-packages (from fastapi>=0.95.2->chromadb>=0.5.17->llama-index-vector-stores-chroma) (0.46.1)\n",
      "Requirement already satisfied: anyio in /home/daimler/workspaces/agents-course-huggingface/.venv/lib/python3.11/site-packages (from httpx>=0.27.0->chromadb>=0.5.17->llama-index-vector-stores-chroma) (4.8.0)\n",
      "Requirement already satisfied: httpcore==1.* in /home/daimler/workspaces/agents-course-huggingface/.venv/lib/python3.11/site-packages (from httpx>=0.27.0->chromadb>=0.5.17->llama-index-vector-stores-chroma) (1.0.7)\n",
      "Requirement already satisfied: h11<0.15,>=0.13 in /home/daimler/workspaces/agents-course-huggingface/.venv/lib/python3.11/site-packages (from httpcore==1.*->httpx>=0.27.0->chromadb>=0.5.17->llama-index-vector-stores-chroma) (0.14.0)\n",
      "Requirement already satisfied: parso<0.9.0,>=0.8.4 in /home/daimler/workspaces/agents-course-huggingface/.venv/lib/python3.11/site-packages (from jedi>=0.16->ipython>=5.3.0->pyvis) (0.8.4)\n",
      "Requirement already satisfied: six>=1.9.0 in /home/daimler/workspaces/agents-course-huggingface/.venv/lib/python3.11/site-packages (from kubernetes>=28.1.0->chromadb>=0.5.17->llama-index-vector-stores-chroma) (1.17.0)\n",
      "Requirement already satisfied: google-auth>=1.0.1 in /home/daimler/workspaces/agents-course-huggingface/.venv/lib/python3.11/site-packages (from kubernetes>=28.1.0->chromadb>=0.5.17->llama-index-vector-stores-chroma) (2.38.0)\n",
      "Requirement already satisfied: websocket-client!=0.40.0,!=0.41.*,!=0.42.*,>=0.32.0 in /home/daimler/workspaces/agents-course-huggingface/.venv/lib/python3.11/site-packages (from kubernetes>=28.1.0->chromadb>=0.5.17->llama-index-vector-stores-chroma) (1.8.0)\n",
      "Requirement already satisfied: requests-oauthlib in /home/daimler/workspaces/agents-course-huggingface/.venv/lib/python3.11/site-packages (from kubernetes>=28.1.0->chromadb>=0.5.17->llama-index-vector-stores-chroma) (2.0.0)\n",
      "Requirement already satisfied: oauthlib>=3.2.2 in /home/daimler/workspaces/agents-course-huggingface/.venv/lib/python3.11/site-packages (from kubernetes>=28.1.0->chromadb>=0.5.17->llama-index-vector-stores-chroma) (3.2.2)\n",
      "Requirement already satisfied: durationpy>=0.7 in /home/daimler/workspaces/agents-course-huggingface/.venv/lib/python3.11/site-packages (from kubernetes>=28.1.0->chromadb>=0.5.17->llama-index-vector-stores-chroma) (0.9)\n",
      "Requirement already satisfied: llama-cloud-services>=0.6.4 in /home/daimler/workspaces/agents-course-huggingface/.venv/lib/python3.11/site-packages (from llama-parse>=0.5.0->llama-index-readers-llama-parse>=0.4.0->llama-index) (0.6.5)\n",
      "Requirement already satisfied: coloredlogs in /home/daimler/workspaces/agents-course-huggingface/.venv/lib/python3.11/site-packages (from onnxruntime>=1.14.1->chromadb>=0.5.17->llama-index-vector-stores-chroma) (15.0.1)\n",
      "Requirement already satisfied: flatbuffers in /home/daimler/workspaces/agents-course-huggingface/.venv/lib/python3.11/site-packages (from onnxruntime>=1.14.1->chromadb>=0.5.17->llama-index-vector-stores-chroma) (25.2.10)\n",
      "Requirement already satisfied: protobuf in /home/daimler/workspaces/agents-course-huggingface/.venv/lib/python3.11/site-packages (from onnxruntime>=1.14.1->chromadb>=0.5.17->llama-index-vector-stores-chroma) (5.29.3)\n",
      "Requirement already satisfied: sympy in /home/daimler/workspaces/agents-course-huggingface/.venv/lib/python3.11/site-packages (from onnxruntime>=1.14.1->chromadb>=0.5.17->llama-index-vector-stores-chroma) (1.13.3)\n",
      "Requirement already satisfied: distro<2,>=1.7.0 in /home/daimler/workspaces/agents-course-huggingface/.venv/lib/python3.11/site-packages (from openai>=1.14.0->llama-index-agent-openai<0.5.0,>=0.4.0->llama-index) (1.9.0)\n",
      "Requirement already satisfied: jiter<1,>=0.4.0 in /home/daimler/workspaces/agents-course-huggingface/.venv/lib/python3.11/site-packages (from openai>=1.14.0->llama-index-agent-openai<0.5.0,>=0.4.0->llama-index) (0.9.0)\n",
      "Requirement already satisfied: sniffio in /home/daimler/workspaces/agents-course-huggingface/.venv/lib/python3.11/site-packages (from openai>=1.14.0->llama-index-agent-openai<0.5.0,>=0.4.0->llama-index) (1.3.1)\n",
      "Requirement already satisfied: importlib-metadata<8.7.0,>=6.0 in /home/daimler/workspaces/agents-course-huggingface/.venv/lib/python3.11/site-packages (from opentelemetry-api>=1.2.0->chromadb>=0.5.17->llama-index-vector-stores-chroma) (8.6.1)\n",
      "Requirement already satisfied: googleapis-common-protos~=1.52 in /home/daimler/workspaces/agents-course-huggingface/.venv/lib/python3.11/site-packages (from opentelemetry-exporter-otlp-proto-grpc>=1.2.0->chromadb>=0.5.17->llama-index-vector-stores-chroma) (1.69.1)\n",
      "Requirement already satisfied: opentelemetry-exporter-otlp-proto-common==1.31.0 in /home/daimler/workspaces/agents-course-huggingface/.venv/lib/python3.11/site-packages (from opentelemetry-exporter-otlp-proto-grpc>=1.2.0->chromadb>=0.5.17->llama-index-vector-stores-chroma) (1.31.0)\n",
      "Requirement already satisfied: opentelemetry-proto==1.31.0 in /home/daimler/workspaces/agents-course-huggingface/.venv/lib/python3.11/site-packages (from opentelemetry-exporter-otlp-proto-grpc>=1.2.0->chromadb>=0.5.17->llama-index-vector-stores-chroma) (1.31.0)\n",
      "Requirement already satisfied: opentelemetry-instrumentation-asgi==0.52b0 in /home/daimler/workspaces/agents-course-huggingface/.venv/lib/python3.11/site-packages (from opentelemetry-instrumentation-fastapi>=0.41b0->chromadb>=0.5.17->llama-index-vector-stores-chroma) (0.52b0)\n",
      "Requirement already satisfied: opentelemetry-util-http==0.52b0 in /home/daimler/workspaces/agents-course-huggingface/.venv/lib/python3.11/site-packages (from opentelemetry-instrumentation-fastapi>=0.41b0->chromadb>=0.5.17->llama-index-vector-stores-chroma) (0.52b0)\n",
      "Requirement already satisfied: asgiref~=3.0 in /home/daimler/workspaces/agents-course-huggingface/.venv/lib/python3.11/site-packages (from opentelemetry-instrumentation-asgi==0.52b0->opentelemetry-instrumentation-fastapi>=0.41b0->chromadb>=0.5.17->llama-index-vector-stores-chroma) (3.8.1)\n",
      "Requirement already satisfied: ptyprocess>=0.5 in /home/daimler/workspaces/agents-course-huggingface/.venv/lib/python3.11/site-packages (from pexpect>4.3->ipython>=5.3.0->pyvis) (0.7.0)\n",
      "Requirement already satisfied: monotonic>=1.5 in /home/daimler/workspaces/agents-course-huggingface/.venv/lib/python3.11/site-packages (from posthog>=2.4.0->chromadb>=0.5.17->llama-index-vector-stores-chroma) (1.6)\n",
      "Requirement already satisfied: backoff>=1.10.0 in /home/daimler/workspaces/agents-course-huggingface/.venv/lib/python3.11/site-packages (from posthog>=2.4.0->chromadb>=0.5.17->llama-index-vector-stores-chroma) (2.2.1)\n",
      "Requirement already satisfied: wcwidth in /home/daimler/workspaces/agents-course-huggingface/.venv/lib/python3.11/site-packages (from prompt_toolkit<3.1.0,>=3.0.41->ipython>=5.3.0->pyvis) (0.2.13)\n",
      "Requirement already satisfied: annotated-types>=0.6.0 in /home/daimler/workspaces/agents-course-huggingface/.venv/lib/python3.11/site-packages (from pydantic>=1.9->chromadb>=0.5.17->llama-index-vector-stores-chroma) (0.7.0)\n",
      "Requirement already satisfied: pydantic-core==2.27.2 in /home/daimler/workspaces/agents-course-huggingface/.venv/lib/python3.11/site-packages (from pydantic>=1.9->chromadb>=0.5.17->llama-index-vector-stores-chroma) (2.27.2)\n",
      "Requirement already satisfied: markdown-it-py>=2.2.0 in /home/daimler/workspaces/agents-course-huggingface/.venv/lib/python3.11/site-packages (from rich>=10.11.0->chromadb>=0.5.17->llama-index-vector-stores-chroma) (3.0.0)\n",
      "Requirement already satisfied: greenlet!=0.4.17 in /home/daimler/workspaces/agents-course-huggingface/.venv/lib/python3.11/site-packages (from SQLAlchemy>=1.4.49->SQLAlchemy[asyncio]>=1.4.49->llama-index-core<0.13.0,>=0.12.23->llama-index) (3.1.1)\n",
      "Requirement already satisfied: shellingham>=1.3.0 in /home/daimler/workspaces/agents-course-huggingface/.venv/lib/python3.11/site-packages (from typer>=0.9.0->chromadb>=0.5.17->llama-index-vector-stores-chroma) (1.5.4)\n",
      "Requirement already satisfied: mypy-extensions>=0.3.0 in /home/daimler/workspaces/agents-course-huggingface/.venv/lib/python3.11/site-packages (from typing-inspect>=0.8.0->llama-index-core<0.13.0,>=0.12.23->llama-index) (1.0.0)\n",
      "Requirement already satisfied: httptools>=0.6.3 in /home/daimler/workspaces/agents-course-huggingface/.venv/lib/python3.11/site-packages (from uvicorn[standard]>=0.18.3->chromadb>=0.5.17->llama-index-vector-stores-chroma) (0.6.4)\n",
      "Requirement already satisfied: python-dotenv>=0.13 in /home/daimler/workspaces/agents-course-huggingface/.venv/lib/python3.11/site-packages (from uvicorn[standard]>=0.18.3->chromadb>=0.5.17->llama-index-vector-stores-chroma) (1.0.1)\n",
      "Requirement already satisfied: uvloop!=0.15.0,!=0.15.1,>=0.14.0 in /home/daimler/workspaces/agents-course-huggingface/.venv/lib/python3.11/site-packages (from uvicorn[standard]>=0.18.3->chromadb>=0.5.17->llama-index-vector-stores-chroma) (0.21.0)\n",
      "Requirement already satisfied: watchfiles>=0.13 in /home/daimler/workspaces/agents-course-huggingface/.venv/lib/python3.11/site-packages (from uvicorn[standard]>=0.18.3->chromadb>=0.5.17->llama-index-vector-stores-chroma) (1.0.4)\n",
      "Requirement already satisfied: websockets>=10.4 in /home/daimler/workspaces/agents-course-huggingface/.venv/lib/python3.11/site-packages (from uvicorn[standard]>=0.18.3->chromadb>=0.5.17->llama-index-vector-stores-chroma) (15.0.1)\n",
      "Requirement already satisfied: marshmallow<4.0.0,>=3.18.0 in /home/daimler/workspaces/agents-course-huggingface/.venv/lib/python3.11/site-packages (from dataclasses-json->llama-index-core<0.13.0,>=0.12.23->llama-index) (3.26.1)\n",
      "Requirement already satisfied: executing>=1.2.0 in /home/daimler/workspaces/agents-course-huggingface/.venv/lib/python3.11/site-packages (from stack_data->ipython>=5.3.0->pyvis) (2.2.0)\n",
      "Requirement already satisfied: asttokens>=2.1.0 in /home/daimler/workspaces/agents-course-huggingface/.venv/lib/python3.11/site-packages (from stack_data->ipython>=5.3.0->pyvis) (3.0.0)\n",
      "Requirement already satisfied: pure-eval in /home/daimler/workspaces/agents-course-huggingface/.venv/lib/python3.11/site-packages (from stack_data->ipython>=5.3.0->pyvis) (0.2.3)\n",
      "Requirement already satisfied: cachetools<6.0,>=2.0.0 in /home/daimler/workspaces/agents-course-huggingface/.venv/lib/python3.11/site-packages (from google-auth>=1.0.1->kubernetes>=28.1.0->chromadb>=0.5.17->llama-index-vector-stores-chroma) (5.5.2)\n",
      "Requirement already satisfied: pyasn1-modules>=0.2.1 in /home/daimler/workspaces/agents-course-huggingface/.venv/lib/python3.11/site-packages (from google-auth>=1.0.1->kubernetes>=28.1.0->chromadb>=0.5.17->llama-index-vector-stores-chroma) (0.4.1)\n",
      "Requirement already satisfied: rsa<5,>=3.1.4 in /home/daimler/workspaces/agents-course-huggingface/.venv/lib/python3.11/site-packages (from google-auth>=1.0.1->kubernetes>=28.1.0->chromadb>=0.5.17->llama-index-vector-stores-chroma) (4.9)\n",
      "Requirement already satisfied: zipp>=3.20 in /home/daimler/workspaces/agents-course-huggingface/.venv/lib/python3.11/site-packages (from importlib-metadata<8.7.0,>=6.0->opentelemetry-api>=1.2.0->chromadb>=0.5.17->llama-index-vector-stores-chroma) (3.21.0)\n",
      "Requirement already satisfied: mdurl~=0.1 in /home/daimler/workspaces/agents-course-huggingface/.venv/lib/python3.11/site-packages (from markdown-it-py>=2.2.0->rich>=10.11.0->chromadb>=0.5.17->llama-index-vector-stores-chroma) (0.1.2)\n",
      "Requirement already satisfied: humanfriendly>=9.1 in /home/daimler/workspaces/agents-course-huggingface/.venv/lib/python3.11/site-packages (from coloredlogs->onnxruntime>=1.14.1->chromadb>=0.5.17->llama-index-vector-stores-chroma) (10.0)\n",
      "Requirement already satisfied: mpmath<1.4,>=1.1.0 in /home/daimler/workspaces/agents-course-huggingface/.venv/lib/python3.11/site-packages (from sympy->onnxruntime>=1.14.1->chromadb>=0.5.17->llama-index-vector-stores-chroma) (1.3.0)\n",
      "Requirement already satisfied: pyasn1<0.7.0,>=0.4.6 in /home/daimler/workspaces/agents-course-huggingface/.venv/lib/python3.11/site-packages (from pyasn1-modules>=0.2.1->google-auth>=1.0.1->kubernetes>=28.1.0->chromadb>=0.5.17->llama-index-vector-stores-chroma) (0.6.1)\n"
     ]
    }
   ],
   "source": [
    "!pip install  -U  \\\n",
    "    llama-index datasets \\\n",
    "    llama-index-callbacks-arize-phoenix \\\n",
    "    llama-index-vector-stores-chroma \\\n",
    "    llama-index-utils-workflow \\\n",
    "    llama-index-llms-huggingface-api \\\n",
    "    pyvis \\\n",
    "    #"
   ]
  },
  {
   "cell_type": "markdown",
   "metadata": {},
   "source": [
    "And, let's log in to Hugging Face to use serverless Inference APIs."
   ]
  },
  {
   "cell_type": "code",
   "execution_count": 4,
   "metadata": {},
   "outputs": [
    {
     "ename": "AttributeError",
     "evalue": "module 'llama_index' has no attribute 'core'",
     "output_type": "error",
     "traceback": [
      "\u001b[31m---------------------------------------------------------------------------\u001b[39m",
      "\u001b[31mAttributeError\u001b[39m                            Traceback (most recent call last)",
      "\u001b[36mCell\u001b[39m\u001b[36m \u001b[39m\u001b[32mIn[4]\u001b[39m\u001b[32m, line 7\u001b[39m\n\u001b[32m      3\u001b[39m \u001b[38;5;66;03m# Load environment variables from .env file\u001b[39;00m\n\u001b[32m      4\u001b[39m load_dotenv()\n\u001b[32m----> \u001b[39m\u001b[32m7\u001b[39m \u001b[43mllama_index\u001b[49m\u001b[43m.\u001b[49m\u001b[43mcore\u001b[49m.set_global_handler(\n\u001b[32m      8\u001b[39m     \u001b[33m\"\u001b[39m\u001b[33marize_phoenix\u001b[39m\u001b[33m\"\u001b[39m, \n\u001b[32m      9\u001b[39m     endpoint=\u001b[33m\"\u001b[39m\u001b[33mhttps://llamatrace.com/v1/traces\u001b[39m\u001b[33m\"\u001b[39m\n\u001b[32m     10\u001b[39m )\n",
      "\u001b[31mAttributeError\u001b[39m: module 'llama_index' has no attribute 'core'"
     ]
    }
   ],
   "source": [
    "import llama_index\n",
    "from dotenv import load_dotenv\n",
    "# Load environment variables from .env file\n",
    "load_dotenv()\n",
    "\n",
    "\n",
    "llama_index.core.set_global_handler(\n",
    "    \"arize_phoenix\", \n",
    "    endpoint=\"https://llamatrace.com/v1/traces\"\n",
    ")"
   ]
  },
  {
   "cell_type": "markdown",
   "metadata": {},
   "source": [
    "## Basic Workflow Creation\n",
    "\n",
    "We can start by creating a simple workflow. We use the `StartEvent` and `StopEvent` classes to define the start and stop of the workflow."
   ]
  },
  {
   "cell_type": "code",
   "execution_count": 2,
   "metadata": {},
   "outputs": [
    {
     "data": {
      "text/plain": [
       "'Hello, world!'"
      ]
     },
     "execution_count": 2,
     "metadata": {},
     "output_type": "execute_result"
    }
   ],
   "source": [
    "from llama_index.core.workflow import StartEvent, StopEvent, Workflow, step\n",
    "\n",
    "\n",
    "class MyWorkflow(Workflow):\n",
    "    @step\n",
    "    async def my_step(self, ev: StartEvent) -> StopEvent:\n",
    "        # do something here\n",
    "        return StopEvent(result=\"Hello, world!\")\n",
    "\n",
    "\n",
    "w = MyWorkflow(timeout=10, verbose=False)\n",
    "result = await w.run()\n",
    "result"
   ]
  },
  {
   "cell_type": "markdown",
   "metadata": {},
   "source": [
    "## Connecting Multiple Steps\n",
    "\n",
    "We can also create multi-step workflows. Here we pass the event information between steps. Note that we can use type hinting to specify the event type and the flow of the workflow."
   ]
  },
  {
   "cell_type": "code",
   "execution_count": 3,
   "metadata": {},
   "outputs": [
    {
     "data": {
      "text/plain": [
       "'Finished processing: Step 1 complete'"
      ]
     },
     "execution_count": 3,
     "metadata": {},
     "output_type": "execute_result"
    }
   ],
   "source": [
    "from llama_index.core.workflow import Event\n",
    "\n",
    "\n",
    "class ProcessingEvent(Event):\n",
    "    intermediate_result: str\n",
    "\n",
    "\n",
    "class MultiStepWorkflow(Workflow):\n",
    "    @step\n",
    "    async def step_one(self, ev: StartEvent) -> ProcessingEvent:\n",
    "        # Process initial data\n",
    "        return ProcessingEvent(intermediate_result=\"Step 1 complete\")\n",
    "\n",
    "    @step\n",
    "    async def step_two(self, ev: ProcessingEvent) -> StopEvent:\n",
    "        # Use the intermediate result\n",
    "        final_result = f\"Finished processing: {ev.intermediate_result}\"\n",
    "        return StopEvent(result=final_result)\n",
    "\n",
    "\n",
    "w = MultiStepWorkflow(timeout=10, verbose=False)\n",
    "result = await w.run()\n",
    "result"
   ]
  },
  {
   "cell_type": "markdown",
   "metadata": {},
   "source": [
    "## Loops and Branches\n",
    "\n",
    "We can also use type hinting to create branches and loops. Note that we can use the `|` operator to specify that the step can return multiple types."
   ]
  },
  {
   "cell_type": "code",
   "execution_count": 32,
   "metadata": {},
   "outputs": [
    {
     "name": "stdout",
     "output_type": "stream",
     "text": [
      "Good thing happened\n"
     ]
    },
    {
     "data": {
      "text/plain": [
       "'Finished processing: First step complete.'"
      ]
     },
     "execution_count": 32,
     "metadata": {},
     "output_type": "execute_result"
    }
   ],
   "source": [
    "from llama_index.core.workflow import Event\n",
    "import random\n",
    "\n",
    "\n",
    "class ProcessingEvent(Event):\n",
    "    intermediate_result: str\n",
    "\n",
    "\n",
    "class LoopEvent(Event):\n",
    "    loop_output: str\n",
    "\n",
    "\n",
    "class MultiStepWorkflow(Workflow):\n",
    "    @step\n",
    "    async def step_one(self, ev: StartEvent) -> ProcessingEvent | LoopEvent:\n",
    "        if random.randint(0, 1) == 0:\n",
    "            print(\"Bad thing happened\")\n",
    "            return LoopEvent(loop_output=\"Back to step one.\")\n",
    "        else:\n",
    "            print(\"Good thing happened\")\n",
    "            return ProcessingEvent(intermediate_result=\"First step complete.\")\n",
    "\n",
    "    @step\n",
    "    async def step_two(self, ev: ProcessingEvent | LoopEvent) -> StopEvent:\n",
    "        # Use the intermediate result\n",
    "        final_result = f\"Finished processing: {ev.intermediate_result}\"\n",
    "        return StopEvent(result=final_result)\n",
    "\n",
    "\n",
    "w = MultiStepWorkflow(verbose=False)\n",
    "result = await w.run()\n",
    "result"
   ]
  },
  {
   "cell_type": "markdown",
   "metadata": {},
   "source": [
    "## Drawing Workflows\n",
    "\n",
    "We can also draw workflows using the `draw_all_possible_flows` function.\n"
   ]
  },
  {
   "cell_type": "code",
   "execution_count": 41,
   "metadata": {},
   "outputs": [
    {
     "name": "stdout",
     "output_type": "stream",
     "text": [
      "<class 'NoneType'>\n",
      "<class '__main__.ProcessingEvent'>\n",
      "<class 'llama_index.core.workflow.events.StopEvent'>\n",
      "workflow_all_flows.html\n"
     ]
    }
   ],
   "source": [
    "from llama_index.utils.workflow import draw_all_possible_flows\n",
    "\n",
    "draw_all_possible_flows(w)"
   ]
  },
  {
   "cell_type": "markdown",
   "metadata": {},
   "source": [
    "![drawing](https://huggingface.co/datasets/agents-course/course-images/resolve/main/en/unit2/llama-index/workflow-draw.png)"
   ]
  },
  {
   "cell_type": "markdown",
   "metadata": {},
   "source": [
    "### State Management\n",
    "\n",
    "Instead of passing the event information between steps, we can use the `Context` type hint to pass information between steps. \n",
    "This might be useful for long running workflows, where you want to store information between steps."
   ]
  },
  {
   "cell_type": "code",
   "execution_count": 43,
   "metadata": {},
   "outputs": [
    {
     "name": "stdout",
     "output_type": "stream",
     "text": [
      "Query: What is the capital of France?\n"
     ]
    },
    {
     "data": {
      "text/plain": [
       "'Finished processing: Step 1 complete'"
      ]
     },
     "execution_count": 43,
     "metadata": {},
     "output_type": "execute_result"
    }
   ],
   "source": [
    "from llama_index.core.workflow import Event, Context\n",
    "from llama_index.core.agent.workflow import ReActAgent, AgentWorkflow\n",
    "\n",
    "\n",
    "class ProcessingEvent(Event):\n",
    "    intermediate_result: str\n",
    "\n",
    "\n",
    "class MultiStepWorkflow(Workflow):\n",
    "    @step\n",
    "    async def step_one(self, ev: StartEvent, ctx: Context) -> ProcessingEvent:\n",
    "        # Process initial data\n",
    "        await ctx.set(\"query\", \"What is the capital of France?\")\n",
    "        return ProcessingEvent(intermediate_result=\"Step 1 complete\")\n",
    "\n",
    "    @step\n",
    "    async def step_two(self, ev: ProcessingEvent, ctx: Context) -> StopEvent:\n",
    "        # Use the intermediate result\n",
    "        query = await ctx.get(\"query\")\n",
    "        print(f\"Query: {query}\")\n",
    "        final_result = f\"Finished processing: {ev.intermediate_result}\"\n",
    "        return StopEvent(result=final_result)\n",
    "\n",
    "\n",
    "w = MultiStepWorkflow(timeout=10, verbose=False)\n",
    "result = await w.run()\n",
    "result"
   ]
  },
  {
   "cell_type": "markdown",
   "metadata": {},
   "source": [
    "## Multi-Agent Workflows\n",
    "\n",
    "We can also create multi-agent workflows. Here we define two agents, one that multiplies two integers and one that adds two integers."
   ]
  },
  {
   "cell_type": "code",
   "execution_count": null,
   "metadata": {},
   "outputs": [
    {
     "data": {
      "text/plain": [
       "ChatMessage(role=<MessageRole.ASSISTANT: 'assistant'>, additional_kwargs={'tool_calls': []}, blocks=[TextBlock(block_type='text', text='The result of adding 5 and 3 is 8.')])"
      ]
     },
     "execution_count": 48,
     "metadata": {},
     "output_type": "execute_result"
    }
   ],
   "source": [
    "# from llama_index.llms.huggingface_api import HuggingFaceInferenceAPI\n",
    "from llama_index.llms.ollama import Ollama \n",
    "\n",
    "# Define some tools\n",
    "def add(a: int, b: int) -> int:\n",
    "    \"\"\"Add two numbers.\"\"\"\n",
    "    return a + b\n",
    "\n",
    "def multiply(a: int, b: int) -> int:\n",
    "    \"\"\"Multiply two numbers.\"\"\"\n",
    "    return a * b\n",
    "\n",
    "# llm = HuggingFaceInferenceAPI(model_name=\"Qwen/Qwen2.5-Coder-32B-Instruct\")\n",
    "llm = Ollama(model=\"myaniu/qwen2.5-1m:7b\")\n",
    "\n",
    "\n",
    "# we can pass functions directly without FunctionTool -- the fn/docstring are parsed for the name/description\n",
    "multiply_agent = ReActAgent(\n",
    "    name=\"multiply_agent\",\n",
    "    description=\"Is able to multiply two integers\",\n",
    "    system_prompt=\"A helpful assistant that can use a tool to multiply numbers.\",\n",
    "    tools=[multiply], \n",
    "    llm=llm,\n",
    ")\n",
    "\n",
    "addition_agent = ReActAgent(\n",
    "    name=\"addition_agent\",\n",
    "    description=\"Is able to add two integers\",\n",
    "    system_prompt=\"A helpful assistant that can use a tool to add numbers.\",\n",
    "    tools=[add], \n",
    "    llm=llm,\n",
    ")\n",
    "\n",
    "# Create the workflow\n",
    "workflow = AgentWorkflow(\n",
    "    agents=[multiply_agent, addition_agent],\n",
    "    root_agent=\"multiply_agent\"\n",
    ")\n",
    "\n",
    "# Run the system\n",
    "response = await workflow.run(user_msg=\"Can you add 5 and 3?\")\n"
   ]
  },
  {
   "cell_type": "code",
   "execution_count": 60,
   "metadata": {},
   "outputs": [
    {
     "data": {
      "text/plain": [
       "'The result of adding 5 and 3 is 8.'"
      ]
     },
     "execution_count": 60,
     "metadata": {},
     "output_type": "execute_result"
    }
   ],
   "source": [
    "\n",
    "response.response.blocks[0].text"
   ]
  },
  {
   "cell_type": "code",
   "execution_count": 45,
   "metadata": {},
   "outputs": [
    {
     "name": "stdout",
     "output_type": "stream",
     "text": [
      "<class 'NoneType'>\n",
      "<class 'llama_index.core.agent.workflow.workflow_events.AgentInput'>\n",
      "<class 'llama_index.core.workflow.events.StopEvent'>\n",
      "<class 'llama_index.core.agent.workflow.workflow_events.ToolCallResult'>\n",
      "<class 'llama_index.core.agent.workflow.workflow_events.AgentInput'>\n",
      "<class 'llama_index.core.workflow.events.StopEvent'>\n",
      "<class 'llama_index.core.agent.workflow.workflow_events.ToolCall'>\n",
      "<class 'llama_index.core.agent.workflow.workflow_events.AgentOutput'>\n",
      "<class 'llama_index.core.agent.workflow.workflow_events.AgentSetup'>\n",
      "workflow_all_flows.html\n"
     ]
    }
   ],
   "source": [
    "draw_all_possible_flows(workflow)"
   ]
  }
 ],
 "metadata": {
  "kernelspec": {
   "display_name": ".venv",
   "language": "python",
   "name": "python3"
  },
  "language_info": {
   "codemirror_mode": {
    "name": "ipython",
    "version": 3
   },
   "file_extension": ".py",
   "mimetype": "text/x-python",
   "name": "python",
   "nbconvert_exporter": "python",
   "pygments_lexer": "ipython3",
   "version": "3.11.11"
  }
 },
 "nbformat": 4,
 "nbformat_minor": 2
}
