{
 "cells": [
  {
   "cell_type": "markdown",
   "metadata": {
    "id": "1rUV3LY21NKk"
   },
   "source": [
    "# Components in LlamaIndex\n",
    "\n",
    "This notebook is part of the [Hugging Face Agents Course](https://www.hf.co/learn/agents-course), a free Course from beginner to expert, where you learn to build Agents.\n",
    "\n",
    "![Agents course share](https://huggingface.co/datasets/agents-course/course-images/resolve/main/en/communication/share.png)\n",
    "\n",
    "Alfred is hosting a party and needs to be able to find relevant information on personas that will be attending the party. Therefore, we will use a `QueryEngine` to index and search through a database of personas.\n",
    "\n",
    "## Let's install the dependencies\n",
    "\n",
    "We will install the dependencies for this unit."
   ]
  },
  {
   "cell_type": "code",
   "execution_count": 1,
   "metadata": {
    "colab": {
     "base_uri": "https://localhost:8080/"
    },
    "executionInfo": {
     "elapsed": 44385,
     "status": "ok",
     "timestamp": 1741690382239,
     "user": {
      "displayName": "German Z",
      "userId": "10416485626185439003"
     },
     "user_tz": -60
    },
    "id": "5H_HwZWq1NKo",
    "outputId": "9a845f8c-88e2-4d89-f4bf-802feca1ce58"
   },
   "outputs": [
    {
     "name": "stdout",
     "output_type": "stream",
     "text": [
      "Note: you may need to restart the kernel to use updated packages.\n"
     ]
    }
   ],
   "source": [
    "%pip install -U -q \\\n",
    "    llama-index \\\n",
    "    datasets \\\n",
    "    llama-index-callbacks-arize-phoenix \\\n",
    "    llama-index-vector-stores-chroma \\\n",
    "    llama-index-llms-huggingface-api \\\n",
    "    llama-index-embeddings-huggingface-api \\\n",
    "    ipywidgets "
   ]
  },
  {
   "cell_type": "markdown",
   "metadata": {
    "id": "VQ1Ha-501NKp"
   },
   "source": [
    "And, let's log in to Hugging Face to use serverless Inference APIs."
   ]
  },
  {
   "cell_type": "code",
   "execution_count": 2,
   "metadata": {
    "id": "QEZfsMQm1NKp"
   },
   "outputs": [
    {
     "data": {
      "application/vnd.jupyter.widget-view+json": {
       "model_id": "aa7cfed804e147ceb711c8cfb27f4dd8",
       "version_major": 2,
       "version_minor": 0
      },
      "text/plain": [
       "VBox(children=(HTML(value='<center> <img\\nsrc=https://huggingface.co/front/assets/huggingface_logo-noborder.sv…"
      ]
     },
     "metadata": {},
     "output_type": "display_data"
    }
   ],
   "source": [
    "from huggingface_hub import login\n",
    "\n",
    "login()"
   ]
  },
  {
   "cell_type": "markdown",
   "metadata": {
    "id": "Kjwy1gZu1NKp"
   },
   "source": [
    "## Create a `QueryEngine` for retrieval augmented generation\n",
    "\n",
    "### Setting up the persona database\n",
    "\n",
    "We will be using personas from the [dvilasuero/finepersonas-v0.1-tiny dataset](https://huggingface.co/datasets/dvilasuero/finepersonas-v0.1-tiny). This dataset contains 5K personas that will be attending the party!\n",
    "\n",
    "Let's load the dataset and store it as files in the `data` directory"
   ]
  },
  {
   "cell_type": "code",
   "execution_count": 3,
   "metadata": {
    "colab": {
     "base_uri": "https://localhost:8080/",
     "height": 113,
     "referenced_widgets": [
      "889bfa2b52f64de0ad8cce2e0de9c9ef",
      "810a8adb618e47c790f787ba733b033e",
      "1a7324435c0b4e9f82cabb0e3a391137",
      "e75b792b65a84c91bf636b84fcab8ea2",
      "eecc7a8a6ca9457b8257893e455a2b28",
      "62ba2ae726ed47c0859337b41e37f58f",
      "fd7c81e523174b02b784f50fed54aea7",
      "b66fc89af7494d60966aebdc33583976",
      "e0bb7b185297412a8b6eb642dc3fa75b",
      "218e36725f514eeb8b1e8ff68f7313ab",
      "31f2eb111f2f4041959358056952a6a8",
      "da0f77c2421c43398b8b659c30b0a662",
      "3c3605c2eaa546b782330ec02eeb633f",
      "1484b5df2a7448a0a30df75f7d5a364c",
      "21a9ee17898f444caff3097604ea9251",
      "198c993b694c4c138f4b63947aef9b20",
      "fb7e3dd03c3b4a2b8b3753f8be7d6187",
      "8d479fd64fba4ea1a90c462c0673f4ea",
      "66a6ef4900704a4daf064897a1fa9826",
      "9dd5c5db612b46f3963a2f6230d50f2b",
      "3150a5757b724e05a74ee0fcf1ad4aba",
      "6c8677c2a49244a4b227a6f0a8c40f9b",
      "ef2ee083c042471e90b53e3c55897389",
      "22ef5d69f10849fe9593cc35acbfd3ca",
      "db4c0e0d4f834a21a436c5c1f1004a13",
      "f2e73f6a0ae4479d8e18bb259061c1b2",
      "2c61b333bfe047a3b7d260ff3fc37564",
      "e92b9a8903e541d2938e0338be92419f",
      "07e834b48f854538972d127e7527d1b9",
      "b14b7dc1c75c43ffa0611c0dc4aeeec9",
      "08971f1893624ec9ac667fcd5db2ea6a",
      "bf950d5c1a4c4fdb984483ba98656de0",
      "11cafa9b09894b32a0db92ddc63f5a02"
     ]
    },
    "executionInfo": {
     "elapsed": 21087,
     "status": "ok",
     "timestamp": 1741690403334,
     "user": {
      "displayName": "German Z",
      "userId": "10416485626185439003"
     },
     "user_tz": -60
    },
    "id": "7ViGffyV1NKp",
    "outputId": "b65f1532-3755-4db7-ff86-a80a6cbecc58"
   },
   "outputs": [],
   "source": [
    "from datasets import load_dataset\n",
    "from pathlib import Path\n",
    "\n",
    "dataset = load_dataset(path=\"dvilasuero/finepersonas-v0.1-tiny\", split=\"train\")\n",
    "\n",
    "Path(\"data\").mkdir(parents=True, exist_ok=True)\n",
    "for i, persona in enumerate(dataset):\n",
    "    with open(Path(\"data\") / f\"persona_{i}.txt\", \"w\") as f:\n",
    "        f.write(persona[\"persona\"])"
   ]
  },
  {
   "cell_type": "markdown",
   "metadata": {
    "id": "5EqcMmU01NKp"
   },
   "source": [
    "Awesome, now we have a local directory with all the personas that will be attending the party, we can load and index!\n",
    "\n",
    "### Loading and embedding persona documents\n",
    "\n",
    "We will use the `SimpleDirectoryReader` to load the persona descriptions from the `data` directory. This will return a list of `Document` objects."
   ]
  },
  {
   "cell_type": "code",
   "execution_count": 4,
   "metadata": {
    "colab": {
     "base_uri": "https://localhost:8080/"
    },
    "executionInfo": {
     "elapsed": 13288,
     "status": "ok",
     "timestamp": 1741690424530,
     "user": {
      "displayName": "German Z",
      "userId": "10416485626185439003"
     },
     "user_tz": -60
    },
    "id": "ZMnrx4rg1NKp",
    "outputId": "8444a7ae-9f72-4df6-e6a1-39fc405e9d06"
   },
   "outputs": [
    {
     "data": {
      "text/plain": [
       "5000"
      ]
     },
     "execution_count": 4,
     "metadata": {},
     "output_type": "execute_result"
    }
   ],
   "source": [
    "from llama_index.core import SimpleDirectoryReader\n",
    "\n",
    "reader = SimpleDirectoryReader(input_dir=\"data\")\n",
    "documents = reader.load_data()\n",
    "len(documents)"
   ]
  },
  {
   "cell_type": "markdown",
   "metadata": {
    "id": "XmOII9Mc1NKr"
   },
   "source": [
    "Now we have a list of `Document` objects, we can use the `IngestionPipeline` to create nodes from the documents and prepare them for the `QueryEngine`. We will use the `SentenceSplitter` to split the documents into smaller chunks and the `HuggingFaceInferenceAPIEmbedding` to embed the chunks."
   ]
  },
  {
   "cell_type": "code",
   "execution_count": 8,
   "metadata": {},
   "outputs": [
    {
     "name": "stdout",
     "output_type": "stream",
     "text": [
      "Requirement already satisfied: llama-index-embeddings-ollama in /home/daimler/workspaces/agents-course-huggingface/.venv/lib/python3.12/site-packages (0.6.0)\n",
      "Requirement already satisfied: llama-index-core<0.13.0,>=0.12.0 in /home/daimler/workspaces/agents-course-huggingface/.venv/lib/python3.12/site-packages (from llama-index-embeddings-ollama) (0.12.23.post2)\n",
      "Requirement already satisfied: ollama>=0.3.1 in /home/daimler/workspaces/agents-course-huggingface/.venv/lib/python3.12/site-packages (from llama-index-embeddings-ollama) (0.4.7)\n",
      "Requirement already satisfied: PyYAML>=6.0.1 in /home/daimler/workspaces/agents-course-huggingface/.venv/lib/python3.12/site-packages (from llama-index-core<0.13.0,>=0.12.0->llama-index-embeddings-ollama) (6.0.2)\n",
      "Requirement already satisfied: SQLAlchemy>=1.4.49 in /home/daimler/workspaces/agents-course-huggingface/.venv/lib/python3.12/site-packages (from SQLAlchemy[asyncio]>=1.4.49->llama-index-core<0.13.0,>=0.12.0->llama-index-embeddings-ollama) (2.0.38)\n",
      "Requirement already satisfied: aiohttp<4.0.0,>=3.8.6 in /home/daimler/workspaces/agents-course-huggingface/.venv/lib/python3.12/site-packages (from llama-index-core<0.13.0,>=0.12.0->llama-index-embeddings-ollama) (3.11.13)\n",
      "Requirement already satisfied: dataclasses-json in /home/daimler/workspaces/agents-course-huggingface/.venv/lib/python3.12/site-packages (from llama-index-core<0.13.0,>=0.12.0->llama-index-embeddings-ollama) (0.6.7)\n",
      "Requirement already satisfied: deprecated>=1.2.9.3 in /home/daimler/workspaces/agents-course-huggingface/.venv/lib/python3.12/site-packages (from llama-index-core<0.13.0,>=0.12.0->llama-index-embeddings-ollama) (1.2.18)\n",
      "Requirement already satisfied: dirtyjson<2.0.0,>=1.0.8 in /home/daimler/workspaces/agents-course-huggingface/.venv/lib/python3.12/site-packages (from llama-index-core<0.13.0,>=0.12.0->llama-index-embeddings-ollama) (1.0.8)\n",
      "Requirement already satisfied: filetype<2.0.0,>=1.2.0 in /home/daimler/workspaces/agents-course-huggingface/.venv/lib/python3.12/site-packages (from llama-index-core<0.13.0,>=0.12.0->llama-index-embeddings-ollama) (1.2.0)\n",
      "Requirement already satisfied: fsspec>=2023.5.0 in /home/daimler/workspaces/agents-course-huggingface/.venv/lib/python3.12/site-packages (from llama-index-core<0.13.0,>=0.12.0->llama-index-embeddings-ollama) (2024.12.0)\n",
      "Requirement already satisfied: httpx in /home/daimler/workspaces/agents-course-huggingface/.venv/lib/python3.12/site-packages (from llama-index-core<0.13.0,>=0.12.0->llama-index-embeddings-ollama) (0.28.1)\n",
      "Requirement already satisfied: nest-asyncio<2.0.0,>=1.5.8 in /home/daimler/workspaces/agents-course-huggingface/.venv/lib/python3.12/site-packages (from llama-index-core<0.13.0,>=0.12.0->llama-index-embeddings-ollama) (1.6.0)\n",
      "Requirement already satisfied: networkx>=3.0 in /home/daimler/workspaces/agents-course-huggingface/.venv/lib/python3.12/site-packages (from llama-index-core<0.13.0,>=0.12.0->llama-index-embeddings-ollama) (3.4.2)\n",
      "Requirement already satisfied: nltk>3.8.1 in /home/daimler/workspaces/agents-course-huggingface/.venv/lib/python3.12/site-packages (from llama-index-core<0.13.0,>=0.12.0->llama-index-embeddings-ollama) (3.9.1)\n",
      "Requirement already satisfied: numpy in /home/daimler/workspaces/agents-course-huggingface/.venv/lib/python3.12/site-packages (from llama-index-core<0.13.0,>=0.12.0->llama-index-embeddings-ollama) (2.2.3)\n",
      "Requirement already satisfied: pillow>=9.0.0 in /home/daimler/workspaces/agents-course-huggingface/.venv/lib/python3.12/site-packages (from llama-index-core<0.13.0,>=0.12.0->llama-index-embeddings-ollama) (11.1.0)\n",
      "Requirement already satisfied: pydantic>=2.8.0 in /home/daimler/workspaces/agents-course-huggingface/.venv/lib/python3.12/site-packages (from llama-index-core<0.13.0,>=0.12.0->llama-index-embeddings-ollama) (2.10.6)\n",
      "Requirement already satisfied: requests>=2.31.0 in /home/daimler/workspaces/agents-course-huggingface/.venv/lib/python3.12/site-packages (from llama-index-core<0.13.0,>=0.12.0->llama-index-embeddings-ollama) (2.32.3)\n",
      "Requirement already satisfied: tenacity!=8.4.0,<10.0.0,>=8.2.0 in /home/daimler/workspaces/agents-course-huggingface/.venv/lib/python3.12/site-packages (from llama-index-core<0.13.0,>=0.12.0->llama-index-embeddings-ollama) (9.0.0)\n",
      "Requirement already satisfied: tiktoken>=0.3.3 in /home/daimler/workspaces/agents-course-huggingface/.venv/lib/python3.12/site-packages (from llama-index-core<0.13.0,>=0.12.0->llama-index-embeddings-ollama) (0.9.0)\n",
      "Requirement already satisfied: tqdm<5.0.0,>=4.66.1 in /home/daimler/workspaces/agents-course-huggingface/.venv/lib/python3.12/site-packages (from llama-index-core<0.13.0,>=0.12.0->llama-index-embeddings-ollama) (4.67.1)\n",
      "Requirement already satisfied: typing-extensions>=4.5.0 in /home/daimler/workspaces/agents-course-huggingface/.venv/lib/python3.12/site-packages (from llama-index-core<0.13.0,>=0.12.0->llama-index-embeddings-ollama) (4.12.2)\n",
      "Requirement already satisfied: typing-inspect>=0.8.0 in /home/daimler/workspaces/agents-course-huggingface/.venv/lib/python3.12/site-packages (from llama-index-core<0.13.0,>=0.12.0->llama-index-embeddings-ollama) (0.9.0)\n",
      "Requirement already satisfied: wrapt in /home/daimler/workspaces/agents-course-huggingface/.venv/lib/python3.12/site-packages (from llama-index-core<0.13.0,>=0.12.0->llama-index-embeddings-ollama) (1.17.2)\n",
      "Requirement already satisfied: aiohappyeyeballs>=2.3.0 in /home/daimler/workspaces/agents-course-huggingface/.venv/lib/python3.12/site-packages (from aiohttp<4.0.0,>=3.8.6->llama-index-core<0.13.0,>=0.12.0->llama-index-embeddings-ollama) (2.5.0)\n",
      "Requirement already satisfied: aiosignal>=1.1.2 in /home/daimler/workspaces/agents-course-huggingface/.venv/lib/python3.12/site-packages (from aiohttp<4.0.0,>=3.8.6->llama-index-core<0.13.0,>=0.12.0->llama-index-embeddings-ollama) (1.3.2)\n",
      "Requirement already satisfied: attrs>=17.3.0 in /home/daimler/workspaces/agents-course-huggingface/.venv/lib/python3.12/site-packages (from aiohttp<4.0.0,>=3.8.6->llama-index-core<0.13.0,>=0.12.0->llama-index-embeddings-ollama) (25.1.0)\n",
      "Requirement already satisfied: frozenlist>=1.1.1 in /home/daimler/workspaces/agents-course-huggingface/.venv/lib/python3.12/site-packages (from aiohttp<4.0.0,>=3.8.6->llama-index-core<0.13.0,>=0.12.0->llama-index-embeddings-ollama) (1.5.0)\n",
      "Requirement already satisfied: multidict<7.0,>=4.5 in /home/daimler/workspaces/agents-course-huggingface/.venv/lib/python3.12/site-packages (from aiohttp<4.0.0,>=3.8.6->llama-index-core<0.13.0,>=0.12.0->llama-index-embeddings-ollama) (6.1.0)\n",
      "Requirement already satisfied: propcache>=0.2.0 in /home/daimler/workspaces/agents-course-huggingface/.venv/lib/python3.12/site-packages (from aiohttp<4.0.0,>=3.8.6->llama-index-core<0.13.0,>=0.12.0->llama-index-embeddings-ollama) (0.3.0)\n",
      "Requirement already satisfied: yarl<2.0,>=1.17.0 in /home/daimler/workspaces/agents-course-huggingface/.venv/lib/python3.12/site-packages (from aiohttp<4.0.0,>=3.8.6->llama-index-core<0.13.0,>=0.12.0->llama-index-embeddings-ollama) (1.18.3)\n",
      "Requirement already satisfied: anyio in /home/daimler/workspaces/agents-course-huggingface/.venv/lib/python3.12/site-packages (from httpx->llama-index-core<0.13.0,>=0.12.0->llama-index-embeddings-ollama) (4.8.0)\n",
      "Requirement already satisfied: certifi in /home/daimler/workspaces/agents-course-huggingface/.venv/lib/python3.12/site-packages (from httpx->llama-index-core<0.13.0,>=0.12.0->llama-index-embeddings-ollama) (2025.1.31)\n",
      "Requirement already satisfied: httpcore==1.* in /home/daimler/workspaces/agents-course-huggingface/.venv/lib/python3.12/site-packages (from httpx->llama-index-core<0.13.0,>=0.12.0->llama-index-embeddings-ollama) (1.0.7)\n",
      "Requirement already satisfied: idna in /home/daimler/workspaces/agents-course-huggingface/.venv/lib/python3.12/site-packages (from httpx->llama-index-core<0.13.0,>=0.12.0->llama-index-embeddings-ollama) (3.10)\n",
      "Requirement already satisfied: h11<0.15,>=0.13 in /home/daimler/workspaces/agents-course-huggingface/.venv/lib/python3.12/site-packages (from httpcore==1.*->httpx->llama-index-core<0.13.0,>=0.12.0->llama-index-embeddings-ollama) (0.14.0)\n",
      "Requirement already satisfied: click in /home/daimler/workspaces/agents-course-huggingface/.venv/lib/python3.12/site-packages (from nltk>3.8.1->llama-index-core<0.13.0,>=0.12.0->llama-index-embeddings-ollama) (8.1.8)\n",
      "Requirement already satisfied: joblib in /home/daimler/workspaces/agents-course-huggingface/.venv/lib/python3.12/site-packages (from nltk>3.8.1->llama-index-core<0.13.0,>=0.12.0->llama-index-embeddings-ollama) (1.4.2)\n",
      "Requirement already satisfied: regex>=2021.8.3 in /home/daimler/workspaces/agents-course-huggingface/.venv/lib/python3.12/site-packages (from nltk>3.8.1->llama-index-core<0.13.0,>=0.12.0->llama-index-embeddings-ollama) (2024.11.6)\n",
      "Requirement already satisfied: annotated-types>=0.6.0 in /home/daimler/workspaces/agents-course-huggingface/.venv/lib/python3.12/site-packages (from pydantic>=2.8.0->llama-index-core<0.13.0,>=0.12.0->llama-index-embeddings-ollama) (0.7.0)\n",
      "Requirement already satisfied: pydantic-core==2.27.2 in /home/daimler/workspaces/agents-course-huggingface/.venv/lib/python3.12/site-packages (from pydantic>=2.8.0->llama-index-core<0.13.0,>=0.12.0->llama-index-embeddings-ollama) (2.27.2)\n",
      "Requirement already satisfied: charset-normalizer<4,>=2 in /home/daimler/workspaces/agents-course-huggingface/.venv/lib/python3.12/site-packages (from requests>=2.31.0->llama-index-core<0.13.0,>=0.12.0->llama-index-embeddings-ollama) (3.4.1)\n",
      "Requirement already satisfied: urllib3<3,>=1.21.1 in /home/daimler/workspaces/agents-course-huggingface/.venv/lib/python3.12/site-packages (from requests>=2.31.0->llama-index-core<0.13.0,>=0.12.0->llama-index-embeddings-ollama) (2.3.0)\n",
      "Requirement already satisfied: greenlet!=0.4.17 in /home/daimler/workspaces/agents-course-huggingface/.venv/lib/python3.12/site-packages (from SQLAlchemy>=1.4.49->SQLAlchemy[asyncio]>=1.4.49->llama-index-core<0.13.0,>=0.12.0->llama-index-embeddings-ollama) (3.1.1)\n",
      "Requirement already satisfied: mypy-extensions>=0.3.0 in /home/daimler/workspaces/agents-course-huggingface/.venv/lib/python3.12/site-packages (from typing-inspect>=0.8.0->llama-index-core<0.13.0,>=0.12.0->llama-index-embeddings-ollama) (1.0.0)\n",
      "Requirement already satisfied: marshmallow<4.0.0,>=3.18.0 in /home/daimler/workspaces/agents-course-huggingface/.venv/lib/python3.12/site-packages (from dataclasses-json->llama-index-core<0.13.0,>=0.12.0->llama-index-embeddings-ollama) (3.26.1)\n",
      "Requirement already satisfied: packaging>=17.0 in /home/daimler/workspaces/agents-course-huggingface/.venv/lib/python3.12/site-packages (from marshmallow<4.0.0,>=3.18.0->dataclasses-json->llama-index-core<0.13.0,>=0.12.0->llama-index-embeddings-ollama) (24.2)\n",
      "Requirement already satisfied: sniffio>=1.1 in /home/daimler/workspaces/agents-course-huggingface/.venv/lib/python3.12/site-packages (from anyio->httpx->llama-index-core<0.13.0,>=0.12.0->llama-index-embeddings-ollama) (1.3.1)\n",
      "Note: you may need to restart the kernel to use updated packages.\n",
      "\u001b[?25lpulling manifest ⠋ \u001b[?25h\u001b[?25l\u001b[2K\u001b[1Gpulling manifest ⠙ \u001b[?25h\u001b[?25l\u001b[2K\u001b[1Gpulling manifest ⠹ \u001b[?25h\u001b[?25l\u001b[2K\u001b[1Gpulling manifest ⠸ \u001b[?25h\u001b[?25l\u001b[2K\u001b[1Gpulling manifest \n",
      "pulling 6dbfaeaa2837... 100% ▕████████████████▏  67 MB                         \n",
      "pulling ac02c0b5e300... 100% ▕████████████████▏  262 B                         \n",
      "verifying sha256 digest \n",
      "writing manifest \n",
      "success \u001b[?25h\n"
     ]
    }
   ],
   "source": [
    "%pip install llama-index-embeddings-ollama\n",
    "\n",
    "!ollama pull qllama/bge-small-en-v1.5:f16 "
   ]
  },
  {
   "cell_type": "code",
   "execution_count": 9,
   "metadata": {
    "colab": {
     "base_uri": "https://localhost:8080/",
     "height": 347
    },
    "executionInfo": {
     "elapsed": 253,
     "status": "error",
     "timestamp": 1741691122642,
     "user": {
      "displayName": "German Z",
      "userId": "10416485626185439003"
     },
     "user_tz": -60
    },
    "id": "-y8zHbpo1NKr",
    "outputId": "a596bbf4-550a-4e25-8f6d-1c11e2063262"
   },
   "outputs": [
    {
     "data": {
      "text/plain": [
       "[TextNode(id_='c9bd5497-692f-40cd-906c-dfb9b7d75e1e', embedding=[-0.1155925840139389, 0.11756384372711182, 0.31548774242401123, -0.010442741215229034, 0.062471162527799606, -0.21860802173614502, 0.07422478497028351, 0.1554882973432541, -0.8126384615898132, -0.8672986030578613, -0.15084494650363922, -0.4180627465248108, -0.4126204550266266, 0.3191247582435608, -0.08667249977588654, 0.028504356741905212, -0.043927405029535294, 0.8400282859802246, 0.16205215454101562, -0.22673261165618896, -0.2809491455554962, -0.43867677450180054, 0.568784773349762, -0.006498023867607117, -0.21258544921875, 0.1770147681236267, 0.46626436710357666, -0.1517353057861328, 0.02527783066034317, -1.0909438133239746, -0.32064780592918396, 0.08379112184047699, 0.05516097694635391, 0.1199626475572586, 0.4842248558998108, 0.4430839419364929, -0.12091891467571259, 0.7001889944076538, 0.20285490155220032, -0.15056031942367554, 0.009695194661617279, 0.05401137098670006, -0.2609137296676636, 0.5221009254455566, 0.6141635775566101, -0.023623943328857422, 0.27712640166282654, 0.04819066822528839, -0.1695186048746109, -0.5540593266487122, 0.08062424510717392, -0.11074891686439514, -0.14235317707061768, -0.014589816331863403, -0.15891577303409576, 1.2242053747177124, 0.8811236619949341, 0.2668805718421936, 0.16550594568252563, 0.17728272080421448, 0.4032948613166809, -0.0022938549518585205, -1.8153460025787354, 0.5184298753738403, 0.13536903262138367, 0.12979444861412048, -0.4441428780555725, -0.2567920684814453, 0.10911770910024643, 0.05174430087208748, -0.09911957383155823, -0.40390220284461975, -0.5547965168952942, -0.2265506088733673, 0.26142019033432007, -0.46232151985168457, 0.23701652884483337, 0.08253033459186554, -0.6315100193023682, -0.04947156459093094, 0.2384248673915863, -0.36257845163345337, -0.17219476401805878, -0.2715454697608948, -0.05649434030056, -0.20150594413280487, 0.056260962039232254, -0.022474125027656555, -0.21068733930587769, -0.11475111544132233, 0.009357191622257233, -0.8469308614730835, 0.5120386481285095, -0.23191848397254944, -0.25604248046875, -0.19820646941661835, 0.06039412319660187, 0.26345527172088623, 0.0194258913397789, 3.8660271167755127, 0.09687826037406921, 0.3157358169555664, 0.016411177814006805, -0.47668585181236267, -0.05640280246734619, 0.19529440999031067, 0.029408350586891174, 0.18701905012130737, -0.427460640668869, -0.13530473411083221, -0.04006354510784149, 0.4057178795337677, -0.4057910442352295, -0.08234360814094543, 0.7230974435806274, -0.16584844887256622, 0.4489307701587677, 0.7590007185935974, 0.3361932039260864, -0.1975896656513214, 0.22250129282474518, -0.12416273355484009, 0.18839478492736816, 0.07816798985004425, -0.2497827410697937, -0.3861963450908661, 0.00842546671628952, 0.43488311767578125, -0.034235693514347076, -0.19828417897224426, -0.4073828458786011, 0.3392883241176605, -0.40003180503845215, 0.26681721210479736, 0.01640406996011734, 0.47210177779197693, 0.4555871784687042, -0.0370466448366642, 0.15575817227363586, 0.14269407093524933, 0.12567076086997986, -0.06531262397766113, -0.40849611163139343, 0.040785372257232666, -0.9565129280090332, 0.17441007494926453, 0.06878924369812012, -0.0635417103767395, -0.11162341386079788, -0.09439261257648468, -0.2523290514945984, 0.06282411515712738, -0.5472055077552795, 0.3453582525253296, 0.5554046630859375, -0.1349073052406311, 0.7070116996765137, 0.6862666010856628, -0.5233092308044434, 0.5249313712120056, 0.48587357997894287, -0.7807185649871826, 0.317033976316452, 0.13078433275222778, 0.2675130367279053, -0.7675127387046814, -0.3040009140968323, -0.17317257821559906, 0.26396775245666504, -0.047938283532857895, 0.25257253646850586, 0.3871801197528839, -0.5272142887115479, 0.9241541028022766, 0.446087121963501, 0.3178819417953491, -0.22036568820476532, 0.42589667439460754, -0.02578074485063553, 0.05714517459273338, -0.4214777946472168, -0.38642066717147827, -0.08980609476566315, 0.31742358207702637, 0.013618826866149902, 0.2758916914463043, 0.11264455318450928, -0.26441293954849243, 0.18722161650657654, 0.4903585612773895, 0.5892500877380371, 0.3640606701374054, -0.017757251858711243, 0.2644879221916199, 0.015089675784111023, -0.1509934365749359, 0.12214009463787079, 0.1859942078590393, -0.2301935851573944, -0.4197869896888733, -0.3887588679790497, -0.08465126901865005, -0.8001663684844971, 0.1944083720445633, -0.09966622292995453, 0.06344947218894958, -0.011049885302782059, -0.002349238842725754, 0.11060474067926407, -0.441425621509552, -0.617053210735321, -0.17640261352062225, -0.11649374663829803, 0.00575672835111618, 0.06605854630470276, -0.05206673592329025, 0.25022101402282715, -0.035974323749542236, 0.6555541753768921, 0.09373383969068527, -0.3475220799446106, -0.09348152577877045, -0.6719269752502441, -2.6310033798217773, 0.06489428877830505, -0.9953781962394714, 0.4376753568649292, -0.6554791927337646, -0.3846379220485687, -0.08790354430675507, 0.0021645426750183105, 0.0286845862865448, 0.4924775958061218, -0.3848286271095276, -0.027997266501188278, 0.35936108231544495, 0.2482052892446518, 0.5267173647880554, 0.15370292961597443, 0.3505673110485077, 0.25554075837135315, -0.6597223281860352, -0.11376742273569107, 0.5920372605323792, -0.007549174129962921, 0.04960009455680847, -0.28613510727882385, 0.34447452425956726, 0.13876323401927948, 1.0215179920196533, 0.34526944160461426, -0.1912865936756134, -0.48641884326934814, -0.3562408983707428, -0.2787189185619354, -0.5613978505134583, -0.516919732093811, -0.18499881029129028, -0.3523992896080017, 0.46449679136276245, 0.3903251588344574, -0.18387871980667114, 0.16416066884994507, -0.6474789977073669, -0.44288259744644165, -0.28307008743286133, 0.2183733880519867, -0.31499478220939636, 0.28657081723213196, 0.14677007496356964, -0.030234552919864655, -0.07720860093832016, 0.02116446942090988, 0.41998812556266785, -0.07274402678012848, -0.26761019229888916, 0.18710783123970032, -0.6355115175247192, -0.06601136177778244, -0.29004621505737305, 0.29732567071914673, -0.04112498462200165, 0.45751282572746277, -0.04507072642445564, -0.4912418723106384, -0.016507238149642944, 0.04952530562877655, 0.20317573845386505, 0.15580765902996063, -0.2820775806903839, -0.5557581186294556, 0.5164909958839417, -0.8256319165229797, 0.04349857568740845, 0.48117247223854065, -0.3073955774307251, -0.3799414336681366, 0.1769694685935974, 0.12476015836000443, 0.43961530923843384, 0.4877470135688782, 0.22235876321792603, -0.19613134860992432, 0.38671043515205383, -0.4133053421974182, 0.10676059126853943, 0.12032724916934967, -0.23901838064193726, 0.47326648235321045, 0.6442294120788574, -0.4611152112483978, 0.22562555968761444, 0.38444948196411133, 0.3763009011745453, 0.08326233923435211, -0.6017432808876038, -0.30835026502609253, 0.13335037231445312, -0.22438201308250427, -2.0688395500183105, -0.18076923489570618, 0.5985232591629028, 0.29830119013786316, 0.005340419709682465, 0.14984235167503357, -0.059093475341796875, -0.26400524377822876, 0.5204923152923584, -0.28845110535621643, 0.768879234790802, -0.0316910445690155, -0.04214944690465927, -0.13184651732444763, 0.267332524061203, -0.03599490970373154, -0.056643009185791016, 0.2710428237915039, -0.1264132559299469, 0.1940625011920929, 0.18681685626506805, -0.5505465269088745, 1.4369341135025024, 0.30647557973861694, 0.18808212876319885, -0.5756432414054871, 0.006602641195058823, -0.3076813817024231, -0.1642591953277588, 0.24368220567703247, 0.07056648284196854, -0.22790855169296265, 0.6853911280632019, -0.7131944298744202, 0.06530249863862991, 0.18708817660808563, -0.6011210680007935, 0.5071029663085938, -0.17001505196094513, -0.2611992359161377, -0.7189313769340515, 0.3581770360469818, -0.2560359835624695, -0.4083614647388458, 0.45182138681411743, 0.12251703441143036, -0.14075535535812378, 0.301402747631073, -0.21448981761932373, 0.36200594902038574, 0.6890292167663574, -0.5487887263298035, -0.7149624824523926, -0.14093908667564392, 0.3820030689239502, 0.3518182039260864, 0.009087875485420227, 0.2953384518623352, 0.1610184758901596, 0.37910786271095276, -0.18196970224380493, 0.15851357579231262, -0.25886112451553345, 0.007114961743354797, 0.42759639024734497], metadata={'file_path': '/home/daimler/workspaces/agents-course-huggingface/2.2-llamaindex/data/persona_0.txt', 'file_name': 'persona_0.txt', 'file_type': 'text/plain', 'file_size': 132, 'creation_date': '2025-03-11', 'last_modified_date': '2025-03-11'}, excluded_embed_metadata_keys=['file_name', 'file_type', 'file_size', 'creation_date', 'last_modified_date', 'last_accessed_date'], excluded_llm_metadata_keys=['file_name', 'file_type', 'file_size', 'creation_date', 'last_modified_date', 'last_accessed_date'], relationships={<NodeRelationship.SOURCE: '1'>: RelatedNodeInfo(node_id='89d41a62-ce8b-4bd0-a9fb-6649855b294a', node_type=<ObjectType.DOCUMENT: '4'>, metadata={'file_path': '/home/daimler/workspaces/agents-course-huggingface/2.2-llamaindex/data/persona_0.txt', 'file_name': 'persona_0.txt', 'file_type': 'text/plain', 'file_size': 132, 'creation_date': '2025-03-11', 'last_modified_date': '2025-03-11'}, hash='58941961f90b934d82fa9d9b70fda325c381f42a776edd7a7dd312150a5e6268')}, metadata_template='{key}: {value}', metadata_separator='\\n', text='A local art historian and museum professional interested in 19th-century American art and the local cultural heritage of Cincinnati.', mimetype='text/plain', start_char_idx=0, end_char_idx=132, metadata_seperator='\\n', text_template='{metadata_str}\\n\\n{content}'),\n",
       " TextNode(id_='82f0ff1e-e7e1-461b-8f1b-cc489217889a', embedding=[0.3261092007160187, 0.8218252062797546, 0.29128512740135193, -0.41192248463630676, -0.15372234582901, -0.5371097922325134, 0.783300518989563, 0.2877843976020813, -0.3472241461277008, -0.5222817063331604, -0.2743213176727295, -0.9530554413795471, 0.1790551245212555, 0.18892645835876465, 0.17775395512580872, 0.3037697374820709, -0.0377228818833828, 0.17310132086277008, 0.3300284147262573, -0.2745586931705475, 0.17422276735305786, -0.3721970319747925, -0.13135352730751038, 0.062369972467422485, -0.2889603078365326, 0.12349969893693924, 0.3777942955493927, -0.3017209768295288, -0.1506342887878418, -0.8013404607772827, -0.3173680007457733, 0.020516052842140198, 0.10244054347276688, 0.24988290667533875, -0.05724998936057091, 0.16291096806526184, 0.18405911326408386, 0.3021897077560425, 0.11095251142978668, 0.6657771468162537, 0.09581384807825089, -0.5740372538566589, 0.06974213570356369, 0.39320793747901917, 0.30759647488594055, -0.3709512948989868, 0.08797414600849152, 0.07236986607313156, -0.5307836532592773, -0.9021247029304504, -0.6952225565910339, -0.5731120705604553, -0.10366222262382507, -0.2770480215549469, -0.2711711525917053, 0.12178993970155716, 0.9495452642440796, 0.2679165303707123, 0.1551928073167801, 0.13436099886894226, 0.42304474115371704, 0.5704692602157593, -1.3388711214065552, 0.7934784293174744, -0.12905779480934143, 0.6377289295196533, -0.12351465225219727, -0.608681857585907, -0.6042520403862, -0.47912997007369995, -0.4939280152320862, -0.033661819994449615, 0.3518502116203308, 0.24314090609550476, 0.31319576501846313, -0.02307724580168724, 0.05517371743917465, -0.0872085765004158, -0.26595330238342285, 0.303160160779953, 0.32173049449920654, -0.2387240082025528, -0.2979666292667389, -0.3970588743686676, 0.33047816157341003, 0.12944000959396362, 0.09267500042915344, 0.061370134353637695, -0.028163298964500427, 0.15902799367904663, -0.22648605704307556, -0.0505710244178772, 0.37624213099479675, 0.04109840467572212, 0.03426133096218109, -0.07802996039390564, -0.23119330406188965, 0.36334824562072754, -0.3736099302768707, 3.703497886657715, 0.046253710985183716, -0.10574127733707428, 0.45752260088920593, -0.14646251499652863, -0.021748453378677368, -0.17180778086185455, 0.2856616675853729, 0.019932948052883148, 0.2655577063560486, -0.2018851935863495, -0.28149452805519104, 0.5377840399742126, -0.4534708857536316, 0.22452783584594727, 0.4449092745780945, 0.018302593380212784, 0.48636212944984436, 0.4126439690589905, -0.09853014349937439, -0.26397567987442017, -0.01325446367263794, -0.5256957411766052, 0.49971699714660645, -0.05931813642382622, 0.10648970305919647, 0.25841015577316284, 0.22537347674369812, 0.5473295450210571, 0.08583082258701324, 0.27385374903678894, 0.32251501083374023, -0.08002933114767075, -0.23596502840518951, 0.15211841464042664, 0.0867960974574089, 0.23297050595283508, -0.014367513358592987, -0.07725764811038971, 0.0835733711719513, -0.09665756672620773, -0.40394020080566406, 0.03305560350418091, 0.23030075430870056, 0.4522237777709961, -0.9383222460746765, 0.29177913069725037, -0.15422269701957703, 0.44077378511428833, -0.3501194417476654, 0.5759474039077759, -0.49046313762664795, 0.2541259527206421, -0.13681909441947937, -0.22945544123649597, 0.13721461594104767, -0.3336483836174011, 0.8112084865570068, 0.45426374673843384, -0.5966160297393799, -0.22565236687660217, 0.12001019716262817, -0.9126589298248291, -0.1603650152683258, 0.3981870412826538, 0.3105078339576721, -0.7217567563056946, -0.13714781403541565, -0.04114578664302826, 0.24850234389305115, -0.32836318016052246, 0.2677570581436157, 0.13171762228012085, -0.274149090051651, 0.5993115305900574, 0.5660198926925659, 0.09065483510494232, 0.03332111984491348, 0.5930728912353516, -0.1376945972442627, 0.06186423823237419, -0.00784359872341156, -0.10440731048583984, -0.1983816921710968, 0.040825143456459045, -0.10181371867656708, -0.02625095844268799, -0.5285354852676392, -0.048465076833963394, 0.3861577808856964, -0.1331671178340912, 0.4219084084033966, 0.6819686889648438, 0.10199350118637085, -0.28409844636917114, 0.4365655481815338, 0.008625604212284088, -0.03447816148400307, -0.0014709904789924622, -0.46210360527038574, 0.14790450036525726, -0.4342306852340698, 0.7444024085998535, -0.24762946367263794, 0.045484643429517746, -0.22940203547477722, -0.5628989934921265, 0.08631067723035812, 0.16715216636657715, 0.11497341096401215, -0.11107578873634338, -0.3353123068809509, -0.09807082265615463, -0.894711971282959, 0.35733482241630554, -0.007614202797412872, -0.19849227368831635, 0.37954410910606384, -0.14651340246200562, 0.4602949619293213, -0.1628682017326355, -0.2725173234939575, -0.5574737787246704, -0.45911213755607605, -2.831645965576172, 0.5264504551887512, -0.32860592007637024, 0.4526594281196594, -0.28416046500205994, 0.033331915736198425, 0.051723890006542206, 0.12193737924098969, 0.3834652304649353, 0.07861287891864777, -0.025050878524780273, -0.1583104282617569, 0.04356273263692856, 0.9804182648658752, 0.12760433554649353, 0.056418053805828094, 0.0456320121884346, -0.05260791629552841, -0.5351678729057312, 0.06919458508491516, 0.2205851674079895, 0.04227354750037193, -0.06936456263065338, -0.859383225440979, 0.20494961738586426, -0.22045345604419708, 0.9564287662506104, 0.5215210914611816, -0.13510623574256897, -0.8835335969924927, 0.13542625308036804, 0.3943634629249573, -0.1180819720029831, -1.0628682374954224, 0.16936540603637695, -0.3903936445713043, 0.6656650304794312, -0.3167082667350769, 0.015168838202953339, -0.03390691056847572, 0.18162864446640015, -0.4197764992713928, -0.09486833959817886, 0.4411872625350952, -0.5708724856376648, 0.26249179244041443, -0.0037548020482063293, -0.19545435905456543, 0.18960100412368774, -0.04722952842712402, 0.11849839240312576, 0.21992948651313782, -0.20033800601959229, -0.19873911142349243, -0.945471465587616, 0.17905306816101074, -0.25088322162628174, -0.2264668047428131, -0.1808428168296814, 0.6246585845947266, 0.29460030794143677, 0.01622142642736435, 0.48612579703330994, -0.01707395911216736, 0.18187680840492249, -0.47555792331695557, -0.28973910212516785, 0.22398275136947632, 0.4419342279434204, -0.24126243591308594, -0.055591173470020294, 1.2178122997283936, -0.5871734023094177, -0.1379968225955963, 0.20180636644363403, -0.1355239599943161, 0.1405925154685974, 0.12043336033821106, 0.24169620871543884, 0.3911653161048889, 0.758367121219635, -0.786638617515564, -0.34694162011146545, -0.0114031583070755, 0.25129127502441406, 0.4267893135547638, 0.09325142204761505, -0.37958043813705444, 0.2627384066581726, 0.0032041147351264954, 0.1854718029499054, 0.3205344080924988, -0.38610589504241943, -0.1308259814977646, -0.10486333072185516, -0.16535872220993042, -2.2446770668029785, 0.4998495578765869, -0.36054113507270813, 0.21610984206199646, 0.7284451723098755, -0.0887918770313263, -0.5142711997032166, -0.1118697077035904, 0.25395461916923523, -0.4135726988315582, 0.9463157653808594, 0.24863478541374207, 0.2465229481458664, 0.5756703615188599, 0.2939661741256714, 0.0985858142375946, 0.44026824831962585, -0.09686663001775742, 0.19269609451293945, -0.2870864272117615, -0.20035067200660706, -0.5482010245323181, 1.228928565979004, 0.2825826108455658, -0.16359637677669525, -0.4371906518936157, 0.08002723008394241, -0.2930101454257965, -0.10853004455566406, -0.501061201095581, 0.4510584771633148, -0.03777550160884857, 0.43540966510772705, -0.1441720426082611, 0.009942792356014252, 0.1368669867515564, -0.35636642575263977, -0.1336081624031067, 0.018099229782819748, -0.11580602824687958, -0.3210728168487549, 0.049850836396217346, 0.5092834234237671, 0.09365750849246979, 0.60042804479599, -0.2128443717956543, -0.41006627678871155, -0.5224140882492065, 0.13530480861663818, 0.12198616564273834, 0.5775028467178345, -0.4772198498249054, -0.807151734828949, 0.3317182660102844, 0.24251039326190948, -0.33765602111816406, -0.27613168954849243, -0.36954760551452637, 0.5843349695205688, -0.2185433804988861, -0.16599835455417633, 0.09464795887470245, 0.011493377387523651, -0.30385929346084595, -0.15944573283195496], metadata={'file_path': '/home/daimler/workspaces/agents-course-huggingface/2.2-llamaindex/data/persona_1.txt', 'file_name': 'persona_1.txt', 'file_type': 'text/plain', 'file_size': 266, 'creation_date': '2025-03-11', 'last_modified_date': '2025-03-11'}, excluded_embed_metadata_keys=['file_name', 'file_type', 'file_size', 'creation_date', 'last_modified_date', 'last_accessed_date'], excluded_llm_metadata_keys=['file_name', 'file_type', 'file_size', 'creation_date', 'last_modified_date', 'last_accessed_date'], relationships={<NodeRelationship.SOURCE: '1'>: RelatedNodeInfo(node_id='f404972e-6750-4523-99c2-30d3cd84854e', node_type=<ObjectType.DOCUMENT: '4'>, metadata={'file_path': '/home/daimler/workspaces/agents-course-huggingface/2.2-llamaindex/data/persona_1.txt', 'file_name': 'persona_1.txt', 'file_type': 'text/plain', 'file_size': 266, 'creation_date': '2025-03-11', 'last_modified_date': '2025-03-11'}, hash='e6c87149a97bf9e5dbdf33922a4e5023c6b72550ca0b63472bd5d25103b28e99')}, metadata_template='{key}: {value}', metadata_separator='\\n', text='An anthropologist or a cultural expert interested in the intricacies of Cypriot culture, history, and society, particularly someone who has spent considerable time researching and living in Cyprus to gain a deep understanding of its people, customs, and way of life.', mimetype='text/plain', start_char_idx=0, end_char_idx=266, metadata_seperator='\\n', text_template='{metadata_str}\\n\\n{content}'),\n",
       " TextNode(id_='e05ebc56-cc93-4fa3-b416-a42cf886c4f1', embedding=[-0.12502524256706238, 0.002617744728922844, -0.3958211839199066, -0.6980732679367065, -0.14987851679325104, -0.054242923855781555, 0.30267369747161865, 0.1473008394241333, -0.3839099407196045, -0.38024789094924927, 0.11800648272037506, -0.23831653594970703, 0.03786909207701683, -0.046872369945049286, 0.4878658354282379, 0.4636169672012329, 0.3135935068130493, 0.9423888325691223, -0.2011692225933075, -0.21650734543800354, -0.34121060371398926, -0.18969428539276123, -0.09927782416343689, -0.05191350355744362, 0.28702566027641296, 0.04967518895864487, 0.314094215631485, -0.35740944743156433, -0.3420941233634949, -0.8722830414772034, 0.29283061623573303, 0.2225463092327118, 0.7248194813728333, 0.44220423698425293, 0.2123572826385498, 0.47324150800704956, 0.03148402273654938, 0.31129246950149536, -0.5006420016288757, -0.14546622335910797, -0.356859028339386, -0.20095175504684448, -0.20975250005722046, 0.2307834029197693, 0.19351652264595032, 0.016935326159000397, 0.2640494108200073, -0.4699198305606842, -1.1601920127868652, -1.375745177268982, -0.13005948066711426, -0.6310399770736694, -0.10716842114925385, 0.46985766291618347, -0.4192765951156616, 0.4090627431869507, 0.5346850156784058, 0.23458419740200043, 0.13707895576953888, 0.2582106292247772, 0.6554185152053833, -0.18766945600509644, -1.209910273551941, 1.1132293939590454, 0.27495890855789185, 0.46892571449279785, 0.0952354371547699, -0.4681553840637207, 0.1959426999092102, -0.22814545035362244, 0.1011393666267395, -0.10370738804340363, 0.4478820562362671, 0.07863254845142365, 0.21650728583335876, 0.5946197509765625, -0.09610278159379959, 0.0548180490732193, 0.14406830072402954, 0.2522326409816742, 0.12961478531360626, -0.44717973470687866, -0.0036251023411750793, -0.07196921855211258, 0.19804543256759644, -0.2049175202846527, -0.01192636787891388, -0.29457300901412964, 0.03902676701545715, -0.006021164357662201, 0.0069651976227760315, -0.15689128637313843, 0.2867833375930786, -0.3647476136684418, 0.022633403539657593, -0.2150721698999405, -0.5960206985473633, -0.08242502808570862, -0.3776155710220337, 3.6529908180236816, 0.46847468614578247, 0.337653785943985, 0.5731396079063416, -0.10766833275556564, 1.8477439880371094e-05, 0.08477529883384705, 0.5524071455001831, -0.2460283786058426, -0.4339714050292969, -0.5382980704307556, -0.21994218230247498, -0.28985288739204407, -0.1897607445716858, 0.01877162605524063, 0.24468863010406494, -0.23012951016426086, -0.031406745314598083, 0.14441032707691193, 0.09976263344287872, -0.239396870136261, -0.2319515198469162, -0.194797083735466, 0.09916514158248901, -0.36069077253341675, 0.2886194586753845, 0.2967566251754761, 0.22137333452701569, 0.8890233039855957, 0.2669829726219177, 0.02907230705022812, 0.30202287435531616, -0.319607675075531, -0.3880763351917267, 0.0888897031545639, 0.11177296191453934, 0.20676854252815247, 0.13073796033859253, 0.3354381322860718, -0.09675779938697815, 0.36727234721183777, 0.27377384901046753, 0.21122008562088013, -0.4298512935638428, -0.36109888553619385, -0.9396979212760925, 0.5285021066665649, -0.6476084589958191, 0.35466131567955017, -0.34959888458251953, 1.126505732536316, -0.2602410912513733, 0.48970267176628113, -0.5851131677627563, 0.35585519671440125, 0.2480066865682602, 0.19159862399101257, 0.746999204158783, 0.19382594525814056, -0.38636085391044617, 0.1594204306602478, 0.13032764196395874, -0.5065007209777832, -0.39791300892829895, 0.5560272932052612, 0.4288037419319153, -0.586463987827301, -0.28984493017196655, 0.022066934034228325, 0.24759428203105927, -0.08566422015428543, 0.06368964165449142, -0.23157769441604614, 0.19733774662017822, 0.2742392122745514, 0.5398350358009338, 0.20780186355113983, 0.17706146836280823, 0.8167369365692139, -0.1278204619884491, -0.38109922409057617, 0.01057397574186325, -0.4404371976852417, -0.3062664270401001, -0.008049659430980682, -0.3868434429168701, 0.3607448637485504, 0.49965667724609375, -0.453751802444458, 0.10187011957168579, 0.06587496399879456, 0.40223854780197144, 0.17693457007408142, -0.36946213245391846, -0.40693143010139465, 0.2609717845916748, -0.0336858406662941, 0.3563135862350464, -0.7606178522109985, -0.2627875804901123, -0.08471962064504623, -0.3506665527820587, 0.5576858520507812, -0.3715890944004059, 0.0853637307882309, 0.0458361953496933, -0.04426564276218414, -0.08980043977499008, -0.1762060821056366, 0.29931360483169556, -0.23823687434196472, -0.25840798020362854, 0.38050439953804016, -0.4066568613052368, 0.2125328779220581, -0.10400936752557755, 0.07411045581102371, 0.2732476592063904, -0.08840978145599365, 0.39352795481681824, -0.132761150598526, -0.3630993068218231, 0.15652862191200256, -0.42727774381637573, -2.7425246238708496, 0.22561094164848328, -0.42558738589286804, 0.15337221324443817, -0.5675145983695984, 0.4520745873451233, -0.08283346891403198, 0.25666651129722595, -0.3424766957759857, 0.6852399706840515, 0.8076503276824951, 0.34297388792037964, 0.4453200101852417, 0.7169830203056335, 0.6379619240760803, -0.05615311861038208, 0.049991533160209656, 0.12654456496238708, -0.4250626862049103, 0.30155640840530396, 0.4439188539981842, -0.09360773861408234, 0.13330353796482086, -0.2124314308166504, 0.3508871793746948, 0.3366338610649109, 0.6592326760292053, 0.5565038919448853, 0.20886081457138062, -0.3006749749183655, -0.2727991044521332, 0.3059152662754059, 0.06469722092151642, -0.6560921669006348, 0.29458338022232056, -0.8846756815910339, -0.2855592668056488, -0.3435482978820801, -0.0965259000658989, -0.23558127880096436, -0.351430207490921, 0.14449036121368408, 0.09369099140167236, -0.4279215931892395, -0.35675567388534546, -0.3833671808242798, 0.5115463137626648, 0.17295384407043457, 0.08229227364063263, 0.056016501039266586, -0.14417392015457153, -0.7849729061126709, -0.24535033106803894, 0.12198156118392944, -0.3972422182559967, 0.25199007987976074, -0.44484126567840576, 0.5161786079406738, -0.4079139232635498, -0.07630275189876556, 0.10432834923267365, -0.40112411975860596, 0.12598475813865662, -0.23372389376163483, -0.10290053486824036, 0.3864912688732147, 0.08070430159568787, -0.0267425999045372, -0.21175342798233032, -0.6207618117332458, -0.19306643307209015, 0.7728840708732605, -0.27950340509414673, -0.1960667371749878, 0.20788326859474182, -0.20217299461364746, 0.2799777388572693, 0.08239707350730896, -0.15732774138450623, -0.3875712454319, 0.45137596130371094, -0.43566450476646423, -0.5427941083908081, 0.3952801525592804, 0.1054416298866272, -0.19940219819545746, 0.7517167329788208, -0.5037298202514648, 0.44347885251045227, 0.33525338768959045, 0.16796444356441498, 0.7226899862289429, -0.32737696170806885, -0.5188863277435303, -0.2399100959300995, -0.45108991861343384, -2.130186080932617, -0.11638805270195007, -0.22261705994606018, 0.35443201661109924, -0.07812000066041946, 0.16545167565345764, 0.11492861807346344, -0.5151722431182861, -0.33957359194755554, -0.5159469246864319, 0.4329487383365631, 0.8058565258979797, -0.17568987607955933, 0.4312286376953125, -0.07476059347391129, 0.3218354284763336, 0.4807630181312561, -0.14236338436603546, -0.2462805211544037, -0.7096099853515625, -0.19040974974632263, -0.598122775554657, 1.2688182592391968, 0.17096562683582306, 0.07870606333017349, 0.2598969340324402, -0.030765989795327187, -0.3368941843509674, 0.23900184035301208, -0.2539428472518921, 0.27871423959732056, -0.10427369177341461, 0.6454682946205139, -0.24533316493034363, -0.10061939060688019, 0.01599850505590439, -0.04510802403092384, 0.005520574748516083, 0.3613148629665375, 0.4844707250595093, -0.3570466935634613, 0.019721053540706635, 0.5473159551620483, -0.2876744270324707, 0.2300969809293747, -0.24848249554634094, -0.0514533631503582, -0.6572478413581848, -0.4911261796951294, 0.20325827598571777, 0.7724573612213135, 0.06214012950658798, -0.7173724174499512, -0.07833375036716461, 0.19349518418312073, 0.35990890860557556, -0.6027882695198059, 0.46131980419158936, 0.22733065485954285, -0.38269564509391785, -0.17854829132556915, 0.3126329779624939, -0.6084865927696228, 0.16348609328269958, 0.6065378189086914], metadata={'file_path': '/home/daimler/workspaces/agents-course-huggingface/2.2-llamaindex/data/persona_10.txt', 'file_name': 'persona_10.txt', 'file_type': 'text/plain', 'file_size': 207, 'creation_date': '2025-03-11', 'last_modified_date': '2025-03-11'}, excluded_embed_metadata_keys=['file_name', 'file_type', 'file_size', 'creation_date', 'last_modified_date', 'last_accessed_date'], excluded_llm_metadata_keys=['file_name', 'file_type', 'file_size', 'creation_date', 'last_modified_date', 'last_accessed_date'], relationships={<NodeRelationship.SOURCE: '1'>: RelatedNodeInfo(node_id='322b8fea-89e9-47bd-9fdf-075090d140d9', node_type=<ObjectType.DOCUMENT: '4'>, metadata={'file_path': '/home/daimler/workspaces/agents-course-huggingface/2.2-llamaindex/data/persona_10.txt', 'file_name': 'persona_10.txt', 'file_type': 'text/plain', 'file_size': 207, 'creation_date': '2025-03-11', 'last_modified_date': '2025-03-11'}, hash='c8050445025de1548b9071378be6494c191700224ea763f7f4f09c9eb0869b10')}, metadata_template='{key}: {value}', metadata_separator='\\n', text='A social justice educator or activist focused on diversity, equity, and inclusion, likely working with families and communities to promote empathy and understanding of intersectional identity and oppression.', mimetype='text/plain', start_char_idx=0, end_char_idx=207, metadata_seperator='\\n', text_template='{metadata_str}\\n\\n{content}'),\n",
       " TextNode(id_='770a0299-d747-463b-9201-d3d54a8eecfe', embedding=[0.08739675581455231, 0.29744306206703186, 0.08468195050954819, 0.1558745801448822, 0.4694938361644745, -0.4069010317325592, 0.32900965213775635, 0.22143325209617615, -0.38985344767570496, -0.13241159915924072, -0.14502568542957306, -0.4014928340911865, -0.09838637709617615, 0.42467665672302246, 0.19927413761615753, 0.3840112090110779, 0.3883478343486786, 0.6914154887199402, 0.27257123589515686, -0.13416877388954163, -0.11300195753574371, -0.20242401957511902, -0.19943982362747192, -0.3880396783351898, -0.09975558519363403, -0.0894441306591034, 0.45428162813186646, -0.3227373957633972, 0.003776051104068756, -1.159975528717041, -0.28194865584373474, 0.15211638808250427, -0.13509789109230042, 0.4510641098022461, 0.05932930111885071, 0.9331088066101074, 0.29602697491645813, -0.12845928966999054, -0.23276473581790924, -0.2420702576637268, -0.04369930922985077, 0.006286678835749626, -0.12547709047794342, 0.1316050887107849, 0.24063047766685486, -0.40945854783058167, 0.2889513671398163, -0.5205024480819702, -0.6541751027107239, -1.4152662754058838, -0.18981406092643738, -0.2249707728624344, -0.28237807750701904, 0.27438533306121826, 0.40679043531417847, 0.1081327572464943, 0.6412773728370667, 0.38870203495025635, 0.6160580515861511, -0.09151396155357361, 0.5538703203201294, 0.17507222294807434, -1.6679695844650269, 0.8406558632850647, 0.25031572580337524, 0.4109469950199127, 0.014471068978309631, -0.49498337507247925, 0.6493043303489685, -0.3413250744342804, -0.46557196974754333, -0.31341609358787537, -0.32115596532821655, 0.1669207662343979, 0.7144824862480164, -0.12334689497947693, -0.8320680260658264, 0.4911658763885498, -0.4041048586368561, -0.1483253687620163, 0.6300064325332642, -0.02348674088716507, -0.29690784215927124, -0.5025860071182251, 0.2616384029388428, -0.40161868929862976, 0.02915126457810402, -0.1820702850818634, -0.1341812014579773, 0.05006406083703041, 0.12106402218341827, -0.13099032640457153, 0.8437350988388062, -0.44602060317993164, 0.07702158391475677, 0.0014981329441070557, -0.026124268770217896, 0.14945288002490997, -0.42975127696990967, 3.5164732933044434, -0.17916491627693176, 0.2442047894001007, 0.47121283411979675, -0.15320023894309998, -0.05597656965255737, 0.04382121562957764, 0.29094839096069336, 0.024353064596652985, 0.197721928358078, 0.3027271628379822, 0.3263087868690491, -0.35684749484062195, -0.028182819485664368, -0.045118268579244614, 0.5620318055152893, -0.2241465151309967, 0.02285704016685486, 0.47425490617752075, -0.15145230293273926, 0.013750625774264336, -0.04502503573894501, -0.26144319772720337, 0.27257487177848816, 0.053151167929172516, 0.42843663692474365, 0.36477330327033997, 0.25414514541625977, 0.5861411094665527, 0.1378147304058075, 0.017703749239444733, 0.18575263023376465, -0.38880231976509094, -0.12437951564788818, -0.03811108320951462, -0.14544722437858582, -0.15833744406700134, -0.2645687162876129, -0.21442215144634247, -0.7160816192626953, 0.1744992434978485, -0.2984578609466553, 0.322078138589859, -0.4244540333747864, -0.5884127020835876, -1.0167906284332275, 0.4990142285823822, 0.1358475536108017, -0.20215722918510437, -0.2500416338443756, 0.44159775972366333, -0.3264276683330536, 0.19291800260543823, -0.06622163206338882, -0.005983240902423859, 0.9354349970817566, 0.2481352835893631, 0.4762718081474304, 0.25999969244003296, -0.48782482743263245, 0.23339883983135223, 0.26554208993911743, -0.45878368616104126, -0.27474677562713623, 0.21155185997486115, 0.9329453706741333, -0.35528457164764404, -0.13807395100593567, -0.3401586413383484, 0.2024337649345398, 0.32140466570854187, 0.012671798467636108, 0.0457368865609169, 0.027252689003944397, 0.1685694307088852, 0.27940669655799866, 0.09365097433328629, -0.2431727945804596, 0.2622774839401245, -0.3632074296474457, -0.2526085376739502, -0.29327619075775146, -0.5274760127067566, -0.1610276848077774, -0.13834068179130554, -0.017622068524360657, 0.2394924759864807, -0.3656559884548187, -0.40995267033576965, -0.20140758156776428, 0.18812724947929382, 0.19019532203674316, 0.22363071143627167, 0.5623470544815063, -0.05579332634806633, 0.3063752055168152, -0.027673088014125824, 0.2872259318828583, 0.12584351003170013, -0.10438303649425507, 0.1903078556060791, -0.005509890615940094, 0.2035330981016159, -0.2467111498117447, -0.1950567364692688, -0.14514967799186707, 0.1506902575492859, 0.0022165533155202866, -0.03284315764904022, 0.31551826000213623, 0.47000110149383545, -0.6133714914321899, 0.3362017273902893, -0.6090074181556702, 0.37998268008232117, -0.15340858697891235, 0.17903558909893036, 0.5485351085662842, -0.06504638493061066, 0.6516256332397461, 0.4046124815940857, 0.2289527952671051, -0.07988477498292923, -0.7354182004928589, -2.6751344203948975, -0.4560733735561371, -1.0888471603393555, 0.07650741934776306, -0.39024657011032104, 0.11359098553657532, -0.07869645953178406, -0.07930243760347366, -0.11444787681102753, 0.5839806199073792, -0.02594350278377533, -0.28199151158332825, 0.7192161083221436, 0.45048731565475464, 0.10992409288883209, -0.19614824652671814, 0.37224677205085754, -0.41330254077911377, -0.5340659618377686, 0.3158048391342163, 0.7394363880157471, -0.2745075821876526, -0.5732841491699219, -0.11773012578487396, 0.30610817670822144, -0.33190983533859253, 0.9049391746520996, 0.31619805097579956, 0.07911350578069687, 0.13046804070472717, -0.12433740496635437, 0.4218766689300537, -0.12918633222579956, -0.9855690598487854, 0.29652225971221924, -0.5041934847831726, -0.18885460495948792, -0.669106662273407, -0.38757598400115967, -0.36261889338493347, 0.2372673749923706, 0.5706769227981567, -0.3126494288444519, 0.03731720149517059, -0.5544913411140442, -0.13124610483646393, -0.12283038347959518, 0.17202597856521606, -0.5992019772529602, -0.07395477592945099, 0.3250488042831421, 0.4321475625038147, 0.1368071734905243, -0.4426416754722595, -0.36906227469444275, 0.6131122708320618, -0.2720773220062256, 0.18149572610855103, -0.29271888732910156, -0.216808021068573, 0.41098350286483765, 0.04333004355430603, 0.33424606919288635, 0.2820781469345093, -0.3318846821784973, -0.4216284453868866, 0.06675656139850616, -0.154092937707901, 0.21900372207164764, -0.6921258568763733, -0.05978699028491974, 0.31346333026885986, -0.3963717222213745, -0.18462124466896057, 0.4759101867675781, -0.39955851435661316, 0.10013797879219055, 0.36876681447029114, -0.32968929409980774, -0.2679152488708496, 0.21861541271209717, -0.37953972816467285, -0.2856893539428711, 0.02404232695698738, -0.08470059931278229, 0.3924427330493927, 0.09552017599344254, -0.33483031392097473, 0.02062753587961197, 0.4811873435974121, 0.5241278409957886, 0.39133593440055847, -0.7449355721473694, -0.4337761104106903, 0.6996541023254395, 0.027370484545826912, -1.934430480003357, -0.30375936627388, -0.20483119785785675, -0.004464000463485718, -0.23401407897472382, 0.07968144118785858, -0.03266602009534836, 0.07378596067428589, 0.06585395336151123, 0.05364207178354263, -0.033175475895404816, 0.5305348634719849, -0.15387606620788574, 0.993590772151947, 0.13997220993041992, 0.21960775554180145, -3.7647783756256104e-05, -0.01332034170627594, 0.06740991026163101, -0.06005885452032089, 0.13034483790397644, -0.3325255215167999, 1.5948420763015747, 0.04014778137207031, 0.0934738963842392, 0.4129319489002228, -0.24032258987426758, -0.11149506270885468, -0.04842732846736908, -0.27504268288612366, 0.4996071457862854, -0.26090332865715027, 1.181160807609558, -0.6824817061424255, -0.09928861260414124, 0.3238527178764343, -0.19940386712551117, 0.19855926930904388, 0.3171229064464569, -0.36411502957344055, 0.21074748039245605, 0.07238343358039856, 0.8482655882835388, -0.09091098606586456, 0.3955467641353607, -0.11199525743722916, 0.13067291676998138, -0.26887819170951843, -0.16368907690048218, 0.6959572434425354, 0.34385889768600464, -0.10327707976102829, -0.7524906396865845, -0.45368027687072754, 0.1687059998512268, -0.08861404657363892, -0.0968250259757042, -0.02983858436346054, -0.006726644933223724, -0.1755000799894333, -0.22911378741264343, -0.7072059512138367, -0.6727226376533508, 0.023860841989517212, 0.7476217150688171], metadata={'file_path': '/home/daimler/workspaces/agents-course-huggingface/2.2-llamaindex/data/persona_100.txt', 'file_name': 'persona_100.txt', 'file_type': 'text/plain', 'file_size': 107, 'creation_date': '2025-03-11', 'last_modified_date': '2025-03-11'}, excluded_embed_metadata_keys=['file_name', 'file_type', 'file_size', 'creation_date', 'last_modified_date', 'last_accessed_date'], excluded_llm_metadata_keys=['file_name', 'file_type', 'file_size', 'creation_date', 'last_modified_date', 'last_accessed_date'], relationships={<NodeRelationship.SOURCE: '1'>: RelatedNodeInfo(node_id='066f2ebd-7b92-40d0-bebe-a1d390030919', node_type=<ObjectType.DOCUMENT: '4'>, metadata={'file_path': '/home/daimler/workspaces/agents-course-huggingface/2.2-llamaindex/data/persona_100.txt', 'file_name': 'persona_100.txt', 'file_type': 'text/plain', 'file_size': 107, 'creation_date': '2025-03-11', 'last_modified_date': '2025-03-11'}, hash='99be4c588429bba859100e9a829e19f9d589ef3a819cb830396d9a9d4241d4c0')}, metadata_template='{key}: {value}', metadata_separator='\\n', text='An environmental conservationist focused on wetland ecosystems and their role in mitigating climate change.', mimetype='text/plain', start_char_idx=0, end_char_idx=107, metadata_seperator='\\n', text_template='{metadata_str}\\n\\n{content}'),\n",
       " TextNode(id_='5f62d4c5-1ba6-4a4d-915c-95c77b028d35', embedding=[-0.09547712653875351, 0.6022658944129944, 0.08085188269615173, -0.37460729479789734, 0.13263505697250366, -0.6292802095413208, 1.1680407524108887, 0.2133793830871582, -0.7540150880813599, 0.11906087398529053, -0.4002866744995117, -0.7815568447113037, -0.12293025851249695, 0.22937370836734772, 0.09549257904291153, 0.36947500705718994, 0.3244398534297943, 0.37308940291404724, 0.19289442896842957, 0.464603066444397, -0.21829304099082947, 0.4416412115097046, -0.0642421767115593, -0.28434497117996216, 0.07766635715961456, 0.444383829832077, 0.5147967338562012, -0.5862321257591248, -0.22212335467338562, -0.5412085056304932, 0.28984710574150085, -0.07121673226356506, -0.018204890191555023, 0.3735292851924896, 0.05222930759191513, 0.3959732949733734, 0.005981728434562683, 0.5351697206497192, -0.20251312851905823, 0.2210511863231659, -0.5809276700019836, -0.4671453535556793, 0.2010592520236969, 0.301986426115036, 0.2597070336341858, -0.6481202244758606, -0.330454021692276, -0.026632551103830338, -0.1495092660188675, -1.1110097169876099, -0.305836021900177, -0.055631399154663086, -0.11882027983665466, 0.11875884234905243, -0.1816946566104889, -0.42740702629089355, 0.44241127371788025, 0.007978975772857666, -0.12731026113033295, -0.11529496312141418, 0.08583438396453857, 0.28042739629745483, -1.2658337354660034, 0.6758235692977905, 0.3013061285018921, 0.38638731837272644, 0.17237907648086548, -0.7880070209503174, 0.3252570927143097, -0.21183821558952332, 0.1522112339735031, -0.25040367245674133, -0.3604609966278076, 0.46849051117897034, 0.04880852997303009, 0.1580093950033188, -0.27392932772636414, -0.42804843187332153, 0.10991710424423218, 0.6377184987068176, -0.04355010390281677, -0.441866397857666, -0.4359256625175476, -0.811225950717926, 0.001956462860107422, -0.3188878297805786, 0.24060770869255066, -0.7424627542495728, -0.5155824422836304, 0.09116040170192719, 0.03998834639787674, -0.36042478680610657, -0.3090222477912903, 0.3939801752567291, -0.17400211095809937, -0.24251167476177216, 0.027098994702100754, 0.1167866587638855, -0.2287864089012146, 3.6694626808166504, 0.08432482182979584, 0.006344974040985107, 0.37307262420654297, -0.20196136832237244, 0.09860805422067642, 0.03356204181909561, -0.18258583545684814, 0.19087722897529602, -0.3866434395313263, -0.0694541335105896, -0.0747566670179367, 0.526391327381134, -0.1451396942138672, -0.22058524191379547, 0.28965771198272705, 0.45905762910842896, 0.07615828514099121, 0.6846964359283447, 0.033307768404483795, 0.15905997157096863, -0.10644429922103882, 0.04167510196566582, 0.447476327419281, 0.27597150206565857, 0.39399224519729614, 0.1523900032043457, -0.17719727754592896, 0.7037676572799683, 0.013681311160326004, 0.4447866678237915, 0.9150809645652771, 0.3147520422935486, -0.3014971613883972, 0.0008847936987876892, 0.22119146585464478, -0.10485823452472687, 0.1726069450378418, 0.2968079745769501, -0.38226526975631714, 0.5411660671234131, -0.16727718710899353, -0.1044664978981018, -0.10070671141147614, -0.23480890691280365, -1.1941817998886108, 0.35377997159957886, -0.6995560526847839, 0.5965283513069153, -0.3060181438922882, 0.2601829767227173, -0.32282090187072754, -0.17424580454826355, -0.4459191858768463, -0.10019542276859283, 0.7436228394508362, -0.21952426433563232, 0.6882975697517395, 0.3676856756210327, -0.18300855159759521, -0.02812337875366211, 0.12443655729293823, -0.5559942722320557, 0.08670194447040558, 0.17814213037490845, 0.36022546887397766, -0.6129533648490906, -0.3987172245979309, -0.022534817457199097, 0.30060693621635437, -0.06903614103794098, -0.0049223825335502625, 0.034589603543281555, -0.19813141226768494, 0.001444891095161438, 0.39750978350639343, 0.4869260787963867, 0.2256844937801361, 0.3303358554840088, -0.2854844629764557, -0.28890424966812134, 0.061635956168174744, 0.08758780360221863, 0.5263795256614685, -0.3593709468841553, 0.006164215505123138, 0.35827913880348206, -0.10197317600250244, -0.15141433477401733, 0.37240907549858093, -0.0707557201385498, 0.30244675278663635, 0.3273606598377228, -0.2935754656791687, -0.3255339562892914, 0.46594804525375366, -0.3464253544807434, -0.3393253982067108, 0.06573322415351868, -0.15326377749443054, 0.04720085859298706, 0.11331076920032501, 0.37647703289985657, -0.3033350706100464, 0.25891509652137756, -0.35299909114837646, 0.019742146134376526, 0.2041437178850174, 0.2388530969619751, 0.39337751269340515, -0.3094106614589691, -0.002270251512527466, -0.08166853338479996, -0.4501116871833801, 0.07914780080318451, -0.6241352558135986, 0.21816393733024597, 0.09700898081064224, 0.01989586651325226, 0.18455375730991364, -0.07320775091648102, -0.03676214814186096, 0.6485834717750549, -0.11767358332872391, -2.7620129585266113, 0.15162786841392517, -0.5009524822235107, -0.024045541882514954, -0.37860432267189026, 0.35245445370674133, 0.2890360951423645, 0.5463367104530334, -0.11094485223293304, -0.05623888969421387, 0.4061007797718048, -0.18998491764068604, 0.2008170783519745, 0.3207606375217438, 0.2879418134689331, 0.31348198652267456, 0.5410416126251221, -0.48660576343536377, -0.3683708906173706, -0.1359889656305313, 0.9216459393501282, -0.22157147526741028, -0.22404463589191437, -0.2383493185043335, -0.16084405779838562, -0.1553632766008377, 1.0702080726623535, 0.2869648337364197, 0.2845078706741333, 0.11955462396144867, 0.04157969355583191, -0.40592101216316223, -0.146161288022995, -0.7695068717002869, 0.05942085385322571, -0.7454493641853333, -0.2739666700363159, -0.5058366656303406, -0.3641514182090759, -0.3592405915260315, -0.4976530075073242, 0.046914733946323395, -0.5214431285858154, 0.19896575808525085, -0.7296533584594727, 0.16136236488819122, -0.01857222616672516, 0.35391637682914734, -0.6925909519195557, 0.02872936800122261, 0.28873953223228455, 0.1381690800189972, -0.37481310963630676, -0.2628442645072937, -0.10898344963788986, 0.21084347367286682, -0.37961411476135254, -0.004780195653438568, -0.7254430651664734, 0.4282403886318207, -0.11018344014883041, -0.4747343063354492, -0.07255005836486816, 0.15739652514457703, -0.5937490463256836, -0.32355138659477234, 0.07727047055959702, 0.15923532843589783, 0.4762182831764221, -0.7643140554428101, -0.4816191494464874, 0.6914710998535156, -0.609916627407074, 0.14940451085567474, 0.05874146521091461, 0.07945515215396881, 0.5017141103744507, -0.05159823223948479, -0.19403576850891113, -0.2349247932434082, 0.3743859827518463, -0.49202224612236023, -0.04580026865005493, 0.27340883016586304, -0.04973805695772171, -0.20727188885211945, 0.22972482442855835, -0.209506556391716, -0.07219037413597107, 0.4990991950035095, -0.05299978703260422, 0.050275228917598724, -0.31557056307792664, -0.7272744178771973, 0.008223358541727066, -0.08843030035495758, -2.0644445419311523, 0.07901876419782639, -0.1035754382610321, 0.4320361018180847, -0.0702630877494812, 0.13089929521083832, -0.7083373665809631, -0.26306578516960144, 0.27743256092071533, -0.6161233186721802, 0.8517828583717346, 0.17962560057640076, 0.04426499828696251, 0.3788738548755646, 0.05174664407968521, 0.08463414013385773, 0.3489542305469513, -0.19107526540756226, 0.6151532530784607, 0.26259467005729675, 0.5153319835662842, -0.41434532403945923, 1.6455082893371582, 0.2595570981502533, 0.2367711067199707, 0.050408996641635895, -0.2754392921924591, -0.0058733075857162476, 0.09520082175731659, 0.14605002105236053, 1.220116138458252, -0.5318333506584167, 0.867037296295166, -0.2772190570831299, -0.0033934637904167175, 0.3350825607776642, -0.42379212379455566, 0.6140652894973755, 0.27196624875068665, 0.23586824536323547, -0.5438239574432373, -0.4467145800590515, 0.3406704068183899, -0.27997851371765137, 0.8986648917198181, 0.19261965155601501, -0.3555120825767517, -0.4717141389846802, -0.022630862891674042, 0.4673769474029541, 0.5037250518798828, -0.04219638183712959, -0.21328385174274445, 0.2209187150001526, 0.12200479209423065, 0.022531449794769287, 0.0573544055223465, -0.06668435782194138, 0.2284180223941803, -0.5772658586502075, -0.1794854998588562, -0.14132022857666016, -0.07076101750135422, 0.5769139528274536, 0.6663635969161987], metadata={'file_path': '/home/daimler/workspaces/agents-course-huggingface/2.2-llamaindex/data/persona_1000.txt', 'file_name': 'persona_1000.txt', 'file_type': 'text/plain', 'file_size': 133, 'creation_date': '2025-03-11', 'last_modified_date': '2025-03-11'}, excluded_embed_metadata_keys=['file_name', 'file_type', 'file_size', 'creation_date', 'last_modified_date', 'last_accessed_date'], excluded_llm_metadata_keys=['file_name', 'file_type', 'file_size', 'creation_date', 'last_modified_date', 'last_accessed_date'], relationships={<NodeRelationship.SOURCE: '1'>: RelatedNodeInfo(node_id='407912b7-9dc5-4d88-afbf-3f572739efb0', node_type=<ObjectType.DOCUMENT: '4'>, metadata={'file_path': '/home/daimler/workspaces/agents-course-huggingface/2.2-llamaindex/data/persona_1000.txt', 'file_name': 'persona_1000.txt', 'file_type': 'text/plain', 'file_size': 133, 'creation_date': '2025-03-11', 'last_modified_date': '2025-03-11'}, hash='940328df63c63a041a34bad49761a1cd3dfda12ff39ac4c8918899146e411242')}, metadata_template='{key}: {value}', metadata_separator='\\n', text='A pulmonologist or respiratory specialist with a strong interest in educating patients about the respiratory system and its diseases.', mimetype='text/plain', start_char_idx=0, end_char_idx=133, metadata_seperator='\\n', text_template='{metadata_str}\\n\\n{content}'),\n",
       " TextNode(id_='b7fe28be-7dae-45ed-a8ca-5a52aec3c583', embedding=[-0.489418625831604, 0.00727149099111557, 9.3020498752594e-05, -0.570270836353302, -0.0067469775676727295, -0.3179687559604645, 0.43037375807762146, 0.3421173095703125, -0.1916806995868683, -0.6456716656684875, 0.4135378897190094, -0.2564041316509247, 0.2692156434059143, -0.020732887089252472, 0.21667349338531494, 0.6207573413848877, -0.1966295838356018, 0.07970667630434036, 0.22413870692253113, 0.0014757439494132996, -0.018649078905582428, -0.2787882089614868, 0.28708192706108093, -0.7791195511817932, 0.13259905576705933, 0.19516099989414215, 0.2739681303501129, -0.4404257535934448, 0.26225560903549194, -0.6039345264434814, 0.09680934250354767, -0.05765687674283981, 0.2646648585796356, 0.4870653748512268, 0.16459839046001434, 0.4620925784111023, 0.06158629059791565, 0.37482330203056335, -0.040338579565286636, -0.0650566816329956, -0.4699217677116394, -0.34433916211128235, -0.2628787159919739, 0.5192421078681946, 0.25184041261672974, -0.1296217143535614, 0.1822032630443573, -0.39215683937072754, -0.6836254596710205, -1.032027006149292, -0.72735196352005, -0.5428060293197632, 0.0656321570277214, -0.0046273767948150635, -0.03967881202697754, 0.07031522691249847, 0.2228384017944336, 0.23850294947624207, -0.07141757011413574, 0.2481706291437149, 0.2466544806957245, -0.0289301797747612, -0.7541730403900146, 0.6480011940002441, 0.3516329526901245, 0.6864289045333862, -0.3507484495639801, -0.5075697898864746, -0.2270607352256775, -0.1675977110862732, -0.18022382259368896, -0.22428980469703674, -0.5404279828071594, 0.3160356879234314, 0.1994824856519699, -0.03971228748559952, -0.12914761900901794, 0.05613318085670471, 0.10542644560337067, 0.36634954810142517, -0.2160552740097046, -0.4183090627193451, -0.1638110876083374, -0.259539932012558, -0.02613026276230812, 0.1627766191959381, 0.42074379324913025, -0.21517418324947357, -0.1005997508764267, -0.11556510627269745, -0.4163961112499237, -0.5898629426956177, 0.056518711149692535, -0.17665153741836548, -0.1266217976808548, -0.28488239645957947, -0.08166109025478363, 0.3118453025817871, -0.12165564298629761, 4.114995002746582, -0.19626756012439728, 0.0791185274720192, 0.5700898170471191, -0.26677459478378296, 0.2605564594268799, 0.18780536949634552, 0.9529702663421631, 0.4854660630226135, -0.09460023790597916, -0.15007735788822174, -0.22681236267089844, -0.004265952855348587, -0.24485674500465393, -0.4490817189216614, 0.4290943741798401, -0.3668334484100342, -0.589185893535614, 0.4437640607357025, 0.28806447982788086, 0.2506486773490906, 0.3181745409965515, 0.05062729865312576, 0.4202195703983307, -0.1276322901248932, -0.12445051968097687, 0.39554286003112793, 0.023480907082557678, 0.47852760553359985, -0.06300236284732819, 0.3669087290763855, -0.07076750695705414, 0.285506933927536, -0.549951434135437, 0.22369089722633362, -0.0017314599826931953, 0.09729956090450287, 0.04972497746348381, 0.27378037571907043, -0.5911753177642822, 0.3050433397293091, -0.43686673045158386, 0.5450922846794128, 0.1622179001569748, 0.15622615814208984, -0.711688220500946, 0.4224925935268402, -0.2583106756210327, 0.7451662421226501, -0.33747097849845886, 0.5316025614738464, -0.5836741328239441, 0.2970218062400818, -0.2621970772743225, 0.015752866864204407, 0.03973890841007233, 0.0043166279792785645, 0.716590940952301, -0.02263776957988739, -0.40132245421409607, 0.028665900230407715, 0.2835995852947235, -0.390743225812912, -0.2915958762168884, 0.33318307995796204, 0.2489486038684845, -0.7826985716819763, -0.5631237626075745, 0.07099053263664246, 0.34200581908226013, -0.01604151353240013, 0.15314173698425293, 0.1686047464609146, -0.21499410271644592, 0.31343159079551697, 0.214094877243042, 0.04000161960721016, -0.2279781550168991, 0.8773135542869568, -0.18684393167495728, -0.2146085798740387, 0.3961953818798065, -0.26297634840011597, -0.1869141161441803, 0.06604611873626709, -0.7292127013206482, 0.3700326681137085, 0.01930917426943779, -0.14691761136054993, 0.37616410851478577, -0.22631743550300598, 0.18623310327529907, 0.3111847937107086, -0.28218820691108704, -0.32066985964775085, 0.1548873633146286, 0.18309235572814941, 0.27625197172164917, -0.17482396960258484, -0.1776416152715683, -0.6041866540908813, 0.4648819863796234, 0.49405741691589355, -0.2263110876083374, 0.2529354989528656, -0.15413320064544678, 0.13640184700489044, 0.51542067527771, -0.1290755271911621, 0.22380861639976501, -0.26147016882896423, -0.8618737459182739, -0.12918515503406525, 0.020898960530757904, 0.030815042555332184, -0.028397925198078156, 0.05180539935827255, 0.23358963429927826, 0.40572428703308105, 0.2896609902381897, 0.40181252360343933, -0.1226276159286499, -0.0077146366238594055, -0.1515192985534668, -2.725353956222534, 0.09020844101905823, -0.5458447933197021, 0.005375586450099945, -0.8232626914978027, 0.26488223671913147, 0.11069341003894806, 0.20644554495811462, 0.12061109393835068, 0.17615947127342224, 0.6921771764755249, -0.2768963873386383, 0.3616073727607727, 0.25435712933540344, -0.06219389662146568, -0.2557426393032074, 0.44052255153656006, -0.41189977526664734, -0.7291614413261414, -0.30505767464637756, 0.3395015597343445, -0.2806586027145386, -0.30086976289749146, -0.36804133653640747, 0.2822847366333008, -0.01640385575592518, 1.1128517389297485, 0.5647045373916626, 0.39992672204971313, -0.577945351600647, 0.2810100317001343, 0.45298776030540466, -0.05536036565899849, -0.7710046768188477, 0.12411238253116608, -0.8058434724807739, 0.2078624665737152, -0.7658708095550537, -0.03440168872475624, -0.2847316861152649, 0.062401920557022095, -0.08158192038536072, 0.14460743963718414, -0.3208920359611511, -0.4965384304523468, -0.19568794965744019, -0.007555335760116577, -0.27536284923553467, -0.09599533677101135, -0.007929511368274689, 0.15939652919769287, 0.0612054318189621, 0.0853763297200203, 0.16821441054344177, -0.46253472566604614, 0.15156184136867523, -0.4297420382499695, 0.2429564744234085, -0.14413896203041077, 0.27466511726379395, 0.01943383738398552, -0.8725067973136902, 0.22894331812858582, -0.010949887335300446, -0.40931737422943115, 0.16064079105854034, 0.06620364636182785, -0.4175419509410858, 0.5638734102249146, -0.8498508930206299, -0.19139805436134338, 0.9942952394485474, 0.01382049173116684, 0.09112797677516937, 0.0949266254901886, -0.6293948888778687, 0.18148978054523468, -0.0073022060096263885, 0.26977843046188354, -0.1849176436662674, 0.05924210324883461, -0.30942291021347046, 0.2477681189775467, 0.1441531777381897, 0.24561552703380585, -0.4951098561286926, 0.5869327783584595, -0.5323946475982666, 0.25975948572158813, 0.2223576009273529, -0.012823770754039288, 0.5501275658607483, -0.5650559663772583, -0.7499217987060547, -0.08675642311573029, -0.2690255343914032, -2.447932243347168, -0.25786587595939636, 0.09882135689258575, 0.6277269721031189, 0.3884495496749878, 0.15856611728668213, 0.1272573620080948, -0.0041056349873542786, -0.30775731801986694, 0.1437166929244995, 0.1934312880039215, 0.27402612566947937, 0.251306414604187, -0.106101855635643, 0.578222393989563, 0.16527050733566284, 0.29687386751174927, -0.23849239945411682, 0.15205049514770508, 0.06673523783683777, 0.10704932361841202, -0.3767465353012085, 1.874751091003418, 0.06308454275131226, 0.3399696350097656, 0.18569421768188477, -0.11228504776954651, -0.17578652501106262, 0.5901934504508972, 0.18477213382720947, 0.26279956102371216, 0.14637380838394165, 1.029890537261963, -0.13152651488780975, -0.35684913396835327, 0.23622620105743408, -0.3644667863845825, 0.13136433064937592, 0.19683173298835754, -0.015957776457071304, -0.31136322021484375, -0.5538161396980286, 0.17740291357040405, -0.04563749209046364, 0.6709980368614197, 0.1551973819732666, -0.08088672161102295, -0.3155088424682617, -0.41977208852767944, -0.0879773497581482, 0.38360896706581116, -0.4488776922225952, -0.6519275903701782, 0.12066653370857239, 0.2249341458082199, 0.01864193007349968, -0.03132365643978119, -0.018186945468187332, 0.127960667014122, -0.29456502199172974, -0.3524276912212372, 0.5981965065002441, 0.35150957107543945, 0.22152665257453918, 0.62425297498703], metadata={'file_path': '/home/daimler/workspaces/agents-course-huggingface/2.2-llamaindex/data/persona_1001.txt', 'file_name': 'persona_1001.txt', 'file_type': 'text/plain', 'file_size': 157, 'creation_date': '2025-03-11', 'last_modified_date': '2025-03-11'}, excluded_embed_metadata_keys=['file_name', 'file_type', 'file_size', 'creation_date', 'last_modified_date', 'last_accessed_date'], excluded_llm_metadata_keys=['file_name', 'file_type', 'file_size', 'creation_date', 'last_modified_date', 'last_accessed_date'], relationships={<NodeRelationship.SOURCE: '1'>: RelatedNodeInfo(node_id='5517aab9-060f-44ab-9a27-80d00fe06b16', node_type=<ObjectType.DOCUMENT: '4'>, metadata={'file_path': '/home/daimler/workspaces/agents-course-huggingface/2.2-llamaindex/data/persona_1001.txt', 'file_name': 'persona_1001.txt', 'file_type': 'text/plain', 'file_size': 157, 'creation_date': '2025-03-11', 'last_modified_date': '2025-03-11'}, hash='95ea9bb7700f8b67bf3d4d1f7fb9fd4b8bb3641e76cef3ec47efb0c36f6a95fb')}, metadata_template='{key}: {value}', metadata_separator='\\n', text='A web developer or a web development student, likely in the early stages of their learning or career, with a strong focus on HTML, CSS, and website building.', mimetype='text/plain', start_char_idx=0, end_char_idx=157, metadata_seperator='\\n', text_template='{metadata_str}\\n\\n{content}'),\n",
       " TextNode(id_='5f7d25d2-97c8-44a6-9f23-022fc722b6c2', embedding=[0.02158324420452118, -0.028164077550172806, 0.44710853695869446, 0.11577484011650085, 0.8266399502754211, -0.6390966176986694, 0.596368670463562, 0.18729276955127716, -0.5945878028869629, -0.18229958415031433, -0.024613574147224426, -0.7257444262504578, -0.03500636667013168, 0.07874433696269989, 0.2643668055534363, 0.13980063796043396, 0.22963057458400726, 0.5770457983016968, 0.6050739884376526, -0.4562619924545288, -0.41167280077934265, 0.20021852850914001, 0.007819239050149918, -0.3503774404525757, -0.012263916432857513, 0.19798293709754944, 0.11641736328601837, -0.2213190495967865, -0.4643225073814392, -0.8588276505470276, -0.04536847770214081, 0.31166449189186096, 0.07485050708055496, 0.21759599447250366, 0.13419008255004883, 0.6815305352210999, -0.07540400326251984, 0.14917200803756714, -0.034632351249456406, -0.005205310881137848, -0.156224325299263, 0.004500521346926689, 0.013253126293420792, 0.13425138592720032, -0.21683472394943237, -0.5158228874206543, 0.5176868438720703, -0.102939672768116, -0.9322496652603149, -1.0772148370742798, -0.14917191863059998, -0.6574055552482605, -0.4770645499229431, 0.09055518358945847, -0.13373903930187225, 0.1382209211587906, 0.7576809525489807, 0.3569014370441437, 0.30933499336242676, 0.07092472165822983, 0.25503313541412354, -0.14069035649299622, -1.5690921545028687, 0.4980411231517792, 0.47452759742736816, 0.2689216732978821, -0.3653107285499573, -0.7603229880332947, 0.533475935459137, -0.04305967688560486, -0.36145108938217163, -0.18453609943389893, -0.3946116864681244, -0.021096065640449524, 0.5555965900421143, 0.11598312854766846, -0.6586393117904663, 0.27708178758621216, -0.17799586057662964, -0.036913372576236725, 0.38385432958602905, -0.29745566844940186, -0.6907989382743835, -0.8587965369224548, 0.31550297141075134, -0.34126996994018555, 0.0030128657817840576, -0.160451740026474, -0.11870133876800537, -0.08309274911880493, 0.3315769135951996, -0.4561881721019745, 0.2642454206943512, -0.5836858153343201, 0.049719274044036865, -0.04760453477501869, 0.28728318214416504, -0.1332775205373764, 0.015073314309120178, 3.5961716175079346, 0.04379861056804657, 0.3075207769870758, 0.11428868770599365, 0.2251577079296112, -0.24369364976882935, 0.130239799618721, -0.05513763055205345, -0.14081168174743652, -0.08775566518306732, 0.24861986935138702, 0.1120995283126831, -0.015451215207576752, -0.20482423901557922, 0.4578503966331482, 0.49579694867134094, -0.4207960367202759, -0.08222153782844543, 0.5325133800506592, 0.14329858124256134, 0.1744222193956375, -0.2670714855194092, 0.5282936692237854, 0.3289164900779724, 0.06527996063232422, 0.38195911049842834, 0.4144402742385864, 0.37035587430000305, 0.6722258925437927, 0.04873427376151085, 0.11124273389577866, 0.5056228637695312, 0.14818669855594635, -0.4364337921142578, 0.142258420586586, 0.06070070341229439, 0.017416197806596756, 0.2634221315383911, -0.10377249121665955, -0.4874500036239624, 0.7943563461303711, -0.006278090178966522, 0.19993716478347778, -0.36559414863586426, -0.6107733249664307, -0.5228332281112671, 0.6848261952400208, 0.06863290071487427, 0.42634251713752747, -0.5938881635665894, 0.39896973967552185, -0.5909360647201538, 0.11779089272022247, -0.09924826771020889, 0.11697781085968018, 0.8405918478965759, 0.17212942242622375, 0.6479626297950745, 0.021746300160884857, -0.34208551049232483, -0.05910246819257736, 0.4062469005584717, -0.05883703753352165, 0.30463042855262756, 0.42240649461746216, 0.7130865454673767, -0.3650728762149811, -0.1333598494529724, -0.10779811441898346, 0.09199000149965286, 0.15115417540073395, 0.10922670364379883, 0.4089885652065277, 0.1456156224012375, 0.110801100730896, 0.3537873327732086, 0.00479763001203537, 0.024592876434326172, 0.6394864320755005, -0.38556593656539917, -0.7556909322738647, 0.2084614485502243, 0.21429088711738586, 0.11635546386241913, -0.07177020609378815, -0.14754045009613037, 0.28536632657051086, -0.4381161630153656, -0.045709483325481415, -0.32504239678382874, -0.20669108629226685, 0.1947394460439682, 0.4673526883125305, 0.6442642211914062, 0.02409951761364937, 0.18042229115962982, -0.4068644344806671, 0.07478483021259308, -0.12549753487110138, -0.13273657858371735, -0.10401105880737305, 0.18041005730628967, 0.3080301880836487, -0.20652800798416138, -0.1949184238910675, -0.3985450267791748, -0.12730181217193604, -0.006765127182006836, -0.22739027440547943, 0.15163391828536987, 0.0501728393137455, -0.3352928161621094, 0.1454894244670868, -0.22055038809776306, 0.3548721969127655, -0.5902488231658936, 0.3351684510707855, 0.24045607447624207, 0.20148399472236633, 0.5364545583724976, 0.3196098208427429, 0.3190295696258545, -0.10494096577167511, -0.253246009349823, -2.7378501892089844, -0.31321388483047485, -0.8773406744003296, 0.15413060784339905, -0.5273324847221375, 0.3574783205986023, -0.10406564176082611, -0.026272568851709366, 0.1596922129392624, 0.4380306601524353, -0.029758691787719727, 0.03634866327047348, 0.6253210306167603, 0.2652394473552704, 0.5327001810073853, -0.3431806266307831, 0.5006848573684692, -0.24419289827346802, -0.9943214654922485, 0.10905630886554718, 0.5386220812797546, 0.2670511305332184, -0.48436418175697327, -0.3330976963043213, 0.22459515929222107, -0.2291952520608902, 0.8769060373306274, 0.14586961269378662, 0.07692008465528488, -0.5298654437065125, -0.5279102921485901, 0.047535013407468796, 0.13129542768001556, -0.675024688243866, 0.03266625851392746, -0.7173012495040894, -0.2337939441204071, -0.5097333788871765, -0.24159954488277435, -0.33928659558296204, 0.45495229959487915, 0.23274493217468262, -0.24742476642131805, 0.18379706144332886, -0.27407699823379517, 0.1366700828075409, 0.09086352586746216, 0.1877412050962448, -0.6219362616539001, -0.3077336251735687, -0.03390662372112274, 0.4112188518047333, -0.14323784410953522, 0.1305108368396759, -0.04919515177607536, 0.27234044671058655, -0.2943758964538574, 0.11761992424726486, -0.45256873965263367, -0.13434679806232452, 0.38380569219589233, -0.4178580045700073, -0.006249979138374329, 0.3012445569038391, -0.1891668140888214, 0.08142746239900589, 0.16240406036376953, -0.5102421045303345, 0.2656268775463104, -1.0520694255828857, -0.10565806925296783, 0.5474053621292114, -0.3051536977291107, -0.28093528747558594, -0.11046168208122253, -0.22327375411987305, 0.26718592643737793, 0.09791015088558197, -0.41871288418769836, -0.3145529627799988, 0.6292954087257385, -0.5277210474014282, -0.026793964207172394, 0.4317564368247986, 0.0018349438905715942, 0.04527263343334198, -0.06388314068317413, -0.41340744495391846, 0.4125303030014038, 0.47769463062286377, 0.42245474457740784, 0.06633027642965317, -0.5391426086425781, -0.6694409251213074, 0.45698776841163635, 0.08518344163894653, -1.8895756006240845, 0.006698779761791229, -0.13469234108924866, -0.23634976148605347, -0.047403596341609955, -0.037086956202983856, -0.4446951746940613, -0.3872196078300476, 0.17784816026687622, -0.2434544861316681, 0.1185159683227539, 0.3393669128417969, -0.04898674786090851, 0.6827546954154968, 0.21364936232566833, 0.3917427062988281, 0.20594522356987, -0.033618003129959106, 0.13281500339508057, -0.06468045711517334, 0.3493814170360565, -0.09282250702381134, 1.7068284749984741, 0.2424231469631195, 0.11698950827121735, 0.38849061727523804, -0.131498783826828, -0.4575185775756836, 0.2080482840538025, -0.015664296224713326, 0.8416121602058411, 0.11106758564710617, 1.0785423517227173, -0.7410476207733154, 0.04278514161705971, 0.388990193605423, -0.06148666888475418, 0.0355692058801651, 0.26035332679748535, -0.04730762541294098, -0.30629849433898926, -0.1488012969493866, 0.44255900382995605, -0.14052116870880127, 0.5022919178009033, -0.20287257432937622, -0.1807633638381958, -0.7935541272163391, -0.5382224321365356, 0.7844778299331665, 0.2345244288444519, 0.1620074063539505, -0.8079228401184082, -0.07731006294488907, 0.07016672194004059, -0.2988605499267578, 0.08605633676052094, 0.028937585651874542, -0.22947566211223602, -0.30117619037628174, 0.17412018775939941, -0.26429760456085205, -1.0031955242156982, 0.12508630752563477, 0.5211760401725769], metadata={'file_path': '/home/daimler/workspaces/agents-course-huggingface/2.2-llamaindex/data/persona_1002.txt', 'file_name': 'persona_1002.txt', 'file_type': 'text/plain', 'file_size': 122, 'creation_date': '2025-03-11', 'last_modified_date': '2025-03-11'}, excluded_embed_metadata_keys=['file_name', 'file_type', 'file_size', 'creation_date', 'last_modified_date', 'last_accessed_date'], excluded_llm_metadata_keys=['file_name', 'file_type', 'file_size', 'creation_date', 'last_modified_date', 'last_accessed_date'], relationships={<NodeRelationship.SOURCE: '1'>: RelatedNodeInfo(node_id='4e0d69b9-941d-4b5c-9dad-a775b677801e', node_type=<ObjectType.DOCUMENT: '4'>, metadata={'file_path': '/home/daimler/workspaces/agents-course-huggingface/2.2-llamaindex/data/persona_1002.txt', 'file_name': 'persona_1002.txt', 'file_type': 'text/plain', 'file_size': 122, 'creation_date': '2025-03-11', 'last_modified_date': '2025-03-11'}, hash='15d16222c8939184307ccef689fc9f553b352062a5b0719a64e482bace2c9f71')}, metadata_template='{key}: {value}', metadata_separator='\\n', text='An ecologist specializing in climate change impacts on regional ecosystems, particularly those with diverse plant species.', mimetype='text/plain', start_char_idx=0, end_char_idx=122, metadata_seperator='\\n', text_template='{metadata_str}\\n\\n{content}'),\n",
       " TextNode(id_='f80eea1f-b0d1-4692-afad-d461dd5f3fba', embedding=[-0.18908697366714478, 0.42093440890312195, 0.4215334951877594, -0.2770676016807556, -0.053013674914836884, -0.4468652606010437, 0.8472495675086975, 0.4410081207752228, -0.34133070707321167, -0.6290900707244873, 0.14935073256492615, -0.2225266695022583, -0.07296086847782135, 0.015431549400091171, 0.5120777487754822, 0.30517733097076416, 0.14074227213859558, 0.3922935426235199, 0.22575879096984863, -0.07123462855815887, 0.6066221594810486, 0.23543310165405273, 0.25974178314208984, -0.34063392877578735, 0.11496748775243759, -0.01956595480442047, 0.40162914991378784, -0.707848072052002, -0.007476426661014557, -0.6945784091949463, 0.15237189829349518, 0.049154311418533325, 0.29885876178741455, 0.45036762952804565, -0.008488252758979797, 0.4462395906448364, -0.0866389125585556, 0.25600099563598633, -0.09300002455711365, -0.5274370908737183, -0.3678075075149536, -0.6569486856460571, -0.4088902771472931, 0.1853104531764984, -0.22244104743003845, -0.2780892848968506, -0.2909693717956543, -0.42655491828918457, -0.5754927396774292, -1.2299731969833374, -0.30600202083587646, -0.46196675300598145, 0.3396095633506775, 0.22821007668972015, -0.21286854147911072, 0.3159480690956116, -0.006007082760334015, 0.21660713851451874, 0.20336060225963593, -0.023043818771839142, 0.09612687677145004, 0.2485228180885315, -1.2799570560455322, 0.7678957581520081, 0.25938430428504944, 0.6449359059333801, -0.0507550872862339, -0.6836084723472595, 0.4049585461616516, -0.45951420068740845, 0.09882178902626038, -0.2940213084220886, -0.28735363483428955, 0.4785858690738678, 0.4212315082550049, 0.22113582491874695, -0.16607311367988586, -0.2675267457962036, 0.10135598480701447, 0.2999855577945709, 0.041790612041950226, -0.7922645211219788, -0.17515435814857483, -0.6733111143112183, 0.355124294757843, -0.24759431183338165, 0.30814802646636963, -0.40615683794021606, 0.02958783507347107, -0.30599963665008545, -0.07110404968261719, -0.21939848363399506, 0.17675800621509552, -0.174900084733963, 0.09283086657524109, -0.518822193145752, -0.32213741540908813, -0.3039530813694, -0.5089331269264221, 3.5814499855041504, 0.30684566497802734, 0.3075687885284424, 0.5836313962936401, -0.10033844411373138, -0.03976573795080185, 0.45371443033218384, 0.31778186559677124, -0.026234857738018036, -0.3668627142906189, -0.2969934344291687, -0.21893665194511414, 0.14749474823474884, -0.2687320411205292, -0.08736347407102585, 0.06452386826276779, 0.10722924768924713, -0.3342251479625702, -0.028010062873363495, 0.5757060647010803, 0.09016744792461395, -0.21048617362976074, 0.09868522733449936, 0.19033212959766388, -0.13800214231014252, 0.14051289856433868, 0.1556905210018158, 0.12892411649227142, 0.5707892179489136, -0.0901336669921875, 0.4753006100654602, 0.5112482309341431, -0.3642570972442627, -0.4206872880458832, 0.14211609959602356, 0.030845392495393753, 0.215752512216568, 0.22868216037750244, 0.018514098599553108, -0.27256903052330017, 0.6474503874778748, -0.3989727199077606, 0.1372562050819397, -0.4043101966381073, -0.11264685541391373, -0.46307051181793213, 0.3302266597747803, -0.857921838760376, 0.5425753593444824, -0.252201110124588, 0.9484841823577881, -0.22617638111114502, 0.25221335887908936, -0.35179850459098816, 0.2785491645336151, 0.5460662841796875, -0.13143183290958405, 1.1201368570327759, 0.13749410212039948, -0.5752571821212769, -0.08649949729442596, 0.2428813874721527, -0.48549026250839233, -0.2826809883117676, 0.32180356979370117, 0.5605477094650269, -0.41070324182510376, -0.582557737827301, 0.4285966455936432, -0.0011806152760982513, -0.3469344675540924, 0.1505168378353119, 0.3420083820819855, 0.2027180790901184, 0.43911996483802795, 0.18004068732261658, 0.14790920913219452, 0.029327817261219025, 0.5852165222167969, -0.5007833242416382, -0.1602548062801361, 0.1377442181110382, -0.8449621200561523, -0.19346240162849426, -0.028742164373397827, -0.596943199634552, 0.6356303691864014, 0.5975742340087891, -0.42336732149124146, 0.326594740152359, 0.2777312695980072, 0.27386945486068726, 0.17106038331985474, -0.5130753517150879, -0.3153122663497925, 0.47680866718292236, 0.2079053819179535, 0.08248980343341827, -0.4429304301738739, -0.18751105666160583, -0.15144109725952148, 0.07705558836460114, 0.467047780752182, -0.3226933777332306, 0.1876823604106903, -0.2592804431915283, 0.21909630298614502, 0.13692791759967804, -0.08784330636262894, 0.243674173951149, -0.17362453043460846, -0.49728378653526306, -0.04834449663758278, -0.0975961685180664, -0.2295064628124237, -0.3952869474887848, 0.24069185554981232, 0.021394047886133194, 0.7110257744789124, 0.1301267296075821, 0.00037048012018203735, 0.07768212258815765, 0.3677540719509125, -0.0020222291350364685, -2.6211495399475098, 0.14723479747772217, -0.44304782152175903, -0.2813539206981659, -0.7840238809585571, 0.3398057520389557, -0.13998085260391235, 0.48676055669784546, -0.19887042045593262, 0.24896694719791412, 0.6434321403503418, 0.16248923540115356, 0.37856224179267883, 0.5367313623428345, 0.389859139919281, -0.2755519449710846, 0.068912573158741, -0.20270991325378418, -0.3579205572605133, -0.008607802912592888, 0.7560352683067322, 0.16970890760421753, 0.02721240371465683, 0.07177533209323883, -0.03531154990196228, -0.09358629584312439, 0.8894941210746765, -0.04230087995529175, 0.6267807483673096, -0.817978024482727, -0.2905281186103821, 0.26083338260650635, 0.12188920378684998, -0.4873928129673004, 0.018508493900299072, -0.9840253591537476, -0.36746805906295776, -0.17706388235092163, 0.20415815711021423, -0.8542603850364685, -0.43241167068481445, -0.049910999834537506, -0.26785269379615784, -0.3582350015640259, -0.5242211818695068, -0.10849612951278687, 0.2746361196041107, -0.27063533663749695, -0.24822445213794708, 0.42440366744995117, 0.09997498989105225, -0.6005139946937561, -0.4497455954551697, 0.21577173471450806, -0.5893259048461914, 0.3754216730594635, -0.41652095317840576, 0.5604500770568848, -0.6325052976608276, 0.0061964914202690125, 0.20849497616291046, -0.3510170876979828, 0.11011135578155518, 0.07253296673297882, -0.36412590742111206, 0.20938414335250854, 0.07299492508172989, 0.24186789989471436, -0.05377361178398132, -0.7498042583465576, -0.26742100715637207, 0.8547167778015137, -0.04153178632259369, 0.1959301233291626, -0.1897258162498474, -0.2613295614719391, 0.6533499360084534, 0.30678775906562805, -0.02070731855928898, -0.1036122739315033, 0.48010826110839844, -0.4485766291618347, -0.2925378382205963, 0.304112046957016, 0.5543975830078125, -0.0657285526394844, 0.6465414762496948, -0.5096207857131958, 0.2653757929801941, 0.40009182691574097, 0.32509440183639526, 0.30317801237106323, -0.0021725893020629883, -0.4697573781013489, 0.20925186574459076, -0.35580772161483765, -1.9387069940567017, -0.038364723324775696, -0.03124380111694336, -0.12517724931240082, -0.07215096801519394, 0.24755559861660004, -0.4632641673088074, -0.1756066381931305, -0.09613639116287231, -0.5958892703056335, 0.2661113440990448, 0.3032522201538086, -0.19914168119430542, 0.2633212208747864, -0.19407221674919128, 0.34469297528266907, 0.8231884241104126, -0.28658610582351685, 0.19243642687797546, -0.6518563628196716, 0.059368543326854706, -0.07026086747646332, 1.585434913635254, 0.2942579984664917, 0.23440364003181458, -0.0421239510178566, -0.15305078029632568, -0.041271671652793884, 0.8200046420097351, -0.2632341682910919, 0.8228501081466675, -0.15203307569026947, 0.5037448406219482, -0.3191398084163666, 0.3212563991546631, 0.35177934169769287, 0.11834849417209625, 0.24865834414958954, 0.4921078383922577, 0.4453272819519043, -0.14235424995422363, -0.38226407766342163, 0.03939291089773178, -0.22973845899105072, 0.6505141854286194, 0.06935060024261475, -0.16451877355575562, -0.8612144589424133, -0.4573453664779663, -0.21489927172660828, 0.8032358884811401, -0.3429808020591736, -0.6414350271224976, 0.24084900319576263, 0.031635500490665436, 0.12379534542560577, -0.11256720125675201, 0.2111988067626953, -0.07466012984514236, -0.3610864281654358, 0.197295144200325, -0.26143765449523926, -0.15619322657585144, 0.4010385274887085, 0.5538803339004517], metadata={'file_path': '/home/daimler/workspaces/agents-course-huggingface/2.2-llamaindex/data/persona_1003.txt', 'file_name': 'persona_1003.txt', 'file_type': 'text/plain', 'file_size': 170, 'creation_date': '2025-03-11', 'last_modified_date': '2025-03-11'}, excluded_embed_metadata_keys=['file_name', 'file_type', 'file_size', 'creation_date', 'last_modified_date', 'last_accessed_date'], excluded_llm_metadata_keys=['file_name', 'file_type', 'file_size', 'creation_date', 'last_modified_date', 'last_accessed_date'], relationships={<NodeRelationship.SOURCE: '1'>: RelatedNodeInfo(node_id='85e52f5d-76cd-4b26-8dd3-2bf33b0a8a40', node_type=<ObjectType.DOCUMENT: '4'>, metadata={'file_path': '/home/daimler/workspaces/agents-course-huggingface/2.2-llamaindex/data/persona_1003.txt', 'file_name': 'persona_1003.txt', 'file_type': 'text/plain', 'file_size': 170, 'creation_date': '2025-03-11', 'last_modified_date': '2025-03-11'}, hash='04cffc0652a9718f5fb9e38c0963cf2424689febd46fd8a85e1c85fddfed744d')}, metadata_template='{key}: {value}', metadata_separator='\\n', text='A special education teacher or instructional specialist focused on inclusive education and assistive technology, likely working with students with diverse learning needs.', mimetype='text/plain', start_char_idx=0, end_char_idx=170, metadata_seperator='\\n', text_template='{metadata_str}\\n\\n{content}'),\n",
       " TextNode(id_='53b04275-25c7-4d19-9fbe-66494ff31d59', embedding=[0.03439962863922119, 0.07468628138303757, 0.3127376139163971, -0.0211331769824028, 0.5677813291549683, -0.34227243065834045, 0.2583727538585663, 0.12019326537847519, -0.5685931444168091, -0.31488946080207825, -0.2479335367679596, -0.4040839374065399, -0.2272329330444336, 0.24503716826438904, -0.021726008504629135, 0.30629321932792664, -0.6306790709495544, 0.7287827134132385, 0.8531798124313354, -0.17345818877220154, 0.10302675515413284, -0.15156489610671997, 0.026397772133350372, 0.026928022503852844, -0.053796008229255676, 0.19241002202033997, 0.15704616904258728, -0.3302367329597473, -0.31624749302864075, -0.6851117610931396, -0.0868649035692215, -0.0016898885369300842, -0.08800758421421051, 0.5956553816795349, -0.017951061949133873, 0.7712670564651489, 0.19196107983589172, 0.836267352104187, -0.16145499050617218, 0.12932810187339783, -0.5170711278915405, -0.0689205601811409, 0.16523432731628418, 0.3925139307975769, 0.15268968045711517, -0.37060075998306274, 0.6934324502944946, -0.6619656682014465, -0.8555334210395813, -1.20065438747406, 0.09041497111320496, -0.31133943796157837, -0.4854283332824707, 0.2697250247001648, 0.2527120113372803, 0.4981848895549774, 0.7197211980819702, 0.34796422719955444, 0.22250373661518097, -0.06732876598834991, 0.16390064358711243, -0.1082354336977005, -1.7750563621520996, 0.7882705330848694, -0.026915356516838074, 0.0018367618322372437, -0.5902618169784546, -0.4125794768333435, 0.029836785048246384, -0.29514142870903015, -0.21040639281272888, -0.6017662882804871, -0.4064427316188812, 0.045449063181877136, 0.5138932466506958, -0.07752400636672974, -0.25388890504837036, 0.11727730929851532, -0.19424894452095032, -0.07211694121360779, 0.08317512273788452, -0.12836454808712006, -0.1676715612411499, -0.37545445561408997, 0.05282504856586456, -0.0846930518746376, -0.09693130850791931, -0.05329407751560211, 0.12924180924892426, -0.03944715857505798, 0.07614485919475555, -0.3175273537635803, 0.5687270164489746, -0.45173078775405884, 0.002864837646484375, -0.2896622121334076, 0.3519900441169739, 0.35023295879364014, 0.14081893861293793, 3.820399522781372, -0.2556074857711792, 0.7488375306129456, 0.31010931730270386, 0.21825778484344482, 0.04185985401272774, -0.19396843016147614, -0.24805927276611328, -0.31044507026672363, -0.27338898181915283, -0.19685165584087372, -0.34316590428352356, 0.3054637610912323, -0.09600259363651276, 0.4377744793891907, 1.0337209701538086, -0.45815175771713257, -0.04383622109889984, 0.6140552759170532, -0.09715737402439117, 0.15689100325107574, 0.03530658781528473, -0.4113319218158722, 0.37496405839920044, 0.4407690167427063, 0.351152628660202, 0.347493052482605, 0.377750426530838, 0.1080598309636116, 0.40645232796669006, -0.08119817078113556, 0.09505067020654678, 0.035578638315200806, -0.639936089515686, 0.4195990562438965, -0.029833704233169556, -0.2534453570842743, 0.08906608074903488, -0.16816873848438263, -0.29698365926742554, 0.31832534074783325, -0.2866876721382141, 0.6761073470115662, -0.4636175036430359, -0.31188276410102844, -0.9780725836753845, 0.423129141330719, 0.11981575191020966, 0.10521949827671051, -0.20144908130168915, 0.28496885299682617, -0.48463141918182373, -0.030102767050266266, 0.16372394561767578, -0.03242265060544014, 0.4163302779197693, 0.04357001185417175, 0.4677605628967285, 0.3899439573287964, -0.10126006603240967, 0.2416284680366516, 0.347582072019577, -0.36587876081466675, 0.07912985980510712, 0.5495200157165527, 0.270307719707489, -0.805709719657898, -0.4361898601055145, -0.05363500863313675, 0.4237061142921448, -0.02795935794711113, 0.3210563361644745, 0.14605820178985596, 0.24981889128684998, 0.5334134101867676, 0.4766843318939209, 0.3726552724838257, 0.10756170749664307, 0.7025383114814758, -0.3015787899494171, -0.34621989727020264, 0.04794216528534889, -0.48212572932243347, -0.521945059299469, -0.05585172772407532, -0.20200738310813904, 0.1985829472541809, -0.37500759959220886, -0.24081091582775116, 0.018896952271461487, 0.4452385902404785, 0.201433464884758, 0.2533555030822754, 0.5328182578086853, -0.06568139791488647, 0.20855766534805298, -0.27300387620925903, -0.0002899095416069031, -0.15699979662895203, -0.11080184578895569, -0.23228642344474792, -0.152841717004776, -0.07815609872341156, -0.39628952741622925, 0.11897101998329163, -0.07691431790590286, 0.2166496366262436, -0.02263207733631134, -0.1740729808807373, 0.31547701358795166, -0.15273036062717438, -0.46090441942214966, 0.34936001896858215, 0.07461051642894745, -0.009238861501216888, 0.1731572449207306, 0.49064114689826965, 0.24812902510166168, -0.07851140201091766, 0.5719007253646851, 0.2258976846933365, -0.028947442770004272, -0.22530479729175568, -0.4144565463066101, -2.5485289096832275, -0.36449483036994934, -1.2233681678771973, 0.20480892062187195, -1.0389635562896729, 0.1915227174758911, 0.06482064723968506, -0.0941137820482254, -0.32971885800361633, 0.6395548582077026, -0.022752836346626282, -0.28554612398147583, 0.49356991052627563, 0.5496336221694946, 0.37228989601135254, -0.061045870184898376, 0.3820405602455139, -0.4210400879383087, -0.7821056246757507, 0.3087843656539917, 0.9244899153709412, -0.3787851929664612, -0.4057927131652832, -0.302989661693573, 0.19547629356384277, -0.13865645229816437, 1.0588393211364746, -0.08234553039073944, 0.23014375567436218, -0.16460558772087097, -0.28532376885414124, 0.09911985695362091, -0.06779420375823975, -0.8138869404792786, -0.16861626505851746, -0.4425167441368103, -0.0503869354724884, -0.18500766158103943, -0.43578091263771057, -0.38850638270378113, -0.2524241805076599, 0.35625219345092773, -0.44853416085243225, 0.07889668643474579, -0.6691082119941711, -0.13156361877918243, -0.14882999658584595, 0.13305023312568665, -0.1704091727733612, -0.15776021778583527, -0.1275482177734375, -0.16491271555423737, -0.2820975184440613, -0.048189111053943634, -0.22638863325119019, 0.5366500616073608, -0.34960660338401794, 0.14753735065460205, -0.45335355401039124, 0.15503603219985962, 0.02077915519475937, -0.4474577009677887, 0.28786998987197876, 0.46689313650131226, -0.010371536016464233, 0.2627304196357727, -0.10477236658334732, -0.18529236316680908, 0.1027882769703865, -0.6266871690750122, -0.10485881567001343, 0.8964179158210754, -0.3589555621147156, -0.7782987356185913, 0.3652665317058563, -0.3796934485435486, 0.10346537828445435, 0.18610119819641113, -0.0307580828666687, -0.318204790353775, 0.23731264472007751, -0.5977997779846191, 0.18169519305229187, 0.10348750650882721, -0.015399850904941559, 0.21055981516838074, 0.30980607867240906, -0.3477610945701599, 0.2699674367904663, 0.37309005856513977, 0.640762209892273, 0.0997641384601593, -0.46869957447052, -0.49813172221183777, 0.5600903630256653, -0.019097905606031418, -2.1666269302368164, -0.17427599430084229, 0.12231937795877457, 0.39266180992126465, 0.16176915168762207, -0.1440109759569168, -0.278099000453949, 0.048795245587825775, 0.44774508476257324, -0.024358171969652176, 0.5997351408004761, 0.14923930168151855, -0.18855151534080505, 0.33194848895072937, 0.2602647840976715, -0.0836082398891449, 0.07460516691207886, 0.3431025445461273, -0.12257856130599976, -0.054353587329387665, 0.1660008430480957, -0.271817147731781, 1.4606201648712158, 0.11388574540615082, 0.15886303782463074, 0.08804738521575928, -0.29270774126052856, 0.16611826419830322, 0.28118187189102173, 0.04103931784629822, 0.7019356489181519, -0.2891086935997009, 0.9814339876174927, -0.2962760329246521, -0.0422566682100296, 0.1825537085533142, -0.14453637599945068, 0.5242273211479187, -0.01633758842945099, -0.22720110416412354, -0.27379125356674194, -0.08642221242189407, 0.36222749948501587, -0.29673829674720764, 0.5419750213623047, -0.060848418623209, 0.02014981210231781, -0.19346283376216888, -0.5635486245155334, 0.39200419187545776, 0.18251502513885498, -0.38699260354042053, -0.6908384561538696, -0.15957510471343994, 0.2838555872440338, -0.10657528042793274, 0.2545138895511627, -0.23723247647285461, 0.03009115159511566, 0.11384977400302887, -0.22082975506782532, 0.06138700246810913, -0.15059980750083923, 0.24005217850208282, 0.5675569176673889], metadata={'file_path': '/home/daimler/workspaces/agents-course-huggingface/2.2-llamaindex/data/persona_1004.txt', 'file_name': 'persona_1004.txt', 'file_type': 'text/plain', 'file_size': 160, 'creation_date': '2025-03-11', 'last_modified_date': '2025-03-11'}, excluded_embed_metadata_keys=['file_name', 'file_type', 'file_size', 'creation_date', 'last_modified_date', 'last_accessed_date'], excluded_llm_metadata_keys=['file_name', 'file_type', 'file_size', 'creation_date', 'last_modified_date', 'last_accessed_date'], relationships={<NodeRelationship.SOURCE: '1'>: RelatedNodeInfo(node_id='77bac848-9565-4a9c-b7b2-89046db021ce', node_type=<ObjectType.DOCUMENT: '4'>, metadata={'file_path': '/home/daimler/workspaces/agents-course-huggingface/2.2-llamaindex/data/persona_1004.txt', 'file_name': 'persona_1004.txt', 'file_type': 'text/plain', 'file_size': 160, 'creation_date': '2025-03-11', 'last_modified_date': '2025-03-11'}, hash='19628b0ae4a0f0ebd63b75e13df7d9183f42e8bb84358fdc2c9049c016c4b67d')}, metadata_template='{key}: {value}', metadata_separator='\\n', text='An environmental historian or urban planner focused on ecological conservation and sustainability, likely working in local government or a related organization.', mimetype='text/plain', start_char_idx=0, end_char_idx=160, metadata_seperator='\\n', text_template='{metadata_str}\\n\\n{content}'),\n",
       " TextNode(id_='b42a9c9e-15cd-4aa2-b537-661b40247cfa', embedding=[-0.16845834255218506, 0.3516119718551636, 0.29210102558135986, -0.4149431884288788, 0.23774293065071106, -0.2668950855731964, 0.06354368478059769, -0.2754890024662018, -0.8445051908493042, -0.9571712613105774, -0.3672676682472229, -0.38962727785110474, -0.2534756660461426, 0.3722611367702484, 0.3529208302497864, 0.21617881953716278, -0.4520900845527649, 0.6149968504905701, 0.30048197507858276, -0.027361415326595306, -0.618155300617218, -0.19839318096637726, 0.6121507287025452, 0.37584811449050903, 0.019135456532239914, 0.08169811218976974, 0.6300845742225647, -0.22280006110668182, -0.3799055814743042, -1.311609148979187, -0.020175175741314888, -0.04542050138115883, -0.03274013102054596, 0.5117877125740051, 0.4698305130004883, 0.06255954504013062, 0.16451406478881836, 0.3492823839187622, 0.2503010034561157, -0.11147210001945496, -0.23112741112709045, -0.10940706729888916, 0.39983806014060974, 0.533332347869873, 0.7372586727142334, 0.43916165828704834, 0.4237915873527527, 0.3734299838542938, -0.29637080430984497, -0.760992705821991, -0.40214264392852783, -0.11355435848236084, -0.06473366171121597, -0.14458037912845612, 0.8029503226280212, 0.6921723484992981, 0.5506507158279419, -0.002196572721004486, 0.22168032824993134, 0.06035728380084038, 0.19839699566364288, 0.31828856468200684, -1.8989859819412231, 0.4200547933578491, 0.18127620220184326, 0.38379740715026855, 0.3129517138004303, -0.32622015476226807, -0.08646941184997559, -0.06685419380664825, -0.5699447989463806, -0.34261554479599, -0.4786399006843567, -0.34869644045829773, 0.2185697853565216, -0.1385667771100998, -0.007348314858973026, 0.17238956689834595, -0.3825153708457947, -0.08643865585327148, 0.4037657380104065, -0.0048065185546875, 0.04356299340724945, -0.23832036554813385, -0.12056960165500641, -0.41298708319664, -0.281350314617157, -0.47961103916168213, -0.10165943205356598, -0.2568782567977905, -0.17237630486488342, -0.7546606659889221, 0.5725597739219666, -0.41615036129951477, -0.04728332906961441, -0.007669519633054733, -0.24345016479492188, 0.3340646028518677, 0.15372547507286072, 3.6512322425842285, -0.06496813148260117, 0.6938133239746094, 0.17202219367027283, -0.1623799204826355, -0.25733447074890137, 0.2669967710971832, 0.26586541533470154, -0.04821857437491417, -0.46859854459762573, -0.12220783531665802, -0.01862204819917679, 0.4434881806373596, -0.08988833427429199, -0.14927630126476288, 1.2140297889709473, -0.5670837163925171, 0.14531975984573364, 0.05577435344457626, 0.17687231302261353, -0.04571874067187309, -0.1046711653470993, 0.17739398777484894, 0.37454020977020264, -0.23389331996440887, 0.13467833399772644, 0.2683744430541992, 0.4463140666484833, 0.3219952881336212, 0.3711584508419037, -0.43962299823760986, -0.496606707572937, -0.26209115982055664, -0.524050235748291, -0.07205240428447723, 0.25549226999282837, 0.07541466504335403, 0.24411232769489288, -0.1429237276315689, 0.12672701478004456, -0.04630021005868912, -0.24324119091033936, -0.30909913778305054, -0.4457181394100189, 0.3533622920513153, -1.0008273124694824, 0.17603236436843872, 0.1544412225484848, 0.2501891851425171, -0.10814755409955978, 0.40484192967414856, 0.014011800289154053, 0.07698389142751694, -0.48317646980285645, -0.29156967997550964, 0.06022842973470688, 0.3147648572921753, 0.6953412890434265, 0.6677291989326477, -0.4235136806964874, 0.09880135953426361, -0.16546230018138885, -0.6737163066864014, 0.16005021333694458, 0.4279932975769043, 0.09047125279903412, -1.1567027568817139, -0.5673730373382568, -0.03317829966545105, 0.07193917781114578, 0.08838969469070435, 0.6516937613487244, -0.1743011474609375, -0.47759756445884705, 0.6343075037002563, 0.3111937642097473, 0.6107093095779419, 0.2072048783302307, 0.5813060998916626, -0.4292430579662323, -0.397225558757782, 0.16676175594329834, -0.8539646863937378, -0.29429855942726135, -0.192958265542984, -0.16262918710708618, 0.7760417461395264, 0.20932525396347046, -0.053692132234573364, 0.04398740828037262, 0.1115923598408699, 0.42280176281929016, 0.6659447550773621, -0.014566078782081604, -0.019986895844340324, -0.06043939292430878, -0.26484188437461853, 0.11734418570995331, 0.15260770916938782, 0.1515052616596222, -0.2199041247367859, -0.36142122745513916, -0.09979213029146194, -0.34094083309173584, 0.20113861560821533, -0.23411327600479126, 0.1254841536283493, -0.16301698982715607, -0.27069973945617676, 0.08317451179027557, -0.4710966944694519, -0.5049349069595337, 0.24009673297405243, -0.3685341477394104, -0.6578678488731384, -0.014983117580413818, -0.2866792380809784, 0.04671700671315193, 0.006702333688735962, 0.0849861428141594, 0.03513798862695694, -0.24958667159080505, -0.4245326817035675, -0.628760814666748, -2.7807319164276123, -0.18511465191841125, -0.8441441059112549, 0.03572734445333481, -0.42870163917541504, -0.3987523019313812, 0.30105721950531006, 0.16437266767024994, -0.3380102217197418, 0.8530246019363403, -0.3904873728752136, -0.06626728177070618, 0.3202400207519531, 0.3560618460178375, 0.3035179376602173, -0.09040454030036926, -0.08787600696086884, -0.07963944971561432, -0.5741311311721802, 0.5227189064025879, 0.6466588973999023, -0.13016250729560852, -0.207376629114151, -0.571214497089386, 0.38304224610328674, 0.00719844177365303, 1.0946266651153564, 0.050294071435928345, 0.325603723526001, -0.3397226333618164, -0.25866207480430603, -0.010157059878110886, -0.03432971239089966, -0.08259455859661102, 0.2936670184135437, -0.2753227949142456, 0.8040528893470764, 0.2202717661857605, 0.16225503385066986, -0.15295836329460144, -0.28341537714004517, 0.17267519235610962, -0.17263007164001465, 0.08140867948532104, -0.5761648416519165, -0.187875896692276, 0.049389228224754333, -0.201786607503891, -0.28054773807525635, -0.3913208246231079, 0.22264441847801208, 0.06728848814964294, 0.08133967965841293, 0.26488786935806274, -0.6598318219184875, 0.08294284343719482, -0.3656071424484253, 0.008440516889095306, 0.02075289934873581, 0.6384348273277283, -0.1918429732322693, -0.007485009729862213, 0.044420719146728516, -0.3900609612464905, -0.021956689655780792, 0.48698529601097107, -0.16874295473098755, -0.14659124612808228, 0.17373642325401306, -0.024968892335891724, -0.0279593113809824, 0.5818347930908203, -0.7400761842727661, -0.5448360443115234, 0.45333829522132874, 0.11580516397953033, -0.007232971489429474, 0.5867974758148193, -0.3644484579563141, 0.012434527277946472, 0.46507084369659424, -0.39214888215065, 0.017886579036712646, 0.2545800805091858, 0.02066168561577797, -0.09754550457000732, 0.14968615770339966, -0.21738721430301666, 0.46107617020606995, 0.3834545314311981, 0.47610118985176086, 0.05896975100040436, -0.6003836393356323, 0.22308480739593506, 0.049145374447107315, -0.30241870880126953, -1.9372154474258423, -0.09377683699131012, 0.6295070648193359, 0.8858737349510193, 0.2846193015575409, 0.1318567842245102, -0.20030683279037476, -0.3884661793708801, 0.0947212427854538, -0.4678708612918854, 0.5338426232337952, 0.6082953810691833, 0.12420839071273804, 0.18840602040290833, 0.3250053822994232, -0.2897471785545349, 0.1491529643535614, 0.14893585443496704, -0.46722763776779175, 0.22731423377990723, 0.2641640603542328, -0.02684209495782852, 1.1532180309295654, 0.1607787311077118, -0.04473358392715454, -0.07059317827224731, 0.19249524176120758, 0.4043857455253601, -0.062345825135707855, -0.02923283539712429, 0.6045131683349609, -0.26082608103752136, 0.5498882532119751, -0.521714448928833, -0.17797642946243286, 0.20796442031860352, -0.3823637068271637, 0.23269294202327728, -0.15441983938217163, -0.11949410289525986, -0.3975885808467865, 0.1368078589439392, -0.10255131125450134, -0.10530651360750198, 0.3914269506931305, 0.11150656640529633, -0.18156853318214417, 0.020196624100208282, -0.09632071852684021, 0.5808491706848145, 0.08675360679626465, 0.030605874955654144, -0.45568129420280457, 0.22273164987564087, 0.7939313054084778, -0.1476585417985916, 0.060490742325782776, 0.4141678810119629, -0.03239436447620392, -0.07945681363344193, -0.3474075198173523, 0.11328767240047455, 0.0007847249507904053, -0.016246579587459564, 0.5396450757980347], metadata={'file_path': '/home/daimler/workspaces/agents-course-huggingface/2.2-llamaindex/data/persona_1005.txt', 'file_name': 'persona_1005.txt', 'file_type': 'text/plain', 'file_size': 85, 'creation_date': '2025-03-11', 'last_modified_date': '2025-03-11'}, excluded_embed_metadata_keys=['file_name', 'file_type', 'file_size', 'creation_date', 'last_modified_date', 'last_accessed_date'], excluded_llm_metadata_keys=['file_name', 'file_type', 'file_size', 'creation_date', 'last_modified_date', 'last_accessed_date'], relationships={<NodeRelationship.SOURCE: '1'>: RelatedNodeInfo(node_id='72ff234c-811e-401b-9413-59ab6326b256', node_type=<ObjectType.DOCUMENT: '4'>, metadata={'file_path': '/home/daimler/workspaces/agents-course-huggingface/2.2-llamaindex/data/persona_1005.txt', 'file_name': 'persona_1005.txt', 'file_type': 'text/plain', 'file_size': 85, 'creation_date': '2025-03-11', 'last_modified_date': '2025-03-11'}, hash='f9e87c24312f7290b04f62167fa845fd1fb3b07ff4d39ab099563339a8f34838')}, metadata_template='{key}: {value}', metadata_separator='\\n', text='An historian focused on 19th-century Irish politics and the Irish Home Rule movement.', mimetype='text/plain', start_char_idx=0, end_char_idx=85, metadata_seperator='\\n', text_template='{metadata_str}\\n\\n{content}')]"
      ]
     },
     "execution_count": 9,
     "metadata": {},
     "output_type": "execute_result"
    }
   ],
   "source": [
    "# from llama_index.embeddings.huggingface_api import HuggingFaceInferenceAPIEmbedding\n",
    "from llama_index.core.node_parser import SentenceSplitter\n",
    "from llama_index.core.ingestion import IngestionPipeline\n",
    "from llama_index.embeddings.ollama import OllamaEmbedding\n",
    "\n",
    "# create the pipeline with transformations\n",
    "pipeline = IngestionPipeline(\n",
    "    transformations=[\n",
    "        SentenceSplitter(),\n",
    "        # HuggingFaceInferenceAPIEmbedding(model_name=\"BAAI/bge-small-en-v1.5\"),\n",
    "        OllamaEmbedding(model_name=\"qllama/bge-small-en-v1.5:f16\")\n",
    "    ]\n",
    ")\n",
    "\n",
    "# run the pipeline sync or async\n",
    "nodes = await pipeline.arun(documents=documents[:10])\n",
    "nodes"
   ]
  },
  {
   "cell_type": "markdown",
   "metadata": {
    "id": "hGv8Fg-S1NKr"
   },
   "source": [
    "As, you can see, we have created a list of `Node` objects, which are just chunks of text from the original documents. Let's explore how we can add these nodes to a vector store.\n",
    "\n",
    "### Storing and indexing documents\n",
    "\n",
    "Since we are using an ingestion pipeline, we can directly attach a vector store to the pipeline to populate it.\n",
    "In this case, we will use `Chroma` to store our documents.\n",
    "Let's run the pipeline again with the vector store attached.\n",
    "The `IngestionPipeline` caches the operations so this should be fast!"
   ]
  },
  {
   "cell_type": "code",
   "execution_count": 10,
   "metadata": {
    "id": "cz2DL3QQ1NKr",
    "outputId": "51262c5a-32dd-4872-e80a-fb43b54e5a95"
   },
   "outputs": [
    {
     "data": {
      "text/plain": [
       "10"
      ]
     },
     "execution_count": 10,
     "metadata": {},
     "output_type": "execute_result"
    }
   ],
   "source": [
    "import chromadb\n",
    "from llama_index.vector_stores.chroma import ChromaVectorStore\n",
    "\n",
    "db = chromadb.PersistentClient(path=\"./alfred_chroma_db\")\n",
    "chroma_collection = db.get_or_create_collection(name=\"alfred\")\n",
    "vector_store = ChromaVectorStore(chroma_collection=chroma_collection)\n",
    "\n",
    "pipeline = IngestionPipeline(\n",
    "    transformations=[\n",
    "        SentenceSplitter(),\n",
    "        # HuggingFaceInferenceAPIEmbedding(model_name=\"BAAI/bge-small-en-v1.5\"),\n",
    "        OllamaEmbedding(model_name=\"qllama/bge-small-en-v1.5:f16\")\n",
    "\n",
    "    ],\n",
    "    vector_store=vector_store,\n",
    ")\n",
    "\n",
    "nodes = await pipeline.arun(documents=documents[:10])\n",
    "len(nodes)"
   ]
  },
  {
   "cell_type": "markdown",
   "metadata": {
    "id": "KzzRx-tv1NKs"
   },
   "source": [
    "We can create a `VectorStoreIndex` from the vector store and use it to query the documents by passing the vector store and embedding model to the `from_vector_store()` method."
   ]
  },
  {
   "cell_type": "code",
   "execution_count": 11,
   "metadata": {
    "id": "ls0HyUcF1NKs"
   },
   "outputs": [],
   "source": [
    "from llama_index.core import VectorStoreIndex\n",
    "# from llama_index.embeddings.huggingface_api import HuggingFaceInferenceAPIEmbedding\n",
    "\n",
    "# embed_model = HuggingFaceInferenceAPIEmbedding(model_name=\"BAAI/bge-small-en-v1.5\")\n",
    "embed_model = OllamaEmbedding(model_name=\"qllama/bge-small-en-v1.5:f16\")\n",
    "index = VectorStoreIndex.from_vector_store(\n",
    "    vector_store=vector_store, embed_model=embed_model\n",
    ")"
   ]
  },
  {
   "cell_type": "markdown",
   "metadata": {
    "id": "hd2YHW3b1NKs"
   },
   "source": [
    "We don't need to worry about persisting the index to disk, as it is automatically saved within the `ChromaVectorStore` object and the passed directory path.\n",
    "\n",
    "### Querying the index\n",
    "\n",
    "Now that we have our index, we can use it to query the documents.\n",
    "Let's create a `QueryEngine` from the index and use it to query the documents using a specific response mode.\n"
   ]
  },
  {
   "cell_type": "code",
   "execution_count": 12,
   "metadata": {},
   "outputs": [
    {
     "name": "stdout",
     "output_type": "stream",
     "text": [
      "Requirement already satisfied: llama-index-llms-ollama in /home/daimler/workspaces/agents-course-huggingface/.venv/lib/python3.12/site-packages (0.5.3)\n",
      "Requirement already satisfied: llama-index-core<0.13.0,>=0.12.4 in /home/daimler/workspaces/agents-course-huggingface/.venv/lib/python3.12/site-packages (from llama-index-llms-ollama) (0.12.23.post2)\n",
      "Requirement already satisfied: ollama>=0.4.3 in /home/daimler/workspaces/agents-course-huggingface/.venv/lib/python3.12/site-packages (from llama-index-llms-ollama) (0.4.7)\n",
      "Requirement already satisfied: PyYAML>=6.0.1 in /home/daimler/workspaces/agents-course-huggingface/.venv/lib/python3.12/site-packages (from llama-index-core<0.13.0,>=0.12.4->llama-index-llms-ollama) (6.0.2)\n",
      "Requirement already satisfied: SQLAlchemy>=1.4.49 in /home/daimler/workspaces/agents-course-huggingface/.venv/lib/python3.12/site-packages (from SQLAlchemy[asyncio]>=1.4.49->llama-index-core<0.13.0,>=0.12.4->llama-index-llms-ollama) (2.0.38)\n",
      "Requirement already satisfied: aiohttp<4.0.0,>=3.8.6 in /home/daimler/workspaces/agents-course-huggingface/.venv/lib/python3.12/site-packages (from llama-index-core<0.13.0,>=0.12.4->llama-index-llms-ollama) (3.11.13)\n",
      "Requirement already satisfied: dataclasses-json in /home/daimler/workspaces/agents-course-huggingface/.venv/lib/python3.12/site-packages (from llama-index-core<0.13.0,>=0.12.4->llama-index-llms-ollama) (0.6.7)\n",
      "Requirement already satisfied: deprecated>=1.2.9.3 in /home/daimler/workspaces/agents-course-huggingface/.venv/lib/python3.12/site-packages (from llama-index-core<0.13.0,>=0.12.4->llama-index-llms-ollama) (1.2.18)\n",
      "Requirement already satisfied: dirtyjson<2.0.0,>=1.0.8 in /home/daimler/workspaces/agents-course-huggingface/.venv/lib/python3.12/site-packages (from llama-index-core<0.13.0,>=0.12.4->llama-index-llms-ollama) (1.0.8)\n",
      "Requirement already satisfied: filetype<2.0.0,>=1.2.0 in /home/daimler/workspaces/agents-course-huggingface/.venv/lib/python3.12/site-packages (from llama-index-core<0.13.0,>=0.12.4->llama-index-llms-ollama) (1.2.0)\n",
      "Requirement already satisfied: fsspec>=2023.5.0 in /home/daimler/workspaces/agents-course-huggingface/.venv/lib/python3.12/site-packages (from llama-index-core<0.13.0,>=0.12.4->llama-index-llms-ollama) (2024.12.0)\n",
      "Requirement already satisfied: httpx in /home/daimler/workspaces/agents-course-huggingface/.venv/lib/python3.12/site-packages (from llama-index-core<0.13.0,>=0.12.4->llama-index-llms-ollama) (0.28.1)\n",
      "Requirement already satisfied: nest-asyncio<2.0.0,>=1.5.8 in /home/daimler/workspaces/agents-course-huggingface/.venv/lib/python3.12/site-packages (from llama-index-core<0.13.0,>=0.12.4->llama-index-llms-ollama) (1.6.0)\n",
      "Requirement already satisfied: networkx>=3.0 in /home/daimler/workspaces/agents-course-huggingface/.venv/lib/python3.12/site-packages (from llama-index-core<0.13.0,>=0.12.4->llama-index-llms-ollama) (3.4.2)\n",
      "Requirement already satisfied: nltk>3.8.1 in /home/daimler/workspaces/agents-course-huggingface/.venv/lib/python3.12/site-packages (from llama-index-core<0.13.0,>=0.12.4->llama-index-llms-ollama) (3.9.1)\n",
      "Requirement already satisfied: numpy in /home/daimler/workspaces/agents-course-huggingface/.venv/lib/python3.12/site-packages (from llama-index-core<0.13.0,>=0.12.4->llama-index-llms-ollama) (2.2.3)\n",
      "Requirement already satisfied: pillow>=9.0.0 in /home/daimler/workspaces/agents-course-huggingface/.venv/lib/python3.12/site-packages (from llama-index-core<0.13.0,>=0.12.4->llama-index-llms-ollama) (11.1.0)\n",
      "Requirement already satisfied: pydantic>=2.8.0 in /home/daimler/workspaces/agents-course-huggingface/.venv/lib/python3.12/site-packages (from llama-index-core<0.13.0,>=0.12.4->llama-index-llms-ollama) (2.10.6)\n",
      "Requirement already satisfied: requests>=2.31.0 in /home/daimler/workspaces/agents-course-huggingface/.venv/lib/python3.12/site-packages (from llama-index-core<0.13.0,>=0.12.4->llama-index-llms-ollama) (2.32.3)\n",
      "Requirement already satisfied: tenacity!=8.4.0,<10.0.0,>=8.2.0 in /home/daimler/workspaces/agents-course-huggingface/.venv/lib/python3.12/site-packages (from llama-index-core<0.13.0,>=0.12.4->llama-index-llms-ollama) (9.0.0)\n",
      "Requirement already satisfied: tiktoken>=0.3.3 in /home/daimler/workspaces/agents-course-huggingface/.venv/lib/python3.12/site-packages (from llama-index-core<0.13.0,>=0.12.4->llama-index-llms-ollama) (0.9.0)\n",
      "Requirement already satisfied: tqdm<5.0.0,>=4.66.1 in /home/daimler/workspaces/agents-course-huggingface/.venv/lib/python3.12/site-packages (from llama-index-core<0.13.0,>=0.12.4->llama-index-llms-ollama) (4.67.1)\n",
      "Requirement already satisfied: typing-extensions>=4.5.0 in /home/daimler/workspaces/agents-course-huggingface/.venv/lib/python3.12/site-packages (from llama-index-core<0.13.0,>=0.12.4->llama-index-llms-ollama) (4.12.2)\n",
      "Requirement already satisfied: typing-inspect>=0.8.0 in /home/daimler/workspaces/agents-course-huggingface/.venv/lib/python3.12/site-packages (from llama-index-core<0.13.0,>=0.12.4->llama-index-llms-ollama) (0.9.0)\n",
      "Requirement already satisfied: wrapt in /home/daimler/workspaces/agents-course-huggingface/.venv/lib/python3.12/site-packages (from llama-index-core<0.13.0,>=0.12.4->llama-index-llms-ollama) (1.17.2)\n",
      "Requirement already satisfied: aiohappyeyeballs>=2.3.0 in /home/daimler/workspaces/agents-course-huggingface/.venv/lib/python3.12/site-packages (from aiohttp<4.0.0,>=3.8.6->llama-index-core<0.13.0,>=0.12.4->llama-index-llms-ollama) (2.5.0)\n",
      "Requirement already satisfied: aiosignal>=1.1.2 in /home/daimler/workspaces/agents-course-huggingface/.venv/lib/python3.12/site-packages (from aiohttp<4.0.0,>=3.8.6->llama-index-core<0.13.0,>=0.12.4->llama-index-llms-ollama) (1.3.2)\n",
      "Requirement already satisfied: attrs>=17.3.0 in /home/daimler/workspaces/agents-course-huggingface/.venv/lib/python3.12/site-packages (from aiohttp<4.0.0,>=3.8.6->llama-index-core<0.13.0,>=0.12.4->llama-index-llms-ollama) (25.1.0)\n",
      "Requirement already satisfied: frozenlist>=1.1.1 in /home/daimler/workspaces/agents-course-huggingface/.venv/lib/python3.12/site-packages (from aiohttp<4.0.0,>=3.8.6->llama-index-core<0.13.0,>=0.12.4->llama-index-llms-ollama) (1.5.0)\n",
      "Requirement already satisfied: multidict<7.0,>=4.5 in /home/daimler/workspaces/agents-course-huggingface/.venv/lib/python3.12/site-packages (from aiohttp<4.0.0,>=3.8.6->llama-index-core<0.13.0,>=0.12.4->llama-index-llms-ollama) (6.1.0)\n",
      "Requirement already satisfied: propcache>=0.2.0 in /home/daimler/workspaces/agents-course-huggingface/.venv/lib/python3.12/site-packages (from aiohttp<4.0.0,>=3.8.6->llama-index-core<0.13.0,>=0.12.4->llama-index-llms-ollama) (0.3.0)\n",
      "Requirement already satisfied: yarl<2.0,>=1.17.0 in /home/daimler/workspaces/agents-course-huggingface/.venv/lib/python3.12/site-packages (from aiohttp<4.0.0,>=3.8.6->llama-index-core<0.13.0,>=0.12.4->llama-index-llms-ollama) (1.18.3)\n",
      "Requirement already satisfied: anyio in /home/daimler/workspaces/agents-course-huggingface/.venv/lib/python3.12/site-packages (from httpx->llama-index-core<0.13.0,>=0.12.4->llama-index-llms-ollama) (4.8.0)\n",
      "Requirement already satisfied: certifi in /home/daimler/workspaces/agents-course-huggingface/.venv/lib/python3.12/site-packages (from httpx->llama-index-core<0.13.0,>=0.12.4->llama-index-llms-ollama) (2025.1.31)\n",
      "Requirement already satisfied: httpcore==1.* in /home/daimler/workspaces/agents-course-huggingface/.venv/lib/python3.12/site-packages (from httpx->llama-index-core<0.13.0,>=0.12.4->llama-index-llms-ollama) (1.0.7)\n",
      "Requirement already satisfied: idna in /home/daimler/workspaces/agents-course-huggingface/.venv/lib/python3.12/site-packages (from httpx->llama-index-core<0.13.0,>=0.12.4->llama-index-llms-ollama) (3.10)\n",
      "Requirement already satisfied: h11<0.15,>=0.13 in /home/daimler/workspaces/agents-course-huggingface/.venv/lib/python3.12/site-packages (from httpcore==1.*->httpx->llama-index-core<0.13.0,>=0.12.4->llama-index-llms-ollama) (0.14.0)\n",
      "Requirement already satisfied: click in /home/daimler/workspaces/agents-course-huggingface/.venv/lib/python3.12/site-packages (from nltk>3.8.1->llama-index-core<0.13.0,>=0.12.4->llama-index-llms-ollama) (8.1.8)\n",
      "Requirement already satisfied: joblib in /home/daimler/workspaces/agents-course-huggingface/.venv/lib/python3.12/site-packages (from nltk>3.8.1->llama-index-core<0.13.0,>=0.12.4->llama-index-llms-ollama) (1.4.2)\n",
      "Requirement already satisfied: regex>=2021.8.3 in /home/daimler/workspaces/agents-course-huggingface/.venv/lib/python3.12/site-packages (from nltk>3.8.1->llama-index-core<0.13.0,>=0.12.4->llama-index-llms-ollama) (2024.11.6)\n",
      "Requirement already satisfied: annotated-types>=0.6.0 in /home/daimler/workspaces/agents-course-huggingface/.venv/lib/python3.12/site-packages (from pydantic>=2.8.0->llama-index-core<0.13.0,>=0.12.4->llama-index-llms-ollama) (0.7.0)\n",
      "Requirement already satisfied: pydantic-core==2.27.2 in /home/daimler/workspaces/agents-course-huggingface/.venv/lib/python3.12/site-packages (from pydantic>=2.8.0->llama-index-core<0.13.0,>=0.12.4->llama-index-llms-ollama) (2.27.2)\n",
      "Requirement already satisfied: charset-normalizer<4,>=2 in /home/daimler/workspaces/agents-course-huggingface/.venv/lib/python3.12/site-packages (from requests>=2.31.0->llama-index-core<0.13.0,>=0.12.4->llama-index-llms-ollama) (3.4.1)\n",
      "Requirement already satisfied: urllib3<3,>=1.21.1 in /home/daimler/workspaces/agents-course-huggingface/.venv/lib/python3.12/site-packages (from requests>=2.31.0->llama-index-core<0.13.0,>=0.12.4->llama-index-llms-ollama) (2.3.0)\n",
      "Requirement already satisfied: greenlet!=0.4.17 in /home/daimler/workspaces/agents-course-huggingface/.venv/lib/python3.12/site-packages (from SQLAlchemy>=1.4.49->SQLAlchemy[asyncio]>=1.4.49->llama-index-core<0.13.0,>=0.12.4->llama-index-llms-ollama) (3.1.1)\n",
      "Requirement already satisfied: mypy-extensions>=0.3.0 in /home/daimler/workspaces/agents-course-huggingface/.venv/lib/python3.12/site-packages (from typing-inspect>=0.8.0->llama-index-core<0.13.0,>=0.12.4->llama-index-llms-ollama) (1.0.0)\n",
      "Requirement already satisfied: marshmallow<4.0.0,>=3.18.0 in /home/daimler/workspaces/agents-course-huggingface/.venv/lib/python3.12/site-packages (from dataclasses-json->llama-index-core<0.13.0,>=0.12.4->llama-index-llms-ollama) (3.26.1)\n",
      "Requirement already satisfied: packaging>=17.0 in /home/daimler/workspaces/agents-course-huggingface/.venv/lib/python3.12/site-packages (from marshmallow<4.0.0,>=3.18.0->dataclasses-json->llama-index-core<0.13.0,>=0.12.4->llama-index-llms-ollama) (24.2)\n",
      "Requirement already satisfied: sniffio>=1.1 in /home/daimler/workspaces/agents-course-huggingface/.venv/lib/python3.12/site-packages (from anyio->httpx->llama-index-core<0.13.0,>=0.12.4->llama-index-llms-ollama) (1.3.1)\n",
      "Note: you may need to restart the kernel to use updated packages.\n"
     ]
    }
   ],
   "source": [
    "%pip install llama-index-llms-ollama"
   ]
  },
  {
   "cell_type": "code",
   "execution_count": 13,
   "metadata": {
    "id": "tQ9oQmKz1NKs",
    "outputId": "dc0ad1ae-9896-4c6a-fbc1-7a3b915f6966"
   },
   "outputs": [
    {
     "data": {
      "text/plain": [
       "Response(response=\"I have spent many years as an anthropologist in Cyprus, immersing myself deeply into Cypriot culture, history, and society. My journey began by exploring the ancient sites around Cyprus, from the imposing walls of Kition to the grandiose architecture of Paphos. The experiences and stories I've collected over these years have shaped my understanding not just as a researcher but also as someone who has lived among the people.\\n\\nOne of the most profound aspects of Cypriot culture that fascinates me is their hospitality, which is unparalleled anywhere else. It's evident in every home visit, market exchange, or casual conversation on the streets. The warmth and genuine interest people have towards strangers make a lasting impression.\\n\\nThe traditional festivals are another highlight; they showcase the rich heritage through vibrant costumes, music, dance, and food. Each festival offers a unique glimpse into various aspects of Cypriot life. Witnessing how these traditions are preserved and celebrated has been enlightening and humbling.\\n\\nLiving in Cyprus has allowed me to witness both the beauty and challenges faced by the people. The island's strategic location between Europe and Asia has contributed significantly to its diverse cultural influences, which is evident in its cuisine, architecture, and dialects of Greek and Turkish. It’s fascinating how these multiple influences coexist harmoniously.\\n\\nThrough my travels and research, I've come to appreciate the resilience and adaptability of Cypriots. Despite historical conflicts and political challenges, life has continued to thrive with a strong sense of community and cultural identity.\", source_nodes=[NodeWithScore(node=TextNode(id_='372496be-c985-453a-b534-bbbdbfdd02fa', embedding=None, metadata={'file_path': '/home/daimler/workspaces/agents-course-huggingface/2.2-llamaindex/data/persona_1.txt', 'file_name': 'persona_1.txt', 'file_type': 'text/plain', 'file_size': 266, 'creation_date': '2025-03-11', 'last_modified_date': '2025-03-11'}, excluded_embed_metadata_keys=['file_name', 'file_type', 'file_size', 'creation_date', 'last_modified_date', 'last_accessed_date'], excluded_llm_metadata_keys=['file_name', 'file_type', 'file_size', 'creation_date', 'last_modified_date', 'last_accessed_date'], relationships={<NodeRelationship.SOURCE: '1'>: RelatedNodeInfo(node_id='2fc1c32a-0584-4da3-bd4d-75a0ab5e6288', node_type='4', metadata={'file_path': '/home/daimler/workspaces/agents-course-huggingface/2.2-llamaindex/data/persona_1.txt', 'file_name': 'persona_1.txt', 'file_type': 'text/plain', 'file_size': 266, 'creation_date': '2025-03-11', 'last_modified_date': '2025-03-11'}, hash='e6c87149a97bf9e5dbdf33922a4e5023c6b72550ca0b63472bd5d25103b28e99')}, metadata_template='{key}: {value}', metadata_separator='\\n', text='An anthropologist or a cultural expert interested in the intricacies of Cypriot culture, history, and society, particularly someone who has spent considerable time researching and living in Cyprus to gain a deep understanding of its people, customs, and way of life.', mimetype='text/plain', start_char_idx=0, end_char_idx=266, metadata_seperator='\\n', text_template='{metadata_str}\\n\\n{content}'), score=1.3355439247399834e-26)], metadata={'372496be-c985-453a-b534-bbbdbfdd02fa': {'file_path': '/home/daimler/workspaces/agents-course-huggingface/2.2-llamaindex/data/persona_1.txt', 'file_name': 'persona_1.txt', 'file_type': 'text/plain', 'file_size': 266, 'creation_date': '2025-03-11', 'last_modified_date': '2025-03-11'}})"
      ]
     },
     "execution_count": 13,
     "metadata": {},
     "output_type": "execute_result"
    }
   ],
   "source": [
    "# from llama_index.llms.huggingface_api import HuggingFaceInferenceAPI\n",
    "from llama_index.llms.ollama import Ollama \n",
    "import nest_asyncio\n",
    "\n",
    "nest_asyncio.apply()  # This is needed to run the query engine\n",
    "# llm = HuggingFaceInferenceAPI(model_name=\"Qwen/Qwen2.5-Coder-32B-Instruct\")\n",
    "llm = Ollama(model=\"myaniu/qwen2.5-1m:7b\")\n",
    "query_engine = index.as_query_engine(\n",
    "    llm=llm,\n",
    "    response_mode=\"tree_summarize\",\n",
    "    embed_model=OllamaEmbedding(model_name=\"qllama/bge-small-en-v1.5:f16\")\n",
    ")\n",
    "response = query_engine.query(\n",
    "    \"Respond using a persona that describes author and travel experiences?\"\n",
    ")\n",
    "response"
   ]
  },
  {
   "cell_type": "markdown",
   "metadata": {
    "id": "LW3chD1M1NKs"
   },
   "source": [
    "## Evaluation and observability\n",
    "\n",
    "LlamaIndex provides **built-in evaluation tools to assess response quality.**\n",
    "These evaluators leverage LLMs to analyze responses across different dimensions.\n",
    "We can now check if the query is faithful to the original persona."
   ]
  },
  {
   "cell_type": "code",
   "execution_count": 14,
   "metadata": {
    "id": "3e7_52IS1NKt",
    "outputId": "faacbac2-dc02-4b5f-b744-da79584992a1"
   },
   "outputs": [
    {
     "data": {
      "text/plain": [
       "True"
      ]
     },
     "execution_count": 14,
     "metadata": {},
     "output_type": "execute_result"
    }
   ],
   "source": [
    "from llama_index.core.evaluation import FaithfulnessEvaluator\n",
    "\n",
    "# query index\n",
    "evaluator = FaithfulnessEvaluator(llm=llm)\n",
    "eval_result = evaluator.evaluate_response(response=response)\n",
    "eval_result.passing"
   ]
  },
  {
   "cell_type": "markdown",
   "metadata": {
    "id": "Gtu2P1Ak1NKt"
   },
   "source": [
    "If one of these LLM based evaluators does not give enough context, we can check the response using the Arize Phoenix tool, after creating an account at [LlamaTrace](https://llamatrace.com/login) and generating an API key."
   ]
  },
  {
   "cell_type": "code",
   "execution_count": 15,
   "metadata": {
    "id": "sEWs61PL1NKt"
   },
   "outputs": [],
   "source": [
    "import llama_index\n",
    "import os\n",
    "from dotenv import load_dotenv\n",
    "# Load environment variables from .env file\n",
    "load_dotenv()\n",
    "\n",
    "\n",
    "llama_index.core.set_global_handler(\n",
    "    \"arize_phoenix\", \n",
    "    endpoint=\"https://llamatrace.com/v1/traces\"\n",
    ")\n"
   ]
  },
  {
   "cell_type": "markdown",
   "metadata": {
    "id": "L4cMPOyR1NKt"
   },
   "source": [
    "Now, we can query the index and see the response in the Arize Phoenix tool."
   ]
  },
  {
   "cell_type": "code",
   "execution_count": 16,
   "metadata": {
    "id": "65v7xZTO1NKt",
    "outputId": "db278596-b6d2-4bd2-fb9b-aa9440f52b91"
   },
   "outputs": [
    {
     "data": {
      "text/plain": [
       "Response(response=\"The provided context does not mention anyone specifically who is interested in AI and technology. The description refers to an anthropologist or cultural expert focused on Cypriot culture, history, and society. There is no information given about any individual's interest in AI and technology.\", source_nodes=[NodeWithScore(node=TextNode(id_='372496be-c985-453a-b534-bbbdbfdd02fa', embedding=None, metadata={'file_path': '/home/daimler/workspaces/agents-course-huggingface/2.2-llamaindex/data/persona_1.txt', 'file_name': 'persona_1.txt', 'file_type': 'text/plain', 'file_size': 266, 'creation_date': '2025-03-11', 'last_modified_date': '2025-03-11'}, excluded_embed_metadata_keys=['file_name', 'file_type', 'file_size', 'creation_date', 'last_modified_date', 'last_accessed_date'], excluded_llm_metadata_keys=['file_name', 'file_type', 'file_size', 'creation_date', 'last_modified_date', 'last_accessed_date'], relationships={<NodeRelationship.SOURCE: '1'>: RelatedNodeInfo(node_id='2fc1c32a-0584-4da3-bd4d-75a0ab5e6288', node_type='4', metadata={'file_path': '/home/daimler/workspaces/agents-course-huggingface/2.2-llamaindex/data/persona_1.txt', 'file_name': 'persona_1.txt', 'file_type': 'text/plain', 'file_size': 266, 'creation_date': '2025-03-11', 'last_modified_date': '2025-03-11'}, hash='e6c87149a97bf9e5dbdf33922a4e5023c6b72550ca0b63472bd5d25103b28e99')}, metadata_template='{key}: {value}', metadata_separator='\\n', text='An anthropologist or a cultural expert interested in the intricacies of Cypriot culture, history, and society, particularly someone who has spent considerable time researching and living in Cyprus to gain a deep understanding of its people, customs, and way of life.', mimetype='text/plain', start_char_idx=0, end_char_idx=266, metadata_seperator='\\n', text_template='{metadata_str}\\n\\n{content}'), score=5.6090068153834565e-27)], metadata={'372496be-c985-453a-b534-bbbdbfdd02fa': {'file_path': '/home/daimler/workspaces/agents-course-huggingface/2.2-llamaindex/data/persona_1.txt', 'file_name': 'persona_1.txt', 'file_type': 'text/plain', 'file_size': 266, 'creation_date': '2025-03-11', 'last_modified_date': '2025-03-11'}})"
      ]
     },
     "execution_count": 16,
     "metadata": {},
     "output_type": "execute_result"
    }
   ],
   "source": [
    "response = query_engine.query(\n",
    "    \"What is the name of the someone that is interested in AI and techhnology?\"\n",
    ")\n",
    "response"
   ]
  },
  {
   "cell_type": "markdown",
   "metadata": {
    "id": "ovo2HSx91NKt"
   },
   "source": [
    "We can then go to the [LlamaTrace](https://llamatrace.com/login) and explore the process and response."
   ]
  },
  {
   "cell_type": "markdown",
   "metadata": {
    "id": "rCxijxyJ1NKt"
   },
   "source": [
    "![arize-phoenix](https://huggingface.co/datasets/agents-course/course-images/resolve/main/en/unit2/llama-index/arize.png)    "
   ]
  }
 ],
 "metadata": {
  "colab": {
   "provenance": [
    {
     "file_id": "https://huggingface.co/agents-course/notebooks/blob/main/unit2/llama-index/components.ipynb",
     "timestamp": 1741690302626
    }
   ]
  },
  "kernelspec": {
   "display_name": ".venv",
   "language": "python",
   "name": "python3"
  },
  "language_info": {
   "codemirror_mode": {
    "name": "ipython",
    "version": 3
   },
   "file_extension": ".py",
   "mimetype": "text/x-python",
   "name": "python",
   "nbconvert_exporter": "python",
   "pygments_lexer": "ipython3",
   "version": "3.12.3"
  },
  "widgets": {
   "application/vnd.jupyter.widget-state+json": {
    "07e834b48f854538972d127e7527d1b9": {
     "model_module": "@jupyter-widgets/controls",
     "model_module_version": "1.5.0",
     "model_name": "DescriptionStyleModel",
     "state": {
      "_model_module": "@jupyter-widgets/controls",
      "_model_module_version": "1.5.0",
      "_model_name": "DescriptionStyleModel",
      "_view_count": null,
      "_view_module": "@jupyter-widgets/base",
      "_view_module_version": "1.2.0",
      "_view_name": "StyleView",
      "description_width": ""
     }
    },
    "08971f1893624ec9ac667fcd5db2ea6a": {
     "model_module": "@jupyter-widgets/controls",
     "model_module_version": "1.5.0",
     "model_name": "ProgressStyleModel",
     "state": {
      "_model_module": "@jupyter-widgets/controls",
      "_model_module_version": "1.5.0",
      "_model_name": "ProgressStyleModel",
      "_view_count": null,
      "_view_module": "@jupyter-widgets/base",
      "_view_module_version": "1.2.0",
      "_view_name": "StyleView",
      "bar_color": null,
      "description_width": ""
     }
    },
    "11cafa9b09894b32a0db92ddc63f5a02": {
     "model_module": "@jupyter-widgets/controls",
     "model_module_version": "1.5.0",
     "model_name": "DescriptionStyleModel",
     "state": {
      "_model_module": "@jupyter-widgets/controls",
      "_model_module_version": "1.5.0",
      "_model_name": "DescriptionStyleModel",
      "_view_count": null,
      "_view_module": "@jupyter-widgets/base",
      "_view_module_version": "1.2.0",
      "_view_name": "StyleView",
      "description_width": ""
     }
    },
    "1484b5df2a7448a0a30df75f7d5a364c": {
     "model_module": "@jupyter-widgets/controls",
     "model_module_version": "1.5.0",
     "model_name": "FloatProgressModel",
     "state": {
      "_dom_classes": [],
      "_model_module": "@jupyter-widgets/controls",
      "_model_module_version": "1.5.0",
      "_model_name": "FloatProgressModel",
      "_view_count": null,
      "_view_module": "@jupyter-widgets/controls",
      "_view_module_version": "1.5.0",
      "_view_name": "ProgressView",
      "bar_style": "success",
      "description": "",
      "description_tooltip": null,
      "layout": "IPY_MODEL_66a6ef4900704a4daf064897a1fa9826",
      "max": 35015530,
      "min": 0,
      "orientation": "horizontal",
      "style": "IPY_MODEL_9dd5c5db612b46f3963a2f6230d50f2b",
      "value": 35015530
     }
    },
    "198c993b694c4c138f4b63947aef9b20": {
     "model_module": "@jupyter-widgets/base",
     "model_module_version": "1.2.0",
     "model_name": "LayoutModel",
     "state": {
      "_model_module": "@jupyter-widgets/base",
      "_model_module_version": "1.2.0",
      "_model_name": "LayoutModel",
      "_view_count": null,
      "_view_module": "@jupyter-widgets/base",
      "_view_module_version": "1.2.0",
      "_view_name": "LayoutView",
      "align_content": null,
      "align_items": null,
      "align_self": null,
      "border": null,
      "bottom": null,
      "display": null,
      "flex": null,
      "flex_flow": null,
      "grid_area": null,
      "grid_auto_columns": null,
      "grid_auto_flow": null,
      "grid_auto_rows": null,
      "grid_column": null,
      "grid_gap": null,
      "grid_row": null,
      "grid_template_areas": null,
      "grid_template_columns": null,
      "grid_template_rows": null,
      "height": null,
      "justify_content": null,
      "justify_items": null,
      "left": null,
      "margin": null,
      "max_height": null,
      "max_width": null,
      "min_height": null,
      "min_width": null,
      "object_fit": null,
      "object_position": null,
      "order": null,
      "overflow": null,
      "overflow_x": null,
      "overflow_y": null,
      "padding": null,
      "right": null,
      "top": null,
      "visibility": null,
      "width": null
     }
    },
    "1a7324435c0b4e9f82cabb0e3a391137": {
     "model_module": "@jupyter-widgets/controls",
     "model_module_version": "1.5.0",
     "model_name": "FloatProgressModel",
     "state": {
      "_dom_classes": [],
      "_model_module": "@jupyter-widgets/controls",
      "_model_module_version": "1.5.0",
      "_model_name": "FloatProgressModel",
      "_view_count": null,
      "_view_module": "@jupyter-widgets/controls",
      "_view_module_version": "1.5.0",
      "_view_name": "ProgressView",
      "bar_style": "success",
      "description": "",
      "description_tooltip": null,
      "layout": "IPY_MODEL_b66fc89af7494d60966aebdc33583976",
      "max": 618,
      "min": 0,
      "orientation": "horizontal",
      "style": "IPY_MODEL_e0bb7b185297412a8b6eb642dc3fa75b",
      "value": 618
     }
    },
    "218e36725f514eeb8b1e8ff68f7313ab": {
     "model_module": "@jupyter-widgets/base",
     "model_module_version": "1.2.0",
     "model_name": "LayoutModel",
     "state": {
      "_model_module": "@jupyter-widgets/base",
      "_model_module_version": "1.2.0",
      "_model_name": "LayoutModel",
      "_view_count": null,
      "_view_module": "@jupyter-widgets/base",
      "_view_module_version": "1.2.0",
      "_view_name": "LayoutView",
      "align_content": null,
      "align_items": null,
      "align_self": null,
      "border": null,
      "bottom": null,
      "display": null,
      "flex": null,
      "flex_flow": null,
      "grid_area": null,
      "grid_auto_columns": null,
      "grid_auto_flow": null,
      "grid_auto_rows": null,
      "grid_column": null,
      "grid_gap": null,
      "grid_row": null,
      "grid_template_areas": null,
      "grid_template_columns": null,
      "grid_template_rows": null,
      "height": null,
      "justify_content": null,
      "justify_items": null,
      "left": null,
      "margin": null,
      "max_height": null,
      "max_width": null,
      "min_height": null,
      "min_width": null,
      "object_fit": null,
      "object_position": null,
      "order": null,
      "overflow": null,
      "overflow_x": null,
      "overflow_y": null,
      "padding": null,
      "right": null,
      "top": null,
      "visibility": null,
      "width": null
     }
    },
    "21a9ee17898f444caff3097604ea9251": {
     "model_module": "@jupyter-widgets/controls",
     "model_module_version": "1.5.0",
     "model_name": "HTMLModel",
     "state": {
      "_dom_classes": [],
      "_model_module": "@jupyter-widgets/controls",
      "_model_module_version": "1.5.0",
      "_model_name": "HTMLModel",
      "_view_count": null,
      "_view_module": "@jupyter-widgets/controls",
      "_view_module_version": "1.5.0",
      "_view_name": "HTMLView",
      "description": "",
      "description_tooltip": null,
      "layout": "IPY_MODEL_3150a5757b724e05a74ee0fcf1ad4aba",
      "placeholder": "​",
      "style": "IPY_MODEL_6c8677c2a49244a4b227a6f0a8c40f9b",
      "value": " 35.0M/35.0M [00:00&lt;00:00, 54.9MB/s]"
     }
    },
    "22ef5d69f10849fe9593cc35acbfd3ca": {
     "model_module": "@jupyter-widgets/controls",
     "model_module_version": "1.5.0",
     "model_name": "HTMLModel",
     "state": {
      "_dom_classes": [],
      "_model_module": "@jupyter-widgets/controls",
      "_model_module_version": "1.5.0",
      "_model_name": "HTMLModel",
      "_view_count": null,
      "_view_module": "@jupyter-widgets/controls",
      "_view_module_version": "1.5.0",
      "_view_name": "HTMLView",
      "description": "",
      "description_tooltip": null,
      "layout": "IPY_MODEL_e92b9a8903e541d2938e0338be92419f",
      "placeholder": "​",
      "style": "IPY_MODEL_07e834b48f854538972d127e7527d1b9",
      "value": "Generating train split: 100%"
     }
    },
    "2c61b333bfe047a3b7d260ff3fc37564": {
     "model_module": "@jupyter-widgets/base",
     "model_module_version": "1.2.0",
     "model_name": "LayoutModel",
     "state": {
      "_model_module": "@jupyter-widgets/base",
      "_model_module_version": "1.2.0",
      "_model_name": "LayoutModel",
      "_view_count": null,
      "_view_module": "@jupyter-widgets/base",
      "_view_module_version": "1.2.0",
      "_view_name": "LayoutView",
      "align_content": null,
      "align_items": null,
      "align_self": null,
      "border": null,
      "bottom": null,
      "display": null,
      "flex": null,
      "flex_flow": null,
      "grid_area": null,
      "grid_auto_columns": null,
      "grid_auto_flow": null,
      "grid_auto_rows": null,
      "grid_column": null,
      "grid_gap": null,
      "grid_row": null,
      "grid_template_areas": null,
      "grid_template_columns": null,
      "grid_template_rows": null,
      "height": null,
      "justify_content": null,
      "justify_items": null,
      "left": null,
      "margin": null,
      "max_height": null,
      "max_width": null,
      "min_height": null,
      "min_width": null,
      "object_fit": null,
      "object_position": null,
      "order": null,
      "overflow": null,
      "overflow_x": null,
      "overflow_y": null,
      "padding": null,
      "right": null,
      "top": null,
      "visibility": null,
      "width": null
     }
    },
    "3150a5757b724e05a74ee0fcf1ad4aba": {
     "model_module": "@jupyter-widgets/base",
     "model_module_version": "1.2.0",
     "model_name": "LayoutModel",
     "state": {
      "_model_module": "@jupyter-widgets/base",
      "_model_module_version": "1.2.0",
      "_model_name": "LayoutModel",
      "_view_count": null,
      "_view_module": "@jupyter-widgets/base",
      "_view_module_version": "1.2.0",
      "_view_name": "LayoutView",
      "align_content": null,
      "align_items": null,
      "align_self": null,
      "border": null,
      "bottom": null,
      "display": null,
      "flex": null,
      "flex_flow": null,
      "grid_area": null,
      "grid_auto_columns": null,
      "grid_auto_flow": null,
      "grid_auto_rows": null,
      "grid_column": null,
      "grid_gap": null,
      "grid_row": null,
      "grid_template_areas": null,
      "grid_template_columns": null,
      "grid_template_rows": null,
      "height": null,
      "justify_content": null,
      "justify_items": null,
      "left": null,
      "margin": null,
      "max_height": null,
      "max_width": null,
      "min_height": null,
      "min_width": null,
      "object_fit": null,
      "object_position": null,
      "order": null,
      "overflow": null,
      "overflow_x": null,
      "overflow_y": null,
      "padding": null,
      "right": null,
      "top": null,
      "visibility": null,
      "width": null
     }
    },
    "31f2eb111f2f4041959358056952a6a8": {
     "model_module": "@jupyter-widgets/controls",
     "model_module_version": "1.5.0",
     "model_name": "DescriptionStyleModel",
     "state": {
      "_model_module": "@jupyter-widgets/controls",
      "_model_module_version": "1.5.0",
      "_model_name": "DescriptionStyleModel",
      "_view_count": null,
      "_view_module": "@jupyter-widgets/base",
      "_view_module_version": "1.2.0",
      "_view_name": "StyleView",
      "description_width": ""
     }
    },
    "3c3605c2eaa546b782330ec02eeb633f": {
     "model_module": "@jupyter-widgets/controls",
     "model_module_version": "1.5.0",
     "model_name": "HTMLModel",
     "state": {
      "_dom_classes": [],
      "_model_module": "@jupyter-widgets/controls",
      "_model_module_version": "1.5.0",
      "_model_name": "HTMLModel",
      "_view_count": null,
      "_view_module": "@jupyter-widgets/controls",
      "_view_module_version": "1.5.0",
      "_view_name": "HTMLView",
      "description": "",
      "description_tooltip": null,
      "layout": "IPY_MODEL_fb7e3dd03c3b4a2b8b3753f8be7d6187",
      "placeholder": "​",
      "style": "IPY_MODEL_8d479fd64fba4ea1a90c462c0673f4ea",
      "value": "train-00000-of-00001.parquet: 100%"
     }
    },
    "62ba2ae726ed47c0859337b41e37f58f": {
     "model_module": "@jupyter-widgets/base",
     "model_module_version": "1.2.0",
     "model_name": "LayoutModel",
     "state": {
      "_model_module": "@jupyter-widgets/base",
      "_model_module_version": "1.2.0",
      "_model_name": "LayoutModel",
      "_view_count": null,
      "_view_module": "@jupyter-widgets/base",
      "_view_module_version": "1.2.0",
      "_view_name": "LayoutView",
      "align_content": null,
      "align_items": null,
      "align_self": null,
      "border": null,
      "bottom": null,
      "display": null,
      "flex": null,
      "flex_flow": null,
      "grid_area": null,
      "grid_auto_columns": null,
      "grid_auto_flow": null,
      "grid_auto_rows": null,
      "grid_column": null,
      "grid_gap": null,
      "grid_row": null,
      "grid_template_areas": null,
      "grid_template_columns": null,
      "grid_template_rows": null,
      "height": null,
      "justify_content": null,
      "justify_items": null,
      "left": null,
      "margin": null,
      "max_height": null,
      "max_width": null,
      "min_height": null,
      "min_width": null,
      "object_fit": null,
      "object_position": null,
      "order": null,
      "overflow": null,
      "overflow_x": null,
      "overflow_y": null,
      "padding": null,
      "right": null,
      "top": null,
      "visibility": null,
      "width": null
     }
    },
    "66a6ef4900704a4daf064897a1fa9826": {
     "model_module": "@jupyter-widgets/base",
     "model_module_version": "1.2.0",
     "model_name": "LayoutModel",
     "state": {
      "_model_module": "@jupyter-widgets/base",
      "_model_module_version": "1.2.0",
      "_model_name": "LayoutModel",
      "_view_count": null,
      "_view_module": "@jupyter-widgets/base",
      "_view_module_version": "1.2.0",
      "_view_name": "LayoutView",
      "align_content": null,
      "align_items": null,
      "align_self": null,
      "border": null,
      "bottom": null,
      "display": null,
      "flex": null,
      "flex_flow": null,
      "grid_area": null,
      "grid_auto_columns": null,
      "grid_auto_flow": null,
      "grid_auto_rows": null,
      "grid_column": null,
      "grid_gap": null,
      "grid_row": null,
      "grid_template_areas": null,
      "grid_template_columns": null,
      "grid_template_rows": null,
      "height": null,
      "justify_content": null,
      "justify_items": null,
      "left": null,
      "margin": null,
      "max_height": null,
      "max_width": null,
      "min_height": null,
      "min_width": null,
      "object_fit": null,
      "object_position": null,
      "order": null,
      "overflow": null,
      "overflow_x": null,
      "overflow_y": null,
      "padding": null,
      "right": null,
      "top": null,
      "visibility": null,
      "width": null
     }
    },
    "6c8677c2a49244a4b227a6f0a8c40f9b": {
     "model_module": "@jupyter-widgets/controls",
     "model_module_version": "1.5.0",
     "model_name": "DescriptionStyleModel",
     "state": {
      "_model_module": "@jupyter-widgets/controls",
      "_model_module_version": "1.5.0",
      "_model_name": "DescriptionStyleModel",
      "_view_count": null,
      "_view_module": "@jupyter-widgets/base",
      "_view_module_version": "1.2.0",
      "_view_name": "StyleView",
      "description_width": ""
     }
    },
    "810a8adb618e47c790f787ba733b033e": {
     "model_module": "@jupyter-widgets/controls",
     "model_module_version": "1.5.0",
     "model_name": "HTMLModel",
     "state": {
      "_dom_classes": [],
      "_model_module": "@jupyter-widgets/controls",
      "_model_module_version": "1.5.0",
      "_model_name": "HTMLModel",
      "_view_count": null,
      "_view_module": "@jupyter-widgets/controls",
      "_view_module_version": "1.5.0",
      "_view_name": "HTMLView",
      "description": "",
      "description_tooltip": null,
      "layout": "IPY_MODEL_62ba2ae726ed47c0859337b41e37f58f",
      "placeholder": "​",
      "style": "IPY_MODEL_fd7c81e523174b02b784f50fed54aea7",
      "value": "README.md: 100%"
     }
    },
    "889bfa2b52f64de0ad8cce2e0de9c9ef": {
     "model_module": "@jupyter-widgets/controls",
     "model_module_version": "1.5.0",
     "model_name": "HBoxModel",
     "state": {
      "_dom_classes": [],
      "_model_module": "@jupyter-widgets/controls",
      "_model_module_version": "1.5.0",
      "_model_name": "HBoxModel",
      "_view_count": null,
      "_view_module": "@jupyter-widgets/controls",
      "_view_module_version": "1.5.0",
      "_view_name": "HBoxView",
      "box_style": "",
      "children": [
       "IPY_MODEL_810a8adb618e47c790f787ba733b033e",
       "IPY_MODEL_1a7324435c0b4e9f82cabb0e3a391137",
       "IPY_MODEL_e75b792b65a84c91bf636b84fcab8ea2"
      ],
      "layout": "IPY_MODEL_eecc7a8a6ca9457b8257893e455a2b28"
     }
    },
    "8d479fd64fba4ea1a90c462c0673f4ea": {
     "model_module": "@jupyter-widgets/controls",
     "model_module_version": "1.5.0",
     "model_name": "DescriptionStyleModel",
     "state": {
      "_model_module": "@jupyter-widgets/controls",
      "_model_module_version": "1.5.0",
      "_model_name": "DescriptionStyleModel",
      "_view_count": null,
      "_view_module": "@jupyter-widgets/base",
      "_view_module_version": "1.2.0",
      "_view_name": "StyleView",
      "description_width": ""
     }
    },
    "9dd5c5db612b46f3963a2f6230d50f2b": {
     "model_module": "@jupyter-widgets/controls",
     "model_module_version": "1.5.0",
     "model_name": "ProgressStyleModel",
     "state": {
      "_model_module": "@jupyter-widgets/controls",
      "_model_module_version": "1.5.0",
      "_model_name": "ProgressStyleModel",
      "_view_count": null,
      "_view_module": "@jupyter-widgets/base",
      "_view_module_version": "1.2.0",
      "_view_name": "StyleView",
      "bar_color": null,
      "description_width": ""
     }
    },
    "b14b7dc1c75c43ffa0611c0dc4aeeec9": {
     "model_module": "@jupyter-widgets/base",
     "model_module_version": "1.2.0",
     "model_name": "LayoutModel",
     "state": {
      "_model_module": "@jupyter-widgets/base",
      "_model_module_version": "1.2.0",
      "_model_name": "LayoutModel",
      "_view_count": null,
      "_view_module": "@jupyter-widgets/base",
      "_view_module_version": "1.2.0",
      "_view_name": "LayoutView",
      "align_content": null,
      "align_items": null,
      "align_self": null,
      "border": null,
      "bottom": null,
      "display": null,
      "flex": null,
      "flex_flow": null,
      "grid_area": null,
      "grid_auto_columns": null,
      "grid_auto_flow": null,
      "grid_auto_rows": null,
      "grid_column": null,
      "grid_gap": null,
      "grid_row": null,
      "grid_template_areas": null,
      "grid_template_columns": null,
      "grid_template_rows": null,
      "height": null,
      "justify_content": null,
      "justify_items": null,
      "left": null,
      "margin": null,
      "max_height": null,
      "max_width": null,
      "min_height": null,
      "min_width": null,
      "object_fit": null,
      "object_position": null,
      "order": null,
      "overflow": null,
      "overflow_x": null,
      "overflow_y": null,
      "padding": null,
      "right": null,
      "top": null,
      "visibility": null,
      "width": null
     }
    },
    "b66fc89af7494d60966aebdc33583976": {
     "model_module": "@jupyter-widgets/base",
     "model_module_version": "1.2.0",
     "model_name": "LayoutModel",
     "state": {
      "_model_module": "@jupyter-widgets/base",
      "_model_module_version": "1.2.0",
      "_model_name": "LayoutModel",
      "_view_count": null,
      "_view_module": "@jupyter-widgets/base",
      "_view_module_version": "1.2.0",
      "_view_name": "LayoutView",
      "align_content": null,
      "align_items": null,
      "align_self": null,
      "border": null,
      "bottom": null,
      "display": null,
      "flex": null,
      "flex_flow": null,
      "grid_area": null,
      "grid_auto_columns": null,
      "grid_auto_flow": null,
      "grid_auto_rows": null,
      "grid_column": null,
      "grid_gap": null,
      "grid_row": null,
      "grid_template_areas": null,
      "grid_template_columns": null,
      "grid_template_rows": null,
      "height": null,
      "justify_content": null,
      "justify_items": null,
      "left": null,
      "margin": null,
      "max_height": null,
      "max_width": null,
      "min_height": null,
      "min_width": null,
      "object_fit": null,
      "object_position": null,
      "order": null,
      "overflow": null,
      "overflow_x": null,
      "overflow_y": null,
      "padding": null,
      "right": null,
      "top": null,
      "visibility": null,
      "width": null
     }
    },
    "bf950d5c1a4c4fdb984483ba98656de0": {
     "model_module": "@jupyter-widgets/base",
     "model_module_version": "1.2.0",
     "model_name": "LayoutModel",
     "state": {
      "_model_module": "@jupyter-widgets/base",
      "_model_module_version": "1.2.0",
      "_model_name": "LayoutModel",
      "_view_count": null,
      "_view_module": "@jupyter-widgets/base",
      "_view_module_version": "1.2.0",
      "_view_name": "LayoutView",
      "align_content": null,
      "align_items": null,
      "align_self": null,
      "border": null,
      "bottom": null,
      "display": null,
      "flex": null,
      "flex_flow": null,
      "grid_area": null,
      "grid_auto_columns": null,
      "grid_auto_flow": null,
      "grid_auto_rows": null,
      "grid_column": null,
      "grid_gap": null,
      "grid_row": null,
      "grid_template_areas": null,
      "grid_template_columns": null,
      "grid_template_rows": null,
      "height": null,
      "justify_content": null,
      "justify_items": null,
      "left": null,
      "margin": null,
      "max_height": null,
      "max_width": null,
      "min_height": null,
      "min_width": null,
      "object_fit": null,
      "object_position": null,
      "order": null,
      "overflow": null,
      "overflow_x": null,
      "overflow_y": null,
      "padding": null,
      "right": null,
      "top": null,
      "visibility": null,
      "width": null
     }
    },
    "da0f77c2421c43398b8b659c30b0a662": {
     "model_module": "@jupyter-widgets/controls",
     "model_module_version": "1.5.0",
     "model_name": "HBoxModel",
     "state": {
      "_dom_classes": [],
      "_model_module": "@jupyter-widgets/controls",
      "_model_module_version": "1.5.0",
      "_model_name": "HBoxModel",
      "_view_count": null,
      "_view_module": "@jupyter-widgets/controls",
      "_view_module_version": "1.5.0",
      "_view_name": "HBoxView",
      "box_style": "",
      "children": [
       "IPY_MODEL_3c3605c2eaa546b782330ec02eeb633f",
       "IPY_MODEL_1484b5df2a7448a0a30df75f7d5a364c",
       "IPY_MODEL_21a9ee17898f444caff3097604ea9251"
      ],
      "layout": "IPY_MODEL_198c993b694c4c138f4b63947aef9b20"
     }
    },
    "db4c0e0d4f834a21a436c5c1f1004a13": {
     "model_module": "@jupyter-widgets/controls",
     "model_module_version": "1.5.0",
     "model_name": "FloatProgressModel",
     "state": {
      "_dom_classes": [],
      "_model_module": "@jupyter-widgets/controls",
      "_model_module_version": "1.5.0",
      "_model_name": "FloatProgressModel",
      "_view_count": null,
      "_view_module": "@jupyter-widgets/controls",
      "_view_module_version": "1.5.0",
      "_view_name": "ProgressView",
      "bar_style": "success",
      "description": "",
      "description_tooltip": null,
      "layout": "IPY_MODEL_b14b7dc1c75c43ffa0611c0dc4aeeec9",
      "max": 5000,
      "min": 0,
      "orientation": "horizontal",
      "style": "IPY_MODEL_08971f1893624ec9ac667fcd5db2ea6a",
      "value": 5000
     }
    },
    "e0bb7b185297412a8b6eb642dc3fa75b": {
     "model_module": "@jupyter-widgets/controls",
     "model_module_version": "1.5.0",
     "model_name": "ProgressStyleModel",
     "state": {
      "_model_module": "@jupyter-widgets/controls",
      "_model_module_version": "1.5.0",
      "_model_name": "ProgressStyleModel",
      "_view_count": null,
      "_view_module": "@jupyter-widgets/base",
      "_view_module_version": "1.2.0",
      "_view_name": "StyleView",
      "bar_color": null,
      "description_width": ""
     }
    },
    "e75b792b65a84c91bf636b84fcab8ea2": {
     "model_module": "@jupyter-widgets/controls",
     "model_module_version": "1.5.0",
     "model_name": "HTMLModel",
     "state": {
      "_dom_classes": [],
      "_model_module": "@jupyter-widgets/controls",
      "_model_module_version": "1.5.0",
      "_model_name": "HTMLModel",
      "_view_count": null,
      "_view_module": "@jupyter-widgets/controls",
      "_view_module_version": "1.5.0",
      "_view_name": "HTMLView",
      "description": "",
      "description_tooltip": null,
      "layout": "IPY_MODEL_218e36725f514eeb8b1e8ff68f7313ab",
      "placeholder": "​",
      "style": "IPY_MODEL_31f2eb111f2f4041959358056952a6a8",
      "value": " 618/618 [00:00&lt;00:00, 16.4kB/s]"
     }
    },
    "e92b9a8903e541d2938e0338be92419f": {
     "model_module": "@jupyter-widgets/base",
     "model_module_version": "1.2.0",
     "model_name": "LayoutModel",
     "state": {
      "_model_module": "@jupyter-widgets/base",
      "_model_module_version": "1.2.0",
      "_model_name": "LayoutModel",
      "_view_count": null,
      "_view_module": "@jupyter-widgets/base",
      "_view_module_version": "1.2.0",
      "_view_name": "LayoutView",
      "align_content": null,
      "align_items": null,
      "align_self": null,
      "border": null,
      "bottom": null,
      "display": null,
      "flex": null,
      "flex_flow": null,
      "grid_area": null,
      "grid_auto_columns": null,
      "grid_auto_flow": null,
      "grid_auto_rows": null,
      "grid_column": null,
      "grid_gap": null,
      "grid_row": null,
      "grid_template_areas": null,
      "grid_template_columns": null,
      "grid_template_rows": null,
      "height": null,
      "justify_content": null,
      "justify_items": null,
      "left": null,
      "margin": null,
      "max_height": null,
      "max_width": null,
      "min_height": null,
      "min_width": null,
      "object_fit": null,
      "object_position": null,
      "order": null,
      "overflow": null,
      "overflow_x": null,
      "overflow_y": null,
      "padding": null,
      "right": null,
      "top": null,
      "visibility": null,
      "width": null
     }
    },
    "eecc7a8a6ca9457b8257893e455a2b28": {
     "model_module": "@jupyter-widgets/base",
     "model_module_version": "1.2.0",
     "model_name": "LayoutModel",
     "state": {
      "_model_module": "@jupyter-widgets/base",
      "_model_module_version": "1.2.0",
      "_model_name": "LayoutModel",
      "_view_count": null,
      "_view_module": "@jupyter-widgets/base",
      "_view_module_version": "1.2.0",
      "_view_name": "LayoutView",
      "align_content": null,
      "align_items": null,
      "align_self": null,
      "border": null,
      "bottom": null,
      "display": null,
      "flex": null,
      "flex_flow": null,
      "grid_area": null,
      "grid_auto_columns": null,
      "grid_auto_flow": null,
      "grid_auto_rows": null,
      "grid_column": null,
      "grid_gap": null,
      "grid_row": null,
      "grid_template_areas": null,
      "grid_template_columns": null,
      "grid_template_rows": null,
      "height": null,
      "justify_content": null,
      "justify_items": null,
      "left": null,
      "margin": null,
      "max_height": null,
      "max_width": null,
      "min_height": null,
      "min_width": null,
      "object_fit": null,
      "object_position": null,
      "order": null,
      "overflow": null,
      "overflow_x": null,
      "overflow_y": null,
      "padding": null,
      "right": null,
      "top": null,
      "visibility": null,
      "width": null
     }
    },
    "ef2ee083c042471e90b53e3c55897389": {
     "model_module": "@jupyter-widgets/controls",
     "model_module_version": "1.5.0",
     "model_name": "HBoxModel",
     "state": {
      "_dom_classes": [],
      "_model_module": "@jupyter-widgets/controls",
      "_model_module_version": "1.5.0",
      "_model_name": "HBoxModel",
      "_view_count": null,
      "_view_module": "@jupyter-widgets/controls",
      "_view_module_version": "1.5.0",
      "_view_name": "HBoxView",
      "box_style": "",
      "children": [
       "IPY_MODEL_22ef5d69f10849fe9593cc35acbfd3ca",
       "IPY_MODEL_db4c0e0d4f834a21a436c5c1f1004a13",
       "IPY_MODEL_f2e73f6a0ae4479d8e18bb259061c1b2"
      ],
      "layout": "IPY_MODEL_2c61b333bfe047a3b7d260ff3fc37564"
     }
    },
    "f2e73f6a0ae4479d8e18bb259061c1b2": {
     "model_module": "@jupyter-widgets/controls",
     "model_module_version": "1.5.0",
     "model_name": "HTMLModel",
     "state": {
      "_dom_classes": [],
      "_model_module": "@jupyter-widgets/controls",
      "_model_module_version": "1.5.0",
      "_model_name": "HTMLModel",
      "_view_count": null,
      "_view_module": "@jupyter-widgets/controls",
      "_view_module_version": "1.5.0",
      "_view_name": "HTMLView",
      "description": "",
      "description_tooltip": null,
      "layout": "IPY_MODEL_bf950d5c1a4c4fdb984483ba98656de0",
      "placeholder": "​",
      "style": "IPY_MODEL_11cafa9b09894b32a0db92ddc63f5a02",
      "value": " 5000/5000 [00:01&lt;00:00, 4314.67 examples/s]"
     }
    },
    "fb7e3dd03c3b4a2b8b3753f8be7d6187": {
     "model_module": "@jupyter-widgets/base",
     "model_module_version": "1.2.0",
     "model_name": "LayoutModel",
     "state": {
      "_model_module": "@jupyter-widgets/base",
      "_model_module_version": "1.2.0",
      "_model_name": "LayoutModel",
      "_view_count": null,
      "_view_module": "@jupyter-widgets/base",
      "_view_module_version": "1.2.0",
      "_view_name": "LayoutView",
      "align_content": null,
      "align_items": null,
      "align_self": null,
      "border": null,
      "bottom": null,
      "display": null,
      "flex": null,
      "flex_flow": null,
      "grid_area": null,
      "grid_auto_columns": null,
      "grid_auto_flow": null,
      "grid_auto_rows": null,
      "grid_column": null,
      "grid_gap": null,
      "grid_row": null,
      "grid_template_areas": null,
      "grid_template_columns": null,
      "grid_template_rows": null,
      "height": null,
      "justify_content": null,
      "justify_items": null,
      "left": null,
      "margin": null,
      "max_height": null,
      "max_width": null,
      "min_height": null,
      "min_width": null,
      "object_fit": null,
      "object_position": null,
      "order": null,
      "overflow": null,
      "overflow_x": null,
      "overflow_y": null,
      "padding": null,
      "right": null,
      "top": null,
      "visibility": null,
      "width": null
     }
    },
    "fd7c81e523174b02b784f50fed54aea7": {
     "model_module": "@jupyter-widgets/controls",
     "model_module_version": "1.5.0",
     "model_name": "DescriptionStyleModel",
     "state": {
      "_model_module": "@jupyter-widgets/controls",
      "_model_module_version": "1.5.0",
      "_model_name": "DescriptionStyleModel",
      "_view_count": null,
      "_view_module": "@jupyter-widgets/base",
      "_view_module_version": "1.2.0",
      "_view_name": "StyleView",
      "description_width": ""
     }
    }
   }
  }
 },
 "nbformat": 4,
 "nbformat_minor": 0
}
