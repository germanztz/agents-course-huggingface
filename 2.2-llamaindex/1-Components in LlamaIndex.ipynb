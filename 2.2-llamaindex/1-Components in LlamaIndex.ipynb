{
 "cells": [
  {
   "cell_type": "markdown",
   "metadata": {
    "id": "1rUV3LY21NKk"
   },
   "source": [
    "# Components in LlamaIndex\n",
    "\n",
    "This notebook is part of the [Hugging Face Agents Course](https://www.hf.co/learn/agents-course), a free Course from beginner to expert, where you learn to build Agents.\n",
    "\n",
    "![Agents course share](https://huggingface.co/datasets/agents-course/course-images/resolve/main/en/communication/share.png)\n",
    "\n",
    "Alfred is hosting a party and needs to be able to find relevant information on personas that will be attending the party. Therefore, we will use a `QueryEngine` to index and search through a database of personas.\n",
    "\n",
    "## Let's install the dependencies\n",
    "\n",
    "We will install the dependencies for this unit."
   ]
  },
  {
   "cell_type": "code",
   "execution_count": 19,
   "metadata": {
    "colab": {
     "base_uri": "https://localhost:8080/"
    },
    "executionInfo": {
     "elapsed": 44385,
     "status": "ok",
     "timestamp": 1741690382239,
     "user": {
      "displayName": "German Z",
      "userId": "10416485626185439003"
     },
     "user_tz": -60
    },
    "id": "5H_HwZWq1NKo",
    "outputId": "9a845f8c-88e2-4d89-f4bf-802feca1ce58"
   },
   "outputs": [
    {
     "name": "stdout",
     "output_type": "stream",
     "text": [
      "Requirement already satisfied: llama-index in /home/daimler/workspaces/agents-course-huggingface/.venv/lib/python3.11/site-packages (0.12.23)\n",
      "Requirement already satisfied: datasets in /home/daimler/workspaces/agents-course-huggingface/.venv/lib/python3.11/site-packages (3.3.2)\n",
      "Requirement already satisfied: llama-index-callbacks-arize-phoenix in /home/daimler/workspaces/agents-course-huggingface/.venv/lib/python3.11/site-packages (0.4.0)\n",
      "Requirement already satisfied: llama-index-vector-stores-chroma in /home/daimler/workspaces/agents-course-huggingface/.venv/lib/python3.11/site-packages (0.4.1)\n",
      "Requirement already satisfied: llama-index-agent-openai<0.5.0,>=0.4.0 in /home/daimler/workspaces/agents-course-huggingface/.venv/lib/python3.11/site-packages (from llama-index) (0.4.6)\n",
      "Requirement already satisfied: llama-index-cli<0.5.0,>=0.4.1 in /home/daimler/workspaces/agents-course-huggingface/.venv/lib/python3.11/site-packages (from llama-index) (0.4.1)\n",
      "Requirement already satisfied: llama-index-core<0.13.0,>=0.12.23 in /home/daimler/workspaces/agents-course-huggingface/.venv/lib/python3.11/site-packages (from llama-index) (0.12.23.post2)\n",
      "Requirement already satisfied: llama-index-embeddings-openai<0.4.0,>=0.3.0 in /home/daimler/workspaces/agents-course-huggingface/.venv/lib/python3.11/site-packages (from llama-index) (0.3.1)\n",
      "Requirement already satisfied: llama-index-indices-managed-llama-cloud>=0.4.0 in /home/daimler/workspaces/agents-course-huggingface/.venv/lib/python3.11/site-packages (from llama-index) (0.6.8)\n",
      "Requirement already satisfied: llama-index-llms-openai<0.4.0,>=0.3.0 in /home/daimler/workspaces/agents-course-huggingface/.venv/lib/python3.11/site-packages (from llama-index) (0.3.25)\n",
      "Requirement already satisfied: llama-index-multi-modal-llms-openai<0.5.0,>=0.4.0 in /home/daimler/workspaces/agents-course-huggingface/.venv/lib/python3.11/site-packages (from llama-index) (0.4.3)\n",
      "Requirement already satisfied: llama-index-program-openai<0.4.0,>=0.3.0 in /home/daimler/workspaces/agents-course-huggingface/.venv/lib/python3.11/site-packages (from llama-index) (0.3.1)\n",
      "Requirement already satisfied: llama-index-question-gen-openai<0.4.0,>=0.3.0 in /home/daimler/workspaces/agents-course-huggingface/.venv/lib/python3.11/site-packages (from llama-index) (0.3.0)\n",
      "Requirement already satisfied: llama-index-readers-file<0.5.0,>=0.4.0 in /home/daimler/workspaces/agents-course-huggingface/.venv/lib/python3.11/site-packages (from llama-index) (0.4.6)\n",
      "Requirement already satisfied: llama-index-readers-llama-parse>=0.4.0 in /home/daimler/workspaces/agents-course-huggingface/.venv/lib/python3.11/site-packages (from llama-index) (0.4.0)\n",
      "Requirement already satisfied: nltk>3.8.1 in /home/daimler/workspaces/agents-course-huggingface/.venv/lib/python3.11/site-packages (from llama-index) (3.9.1)\n",
      "Requirement already satisfied: filelock in /home/daimler/workspaces/agents-course-huggingface/.venv/lib/python3.11/site-packages (from datasets) (3.17.0)\n",
      "Requirement already satisfied: numpy>=1.17 in /home/daimler/workspaces/agents-course-huggingface/.venv/lib/python3.11/site-packages (from datasets) (2.2.3)\n",
      "Requirement already satisfied: pyarrow>=15.0.0 in /home/daimler/workspaces/agents-course-huggingface/.venv/lib/python3.11/site-packages (from datasets) (19.0.1)\n",
      "Requirement already satisfied: dill<0.3.9,>=0.3.0 in /home/daimler/workspaces/agents-course-huggingface/.venv/lib/python3.11/site-packages (from datasets) (0.3.8)\n",
      "Requirement already satisfied: pandas in /home/daimler/workspaces/agents-course-huggingface/.venv/lib/python3.11/site-packages (from datasets) (2.2.3)\n",
      "Requirement already satisfied: requests>=2.32.2 in /home/daimler/workspaces/agents-course-huggingface/.venv/lib/python3.11/site-packages (from datasets) (2.32.3)\n",
      "Requirement already satisfied: tqdm>=4.66.3 in /home/daimler/workspaces/agents-course-huggingface/.venv/lib/python3.11/site-packages (from datasets) (4.67.1)\n",
      "Requirement already satisfied: xxhash in /home/daimler/workspaces/agents-course-huggingface/.venv/lib/python3.11/site-packages (from datasets) (3.5.0)\n",
      "Requirement already satisfied: multiprocess<0.70.17 in /home/daimler/workspaces/agents-course-huggingface/.venv/lib/python3.11/site-packages (from datasets) (0.70.16)\n",
      "Requirement already satisfied: fsspec<=2024.12.0,>=2023.1.0 in /home/daimler/workspaces/agents-course-huggingface/.venv/lib/python3.11/site-packages (from fsspec[http]<=2024.12.0,>=2023.1.0->datasets) (2024.12.0)\n",
      "Requirement already satisfied: aiohttp in /home/daimler/workspaces/agents-course-huggingface/.venv/lib/python3.11/site-packages (from datasets) (3.11.13)\n",
      "Requirement already satisfied: huggingface-hub>=0.24.0 in /home/daimler/workspaces/agents-course-huggingface/.venv/lib/python3.11/site-packages (from datasets) (0.29.3)\n",
      "Requirement already satisfied: packaging in /home/daimler/workspaces/agents-course-huggingface/.venv/lib/python3.11/site-packages (from datasets) (24.2)\n",
      "Requirement already satisfied: pyyaml>=5.1 in /home/daimler/workspaces/agents-course-huggingface/.venv/lib/python3.11/site-packages (from datasets) (6.0.2)\n",
      "Requirement already satisfied: openinference-instrumentation-llama-index>=3.0.0 in /home/daimler/workspaces/agents-course-huggingface/.venv/lib/python3.11/site-packages (from llama-index-callbacks-arize-phoenix) (3.3.1)\n",
      "Requirement already satisfied: chromadb>=0.5.17 in /home/daimler/workspaces/agents-course-huggingface/.venv/lib/python3.11/site-packages (from llama-index-vector-stores-chroma) (0.6.3)\n",
      "Requirement already satisfied: build>=1.0.3 in /home/daimler/workspaces/agents-course-huggingface/.venv/lib/python3.11/site-packages (from chromadb>=0.5.17->llama-index-vector-stores-chroma) (1.2.2.post1)\n",
      "Requirement already satisfied: pydantic>=1.9 in /home/daimler/workspaces/agents-course-huggingface/.venv/lib/python3.11/site-packages (from chromadb>=0.5.17->llama-index-vector-stores-chroma) (2.10.6)\n",
      "Requirement already satisfied: chroma-hnswlib==0.7.6 in /home/daimler/workspaces/agents-course-huggingface/.venv/lib/python3.11/site-packages (from chromadb>=0.5.17->llama-index-vector-stores-chroma) (0.7.6)\n",
      "Requirement already satisfied: fastapi>=0.95.2 in /home/daimler/workspaces/agents-course-huggingface/.venv/lib/python3.11/site-packages (from chromadb>=0.5.17->llama-index-vector-stores-chroma) (0.115.11)\n",
      "Requirement already satisfied: uvicorn>=0.18.3 in /home/daimler/workspaces/agents-course-huggingface/.venv/lib/python3.11/site-packages (from uvicorn[standard]>=0.18.3->chromadb>=0.5.17->llama-index-vector-stores-chroma) (0.34.0)\n",
      "Requirement already satisfied: posthog>=2.4.0 in /home/daimler/workspaces/agents-course-huggingface/.venv/lib/python3.11/site-packages (from chromadb>=0.5.17->llama-index-vector-stores-chroma) (3.19.1)\n",
      "Requirement already satisfied: typing_extensions>=4.5.0 in /home/daimler/workspaces/agents-course-huggingface/.venv/lib/python3.11/site-packages (from chromadb>=0.5.17->llama-index-vector-stores-chroma) (4.12.2)\n",
      "Requirement already satisfied: onnxruntime>=1.14.1 in /home/daimler/workspaces/agents-course-huggingface/.venv/lib/python3.11/site-packages (from chromadb>=0.5.17->llama-index-vector-stores-chroma) (1.21.0)\n",
      "Requirement already satisfied: opentelemetry-api>=1.2.0 in /home/daimler/workspaces/agents-course-huggingface/.venv/lib/python3.11/site-packages (from chromadb>=0.5.17->llama-index-vector-stores-chroma) (1.31.0)\n",
      "Requirement already satisfied: opentelemetry-exporter-otlp-proto-grpc>=1.2.0 in /home/daimler/workspaces/agents-course-huggingface/.venv/lib/python3.11/site-packages (from chromadb>=0.5.17->llama-index-vector-stores-chroma) (1.31.0)\n",
      "Requirement already satisfied: opentelemetry-instrumentation-fastapi>=0.41b0 in /home/daimler/workspaces/agents-course-huggingface/.venv/lib/python3.11/site-packages (from chromadb>=0.5.17->llama-index-vector-stores-chroma) (0.52b0)\n",
      "Requirement already satisfied: opentelemetry-sdk>=1.2.0 in /home/daimler/workspaces/agents-course-huggingface/.venv/lib/python3.11/site-packages (from chromadb>=0.5.17->llama-index-vector-stores-chroma) (1.31.0)\n",
      "Requirement already satisfied: tokenizers>=0.13.2 in /home/daimler/workspaces/agents-course-huggingface/.venv/lib/python3.11/site-packages (from chromadb>=0.5.17->llama-index-vector-stores-chroma) (0.21.1)\n",
      "Requirement already satisfied: pypika>=0.48.9 in /home/daimler/workspaces/agents-course-huggingface/.venv/lib/python3.11/site-packages (from chromadb>=0.5.17->llama-index-vector-stores-chroma) (0.48.9)\n",
      "Requirement already satisfied: overrides>=7.3.1 in /home/daimler/workspaces/agents-course-huggingface/.venv/lib/python3.11/site-packages (from chromadb>=0.5.17->llama-index-vector-stores-chroma) (7.7.0)\n",
      "Requirement already satisfied: importlib-resources in /home/daimler/workspaces/agents-course-huggingface/.venv/lib/python3.11/site-packages (from chromadb>=0.5.17->llama-index-vector-stores-chroma) (6.5.2)\n",
      "Requirement already satisfied: grpcio>=1.58.0 in /home/daimler/workspaces/agents-course-huggingface/.venv/lib/python3.11/site-packages (from chromadb>=0.5.17->llama-index-vector-stores-chroma) (1.71.0)\n",
      "Requirement already satisfied: bcrypt>=4.0.1 in /home/daimler/workspaces/agents-course-huggingface/.venv/lib/python3.11/site-packages (from chromadb>=0.5.17->llama-index-vector-stores-chroma) (4.3.0)\n",
      "Requirement already satisfied: typer>=0.9.0 in /home/daimler/workspaces/agents-course-huggingface/.venv/lib/python3.11/site-packages (from chromadb>=0.5.17->llama-index-vector-stores-chroma) (0.15.2)\n",
      "Requirement already satisfied: kubernetes>=28.1.0 in /home/daimler/workspaces/agents-course-huggingface/.venv/lib/python3.11/site-packages (from chromadb>=0.5.17->llama-index-vector-stores-chroma) (32.0.1)\n",
      "Requirement already satisfied: tenacity>=8.2.3 in /home/daimler/workspaces/agents-course-huggingface/.venv/lib/python3.11/site-packages (from chromadb>=0.5.17->llama-index-vector-stores-chroma) (9.0.0)\n",
      "Requirement already satisfied: mmh3>=4.0.1 in /home/daimler/workspaces/agents-course-huggingface/.venv/lib/python3.11/site-packages (from chromadb>=0.5.17->llama-index-vector-stores-chroma) (5.1.0)\n",
      "Requirement already satisfied: orjson>=3.9.12 in /home/daimler/workspaces/agents-course-huggingface/.venv/lib/python3.11/site-packages (from chromadb>=0.5.17->llama-index-vector-stores-chroma) (3.10.15)\n",
      "Requirement already satisfied: httpx>=0.27.0 in /home/daimler/workspaces/agents-course-huggingface/.venv/lib/python3.11/site-packages (from chromadb>=0.5.17->llama-index-vector-stores-chroma) (0.28.1)\n",
      "Requirement already satisfied: rich>=10.11.0 in /home/daimler/workspaces/agents-course-huggingface/.venv/lib/python3.11/site-packages (from chromadb>=0.5.17->llama-index-vector-stores-chroma) (13.9.4)\n",
      "Requirement already satisfied: aiohappyeyeballs>=2.3.0 in /home/daimler/workspaces/agents-course-huggingface/.venv/lib/python3.11/site-packages (from aiohttp->datasets) (2.6.1)\n",
      "Requirement already satisfied: aiosignal>=1.1.2 in /home/daimler/workspaces/agents-course-huggingface/.venv/lib/python3.11/site-packages (from aiohttp->datasets) (1.3.2)\n",
      "Requirement already satisfied: attrs>=17.3.0 in /home/daimler/workspaces/agents-course-huggingface/.venv/lib/python3.11/site-packages (from aiohttp->datasets) (25.3.0)\n",
      "Requirement already satisfied: frozenlist>=1.1.1 in /home/daimler/workspaces/agents-course-huggingface/.venv/lib/python3.11/site-packages (from aiohttp->datasets) (1.5.0)\n",
      "Requirement already satisfied: multidict<7.0,>=4.5 in /home/daimler/workspaces/agents-course-huggingface/.venv/lib/python3.11/site-packages (from aiohttp->datasets) (6.1.0)\n",
      "Requirement already satisfied: propcache>=0.2.0 in /home/daimler/workspaces/agents-course-huggingface/.venv/lib/python3.11/site-packages (from aiohttp->datasets) (0.3.0)\n",
      "Requirement already satisfied: yarl<2.0,>=1.17.0 in /home/daimler/workspaces/agents-course-huggingface/.venv/lib/python3.11/site-packages (from aiohttp->datasets) (1.18.3)\n",
      "Requirement already satisfied: openai>=1.14.0 in /home/daimler/workspaces/agents-course-huggingface/.venv/lib/python3.11/site-packages (from llama-index-agent-openai<0.5.0,>=0.4.0->llama-index) (1.66.3)\n",
      "Requirement already satisfied: SQLAlchemy>=1.4.49 in /home/daimler/workspaces/agents-course-huggingface/.venv/lib/python3.11/site-packages (from SQLAlchemy[asyncio]>=1.4.49->llama-index-core<0.13.0,>=0.12.23->llama-index) (2.0.39)\n",
      "Requirement already satisfied: dataclasses-json in /home/daimler/workspaces/agents-course-huggingface/.venv/lib/python3.11/site-packages (from llama-index-core<0.13.0,>=0.12.23->llama-index) (0.6.7)\n",
      "Requirement already satisfied: deprecated>=1.2.9.3 in /home/daimler/workspaces/agents-course-huggingface/.venv/lib/python3.11/site-packages (from llama-index-core<0.13.0,>=0.12.23->llama-index) (1.2.18)\n",
      "Requirement already satisfied: dirtyjson<2.0.0,>=1.0.8 in /home/daimler/workspaces/agents-course-huggingface/.venv/lib/python3.11/site-packages (from llama-index-core<0.13.0,>=0.12.23->llama-index) (1.0.8)\n",
      "Requirement already satisfied: filetype<2.0.0,>=1.2.0 in /home/daimler/workspaces/agents-course-huggingface/.venv/lib/python3.11/site-packages (from llama-index-core<0.13.0,>=0.12.23->llama-index) (1.2.0)\n",
      "Requirement already satisfied: nest-asyncio<2.0.0,>=1.5.8 in /home/daimler/workspaces/agents-course-huggingface/.venv/lib/python3.11/site-packages (from llama-index-core<0.13.0,>=0.12.23->llama-index) (1.6.0)\n",
      "Requirement already satisfied: networkx>=3.0 in /home/daimler/workspaces/agents-course-huggingface/.venv/lib/python3.11/site-packages (from llama-index-core<0.13.0,>=0.12.23->llama-index) (3.4.2)\n",
      "Requirement already satisfied: pillow>=9.0.0 in /home/daimler/workspaces/agents-course-huggingface/.venv/lib/python3.11/site-packages (from llama-index-core<0.13.0,>=0.12.23->llama-index) (11.1.0)\n",
      "Requirement already satisfied: tiktoken>=0.3.3 in /home/daimler/workspaces/agents-course-huggingface/.venv/lib/python3.11/site-packages (from llama-index-core<0.13.0,>=0.12.23->llama-index) (0.9.0)\n",
      "Requirement already satisfied: typing-inspect>=0.8.0 in /home/daimler/workspaces/agents-course-huggingface/.venv/lib/python3.11/site-packages (from llama-index-core<0.13.0,>=0.12.23->llama-index) (0.9.0)\n",
      "Requirement already satisfied: wrapt in /home/daimler/workspaces/agents-course-huggingface/.venv/lib/python3.11/site-packages (from llama-index-core<0.13.0,>=0.12.23->llama-index) (1.17.2)\n",
      "Requirement already satisfied: llama-cloud<0.2.0,>=0.1.13 in /home/daimler/workspaces/agents-course-huggingface/.venv/lib/python3.11/site-packages (from llama-index-indices-managed-llama-cloud>=0.4.0->llama-index) (0.1.14)\n",
      "Requirement already satisfied: beautifulsoup4<5.0.0,>=4.12.3 in /home/daimler/workspaces/agents-course-huggingface/.venv/lib/python3.11/site-packages (from llama-index-readers-file<0.5.0,>=0.4.0->llama-index) (4.13.3)\n",
      "Requirement already satisfied: pypdf<6.0.0,>=5.1.0 in /home/daimler/workspaces/agents-course-huggingface/.venv/lib/python3.11/site-packages (from llama-index-readers-file<0.5.0,>=0.4.0->llama-index) (5.3.1)\n",
      "Requirement already satisfied: striprtf<0.0.27,>=0.0.26 in /home/daimler/workspaces/agents-course-huggingface/.venv/lib/python3.11/site-packages (from llama-index-readers-file<0.5.0,>=0.4.0->llama-index) (0.0.26)\n",
      "Requirement already satisfied: llama-parse>=0.5.0 in /home/daimler/workspaces/agents-course-huggingface/.venv/lib/python3.11/site-packages (from llama-index-readers-llama-parse>=0.4.0->llama-index) (0.6.4.post1)\n",
      "Requirement already satisfied: click in /home/daimler/workspaces/agents-course-huggingface/.venv/lib/python3.11/site-packages (from nltk>3.8.1->llama-index) (8.1.8)\n",
      "Requirement already satisfied: joblib in /home/daimler/workspaces/agents-course-huggingface/.venv/lib/python3.11/site-packages (from nltk>3.8.1->llama-index) (1.4.2)\n",
      "Requirement already satisfied: regex>=2021.8.3 in /home/daimler/workspaces/agents-course-huggingface/.venv/lib/python3.11/site-packages (from nltk>3.8.1->llama-index) (2024.11.6)\n",
      "Requirement already satisfied: openinference-instrumentation>=0.1.17 in /home/daimler/workspaces/agents-course-huggingface/.venv/lib/python3.11/site-packages (from openinference-instrumentation-llama-index>=3.0.0->llama-index-callbacks-arize-phoenix) (0.1.23)\n",
      "Requirement already satisfied: openinference-semantic-conventions>=0.1.9 in /home/daimler/workspaces/agents-course-huggingface/.venv/lib/python3.11/site-packages (from openinference-instrumentation-llama-index>=3.0.0->llama-index-callbacks-arize-phoenix) (0.1.14)\n",
      "Requirement already satisfied: opentelemetry-instrumentation in /home/daimler/workspaces/agents-course-huggingface/.venv/lib/python3.11/site-packages (from openinference-instrumentation-llama-index>=3.0.0->llama-index-callbacks-arize-phoenix) (0.52b0)\n",
      "Requirement already satisfied: opentelemetry-semantic-conventions in /home/daimler/workspaces/agents-course-huggingface/.venv/lib/python3.11/site-packages (from openinference-instrumentation-llama-index>=3.0.0->llama-index-callbacks-arize-phoenix) (0.52b0)\n",
      "Requirement already satisfied: charset-normalizer<4,>=2 in /home/daimler/workspaces/agents-course-huggingface/.venv/lib/python3.11/site-packages (from requests>=2.32.2->datasets) (3.4.1)\n",
      "Requirement already satisfied: idna<4,>=2.5 in /home/daimler/workspaces/agents-course-huggingface/.venv/lib/python3.11/site-packages (from requests>=2.32.2->datasets) (3.10)\n",
      "Requirement already satisfied: urllib3<3,>=1.21.1 in /home/daimler/workspaces/agents-course-huggingface/.venv/lib/python3.11/site-packages (from requests>=2.32.2->datasets) (2.3.0)\n",
      "Requirement already satisfied: certifi>=2017.4.17 in /home/daimler/workspaces/agents-course-huggingface/.venv/lib/python3.11/site-packages (from requests>=2.32.2->datasets) (2025.1.31)\n",
      "Requirement already satisfied: python-dateutil>=2.8.2 in /home/daimler/workspaces/agents-course-huggingface/.venv/lib/python3.11/site-packages (from pandas->datasets) (2.9.0.post0)\n",
      "Requirement already satisfied: pytz>=2020.1 in /home/daimler/workspaces/agents-course-huggingface/.venv/lib/python3.11/site-packages (from pandas->datasets) (2025.1)\n",
      "Requirement already satisfied: tzdata>=2022.7 in /home/daimler/workspaces/agents-course-huggingface/.venv/lib/python3.11/site-packages (from pandas->datasets) (2025.1)\n",
      "Requirement already satisfied: soupsieve>1.2 in /home/daimler/workspaces/agents-course-huggingface/.venv/lib/python3.11/site-packages (from beautifulsoup4<5.0.0,>=4.12.3->llama-index-readers-file<0.5.0,>=0.4.0->llama-index) (2.6)\n",
      "Requirement already satisfied: pyproject_hooks in /home/daimler/workspaces/agents-course-huggingface/.venv/lib/python3.11/site-packages (from build>=1.0.3->chromadb>=0.5.17->llama-index-vector-stores-chroma) (1.2.0)\n",
      "Requirement already satisfied: starlette<0.47.0,>=0.40.0 in /home/daimler/workspaces/agents-course-huggingface/.venv/lib/python3.11/site-packages (from fastapi>=0.95.2->chromadb>=0.5.17->llama-index-vector-stores-chroma) (0.46.1)\n",
      "Requirement already satisfied: anyio in /home/daimler/workspaces/agents-course-huggingface/.venv/lib/python3.11/site-packages (from httpx>=0.27.0->chromadb>=0.5.17->llama-index-vector-stores-chroma) (4.8.0)\n",
      "Requirement already satisfied: httpcore==1.* in /home/daimler/workspaces/agents-course-huggingface/.venv/lib/python3.11/site-packages (from httpx>=0.27.0->chromadb>=0.5.17->llama-index-vector-stores-chroma) (1.0.7)\n",
      "Requirement already satisfied: h11<0.15,>=0.13 in /home/daimler/workspaces/agents-course-huggingface/.venv/lib/python3.11/site-packages (from httpcore==1.*->httpx>=0.27.0->chromadb>=0.5.17->llama-index-vector-stores-chroma) (0.14.0)\n",
      "Requirement already satisfied: six>=1.9.0 in /home/daimler/workspaces/agents-course-huggingface/.venv/lib/python3.11/site-packages (from kubernetes>=28.1.0->chromadb>=0.5.17->llama-index-vector-stores-chroma) (1.17.0)\n",
      "Requirement already satisfied: google-auth>=1.0.1 in /home/daimler/workspaces/agents-course-huggingface/.venv/lib/python3.11/site-packages (from kubernetes>=28.1.0->chromadb>=0.5.17->llama-index-vector-stores-chroma) (2.38.0)\n",
      "Requirement already satisfied: websocket-client!=0.40.0,!=0.41.*,!=0.42.*,>=0.32.0 in /home/daimler/workspaces/agents-course-huggingface/.venv/lib/python3.11/site-packages (from kubernetes>=28.1.0->chromadb>=0.5.17->llama-index-vector-stores-chroma) (1.8.0)\n",
      "Requirement already satisfied: requests-oauthlib in /home/daimler/workspaces/agents-course-huggingface/.venv/lib/python3.11/site-packages (from kubernetes>=28.1.0->chromadb>=0.5.17->llama-index-vector-stores-chroma) (2.0.0)\n",
      "Requirement already satisfied: oauthlib>=3.2.2 in /home/daimler/workspaces/agents-course-huggingface/.venv/lib/python3.11/site-packages (from kubernetes>=28.1.0->chromadb>=0.5.17->llama-index-vector-stores-chroma) (3.2.2)\n",
      "Requirement already satisfied: durationpy>=0.7 in /home/daimler/workspaces/agents-course-huggingface/.venv/lib/python3.11/site-packages (from kubernetes>=28.1.0->chromadb>=0.5.17->llama-index-vector-stores-chroma) (0.9)\n",
      "Requirement already satisfied: llama-cloud-services>=0.6.4 in /home/daimler/workspaces/agents-course-huggingface/.venv/lib/python3.11/site-packages (from llama-parse>=0.5.0->llama-index-readers-llama-parse>=0.4.0->llama-index) (0.6.5)\n",
      "Requirement already satisfied: coloredlogs in /home/daimler/workspaces/agents-course-huggingface/.venv/lib/python3.11/site-packages (from onnxruntime>=1.14.1->chromadb>=0.5.17->llama-index-vector-stores-chroma) (15.0.1)\n",
      "Requirement already satisfied: flatbuffers in /home/daimler/workspaces/agents-course-huggingface/.venv/lib/python3.11/site-packages (from onnxruntime>=1.14.1->chromadb>=0.5.17->llama-index-vector-stores-chroma) (25.2.10)\n",
      "Requirement already satisfied: protobuf in /home/daimler/workspaces/agents-course-huggingface/.venv/lib/python3.11/site-packages (from onnxruntime>=1.14.1->chromadb>=0.5.17->llama-index-vector-stores-chroma) (5.29.3)\n",
      "Requirement already satisfied: sympy in /home/daimler/workspaces/agents-course-huggingface/.venv/lib/python3.11/site-packages (from onnxruntime>=1.14.1->chromadb>=0.5.17->llama-index-vector-stores-chroma) (1.13.3)\n",
      "Requirement already satisfied: distro<2,>=1.7.0 in /home/daimler/workspaces/agents-course-huggingface/.venv/lib/python3.11/site-packages (from openai>=1.14.0->llama-index-agent-openai<0.5.0,>=0.4.0->llama-index) (1.9.0)\n",
      "Requirement already satisfied: jiter<1,>=0.4.0 in /home/daimler/workspaces/agents-course-huggingface/.venv/lib/python3.11/site-packages (from openai>=1.14.0->llama-index-agent-openai<0.5.0,>=0.4.0->llama-index) (0.9.0)\n",
      "Requirement already satisfied: sniffio in /home/daimler/workspaces/agents-course-huggingface/.venv/lib/python3.11/site-packages (from openai>=1.14.0->llama-index-agent-openai<0.5.0,>=0.4.0->llama-index) (1.3.1)\n",
      "Requirement already satisfied: importlib-metadata<8.7.0,>=6.0 in /home/daimler/workspaces/agents-course-huggingface/.venv/lib/python3.11/site-packages (from opentelemetry-api>=1.2.0->chromadb>=0.5.17->llama-index-vector-stores-chroma) (8.6.1)\n",
      "Requirement already satisfied: googleapis-common-protos~=1.52 in /home/daimler/workspaces/agents-course-huggingface/.venv/lib/python3.11/site-packages (from opentelemetry-exporter-otlp-proto-grpc>=1.2.0->chromadb>=0.5.17->llama-index-vector-stores-chroma) (1.69.1)\n",
      "Requirement already satisfied: opentelemetry-exporter-otlp-proto-common==1.31.0 in /home/daimler/workspaces/agents-course-huggingface/.venv/lib/python3.11/site-packages (from opentelemetry-exporter-otlp-proto-grpc>=1.2.0->chromadb>=0.5.17->llama-index-vector-stores-chroma) (1.31.0)\n",
      "Requirement already satisfied: opentelemetry-proto==1.31.0 in /home/daimler/workspaces/agents-course-huggingface/.venv/lib/python3.11/site-packages (from opentelemetry-exporter-otlp-proto-grpc>=1.2.0->chromadb>=0.5.17->llama-index-vector-stores-chroma) (1.31.0)\n",
      "Requirement already satisfied: opentelemetry-instrumentation-asgi==0.52b0 in /home/daimler/workspaces/agents-course-huggingface/.venv/lib/python3.11/site-packages (from opentelemetry-instrumentation-fastapi>=0.41b0->chromadb>=0.5.17->llama-index-vector-stores-chroma) (0.52b0)\n",
      "Requirement already satisfied: opentelemetry-util-http==0.52b0 in /home/daimler/workspaces/agents-course-huggingface/.venv/lib/python3.11/site-packages (from opentelemetry-instrumentation-fastapi>=0.41b0->chromadb>=0.5.17->llama-index-vector-stores-chroma) (0.52b0)\n",
      "Requirement already satisfied: asgiref~=3.0 in /home/daimler/workspaces/agents-course-huggingface/.venv/lib/python3.11/site-packages (from opentelemetry-instrumentation-asgi==0.52b0->opentelemetry-instrumentation-fastapi>=0.41b0->chromadb>=0.5.17->llama-index-vector-stores-chroma) (3.8.1)\n",
      "Requirement already satisfied: monotonic>=1.5 in /home/daimler/workspaces/agents-course-huggingface/.venv/lib/python3.11/site-packages (from posthog>=2.4.0->chromadb>=0.5.17->llama-index-vector-stores-chroma) (1.6)\n",
      "Requirement already satisfied: backoff>=1.10.0 in /home/daimler/workspaces/agents-course-huggingface/.venv/lib/python3.11/site-packages (from posthog>=2.4.0->chromadb>=0.5.17->llama-index-vector-stores-chroma) (2.2.1)\n",
      "Requirement already satisfied: annotated-types>=0.6.0 in /home/daimler/workspaces/agents-course-huggingface/.venv/lib/python3.11/site-packages (from pydantic>=1.9->chromadb>=0.5.17->llama-index-vector-stores-chroma) (0.7.0)\n",
      "Requirement already satisfied: pydantic-core==2.27.2 in /home/daimler/workspaces/agents-course-huggingface/.venv/lib/python3.11/site-packages (from pydantic>=1.9->chromadb>=0.5.17->llama-index-vector-stores-chroma) (2.27.2)\n",
      "Requirement already satisfied: markdown-it-py>=2.2.0 in /home/daimler/workspaces/agents-course-huggingface/.venv/lib/python3.11/site-packages (from rich>=10.11.0->chromadb>=0.5.17->llama-index-vector-stores-chroma) (3.0.0)\n",
      "Requirement already satisfied: pygments<3.0.0,>=2.13.0 in /home/daimler/workspaces/agents-course-huggingface/.venv/lib/python3.11/site-packages (from rich>=10.11.0->chromadb>=0.5.17->llama-index-vector-stores-chroma) (2.19.1)\n",
      "Requirement already satisfied: greenlet!=0.4.17 in /home/daimler/workspaces/agents-course-huggingface/.venv/lib/python3.11/site-packages (from SQLAlchemy>=1.4.49->SQLAlchemy[asyncio]>=1.4.49->llama-index-core<0.13.0,>=0.12.23->llama-index) (3.1.1)\n",
      "Requirement already satisfied: shellingham>=1.3.0 in /home/daimler/workspaces/agents-course-huggingface/.venv/lib/python3.11/site-packages (from typer>=0.9.0->chromadb>=0.5.17->llama-index-vector-stores-chroma) (1.5.4)\n",
      "Requirement already satisfied: mypy-extensions>=0.3.0 in /home/daimler/workspaces/agents-course-huggingface/.venv/lib/python3.11/site-packages (from typing-inspect>=0.8.0->llama-index-core<0.13.0,>=0.12.23->llama-index) (1.0.0)\n",
      "Requirement already satisfied: httptools>=0.6.3 in /home/daimler/workspaces/agents-course-huggingface/.venv/lib/python3.11/site-packages (from uvicorn[standard]>=0.18.3->chromadb>=0.5.17->llama-index-vector-stores-chroma) (0.6.4)\n",
      "Requirement already satisfied: python-dotenv>=0.13 in /home/daimler/workspaces/agents-course-huggingface/.venv/lib/python3.11/site-packages (from uvicorn[standard]>=0.18.3->chromadb>=0.5.17->llama-index-vector-stores-chroma) (1.0.1)\n",
      "Requirement already satisfied: uvloop!=0.15.0,!=0.15.1,>=0.14.0 in /home/daimler/workspaces/agents-course-huggingface/.venv/lib/python3.11/site-packages (from uvicorn[standard]>=0.18.3->chromadb>=0.5.17->llama-index-vector-stores-chroma) (0.21.0)\n",
      "Requirement already satisfied: watchfiles>=0.13 in /home/daimler/workspaces/agents-course-huggingface/.venv/lib/python3.11/site-packages (from uvicorn[standard]>=0.18.3->chromadb>=0.5.17->llama-index-vector-stores-chroma) (1.0.4)\n",
      "Requirement already satisfied: websockets>=10.4 in /home/daimler/workspaces/agents-course-huggingface/.venv/lib/python3.11/site-packages (from uvicorn[standard]>=0.18.3->chromadb>=0.5.17->llama-index-vector-stores-chroma) (15.0.1)\n",
      "Requirement already satisfied: marshmallow<4.0.0,>=3.18.0 in /home/daimler/workspaces/agents-course-huggingface/.venv/lib/python3.11/site-packages (from dataclasses-json->llama-index-core<0.13.0,>=0.12.23->llama-index) (3.26.1)\n",
      "Requirement already satisfied: cachetools<6.0,>=2.0.0 in /home/daimler/workspaces/agents-course-huggingface/.venv/lib/python3.11/site-packages (from google-auth>=1.0.1->kubernetes>=28.1.0->chromadb>=0.5.17->llama-index-vector-stores-chroma) (5.5.2)\n",
      "Requirement already satisfied: pyasn1-modules>=0.2.1 in /home/daimler/workspaces/agents-course-huggingface/.venv/lib/python3.11/site-packages (from google-auth>=1.0.1->kubernetes>=28.1.0->chromadb>=0.5.17->llama-index-vector-stores-chroma) (0.4.1)\n",
      "Requirement already satisfied: rsa<5,>=3.1.4 in /home/daimler/workspaces/agents-course-huggingface/.venv/lib/python3.11/site-packages (from google-auth>=1.0.1->kubernetes>=28.1.0->chromadb>=0.5.17->llama-index-vector-stores-chroma) (4.9)\n",
      "Requirement already satisfied: zipp>=3.20 in /home/daimler/workspaces/agents-course-huggingface/.venv/lib/python3.11/site-packages (from importlib-metadata<8.7.0,>=6.0->opentelemetry-api>=1.2.0->chromadb>=0.5.17->llama-index-vector-stores-chroma) (3.21.0)\n",
      "Requirement already satisfied: mdurl~=0.1 in /home/daimler/workspaces/agents-course-huggingface/.venv/lib/python3.11/site-packages (from markdown-it-py>=2.2.0->rich>=10.11.0->chromadb>=0.5.17->llama-index-vector-stores-chroma) (0.1.2)\n",
      "Requirement already satisfied: humanfriendly>=9.1 in /home/daimler/workspaces/agents-course-huggingface/.venv/lib/python3.11/site-packages (from coloredlogs->onnxruntime>=1.14.1->chromadb>=0.5.17->llama-index-vector-stores-chroma) (10.0)\n",
      "Requirement already satisfied: mpmath<1.4,>=1.1.0 in /home/daimler/workspaces/agents-course-huggingface/.venv/lib/python3.11/site-packages (from sympy->onnxruntime>=1.14.1->chromadb>=0.5.17->llama-index-vector-stores-chroma) (1.3.0)\n",
      "Requirement already satisfied: pyasn1<0.7.0,>=0.4.6 in /home/daimler/workspaces/agents-course-huggingface/.venv/lib/python3.11/site-packages (from pyasn1-modules>=0.2.1->google-auth>=1.0.1->kubernetes>=28.1.0->chromadb>=0.5.17->llama-index-vector-stores-chroma) (0.6.1)\n",
      "Note: you may need to restart the kernel to use updated packages.\n"
     ]
    }
   ],
   "source": [
    "%pip install -U  \\\n",
    "    llama-index \\\n",
    "    datasets \\\n",
    "    llama-index-callbacks-arize-phoenix \\\n",
    "    llama-index-vector-stores-chroma \\\n",
    "    # llama-index-llms-huggingface-api \\\n",
    "    # llama-index-embeddings-huggingface-api \\\n",
    "    llama-index-embeddings-ollama \\\n",
    "    llama-index-llms-ollama \\\n",
    "    # "
   ]
  },
  {
   "cell_type": "markdown",
   "metadata": {
    "id": "Kjwy1gZu1NKp"
   },
   "source": [
    "## Create a `QueryEngine` for retrieval augmented generation\n",
    "\n",
    "### Setting up the persona database\n",
    "\n",
    "We will be using personas from the [dvilasuero/finepersonas-v0.1-tiny dataset](https://huggingface.co/datasets/dvilasuero/finepersonas-v0.1-tiny). This dataset contains 5K personas that will be attending the party!\n",
    "\n",
    "Let's load the dataset and store it as files in the `data` directory"
   ]
  },
  {
   "cell_type": "code",
   "execution_count": 2,
   "metadata": {
    "colab": {
     "base_uri": "https://localhost:8080/",
     "height": 113,
     "referenced_widgets": [
      "889bfa2b52f64de0ad8cce2e0de9c9ef",
      "810a8adb618e47c790f787ba733b033e",
      "1a7324435c0b4e9f82cabb0e3a391137",
      "e75b792b65a84c91bf636b84fcab8ea2",
      "eecc7a8a6ca9457b8257893e455a2b28",
      "62ba2ae726ed47c0859337b41e37f58f",
      "fd7c81e523174b02b784f50fed54aea7",
      "b66fc89af7494d60966aebdc33583976",
      "e0bb7b185297412a8b6eb642dc3fa75b",
      "218e36725f514eeb8b1e8ff68f7313ab",
      "31f2eb111f2f4041959358056952a6a8",
      "da0f77c2421c43398b8b659c30b0a662",
      "3c3605c2eaa546b782330ec02eeb633f",
      "1484b5df2a7448a0a30df75f7d5a364c",
      "21a9ee17898f444caff3097604ea9251",
      "198c993b694c4c138f4b63947aef9b20",
      "fb7e3dd03c3b4a2b8b3753f8be7d6187",
      "8d479fd64fba4ea1a90c462c0673f4ea",
      "66a6ef4900704a4daf064897a1fa9826",
      "9dd5c5db612b46f3963a2f6230d50f2b",
      "3150a5757b724e05a74ee0fcf1ad4aba",
      "6c8677c2a49244a4b227a6f0a8c40f9b",
      "ef2ee083c042471e90b53e3c55897389",
      "22ef5d69f10849fe9593cc35acbfd3ca",
      "db4c0e0d4f834a21a436c5c1f1004a13",
      "f2e73f6a0ae4479d8e18bb259061c1b2",
      "2c61b333bfe047a3b7d260ff3fc37564",
      "e92b9a8903e541d2938e0338be92419f",
      "07e834b48f854538972d127e7527d1b9",
      "b14b7dc1c75c43ffa0611c0dc4aeeec9",
      "08971f1893624ec9ac667fcd5db2ea6a",
      "bf950d5c1a4c4fdb984483ba98656de0",
      "11cafa9b09894b32a0db92ddc63f5a02"
     ]
    },
    "executionInfo": {
     "elapsed": 21087,
     "status": "ok",
     "timestamp": 1741690403334,
     "user": {
      "displayName": "German Z",
      "userId": "10416485626185439003"
     },
     "user_tz": -60
    },
    "id": "7ViGffyV1NKp",
    "outputId": "b65f1532-3755-4db7-ff86-a80a6cbecc58"
   },
   "outputs": [],
   "source": [
    "from datasets import load_dataset\n",
    "from pathlib import Path\n",
    "\n",
    "dataset = load_dataset(path=\"dvilasuero/finepersonas-v0.1-tiny\", split=\"train\")\n",
    "\n",
    "Path(\"data\").mkdir(parents=True, exist_ok=True)\n",
    "for i, persona in enumerate(dataset):\n",
    "    with open(Path(\"data\") / f\"persona_{i}.txt\", \"w\") as f:\n",
    "        f.write(persona[\"persona\"])"
   ]
  },
  {
   "cell_type": "markdown",
   "metadata": {
    "id": "5EqcMmU01NKp"
   },
   "source": [
    "Awesome, now we have a local directory with all the personas that will be attending the party, we can load and index!\n",
    "\n",
    "### Loading and embedding persona documents\n",
    "\n",
    "We will use the `SimpleDirectoryReader` to load the persona descriptions from the `data` directory. This will return a list of `Document` objects."
   ]
  },
  {
   "cell_type": "code",
   "execution_count": 3,
   "metadata": {
    "colab": {
     "base_uri": "https://localhost:8080/"
    },
    "executionInfo": {
     "elapsed": 13288,
     "status": "ok",
     "timestamp": 1741690424530,
     "user": {
      "displayName": "German Z",
      "userId": "10416485626185439003"
     },
     "user_tz": -60
    },
    "id": "ZMnrx4rg1NKp",
    "outputId": "8444a7ae-9f72-4df6-e6a1-39fc405e9d06"
   },
   "outputs": [
    {
     "data": {
      "text/plain": [
       "5000"
      ]
     },
     "execution_count": 3,
     "metadata": {},
     "output_type": "execute_result"
    }
   ],
   "source": [
    "from llama_index.core import SimpleDirectoryReader\n",
    "\n",
    "reader = SimpleDirectoryReader(input_dir=\"data\")\n",
    "documents = reader.load_data()\n",
    "len(documents)"
   ]
  },
  {
   "cell_type": "markdown",
   "metadata": {
    "id": "XmOII9Mc1NKr"
   },
   "source": [
    "Now we have a list of `Document` objects, we can use the `IngestionPipeline` to create nodes from the documents and prepare them for the `QueryEngine`. We will use the `SentenceSplitter` to split the documents into smaller chunks and the `HuggingFaceInferenceAPIEmbedding` to embed the chunks."
   ]
  },
  {
   "cell_type": "code",
   "execution_count": 4,
   "metadata": {},
   "outputs": [
    {
     "name": "stdout",
     "output_type": "stream",
     "text": [
      "\u001b[?2026h\u001b[?25l\u001b[1Gpulling manifest ⠋ \u001b[K\u001b[?25h\u001b[?2026l\u001b[?2026h\u001b[?25l\u001b[1Gpulling manifest ⠙ \u001b[K\u001b[?25h\u001b[?2026l\u001b[?2026h\u001b[?25l\u001b[1Gpulling manifest ⠹ \u001b[K\u001b[?25h\u001b[?2026l\u001b[?2026h\u001b[?25l\u001b[1Gpulling manifest ⠸ \u001b[K\u001b[?25h\u001b[?2026l\u001b[?2026h\u001b[?25l\u001b[1Gpulling manifest ⠼ \u001b[K\u001b[?25h\u001b[?2026l\u001b[?2026h\u001b[?25l\u001b[1Gpulling manifest \u001b[K\n",
      "pulling 6dbfaeaa2837... 100% ▕████████████████▏  67 MB                         \u001b[K\n",
      "pulling ac02c0b5e300... 100% ▕████████████████▏  262 B                         \u001b[K\n",
      "verifying sha256 digest \u001b[K\n",
      "writing manifest \u001b[K\n",
      "success \u001b[K\u001b[?25h\u001b[?2026l\n"
     ]
    }
   ],
   "source": [
    "!ollama pull qllama/bge-small-en-v1.5:f16 "
   ]
  },
  {
   "cell_type": "code",
   "execution_count": 5,
   "metadata": {
    "colab": {
     "base_uri": "https://localhost:8080/",
     "height": 347
    },
    "executionInfo": {
     "elapsed": 253,
     "status": "error",
     "timestamp": 1741691122642,
     "user": {
      "displayName": "German Z",
      "userId": "10416485626185439003"
     },
     "user_tz": -60
    },
    "id": "-y8zHbpo1NKr",
    "outputId": "a596bbf4-550a-4e25-8f6d-1c11e2063262"
   },
   "outputs": [
    {
     "data": {
      "text/plain": [
       "[TextNode(id_='0f4dcdcd-8bef-4833-8511-bfe055e25466', embedding=[-0.11368885636329651, 0.11777554452419281, 0.31672120094299316, -0.011371240019798279, 0.061826758086681366, -0.2176019549369812, 0.0729525089263916, 0.15565034747123718, -0.8124821186065674, -0.867414653301239, -0.15169256925582886, -0.4183608889579773, -0.4135409891605377, 0.31847918033599854, -0.0855540782213211, 0.028311938047409058, -0.04249300807714462, 0.8410949110984802, 0.16153240203857422, -0.22631394863128662, -0.2809866666793823, -0.43955379724502563, 0.5681192278862, -0.006019406020641327, -0.21419525146484375, 0.17594265937805176, 0.46561259031295776, -0.15278299152851105, 0.02525971829891205, -1.091186761856079, -0.32091477513313293, 0.08397220075130463, 0.05588915944099426, 0.11885492503643036, 0.4839937090873718, 0.4431559443473816, -0.12187705934047699, 0.7001597881317139, 0.20205941796302795, -0.15109406411647797, 0.010180503129959106, 0.053661853075027466, -0.2615140676498413, 0.5227049589157104, 0.6147193312644958, -0.024565406143665314, 0.2773142158985138, 0.048211172223091125, -0.16884087026119232, -0.5540652871131897, 0.0809580385684967, -0.11043168604373932, -0.14164488017559052, -0.013746760785579681, -0.1587563306093216, 1.224396824836731, 0.881772518157959, 0.267055869102478, 0.16539444029331207, 0.17648965120315552, 0.4040055274963379, -0.0031481534242630005, -1.8147392272949219, 0.5188205242156982, 0.13478191196918488, 0.13029316067695618, -0.4436015486717224, -0.2562977075576782, 0.11021197587251663, 0.05133001133799553, -0.09780500829219818, -0.4026010036468506, -0.5541489720344543, -0.22611850500106812, 0.2606920301914215, -0.46224626898765564, 0.23637109994888306, 0.0820966362953186, -0.6318646669387817, -0.04914935678243637, 0.2382771074771881, -0.36270609498023987, -0.17271390557289124, -0.2724243402481079, -0.0573262982070446, -0.2019045650959015, 0.056842464953660965, -0.023071110248565674, -0.21193259954452515, -0.11525154113769531, 0.011109329760074615, -0.8482292294502258, 0.5121448636054993, -0.23335203528404236, -0.2564278244972229, -0.19806033372879028, 0.06115444004535675, 0.264392614364624, 0.020314648747444153, 3.864881753921509, 0.09728817641735077, 0.3174489736557007, 0.01700553297996521, -0.47874268889427185, -0.057624831795692444, 0.19614025950431824, 0.029821299016475677, 0.18688786029815674, -0.4288540482521057, -0.13484592735767365, -0.03952481597661972, 0.4052028954029083, -0.40553247928619385, -0.08265755325555801, 0.7236372232437134, -0.1660948246717453, 0.449679434299469, 0.758786678314209, 0.3378557562828064, -0.19752931594848633, 0.222364142537117, -0.12376369535923004, 0.18834486603736877, 0.07850554585456848, -0.2496357560157776, -0.3867112696170807, 0.008010178804397583, 0.4337502419948578, -0.034226931631565094, -0.19688859581947327, -0.4071880578994751, 0.3402385413646698, -0.4003937542438507, 0.266698956489563, 0.017228608950972557, 0.473849356174469, 0.455324649810791, -0.03734377399086952, 0.1551830917596817, 0.14290446043014526, 0.12538881599903107, -0.06511197984218597, -0.4091969132423401, 0.040431782603263855, -0.9553787708282471, 0.17333853244781494, 0.0700702965259552, -0.06372027099132538, -0.11074135452508926, -0.0949762612581253, -0.2513912618160248, 0.06164214015007019, -0.5487547516822815, 0.34554195404052734, 0.5553731322288513, -0.13400495052337646, 0.7071467041969299, 0.6862832903862, -0.5235987305641174, 0.5253114700317383, 0.4867103099822998, -0.7804340124130249, 0.31725549697875977, 0.13102610409259796, 0.26748085021972656, -0.7686821222305298, -0.3037022352218628, -0.17240235209465027, 0.2642488181591034, -0.04881543293595314, 0.2531893849372864, 0.38632944226264954, -0.5279920101165771, 0.9232709407806396, 0.44670629501342773, 0.31719547510147095, -0.219838485121727, 0.42485570907592773, -0.026017267256975174, 0.05704985931515694, -0.4204121232032776, -0.38640958070755005, -0.0890556126832962, 0.317579060792923, 0.012450829148292542, 0.2749503254890442, 0.11178705096244812, -0.2654222249984741, 0.1875462532043457, 0.4924994707107544, 0.5900782346725464, 0.3640482723712921, -0.016638092696666718, 0.26487115025520325, 0.016041472554206848, -0.15158899128437042, 0.12236031889915466, 0.18591159582138062, -0.23160013556480408, -0.4203108251094818, -0.3899223208427429, -0.08395382761955261, -0.8000062108039856, 0.1933688223361969, -0.09972991049289703, 0.06397484987974167, -0.01187320426106453, -0.0012830756604671478, 0.11060658097267151, -0.44163674116134644, -0.6163970828056335, -0.17449547350406647, -0.11656291782855988, 0.006844706833362579, 0.06660813093185425, -0.051510363817214966, 0.2498776614665985, -0.03492070734500885, 0.6555783152580261, 0.09385927766561508, -0.3475761115550995, -0.09192432463169098, -0.6723608374595642, -2.6295359134674072, 0.06507183611392975, -0.9961701035499573, 0.4387724995613098, -0.6547531485557556, -0.3842390775680542, -0.08735412359237671, 0.0012284591794013977, 0.028913438320159912, 0.4923698306083679, -0.3857179284095764, -0.028821349143981934, 0.3592207431793213, 0.24965322017669678, 0.5284298062324524, 0.15409637987613678, 0.3512108027935028, 0.2552673816680908, -0.6612966060638428, -0.1151702031493187, 0.591697096824646, -0.0068031251430511475, 0.05154144763946533, -0.28641170263290405, 0.343894362449646, 0.13896115124225616, 1.0205717086791992, 0.3444112539291382, -0.1922113299369812, -0.4858502745628357, -0.3556152284145355, -0.2787141799926758, -0.5610523223876953, -0.5161118507385254, -0.18503990769386292, -0.35253387689590454, 0.46472617983818054, 0.3918461799621582, -0.18328100442886353, 0.16412022709846497, -0.6471219062805176, -0.4437175989151001, -0.28256258368492126, 0.21962600946426392, -0.31617462635040283, 0.28638818860054016, 0.14759570360183716, -0.030716173350811005, -0.07770861685276031, 0.021620072424411774, 0.41883641481399536, -0.07352938503026962, -0.2696119546890259, 0.18741902709007263, -0.6357317566871643, -0.06603917479515076, -0.28953951597213745, 0.2982155382633209, -0.041375309228897095, 0.45702266693115234, -0.045135580003261566, -0.4908311367034912, -0.016911350190639496, 0.04986599087715149, 0.2041032910346985, 0.154865562915802, -0.282192587852478, -0.5558121204376221, 0.5158785581588745, -0.8255788087844849, 0.04390972852706909, 0.47995221614837646, -0.3084331452846527, -0.38039225339889526, 0.17679376900196075, 0.12346332520246506, 0.44012245535850525, 0.48743706941604614, 0.22121849656105042, -0.19654688239097595, 0.38590797781944275, -0.41401368379592896, 0.1058126911520958, 0.11986986547708511, -0.2382466197013855, 0.47405534982681274, 0.6442818641662598, -0.4618491232395172, 0.22493676841259003, 0.3849833905696869, 0.3752835988998413, 0.08238539099693298, -0.6012948751449585, -0.3098370432853699, 0.13245074450969696, -0.22360745072364807, -2.0679678916931152, -0.18129166960716248, 0.5986793041229248, 0.2987823486328125, 0.004640251398086548, 0.14788615703582764, -0.05846051871776581, -0.26317426562309265, 0.5201655626296997, -0.28928709030151367, 0.7709211707115173, -0.0325857549905777, -0.042720191180706024, -0.13123738765716553, 0.26800546050071716, -0.03576677292585373, -0.05651484429836273, 0.27097535133361816, -0.1267126053571701, 0.1931784451007843, 0.1864040195941925, -0.5496999621391296, 1.4367144107818604, 0.30641207098960876, 0.1877669394016266, -0.5763530135154724, 0.005769982933998108, -0.3078709542751312, -0.164189875125885, 0.24319744110107422, 0.071776382625103, -0.22762051224708557, 0.6855431199073792, -0.7126843333244324, 0.06655463576316833, 0.18762832880020142, -0.6003552079200745, 0.506460428237915, -0.16975902020931244, -0.2609401047229767, -0.7179228663444519, 0.3580324947834015, -0.25700825452804565, -0.40878593921661377, 0.4499768018722534, 0.12405441701412201, -0.14147312939167023, 0.3025069236755371, -0.21508732438087463, 0.3618432283401489, 0.690311074256897, -0.5476812124252319, -0.7136457562446594, -0.1411127746105194, 0.3816184997558594, 0.3521360456943512, 0.009079970419406891, 0.2944474220275879, 0.1615404337644577, 0.37921440601348877, -0.18217116594314575, 0.158198744058609, -0.2594863176345825, 0.005983367562294006, 0.42790260910987854], metadata={'file_path': '/home/daimler/workspaces/agents-course-huggingface/2.2-llamaindex/data/persona_0.txt', 'file_name': 'persona_0.txt', 'file_type': 'text/plain', 'file_size': 132, 'creation_date': '2025-03-13', 'last_modified_date': '2025-03-13'}, excluded_embed_metadata_keys=['file_name', 'file_type', 'file_size', 'creation_date', 'last_modified_date', 'last_accessed_date'], excluded_llm_metadata_keys=['file_name', 'file_type', 'file_size', 'creation_date', 'last_modified_date', 'last_accessed_date'], relationships={<NodeRelationship.SOURCE: '1'>: RelatedNodeInfo(node_id='6e72502b-92c4-4920-821a-90f7b1f560c4', node_type=<ObjectType.DOCUMENT: '4'>, metadata={'file_path': '/home/daimler/workspaces/agents-course-huggingface/2.2-llamaindex/data/persona_0.txt', 'file_name': 'persona_0.txt', 'file_type': 'text/plain', 'file_size': 132, 'creation_date': '2025-03-13', 'last_modified_date': '2025-03-13'}, hash='58941961f90b934d82fa9d9b70fda325c381f42a776edd7a7dd312150a5e6268')}, metadata_template='{key}: {value}', metadata_separator='\\n', text='A local art historian and museum professional interested in 19th-century American art and the local cultural heritage of Cincinnati.', mimetype='text/plain', start_char_idx=0, end_char_idx=132, metadata_seperator='\\n', text_template='{metadata_str}\\n\\n{content}'),\n",
       " TextNode(id_='2424bcf6-a02f-405c-b1d9-8cff6818ca1b', embedding=[0.3269353210926056, 0.8218497633934021, 0.29110175371170044, -0.41151684522628784, -0.1536417156457901, -0.5374119877815247, 0.7834348678588867, 0.28783535957336426, -0.34774330258369446, -0.5231587886810303, -0.27495095133781433, -0.95346999168396, 0.1786593198776245, 0.1891694962978363, 0.17637574672698975, 0.3043241500854492, -0.0379922017455101, 0.17275848984718323, 0.3313295543193817, -0.2752312123775482, 0.17428922653198242, -0.37117889523506165, -0.1308446079492569, 0.0632132887840271, -0.2894648015499115, 0.1232546865940094, 0.3771417438983917, -0.302401065826416, -0.15139302611351013, -0.7994171977043152, -0.31708458065986633, 0.020909219980239868, 0.10275642573833466, 0.2500101327896118, -0.058013565838336945, 0.16371852159500122, 0.18424895405769348, 0.30134493112564087, 0.11079521477222443, 0.6652227640151978, 0.09635563939809799, -0.5734184384346008, 0.06976940482854843, 0.3923220634460449, 0.3064839243888855, -0.37161412835121155, 0.08848261833190918, 0.07370296865701675, -0.5320684313774109, -0.9009642601013184, -0.6953534483909607, -0.5733404755592346, -0.10419359803199768, -0.2763827443122864, -0.2711757719516754, 0.12186047434806824, 0.947971522808075, 0.26685649156570435, 0.15436506271362305, 0.13397645950317383, 0.4240970313549042, 0.5706235766410828, -1.3391804695129395, 0.7945537567138672, -0.1291666477918625, 0.6387366652488708, -0.12344787269830704, -0.6083540916442871, -0.6041132211685181, -0.4783627986907959, -0.4938509166240692, -0.03420870006084442, 0.35278403759002686, 0.24406003952026367, 0.3139190375804901, -0.020939674228429794, 0.05516082048416138, -0.08743667602539062, -0.26427823305130005, 0.3033064603805542, 0.32191669940948486, -0.2391047477722168, -0.2982420027256012, -0.3982051610946655, 0.3306802213191986, 0.12894190847873688, 0.09387293457984924, 0.06110653281211853, -0.02796901762485504, 0.15882378816604614, -0.22680127620697021, -0.05084507167339325, 0.37482091784477234, 0.040371909737586975, 0.03549344837665558, -0.07788214087486267, -0.22974148392677307, 0.36353617906570435, -0.37470918893814087, 3.7003817558288574, 0.04589948058128357, -0.10651624202728271, 0.45779192447662354, -0.146471306681633, -0.02227691560983658, -0.17316263914108276, 0.28496792912483215, 0.019984014332294464, 0.26518505811691284, -0.20134687423706055, -0.2815941572189331, 0.5384701490402222, -0.45435643196105957, 0.22559195756912231, 0.4448201060295105, 0.020267218351364136, 0.48631858825683594, 0.412384569644928, -0.09810768067836761, -0.26432308554649353, -0.012762666679918766, -0.5264734029769897, 0.49881190061569214, -0.0594073049724102, 0.10621629655361176, 0.25802233815193176, 0.22547271847724915, 0.5482828617095947, 0.08590670675039291, 0.27292218804359436, 0.3219708800315857, -0.08168929070234299, -0.23648007214069366, 0.15144996345043182, 0.08697611093521118, 0.2321968525648117, -0.013718612492084503, -0.07674287259578705, 0.08358824253082275, -0.09668703377246857, -0.4046073257923126, 0.033580929040908813, 0.23016291856765747, 0.4532592296600342, -0.9390453100204468, 0.2923009693622589, -0.15414902567863464, 0.44010692834854126, -0.3508182466030121, 0.5778618454933167, -0.4904153048992157, 0.25479429960250854, -0.1382623314857483, -0.22844530642032623, 0.1363474279642105, -0.33360201120376587, 0.811357319355011, 0.4555075764656067, -0.5977500677108765, -0.2273099720478058, 0.11933130025863647, -0.912028431892395, -0.1607775092124939, 0.39801621437072754, 0.31082430481910706, -0.7208190560340881, -0.1380951702594757, -0.041102007031440735, 0.24813997745513916, -0.3292571008205414, 0.2676854729652405, 0.1317920684814453, -0.27363771200180054, 0.6017330288887024, 0.5660555958747864, 0.09078074991703033, 0.03417950123548508, 0.5924407839775085, -0.13716311752796173, 0.061312057077884674, -0.007979772984981537, -0.10426198691129684, -0.19687002897262573, 0.04040507972240448, -0.10150934755802155, -0.026297055184841156, -0.5285688638687134, -0.04944920167326927, 0.38650232553482056, -0.133883535861969, 0.42358800768852234, 0.6826526522636414, 0.102381631731987, -0.2845165729522705, 0.43810462951660156, 0.008599281311035156, -0.03440535068511963, -0.0013903975486755371, -0.46217983961105347, 0.1483607143163681, -0.43442612886428833, 0.744430422782898, -0.24764953553676605, 0.04489631578326225, -0.23001226782798767, -0.5629128813743591, 0.08625694364309311, 0.16723890602588654, 0.11504648625850677, -0.1124965101480484, -0.33586397767066956, -0.09859239310026169, -0.8966705799102783, 0.3571443259716034, -0.006920814514160156, -0.19826562702655792, 0.3796755373477936, -0.1471373736858368, 0.4587520658969879, -0.16316694021224976, -0.2733783423900604, -0.5575366020202637, -0.45796680450439453, -2.8320672512054443, 0.5274232625961304, -0.32902783155441284, 0.45379167795181274, -0.2857780158519745, 0.03429798781871796, 0.051640432327985764, 0.12165403366088867, 0.38319018483161926, 0.07891528308391571, -0.024820923805236816, -0.15755784511566162, 0.04312440752983093, 0.9820396304130554, 0.12703905999660492, 0.055746324360370636, 0.04517905414104462, -0.051115982234478, -0.5350986123085022, 0.06866754591464996, 0.22134611010551453, 0.04288787394762039, -0.0704265609383583, -0.8584553003311157, 0.20481982827186584, -0.22148171067237854, 0.95599365234375, 0.5198752880096436, -0.13326506316661835, -0.8824755549430847, 0.13601472973823547, 0.3949388563632965, -0.1168137937784195, -1.0623795986175537, 0.16862039268016815, -0.3902161717414856, 0.6653349995613098, -0.3158522844314575, 0.017161734402179718, -0.03434351086616516, 0.18133923411369324, -0.4194762706756592, -0.0956059917807579, 0.44132310152053833, -0.570877194404602, 0.26274701952934265, -0.004007816314697266, -0.1957709789276123, 0.18889760971069336, -0.04881494492292404, 0.11808598786592484, 0.21998822689056396, -0.20086759328842163, -0.19810815155506134, -0.945031464099884, 0.17865756154060364, -0.2522442042827606, -0.22700783610343933, -0.18153716623783112, 0.6241602897644043, 0.2938689887523651, 0.01726681739091873, 0.4868621826171875, -0.016502894461154938, 0.18166959285736084, -0.475515216588974, -0.28875577449798584, 0.22324028611183167, 0.44156625866889954, -0.24069029092788696, -0.05548582226037979, 1.2192007303237915, -0.5875923037528992, -0.1389530748128891, 0.20087924599647522, -0.13558226823806763, 0.14032626152038574, 0.12044891715049744, 0.24270030856132507, 0.39111560583114624, 0.7588884234428406, -0.786430835723877, -0.34686869382858276, -0.011672645807266235, 0.25058501958847046, 0.42837804555892944, 0.09285379201173782, -0.38000962138175964, 0.262175053358078, 0.003917969763278961, 0.1869528740644455, 0.319725900888443, -0.38744181394577026, -0.13205300271511078, -0.10521270334720612, -0.16707198321819305, -2.2434864044189453, 0.5010123252868652, -0.3603975474834442, 0.2150752991437912, 0.7283123731613159, -0.08830177783966064, -0.5156468749046326, -0.11233524978160858, 0.2545875310897827, -0.41436025500297546, 0.9454839825630188, 0.2499951422214508, 0.24542337656021118, 0.5763181447982788, 0.2941506505012512, 0.0992063581943512, 0.4413110315799713, -0.09698615223169327, 0.19303634762763977, -0.28636157512664795, -0.2004254162311554, -0.5477787256240845, 1.2289012670516968, 0.2823590636253357, -0.16299235820770264, -0.43699729442596436, 0.08015422523021698, -0.29303795099258423, -0.10896250605583191, -0.500896692276001, 0.4515221118927002, -0.038269996643066406, 0.43552684783935547, -0.14282874763011932, 0.010390952229499817, 0.13700126111507416, -0.3552682101726532, -0.1349373757839203, 0.01735319197177887, -0.11569342762231827, -0.31952542066574097, 0.050522975623607635, 0.5087929964065552, 0.0939091145992279, 0.6008484363555908, -0.21229761838912964, -0.41106483340263367, -0.5221160650253296, 0.1364288628101349, 0.12165451049804688, 0.5778589248657227, -0.47648361325263977, -0.8072825074195862, 0.3306814432144165, 0.24324098229408264, -0.338238000869751, -0.275380402803421, -0.3685702979564667, 0.5849952697753906, -0.2179153710603714, -0.16685806214809418, 0.09361512959003448, 0.010690346360206604, -0.3037468194961548, -0.1593039631843567], metadata={'file_path': '/home/daimler/workspaces/agents-course-huggingface/2.2-llamaindex/data/persona_1.txt', 'file_name': 'persona_1.txt', 'file_type': 'text/plain', 'file_size': 266, 'creation_date': '2025-03-13', 'last_modified_date': '2025-03-13'}, excluded_embed_metadata_keys=['file_name', 'file_type', 'file_size', 'creation_date', 'last_modified_date', 'last_accessed_date'], excluded_llm_metadata_keys=['file_name', 'file_type', 'file_size', 'creation_date', 'last_modified_date', 'last_accessed_date'], relationships={<NodeRelationship.SOURCE: '1'>: RelatedNodeInfo(node_id='19c80b98-6507-466f-964f-a3ffc61f3364', node_type=<ObjectType.DOCUMENT: '4'>, metadata={'file_path': '/home/daimler/workspaces/agents-course-huggingface/2.2-llamaindex/data/persona_1.txt', 'file_name': 'persona_1.txt', 'file_type': 'text/plain', 'file_size': 266, 'creation_date': '2025-03-13', 'last_modified_date': '2025-03-13'}, hash='e6c87149a97bf9e5dbdf33922a4e5023c6b72550ca0b63472bd5d25103b28e99')}, metadata_template='{key}: {value}', metadata_separator='\\n', text='An anthropologist or a cultural expert interested in the intricacies of Cypriot culture, history, and society, particularly someone who has spent considerable time researching and living in Cyprus to gain a deep understanding of its people, customs, and way of life.', mimetype='text/plain', start_char_idx=0, end_char_idx=266, metadata_seperator='\\n', text_template='{metadata_str}\\n\\n{content}'),\n",
       " TextNode(id_='d01c2711-d7cd-4917-a6ad-53c72107241d', embedding=[-0.12421666830778122, 0.0010398756712675095, -0.39697545766830444, -0.6979257464408875, -0.15016314387321472, -0.05472274869680405, 0.3023069202899933, 0.14820387959480286, -0.38293808698654175, -0.3794350326061249, 0.1179833859205246, -0.23755598068237305, 0.038526590913534164, -0.04710323363542557, 0.48723819851875305, 0.46347370743751526, 0.313541054725647, 0.9409582018852234, -0.20282036066055298, -0.21681669354438782, -0.3413757383823395, -0.1890193521976471, -0.0985037237405777, -0.049101825803518295, 0.28823181986808777, 0.04971987009048462, 0.314144104719162, -0.35820332169532776, -0.3425998091697693, -0.8711903095245361, 0.2937035858631134, 0.2229209840297699, 0.7250913381576538, 0.44292765855789185, 0.21196243166923523, 0.4734983444213867, 0.0313662588596344, 0.30983054637908936, -0.5014613270759583, -0.1446487307548523, -0.356241375207901, -0.20049746334552765, -0.20974422991275787, 0.23105546832084656, 0.1927952766418457, 0.017626263201236725, 0.2644136846065521, -0.4704492688179016, -1.1610366106033325, -1.3760634660720825, -0.12964756786823273, -0.6302507519721985, -0.10617946088314056, 0.4705421030521393, -0.419798344373703, 0.40950852632522583, 0.534761369228363, 0.23474423587322235, 0.1373208910226822, 0.2594430446624756, 0.6582293510437012, -0.18711692094802856, -1.2085932493209839, 1.1139636039733887, 0.2739071547985077, 0.4697823226451874, 0.09377290308475494, -0.46765750646591187, 0.19864073395729065, -0.22941377758979797, 0.10164915025234222, -0.10358142852783203, 0.4480542242527008, 0.07888331264257431, 0.21711911261081696, 0.5942671298980713, -0.09622680395841599, 0.0547657310962677, 0.14543835818767548, 0.2513538897037506, 0.12909887731075287, -0.44801172614097595, -0.0037721246480941772, -0.07197603583335876, 0.19772377610206604, -0.2048981487751007, -0.012908510863780975, -0.29474666714668274, 0.03840169310569763, -0.005101010203361511, 0.006204679608345032, -0.15719252824783325, 0.2859821915626526, -0.3649963438510895, 0.021494358777999878, -0.21526683866977692, -0.5954442620277405, -0.08325731754302979, -0.37790802121162415, 3.6520965099334717, 0.469804584980011, 0.3382490575313568, 0.5739997625350952, -0.10765015333890915, -0.000707380473613739, 0.08432146906852722, 0.5507575273513794, -0.24647264182567596, -0.4323802590370178, -0.5393350720405579, -0.2212820053100586, -0.28853923082351685, -0.18931666016578674, 0.017710603773593903, 0.24533811211585999, -0.23121756315231323, -0.031807661056518555, 0.1458657830953598, 0.09840498864650726, -0.23904486000537872, -0.23253591358661652, -0.1943313032388687, 0.09939443320035934, -0.3611975312232971, 0.28915321826934814, 0.29727253317832947, 0.22072917222976685, 0.8880376219749451, 0.2668023705482483, 0.031073980033397675, 0.3022521138191223, -0.32017645239830017, -0.38858193159103394, 0.0886184573173523, 0.11399643868207932, 0.20742177963256836, 0.13001742959022522, 0.3346954584121704, -0.09687653183937073, 0.3681251108646393, 0.27502402663230896, 0.21267268061637878, -0.4291689693927765, -0.36141616106033325, -0.9394515752792358, 0.5285223722457886, -0.6463911533355713, 0.3541510999202728, -0.3491537868976593, 1.1263325214385986, -0.2599531412124634, 0.4901409149169922, -0.5848493576049805, 0.3562209904193878, 0.2488165944814682, 0.19045794010162354, 0.7464541792869568, 0.1924833059310913, -0.38585418462753296, 0.1593560129404068, 0.12963393330574036, -0.5078672766685486, -0.39831066131591797, 0.557256817817688, 0.42908036708831787, -0.5854402780532837, -0.28997957706451416, 0.021913399919867516, 0.24801930785179138, -0.08507131785154343, 0.06340514868497849, -0.23223426938056946, 0.19894814491271973, 0.2728792428970337, 0.5386545658111572, 0.20773516595363617, 0.17641949653625488, 0.8161572217941284, -0.1273542046546936, -0.3806470036506653, 0.012466922402381897, -0.44034120440483093, -0.3055424094200134, -0.006713591516017914, -0.3872939348220825, 0.35918310284614563, 0.5000727772712708, -0.4538877010345459, 0.10190728306770325, 0.06547647714614868, 0.4024057984352112, 0.17604051530361176, -0.37075603008270264, -0.40864482522010803, 0.2616986930370331, -0.03457672894001007, 0.35625842213630676, -0.761597216129303, -0.2620219588279724, -0.0857205018401146, -0.3499712646007538, 0.5575623512268066, -0.3703279495239258, 0.08614365756511688, 0.04570522904396057, -0.04439103603363037, -0.08971944451332092, -0.17786672711372375, 0.29891064763069153, -0.2383553385734558, -0.2584020495414734, 0.3802039325237274, -0.4058777689933777, 0.2115357518196106, -0.10384690761566162, 0.07343554496765137, 0.2729037404060364, -0.09032586216926575, 0.3925817608833313, -0.13261562585830688, -0.36343085765838623, 0.1568470597267151, -0.4255252480506897, -2.7417092323303223, 0.2249061018228531, -0.4244512915611267, 0.15355931222438812, -0.5658597946166992, 0.45281678438186646, -0.08218929171562195, 0.2569347321987152, -0.34449243545532227, 0.6864408850669861, 0.8083148002624512, 0.34297648072242737, 0.44562628865242004, 0.7170620560646057, 0.6397663354873657, -0.055755361914634705, 0.049767594784498215, 0.12733344733715057, -0.4230978190898895, 0.30147355794906616, 0.44516730308532715, -0.09291824698448181, 0.13467185199260712, -0.21466216444969177, 0.35062822699546814, 0.3366265296936035, 0.6584360599517822, 0.5560017228126526, 0.20861196517944336, -0.3008316159248352, -0.2742568552494049, 0.30589887499809265, 0.06432980298995972, -0.6562950015068054, 0.29366302490234375, -0.8847175240516663, -0.2858653664588928, -0.34285056591033936, -0.0971543937921524, -0.23435629904270172, -0.35122621059417725, 0.1456276774406433, 0.0933494046330452, -0.42899638414382935, -0.355042427778244, -0.3839546740055084, 0.512305736541748, 0.17456361651420593, 0.08333925902843475, 0.05643831193447113, -0.1448703110218048, -0.785240888595581, -0.24451470375061035, 0.12069251388311386, -0.3974769115447998, 0.25474461913108826, -0.44460755586624146, 0.5171101093292236, -0.408415287733078, -0.07697698473930359, 0.10482744872570038, -0.4026789367198944, 0.12598557770252228, -0.23381167650222778, -0.10191771388053894, 0.3869279623031616, 0.08048734813928604, -0.027077019214630127, -0.2122599482536316, -0.6215789318084717, -0.19216188788414001, 0.7726642489433289, -0.2801274359226227, -0.19573453068733215, 0.2093529999256134, -0.2015388309955597, 0.279677152633667, 0.0814339816570282, -0.15796595811843872, -0.3892143666744232, 0.4522094428539276, -0.4374602138996124, -0.5424585938453674, 0.3959936797618866, 0.10645468533039093, -0.20067036151885986, 0.7506219744682312, -0.5045934319496155, 0.44215214252471924, 0.3344537913799286, 0.16745001077651978, 0.7226948142051697, -0.3279308080673218, -0.5185463428497314, -0.24311068654060364, -0.4513951241970062, -2.1297757625579834, -0.11826792359352112, -0.22326287627220154, 0.3546906113624573, -0.07750394940376282, 0.1647026538848877, 0.11680018901824951, -0.5142543315887451, -0.34017813205718994, -0.5150027275085449, 0.4336070120334625, 0.8049484491348267, -0.17884010076522827, 0.4295642375946045, -0.07548311352729797, 0.3216588795185089, 0.4809524118900299, -0.14285093545913696, -0.247540682554245, -0.7093364596366882, -0.1898006796836853, -0.5967170596122742, 1.2681798934936523, 0.17051982879638672, 0.07729406654834747, 0.2598639130592346, -0.03188116475939751, -0.3376595079898834, 0.24124518036842346, -0.2539966106414795, 0.2783912420272827, -0.10482911765575409, 0.6455017328262329, -0.24590817093849182, -0.10062584280967712, 0.016050167381763458, -0.04443267732858658, 0.0051451027393341064, 0.36066386103630066, 0.4838718771934509, -0.3569881319999695, 0.019485894590616226, 0.5471571087837219, -0.2874670922756195, 0.23024201393127441, -0.24737516045570374, -0.05169796198606491, -0.6575728058815002, -0.4898254871368408, 0.2025822252035141, 0.7723830342292786, 0.06245104968547821, -0.7182814478874207, -0.07789040356874466, 0.19410747289657593, 0.35896164178848267, -0.6029503345489502, 0.46124327182769775, 0.22870266437530518, -0.3838193714618683, -0.17969155311584473, 0.3121626675128937, -0.6066831350326538, 0.16440004110336304, 0.6069848537445068], metadata={'file_path': '/home/daimler/workspaces/agents-course-huggingface/2.2-llamaindex/data/persona_10.txt', 'file_name': 'persona_10.txt', 'file_type': 'text/plain', 'file_size': 207, 'creation_date': '2025-03-13', 'last_modified_date': '2025-03-13'}, excluded_embed_metadata_keys=['file_name', 'file_type', 'file_size', 'creation_date', 'last_modified_date', 'last_accessed_date'], excluded_llm_metadata_keys=['file_name', 'file_type', 'file_size', 'creation_date', 'last_modified_date', 'last_accessed_date'], relationships={<NodeRelationship.SOURCE: '1'>: RelatedNodeInfo(node_id='59a83731-ce73-4985-bb53-a36da53262a5', node_type=<ObjectType.DOCUMENT: '4'>, metadata={'file_path': '/home/daimler/workspaces/agents-course-huggingface/2.2-llamaindex/data/persona_10.txt', 'file_name': 'persona_10.txt', 'file_type': 'text/plain', 'file_size': 207, 'creation_date': '2025-03-13', 'last_modified_date': '2025-03-13'}, hash='c8050445025de1548b9071378be6494c191700224ea763f7f4f09c9eb0869b10')}, metadata_template='{key}: {value}', metadata_separator='\\n', text='A social justice educator or activist focused on diversity, equity, and inclusion, likely working with families and communities to promote empathy and understanding of intersectional identity and oppression.', mimetype='text/plain', start_char_idx=0, end_char_idx=207, metadata_seperator='\\n', text_template='{metadata_str}\\n\\n{content}'),\n",
       " TextNode(id_='a0d25bbe-85bb-428f-86b7-f7f5d8aecbd2', embedding=[0.0861784964799881, 0.2976137697696686, 0.08433584123849869, 0.15575647354125977, 0.46927228569984436, -0.405819833278656, 0.3276352286338806, 0.22194188833236694, -0.3894517719745636, -0.13250568509101868, -0.1451270878314972, -0.40096041560173035, -0.09891766309738159, 0.42448538541793823, 0.20085306465625763, 0.38430485129356384, 0.388563871383667, 0.6921202540397644, 0.27300992608070374, -0.13340897858142853, -0.11295640468597412, -0.20421379804611206, -0.19884201884269714, -0.3883773982524872, -0.10063140094280243, -0.0890783965587616, 0.45431381464004517, -0.32257840037345886, 0.004659414291381836, -1.1596477031707764, -0.28306844830513, 0.15124666690826416, -0.13451766967773438, 0.4514816403388977, 0.058759063482284546, 0.9321362972259521, 0.29582446813583374, -0.12824442982673645, -0.23179419338703156, -0.24228543043136597, -0.04336845874786377, 0.006768928840756416, -0.12440133839845657, 0.13315121829509735, 0.2412755787372589, -0.4080924987792969, 0.28902825713157654, -0.5210558176040649, -0.654201090335846, -1.4154611825942993, -0.1905703842639923, -0.22300831973552704, -0.28268226981163025, 0.27367648482322693, 0.4081575274467468, 0.1082029789686203, 0.6416805386543274, 0.38999462127685547, 0.6152815222740173, -0.09095720946788788, 0.553461492061615, 0.17491832375526428, -1.6685041189193726, 0.8409715890884399, 0.24990849196910858, 0.41096144914627075, 0.014153927564620972, -0.49514225125312805, 0.6475125551223755, -0.3414815068244934, -0.46523672342300415, -0.31350505352020264, -0.32050156593322754, 0.1660376787185669, 0.7142290472984314, -0.1245541200041771, -0.8325285315513611, 0.4914684295654297, -0.4047482907772064, -0.14786839485168457, 0.6290521025657654, -0.024584554135799408, -0.2979063391685486, -0.5027352571487427, 0.2618030607700348, -0.4012150764465332, 0.029213618487119675, -0.18146948516368866, -0.13321103155612946, 0.04977381229400635, 0.12078350782394409, -0.1315183937549591, 0.8448055386543274, -0.44676685333251953, 0.07689088582992554, 0.001290634274482727, -0.02615329623222351, 0.15077954530715942, -0.42991629242897034, 3.5167176723480225, -0.1792394071817398, 0.24347183108329773, 0.4726346433162689, -0.15343503654003143, -0.05492715537548065, 0.04427967965602875, 0.2902815043926239, 0.02436351776123047, 0.19695115089416504, 0.30250728130340576, 0.32627981901168823, -0.355622261762619, -0.02798403799533844, -0.04456455260515213, 0.5632917881011963, -0.2247481644153595, 0.02330303192138672, 0.4734262228012085, -0.15249019861221313, 0.014552049338817596, -0.04542461037635803, -0.2620730996131897, 0.27344202995300293, 0.05344811826944351, 0.429141104221344, 0.3641176223754883, 0.2536337971687317, 0.585137128829956, 0.13784697651863098, 0.018188267946243286, 0.18546879291534424, -0.38781505823135376, -0.12411046028137207, -0.03844251483678818, -0.14498181641101837, -0.15873970091342926, -0.26354125142097473, -0.21523092687129974, -0.7147608995437622, 0.17406734824180603, -0.2985234558582306, 0.3210984170436859, -0.4245067536830902, -0.5884028673171997, -1.018325924873352, 0.49824023246765137, 0.13553690910339355, -0.20339280366897583, -0.25037920475006104, 0.44194042682647705, -0.32647907733917236, 0.1916007101535797, -0.06767593324184418, -0.006329596042633057, 0.9357897043228149, 0.2489396631717682, 0.4759627878665924, 0.25948065519332886, -0.4878222346305847, 0.23373739421367645, 0.2660781443119049, -0.45792320370674133, -0.27397531270980835, 0.2115515023469925, 0.934637188911438, -0.3563639521598816, -0.1365503966808319, -0.3393596410751343, 0.2026069313287735, 0.3210691213607788, 0.012913815677165985, 0.04665219038724899, 0.0267498642206192, 0.16783802211284637, 0.2801054120063782, 0.0944938138127327, -0.24366164207458496, 0.2630063593387604, -0.3626139461994171, -0.25150763988494873, -0.2944066524505615, -0.5279645919799805, -0.16062666475772858, -0.13837581872940063, -0.017717622220516205, 0.2394597828388214, -0.36576011776924133, -0.40932515263557434, -0.20174983143806458, 0.18734212219715118, 0.18971408903598785, 0.223892942070961, 0.5622299313545227, -0.05624593794345856, 0.3064442574977875, -0.027227327227592468, 0.28772541880607605, 0.12588900327682495, -0.1037675142288208, 0.19086113572120667, -0.006444476544857025, 0.20221546292304993, -0.24574723839759827, -0.19427689909934998, -0.14619195461273193, 0.15050716698169708, 0.0018285736441612244, -0.03242681547999382, 0.31678205728530884, 0.4681762158870697, -0.6152885556221008, 0.33407461643218994, -0.6095610857009888, 0.37986108660697937, -0.1518327295780182, 0.17950119078159332, 0.548392653465271, -0.0649109035730362, 0.6514245271682739, 0.40499094128608704, 0.2285742461681366, -0.07938244193792343, -0.7366887331008911, -2.675286293029785, -0.455020010471344, -1.0883318185806274, 0.07593882083892822, -0.39029181003570557, 0.1134910136461258, -0.07882921397686005, -0.07812637835741043, -0.11524136364459991, 0.5841401815414429, -0.025615915656089783, -0.2825978100299835, 0.7204557657241821, 0.4495425522327423, 0.10930941998958588, -0.19481411576271057, 0.3731052875518799, -0.41234612464904785, -0.5335636734962463, 0.31455284357070923, 0.7396141886711121, -0.2766299247741699, -0.5730907320976257, -0.11697787791490555, 0.3071451783180237, -0.3313191533088684, 0.9054757952690125, 0.31696200370788574, 0.07870427519083023, 0.13095155358314514, -0.12363675236701965, 0.42187604308128357, -0.13039103150367737, -0.986248791217804, 0.29684633016586304, -0.5030936002731323, -0.18866440653800964, -0.6690575480461121, -0.3871254622936249, -0.3629515469074249, 0.23783820867538452, 0.5710431933403015, -0.31119829416275024, 0.036645740270614624, -0.5550107955932617, -0.13182571530342102, -0.12362246960401535, 0.1726236492395401, -0.5989143252372742, -0.07503986358642578, 0.32496634125709534, 0.4307498335838318, 0.1374366581439972, -0.4434167444705963, -0.3687887489795685, 0.6129608750343323, -0.27206456661224365, 0.1818440556526184, -0.29317939281463623, -0.21631279587745667, 0.40926989912986755, 0.04231646656990051, 0.3354374170303345, 0.2820267677307129, -0.3315466046333313, -0.4217967987060547, 0.06807850301265717, -0.1536916047334671, 0.21959199011325836, -0.6920300126075745, -0.05957813560962677, 0.31343185901641846, -0.39599764347076416, -0.1848420649766922, 0.47595250606536865, -0.4005143642425537, 0.09946596622467041, 0.3680702745914459, -0.32909971475601196, -0.26647132635116577, 0.21816390752792358, -0.3800528943538666, -0.28545424342155457, 0.024990901350975037, -0.08482745289802551, 0.39231109619140625, 0.09423638880252838, -0.3360346853733063, 0.02032776176929474, 0.4804496765136719, 0.523898184299469, 0.39178356528282166, -0.744989812374115, -0.4338493347167969, 0.699711799621582, 0.028118208050727844, -1.9346669912338257, -0.3039344847202301, -0.2045450508594513, -0.0036876052618026733, -0.23321251571178436, 0.07914596796035767, -0.032076746225357056, 0.07401168346405029, 0.06497851014137268, 0.053070779889822006, -0.03412487357854843, 0.5306394100189209, -0.15369555354118347, 0.9936333894729614, 0.1402004361152649, 0.220105841755867, -0.0002511441707611084, -0.012466982007026672, 0.06817011535167694, -0.05917850509285927, 0.12972663342952728, -0.3321710526943207, 1.5949777364730835, 0.04089394956827164, 0.09341490268707275, 0.4105786383152008, -0.2406219094991684, -0.11239081621170044, -0.04729512333869934, -0.27508485317230225, 0.4996679425239563, -0.2610689103603363, 1.179692029953003, -0.6815394163131714, -0.09831325709819794, 0.3237740695476532, -0.20019015669822693, 0.1999177634716034, 0.31767338514328003, -0.36396652460098267, 0.21061694622039795, 0.07253279536962509, 0.8463013172149658, -0.09336303174495697, 0.39476630091667175, -0.11275236308574677, 0.13191774487495422, -0.26773640513420105, -0.16353179514408112, 0.6955379247665405, 0.34474924206733704, -0.10464996844530106, -0.7530354857444763, -0.45429807901382446, 0.16762897372245789, -0.0878806859254837, -0.0965488851070404, -0.029968559741973877, -0.005692631006240845, -0.17511498928070068, -0.23004311323165894, -0.7070398926734924, -0.6736133098602295, 0.023507162928581238, 0.7487350702285767], metadata={'file_path': '/home/daimler/workspaces/agents-course-huggingface/2.2-llamaindex/data/persona_100.txt', 'file_name': 'persona_100.txt', 'file_type': 'text/plain', 'file_size': 107, 'creation_date': '2025-03-13', 'last_modified_date': '2025-03-13'}, excluded_embed_metadata_keys=['file_name', 'file_type', 'file_size', 'creation_date', 'last_modified_date', 'last_accessed_date'], excluded_llm_metadata_keys=['file_name', 'file_type', 'file_size', 'creation_date', 'last_modified_date', 'last_accessed_date'], relationships={<NodeRelationship.SOURCE: '1'>: RelatedNodeInfo(node_id='46b6c177-84f3-4adb-a6fc-57f5a29f2ead', node_type=<ObjectType.DOCUMENT: '4'>, metadata={'file_path': '/home/daimler/workspaces/agents-course-huggingface/2.2-llamaindex/data/persona_100.txt', 'file_name': 'persona_100.txt', 'file_type': 'text/plain', 'file_size': 107, 'creation_date': '2025-03-13', 'last_modified_date': '2025-03-13'}, hash='99be4c588429bba859100e9a829e19f9d589ef3a819cb830396d9a9d4241d4c0')}, metadata_template='{key}: {value}', metadata_separator='\\n', text='An environmental conservationist focused on wetland ecosystems and their role in mitigating climate change.', mimetype='text/plain', start_char_idx=0, end_char_idx=107, metadata_seperator='\\n', text_template='{metadata_str}\\n\\n{content}'),\n",
       " TextNode(id_='44c9042c-3154-45df-bc49-12958ebd4f19', embedding=[-0.09634853154420853, 0.6034746170043945, 0.08012264966964722, -0.3741757869720459, 0.13279685378074646, -0.6284446120262146, 1.169187068939209, 0.2132299840450287, -0.7543515563011169, 0.11894971132278442, -0.39947405457496643, -0.7819022536277771, -0.12330056726932526, 0.2283906191587448, 0.0952562466263771, 0.369683176279068, 0.32374078035354614, 0.3730022609233856, 0.19334957003593445, 0.46364057064056396, -0.2185562551021576, 0.4416691064834595, -0.06454309821128845, -0.28458651900291443, 0.07745346426963806, 0.4442615807056427, 0.5138042569160461, -0.5861015319824219, -0.2206970900297165, -0.5411518812179565, 0.2901099622249603, -0.07109347730875015, -0.01718991994857788, 0.37360602617263794, 0.05249880999326706, 0.39700427651405334, 0.005195625126361847, 0.53508460521698, -0.2021891474723816, 0.2206476777791977, -0.5816047191619873, -0.46800875663757324, 0.20109695196151733, 0.30247950553894043, 0.25908997654914856, -0.6482473611831665, -0.3297291100025177, -0.026147395372390747, -0.14994700253009796, -1.1105310916900635, -0.3059694170951843, -0.05559316650032997, -0.1190507709980011, 0.11917655915021896, -0.1812814474105835, -0.42726004123687744, 0.4423123300075531, 0.007624045014381409, -0.12689439952373505, -0.11651785671710968, 0.08479713648557663, 0.279798299074173, -1.2659122943878174, 0.6768794059753418, 0.30054473876953125, 0.386197566986084, 0.17243778705596924, -0.7874286770820618, 0.32388484477996826, -0.21158131957054138, 0.1525237262248993, -0.24962526559829712, -0.36061760783195496, 0.46728506684303284, 0.04931355267763138, 0.15799938142299652, -0.27485692501068115, -0.4288209080696106, 0.10959064960479736, 0.6378354430198669, -0.042840681970119476, -0.4417494237422943, -0.43592289090156555, -0.81052166223526, 0.0018178671598434448, -0.3190044164657593, 0.2402920126914978, -0.7429185509681702, -0.5167338848114014, 0.09108570218086243, 0.03923725336790085, -0.3600853979587555, -0.3103971779346466, 0.3938882052898407, -0.17375069856643677, -0.2429262101650238, 0.026902105659246445, 0.11685533821582794, -0.22861921787261963, 3.669325590133667, 0.08359044790267944, 0.006835028529167175, 0.37158483266830444, -0.20223841071128845, 0.09952199459075928, 0.032969504594802856, -0.18184421956539154, 0.19111394882202148, -0.38643842935562134, -0.06907299160957336, -0.07408998161554337, 0.5269020795822144, -0.1450800597667694, -0.22094246745109558, 0.2896353602409363, 0.45805415511131287, 0.07632683217525482, 0.6851508617401123, 0.034670643508434296, 0.15907569229602814, -0.10537909716367722, 0.04291026294231415, 0.44746899604797363, 0.27554312348365784, 0.39380401372909546, 0.15206757187843323, -0.1770363450050354, 0.7043012976646423, 0.014054007828235626, 0.4441530108451843, 0.9139052033424377, 0.3148230314254761, -0.301699161529541, 0.0015401318669319153, 0.22123953700065613, -0.10411229729652405, 0.17254427075386047, 0.2971852719783783, -0.38160520792007446, 0.5410974025726318, -0.16672390699386597, -0.10417236387729645, -0.10083991289138794, -0.23451247811317444, -1.1951547861099243, 0.3541228473186493, -0.6998488903045654, 0.5971305966377258, -0.306270569562912, 0.26167920231819153, -0.32175761461257935, -0.17446482181549072, -0.44626206159591675, -0.09922663867473602, 0.7441336512565613, -0.2191055715084076, 0.6883218288421631, 0.36885687708854675, -0.18307004868984222, -0.028838597238063812, 0.12540310621261597, -0.5561681985855103, 0.08630983531475067, 0.17731785774230957, 0.36014994978904724, -0.6124053001403809, -0.3996776044368744, -0.023650243878364563, 0.30068156123161316, -0.06770281493663788, -0.005013022571802139, 0.03527924418449402, -0.19818247854709625, 0.003470197319984436, 0.39666613936424255, 0.4875282049179077, 0.22599279880523682, 0.3301185369491577, -0.28501445055007935, -0.2901962101459503, 0.06103266775608063, 0.0870368480682373, 0.5264973044395447, -0.3597806692123413, 0.00554385781288147, 0.35849833488464355, -0.10184069722890854, -0.15188950300216675, 0.37256306409835815, -0.07033935189247131, 0.3045061528682709, 0.3273268938064575, -0.2936420738697052, -0.3258613348007202, 0.46689802408218384, -0.3463321328163147, -0.3383885622024536, 0.06672625243663788, -0.15311792492866516, 0.04763725399971008, 0.11304016411304474, 0.37666887044906616, -0.30415821075439453, 0.258129358291626, -0.35218799114227295, 0.021314658224582672, 0.20306235551834106, 0.2390170693397522, 0.39336541295051575, -0.30984175205230713, -0.0017495378851890564, -0.08034805953502655, -0.45061391592025757, 0.07903066277503967, -0.624130129814148, 0.2189653217792511, 0.09710218757390976, 0.019718501716852188, 0.18357841670513153, -0.07256391644477844, -0.035884976387023926, 0.6478428244590759, -0.1168203353881836, -2.7612409591674805, 0.15183871984481812, -0.5006176233291626, -0.023827090859413147, -0.37917447090148926, 0.35297179222106934, 0.28952983021736145, 0.5461214780807495, -0.10967980325222015, -0.05645056068897247, 0.4056794047355652, -0.18907462060451508, 0.19998964667320251, 0.32131069898605347, 0.28937339782714844, 0.31311851739883423, 0.5415105819702148, -0.48584747314453125, -0.36831873655319214, -0.13599435985088348, 0.9212231636047363, -0.22209256887435913, -0.22527308762073517, -0.23673345148563385, -0.1601698100566864, -0.15480661392211914, 1.0706748962402344, 0.28684720396995544, 0.2839023470878601, 0.1194501519203186, 0.04171856865286827, -0.4068278968334198, -0.14704221487045288, -0.7702086567878723, 0.05967982858419418, -0.7448573708534241, -0.274566113948822, -0.5065608024597168, -0.3641156554222107, -0.3594360947608948, -0.4978512227535248, 0.047440305352211, -0.5213195085525513, 0.19904395937919617, -0.7300230264663696, 0.1620117425918579, -0.0184314027428627, 0.35299941897392273, -0.6925590634346008, 0.02940792590379715, 0.28953060507774353, 0.13848480582237244, -0.3764302432537079, -0.2643479108810425, -0.10988491773605347, 0.21033382415771484, -0.3800840675830841, -0.0060167014598846436, -0.7257257103919983, 0.4275422692298889, -0.10995538532733917, -0.4750277101993561, -0.07226839661598206, 0.15671682357788086, -0.5925569534301758, -0.3238368630409241, 0.07642234861850739, 0.1593128889799118, 0.47466403245925903, -0.7645186185836792, -0.48287469148635864, 0.6925035119056702, -0.6094531416893005, 0.14904609322547913, 0.05824616551399231, 0.07912267744541168, 0.5028397440910339, -0.05133482441306114, -0.19434085488319397, -0.2345312535762787, 0.3755219876766205, -0.492169588804245, -0.045226410031318665, 0.27251505851745605, -0.04946262389421463, -0.20751844346523285, 0.23007488250732422, -0.20886380970478058, -0.07160575687885284, 0.4983873963356018, -0.051302675157785416, 0.05160347744822502, -0.3153611421585083, -0.7285230159759521, 0.0080074742436409, -0.08832486718893051, -2.0643770694732666, 0.07933641225099564, -0.10335993766784668, 0.43172487616539, -0.06987472623586655, 0.13024134933948517, -0.7094447016716003, -0.2629089653491974, 0.27698761224746704, -0.6153002977371216, 0.8512263298034668, 0.1799231469631195, 0.04454750195145607, 0.3789962828159332, 0.05202655866742134, 0.08531763404607773, 0.34966444969177246, -0.19185999035835266, 0.6143134236335754, 0.2620104253292084, 0.5147626996040344, -0.41501662135124207, 1.6463148593902588, 0.25910285115242004, 0.2365361601114273, 0.05007653683423996, -0.2751675844192505, -0.005483299493789673, 0.09398619830608368, 0.14563369750976562, 1.219154715538025, -0.531737208366394, 0.8659524917602539, -0.27712011337280273, -0.004416845738887787, 0.3355613350868225, -0.4243551194667816, 0.6128915548324585, 0.271824449300766, 0.23686286807060242, -0.5433522462844849, -0.4471502900123596, 0.3407706916332245, -0.2802499532699585, 0.8993478417396545, 0.19277644157409668, -0.3558255434036255, -0.4708205461502075, -0.023463182151317596, 0.4675348401069641, 0.5036012530326843, -0.0416395403444767, -0.21386663615703583, 0.21978440880775452, 0.12055680900812149, 0.022017844021320343, 0.05777822434902191, -0.06634502112865448, 0.22794196009635925, -0.576266884803772, -0.1794566959142685, -0.14185799658298492, -0.07115825265645981, 0.5778588056564331, 0.6663216352462769], metadata={'file_path': '/home/daimler/workspaces/agents-course-huggingface/2.2-llamaindex/data/persona_1000.txt', 'file_name': 'persona_1000.txt', 'file_type': 'text/plain', 'file_size': 133, 'creation_date': '2025-03-13', 'last_modified_date': '2025-03-13'}, excluded_embed_metadata_keys=['file_name', 'file_type', 'file_size', 'creation_date', 'last_modified_date', 'last_accessed_date'], excluded_llm_metadata_keys=['file_name', 'file_type', 'file_size', 'creation_date', 'last_modified_date', 'last_accessed_date'], relationships={<NodeRelationship.SOURCE: '1'>: RelatedNodeInfo(node_id='4fb27c1b-2bdf-415a-a536-30740dd71eb2', node_type=<ObjectType.DOCUMENT: '4'>, metadata={'file_path': '/home/daimler/workspaces/agents-course-huggingface/2.2-llamaindex/data/persona_1000.txt', 'file_name': 'persona_1000.txt', 'file_type': 'text/plain', 'file_size': 133, 'creation_date': '2025-03-13', 'last_modified_date': '2025-03-13'}, hash='940328df63c63a041a34bad49761a1cd3dfda12ff39ac4c8918899146e411242')}, metadata_template='{key}: {value}', metadata_separator='\\n', text='A pulmonologist or respiratory specialist with a strong interest in educating patients about the respiratory system and its diseases.', mimetype='text/plain', start_char_idx=0, end_char_idx=133, metadata_seperator='\\n', text_template='{metadata_str}\\n\\n{content}'),\n",
       " TextNode(id_='938d162d-5511-459e-a033-af9b087a5e5a', embedding=[-0.49013128876686096, 0.006299056112766266, -0.000781230628490448, -0.5708610415458679, -0.004635155200958252, -0.3170270025730133, 0.42980265617370605, 0.3421958088874817, -0.1924218237400055, -0.646013617515564, 0.41374921798706055, -0.2556897699832916, 0.2685706317424774, -0.02006915956735611, 0.21695823967456818, 0.622026264667511, -0.19749125838279724, 0.07863879203796387, 0.22349649667739868, 0.0005668997764587402, -0.018661484122276306, -0.27764683961868286, 0.2869678735733032, -0.779586136341095, 0.1329551637172699, 0.19524213671684265, 0.27398407459259033, -0.4401547908782959, 0.26234158873558044, -0.603905200958252, 0.09706281870603561, -0.0572674386203289, 0.2649301588535309, 0.4879780411720276, 0.16521012783050537, 0.46286720037460327, 0.06202326714992523, 0.3741365373134613, -0.04018053039908409, -0.06485289335250854, -0.4700777530670166, -0.3448846936225891, -0.2632904648780823, 0.5180994868278503, 0.2519775629043579, -0.13003772497177124, 0.18274444341659546, -0.3915814459323883, -0.683883786201477, -1.0324499607086182, -0.7266562581062317, -0.5423641204833984, 0.06478772312402725, -0.0061156898736953735, -0.03951644152402878, 0.0715896263718605, 0.22283098101615906, 0.2384757250547409, -0.07230210304260254, 0.24807827174663544, 0.24770107865333557, -0.029131554067134857, -0.7549415230751038, 0.6483011245727539, 0.3518918752670288, 0.6853284239768982, -0.3502608835697174, -0.5072351694107056, -0.22612106800079346, -0.1671391725540161, -0.17950290441513062, -0.22562581300735474, -0.54007887840271, 0.31564274430274963, 0.19926811754703522, -0.03960674628615379, -0.1305299997329712, 0.05546163022518158, 0.10523232817649841, 0.36591339111328125, -0.21492904424667358, -0.41798681020736694, -0.16416539251804352, -0.25951409339904785, -0.025116220116615295, 0.16312739253044128, 0.42079973220825195, -0.21472743153572083, -0.1005798876285553, -0.11637555062770844, -0.4167845547199249, -0.5898112058639526, 0.05736599862575531, -0.17679549753665924, -0.12701547145843506, -0.2841963469982147, -0.08154650032520294, 0.3114699721336365, -0.12279630452394485, 4.116146087646484, -0.1957915723323822, 0.07992198318243027, 0.5691661834716797, -0.2670246362686157, 0.2620387673377991, 0.18832367658615112, 0.9528592824935913, 0.4869239926338196, -0.09558568894863129, -0.15093082189559937, -0.2273963987827301, -0.003751002252101898, -0.24405315518379211, -0.4498829245567322, 0.4282675087451935, -0.36821499466896057, -0.5882123112678528, 0.44302234053611755, 0.28828999400138855, 0.2512463927268982, 0.31738489866256714, 0.05028589814901352, 0.420183390378952, -0.12861177325248718, -0.12444660067558289, 0.39504003524780273, 0.023506060242652893, 0.4789518713951111, -0.06350697576999664, 0.3660268783569336, -0.0702836662530899, 0.28478655219078064, -0.5498051643371582, 0.22372642159461975, -0.0007931170985102654, 0.09646160900592804, 0.049724798649549484, 0.2719763219356537, -0.5904557108879089, 0.30444827675819397, -0.43749064207077026, 0.5444802045822144, 0.16223858296871185, 0.15610361099243164, -0.712875247001648, 0.42236173152923584, -0.25756627321243286, 0.7462494373321533, -0.3376116156578064, 0.531093180179596, -0.5846788287162781, 0.2975008487701416, -0.26148056983947754, 0.015956807881593704, 0.0418439544737339, 0.0038117021322250366, 0.7171310186386108, -0.02299363911151886, -0.40112045407295227, 0.028747715055942535, 0.282892644405365, -0.3910190165042877, -0.2917746305465698, 0.33207184076309204, 0.24978700280189514, -0.7840545177459717, -0.5633596181869507, 0.07100006937980652, 0.3416999280452728, -0.016919709742069244, 0.15213847160339355, 0.1695079803466797, -0.21483361721038818, 0.3138680160045624, 0.21500834822654724, 0.04067709669470787, -0.22789399325847626, 0.8763863444328308, -0.1875549852848053, -0.2145116925239563, 0.39571014046669006, -0.26278698444366455, -0.18683256208896637, 0.0646488219499588, -0.7292904853820801, 0.37158772349357605, 0.02003331109881401, -0.1484098881483078, 0.3772178888320923, -0.22740724682807922, 0.18685181438922882, 0.31122592091560364, -0.2818102240562439, -0.31931373476982117, 0.15482717752456665, 0.1830916702747345, 0.2764149308204651, -0.17492085695266724, -0.17680415511131287, -0.6050972938537598, 0.46578550338745117, 0.493457555770874, -0.22664888203144073, 0.25267016887664795, -0.1548652946949005, 0.13721352815628052, 0.5150526762008667, -0.1304476410150528, 0.22406195104122162, -0.26203539967536926, -0.8622451424598694, -0.12892895936965942, 0.020976349711418152, 0.03046291321516037, -0.028928399085998535, 0.052162714302539825, 0.23272371292114258, 0.405985027551651, 0.28887486457824707, 0.4016776978969574, -0.12241716682910919, -0.006086885929107666, -0.15170204639434814, -2.7257823944091797, 0.09003521502017975, -0.544937789440155, 0.005484104156494141, -0.8240631818771362, 0.2649663984775543, 0.11047095060348511, 0.20703333616256714, 0.12095475941896439, 0.17660509049892426, 0.6920266151428223, -0.27678632736206055, 0.36233627796173096, 0.2541499435901642, -0.06263735890388489, -0.2551838159561157, 0.4386790096759796, -0.41042396426200867, -0.728111207485199, -0.3035200834274292, 0.3395116627216339, -0.28072720766067505, -0.3003418743610382, -0.3682231903076172, 0.28188103437423706, -0.017503447830677032, 1.113810658454895, 0.5647623538970947, 0.4007512927055359, -0.5789922475814819, 0.280958354473114, 0.45328423380851746, -0.05490929260849953, -0.7704533934593201, 0.124285988509655, -0.8068339824676514, 0.20636658370494843, -0.7648090124130249, -0.03518569841980934, -0.28451812267303467, 0.06155814230442047, -0.08083654940128326, 0.14356984198093414, -0.3212103843688965, -0.4963098466396332, -0.19635234773159027, -0.006966039538383484, -0.27495214343070984, -0.09607056528329849, -0.007945157587528229, 0.15972912311553955, 0.06015212833881378, 0.08537054061889648, 0.16792862117290497, -0.46292880177497864, 0.15238945186138153, -0.4299379289150238, 0.2421848326921463, -0.1431787610054016, 0.2739626467227936, 0.019117683172225952, -0.8715526461601257, 0.22855634987354279, -0.011290401220321655, -0.40888816118240356, 0.1614171266555786, 0.06757970154285431, -0.4171396791934967, 0.5632463693618774, -0.8499115109443665, -0.19138385355472565, 0.9942278861999512, 0.014662109315395355, 0.09207914769649506, 0.09343032538890839, -0.6288456320762634, 0.18215881288051605, -0.006527390331029892, 0.27161121368408203, -0.18485485017299652, 0.05915691703557968, -0.3097221851348877, 0.24835510551929474, 0.1452951431274414, 0.24566330015659332, -0.4922705292701721, 0.5869619846343994, -0.5319859981536865, 0.2588242292404175, 0.22305497527122498, -0.012428777292370796, 0.549155592918396, -0.5661719441413879, -0.7493792772293091, -0.0864066332578659, -0.26876166462898254, -2.44743275642395, -0.2577262222766876, 0.0986354649066925, 0.6287199258804321, 0.3877483010292053, 0.1583610475063324, 0.1265781670808792, -0.00409436970949173, -0.30739206075668335, 0.14400941133499146, 0.19241780042648315, 0.27345430850982666, 0.24959102272987366, -0.10659521073102951, 0.5782192349433899, 0.1648615002632141, 0.2955021262168884, -0.23851783573627472, 0.15227031707763672, 0.06809884309768677, 0.10671200603246689, -0.3770027458667755, 1.874657154083252, 0.06422804296016693, 0.3398115932941437, 0.18642151355743408, -0.11219432204961777, -0.17637281119823456, 0.590185284614563, 0.18519721925258636, 0.2624025344848633, 0.14595270156860352, 1.0301473140716553, -0.13061605393886566, -0.35706597566604614, 0.23549598455429077, -0.3638805150985718, 0.1316063404083252, 0.1969628632068634, -0.015694977715611458, -0.3122383952140808, -0.5514981150627136, 0.17868822813034058, -0.0445060133934021, 0.6708651185035706, 0.15528640151023865, -0.08104342222213745, -0.3149418830871582, -0.4188251197338104, -0.08704890310764313, 0.3828589916229248, -0.4484226107597351, -0.6531723737716675, 0.11943729221820831, 0.22449710965156555, 0.01700250431895256, -0.03130475431680679, -0.01839803159236908, 0.12935371696949005, -0.29419493675231934, -0.3517416715621948, 0.5967654585838318, 0.35113611817359924, 0.22058269381523132, 0.6233190894126892], metadata={'file_path': '/home/daimler/workspaces/agents-course-huggingface/2.2-llamaindex/data/persona_1001.txt', 'file_name': 'persona_1001.txt', 'file_type': 'text/plain', 'file_size': 157, 'creation_date': '2025-03-13', 'last_modified_date': '2025-03-13'}, excluded_embed_metadata_keys=['file_name', 'file_type', 'file_size', 'creation_date', 'last_modified_date', 'last_accessed_date'], excluded_llm_metadata_keys=['file_name', 'file_type', 'file_size', 'creation_date', 'last_modified_date', 'last_accessed_date'], relationships={<NodeRelationship.SOURCE: '1'>: RelatedNodeInfo(node_id='26968923-a5f3-4d07-bd34-ce959e1425e4', node_type=<ObjectType.DOCUMENT: '4'>, metadata={'file_path': '/home/daimler/workspaces/agents-course-huggingface/2.2-llamaindex/data/persona_1001.txt', 'file_name': 'persona_1001.txt', 'file_type': 'text/plain', 'file_size': 157, 'creation_date': '2025-03-13', 'last_modified_date': '2025-03-13'}, hash='95ea9bb7700f8b67bf3d4d1f7fb9fd4b8bb3641e76cef3ec47efb0c36f6a95fb')}, metadata_template='{key}: {value}', metadata_separator='\\n', text='A web developer or a web development student, likely in the early stages of their learning or career, with a strong focus on HTML, CSS, and website building.', mimetype='text/plain', start_char_idx=0, end_char_idx=157, metadata_seperator='\\n', text_template='{metadata_str}\\n\\n{content}'),\n",
       " TextNode(id_='58346477-8b46-4a9d-8cfd-53ae2c06398f', embedding=[0.02184499055147171, -0.02761564776301384, 0.44721269607543945, 0.11595237255096436, 0.82574462890625, -0.6390460729598999, 0.5972952842712402, 0.18743892014026642, -0.5927152633666992, -0.18141163885593414, -0.024837546050548553, -0.7270838618278503, -0.03447228670120239, 0.07855134457349777, 0.2648480236530304, 0.1394032984972, 0.22943530976772308, 0.5773293375968933, 0.6050130128860474, -0.45535773038864136, -0.41155174374580383, 0.20054501295089722, 0.007575526833534241, -0.35043591260910034, -0.013714291155338287, 0.19802193343639374, 0.11602453887462616, -0.22055071592330933, -0.46495112776756287, -0.8591411113739014, -0.04586375132203102, 0.3126114010810852, 0.07543528825044632, 0.2179114818572998, 0.1349954754114151, 0.6819310784339905, -0.07470603287220001, 0.14825977385044098, -0.03523756563663483, -0.0063438937067985535, -0.15451568365097046, 0.005576271563768387, 0.013835716992616653, 0.13467302918434143, -0.21570907533168793, -0.514170229434967, 0.5175751447677612, -0.1041916012763977, -0.9335598945617676, -1.0781463384628296, -0.14838843047618866, -0.6587656736373901, -0.4779508709907532, 0.09072257578372955, -0.13225184381008148, 0.13873893022537231, 0.7582013607025146, 0.35779595375061035, 0.31022965908050537, 0.07026398926973343, 0.25369793176651, -0.14034916460514069, -1.5688680410385132, 0.49824923276901245, 0.47330015897750854, 0.2698799669742584, -0.3655100166797638, -0.7604590654373169, 0.5333741307258606, -0.043092161417007446, -0.3622960150241852, -0.18392342329025269, -0.3936261534690857, -0.021042026579380035, 0.555928647518158, 0.11740979552268982, -0.6594449877738953, 0.2765294909477234, -0.17749781906604767, -0.03744939714670181, 0.38353049755096436, -0.2966870069503784, -0.6914408802986145, -0.8589636087417603, 0.3149476945400238, -0.34192365407943726, 0.0021435022354125977, -0.16100893914699554, -0.11861473321914673, -0.08410535752773285, 0.3315975069999695, -0.4553152620792389, 0.26462656259536743, -0.5847088098526001, 0.04972901940345764, -0.04860549420118332, 0.2867569923400879, -0.1329062283039093, 0.015313223004341125, 3.5959222316741943, 0.04401083290576935, 0.3077927827835083, 0.11460055410861969, 0.2250865399837494, -0.24479925632476807, 0.12987090647220612, -0.05557755380868912, -0.14163920283317566, -0.08937372267246246, 0.24895913898944855, 0.11118819564580917, -0.01686697080731392, -0.20366564393043518, 0.4585891366004944, 0.49448245763778687, -0.4217122793197632, -0.08110515773296356, 0.5320857167243958, 0.14288413524627686, 0.17504949867725372, -0.26711851358413696, 0.5277506709098816, 0.3288615345954895, 0.06502273678779602, 0.3821491003036499, 0.41350287199020386, 0.37016841769218445, 0.6721765995025635, 0.047967806458473206, 0.11159393191337585, 0.5055177807807922, 0.14827825129032135, -0.4359912574291229, 0.1424456536769867, 0.060207780450582504, 0.018565408885478973, 0.263956755399704, -0.10438425838947296, -0.4855470657348633, 0.7943332195281982, -0.005898579955101013, 0.20017287135124207, -0.36649391055107117, -0.6094481945037842, -0.5232628583908081, 0.6842165589332581, 0.06813511252403259, 0.4272749125957489, -0.5930665135383606, 0.3992447257041931, -0.5912092924118042, 0.11789458990097046, -0.09853927791118622, 0.1173277348279953, 0.8399151563644409, 0.1731732189655304, 0.6477234959602356, 0.021431177854537964, -0.3424221873283386, -0.05911242961883545, 0.40549978613853455, -0.059118032455444336, 0.30415773391723633, 0.42263537645339966, 0.7125517725944519, -0.36468079686164856, -0.1335633099079132, -0.10799583792686462, 0.09249064326286316, 0.15101809799671173, 0.10911824554204941, 0.4105772078037262, 0.14509448409080505, 0.11174391210079193, 0.3541497588157654, 0.004687700420618057, 0.02529481053352356, 0.6387127041816711, -0.3853689134120941, -0.7565174698829651, 0.20909419655799866, 0.2136039137840271, 0.11791679263114929, -0.07202552258968353, -0.14768129587173462, 0.28585660457611084, -0.4378180503845215, -0.045661699026823044, -0.32469111680984497, -0.2063753306865692, 0.1948467493057251, 0.46883031725883484, 0.6446330547332764, 0.022613324224948883, 0.18024912476539612, -0.40750405192375183, 0.07481524348258972, -0.12603075802326202, -0.13276590406894684, -0.10363709181547165, 0.18036237359046936, 0.30727213621139526, -0.2064153105020523, -0.1956508755683899, -0.39823660254478455, -0.1275535225868225, -0.007499437779188156, -0.2274359166622162, 0.1517976075410843, 0.05055331066250801, -0.3351576030254364, 0.14510144293308258, -0.221561998128891, 0.35552912950515747, -0.5897905230522156, 0.33541762828826904, 0.2401280552148819, 0.20053070783615112, 0.5367580652236938, 0.31909269094467163, 0.3193318843841553, -0.10589467734098434, -0.25327813625335693, -2.7382800579071045, -0.312701553106308, -0.877659797668457, 0.15347392857074738, -0.5269695520401001, 0.3577720820903778, -0.1046227216720581, -0.025982581079006195, 0.16012319922447205, 0.4379597306251526, -0.029794856905937195, 0.03637949377298355, 0.6276428699493408, 0.2647884488105774, 0.5312544107437134, -0.3431999683380127, 0.4998912513256073, -0.2434748411178589, -0.9946628212928772, 0.10940393805503845, 0.5365135669708252, 0.26711201667785645, -0.4840483069419861, -0.33312565088272095, 0.22474955022335052, -0.2278272807598114, 0.8770575523376465, 0.14555399119853973, 0.07630657404661179, -0.5282871723175049, -0.5273030400276184, 0.047266945242881775, 0.13217246532440186, -0.6746141910552979, 0.03356897830963135, -0.7162871360778809, -0.23362845182418823, -0.5111727714538574, -0.24199430644512177, -0.338805228471756, 0.45659250020980835, 0.23359030485153198, -0.24745382368564606, 0.18421277403831482, -0.2734619379043579, 0.13726219534873962, 0.09198790788650513, 0.18814890086650848, -0.6217314004898071, -0.3085789680480957, -0.033239468932151794, 0.410512775182724, -0.14434069395065308, 0.13051913678646088, -0.04935817793011665, 0.2727518379688263, -0.29413294792175293, 0.1174967959523201, -0.4522237479686737, -0.13435964286327362, 0.3842170834541321, -0.4171692430973053, -0.007743366062641144, 0.3009262979030609, -0.1885339617729187, 0.08129559457302094, 0.1630193591117859, -0.5109368562698364, 0.2665359675884247, -1.0525553226470947, -0.10563412308692932, 0.547481894493103, -0.30500176548957825, -0.2805699110031128, -0.10996353626251221, -0.22458499670028687, 0.26765137910842896, 0.0978478342294693, -0.42003557085990906, -0.3131575584411621, 0.6281328797340393, -0.5280102491378784, -0.026940934360027313, 0.43115609884262085, 0.0014638006687164307, 0.044775210320949554, -0.06575271487236023, -0.4138091504573822, 0.41285061836242676, 0.47672146558761597, 0.4214475452899933, 0.06758978962898254, -0.5390236973762512, -0.6693916320800781, 0.4568900763988495, 0.08493184298276901, -1.889651894569397, 0.007146395742893219, -0.1354617476463318, -0.237514466047287, -0.04757077246904373, -0.03663662075996399, -0.445104718208313, -0.38695839047431946, 0.1775311827659607, -0.2436448633670807, 0.1189727932214737, 0.3398236036300659, -0.04981255531311035, 0.6823439002037048, 0.2137490212917328, 0.3927079141139984, 0.20579184591770172, -0.033866241574287415, 0.13439102470874786, -0.06507682055234909, 0.3481111228466034, -0.09319634735584259, 1.7067314386367798, 0.2428491711616516, 0.11690893769264221, 0.3890416920185089, -0.13173234462738037, -0.4567958116531372, 0.20860761404037476, -0.016573913395404816, 0.8412447571754456, 0.11096078902482986, 1.0763676166534424, -0.7410264015197754, 0.04354178160429001, 0.38881900906562805, -0.05955468863248825, 0.03543320298194885, 0.26016438007354736, -0.04891357198357582, -0.305361270904541, -0.1494283825159073, 0.44239526987075806, -0.14047455787658691, 0.5017336010932922, -0.20281940698623657, -0.17988666892051697, -0.7935502529144287, -0.5387143492698669, 0.7845703959465027, 0.23504698276519775, 0.1624411791563034, -0.808300793170929, -0.07699859887361526, 0.07128255814313889, -0.2981596887111664, 0.08646030724048615, 0.028227418661117554, -0.22985082864761353, -0.30168426036834717, 0.1741059124469757, -0.26584291458129883, -1.002823829650879, 0.12481564283370972, 0.5227621793746948], metadata={'file_path': '/home/daimler/workspaces/agents-course-huggingface/2.2-llamaindex/data/persona_1002.txt', 'file_name': 'persona_1002.txt', 'file_type': 'text/plain', 'file_size': 122, 'creation_date': '2025-03-13', 'last_modified_date': '2025-03-13'}, excluded_embed_metadata_keys=['file_name', 'file_type', 'file_size', 'creation_date', 'last_modified_date', 'last_accessed_date'], excluded_llm_metadata_keys=['file_name', 'file_type', 'file_size', 'creation_date', 'last_modified_date', 'last_accessed_date'], relationships={<NodeRelationship.SOURCE: '1'>: RelatedNodeInfo(node_id='0888f29f-3615-49a1-b1aa-89a8c614a42b', node_type=<ObjectType.DOCUMENT: '4'>, metadata={'file_path': '/home/daimler/workspaces/agents-course-huggingface/2.2-llamaindex/data/persona_1002.txt', 'file_name': 'persona_1002.txt', 'file_type': 'text/plain', 'file_size': 122, 'creation_date': '2025-03-13', 'last_modified_date': '2025-03-13'}, hash='15d16222c8939184307ccef689fc9f553b352062a5b0719a64e482bace2c9f71')}, metadata_template='{key}: {value}', metadata_separator='\\n', text='An ecologist specializing in climate change impacts on regional ecosystems, particularly those with diverse plant species.', mimetype='text/plain', start_char_idx=0, end_char_idx=122, metadata_seperator='\\n', text_template='{metadata_str}\\n\\n{content}'),\n",
       " TextNode(id_='1c2175a4-e31c-41fb-89bd-5ea83ec7e291', embedding=[-0.19034619629383087, 0.42083457112312317, 0.4201931059360504, -0.2769801616668701, -0.052193716168403625, -0.4455939531326294, 0.846114993095398, 0.4404129981994629, -0.3417602479457855, -0.6293529868125916, 0.14868158102035522, -0.2214595228433609, -0.07302206754684448, 0.015755001455545425, 0.5122553110122681, 0.3045346438884735, 0.14116215705871582, 0.39162150025367737, 0.2253669798374176, -0.07094918191432953, 0.6073763370513916, 0.23612359166145325, 0.2594129741191864, -0.34051474928855896, 0.11509118974208832, -0.019522368907928467, 0.4014604985713959, -0.7078061103820801, -0.006371408700942993, -0.6948337554931641, 0.15262039005756378, 0.049056753516197205, 0.29977041482925415, 0.4498826861381531, -0.009254302829504013, 0.44671255350112915, -0.08654837310314178, 0.2555159330368042, -0.09299392253160477, -0.5273801684379578, -0.36913493275642395, -0.6578853726387024, -0.40901175141334534, 0.18356484174728394, -0.22272920608520508, -0.2786886692047119, -0.29093557596206665, -0.42685115337371826, -0.5741819143295288, -1.2308990955352783, -0.3060681223869324, -0.46224066615104675, 0.33939021825790405, 0.22764797508716583, -0.21286439895629883, 0.3159184455871582, -0.006825752556324005, 0.21690014004707336, 0.20267152786254883, -0.02348610758781433, 0.0969986841082573, 0.24822808802127838, -1.2789703607559204, 0.7690934538841248, 0.2588403820991516, 0.6456193923950195, -0.051449935883283615, -0.6828484535217285, 0.4056837856769562, -0.4600616693496704, 0.09924706816673279, -0.29387274384498596, -0.28705155849456787, 0.4785955846309662, 0.4220556616783142, 0.22060582041740417, -0.1652652621269226, -0.2672969698905945, 0.1005702018737793, 0.2993769645690918, 0.04231908917427063, -0.7936199307441711, -0.17508310079574585, -0.6738656759262085, 0.35639435052871704, -0.24757428467273712, 0.30785006284713745, -0.4057227373123169, 0.02970745414495468, -0.3055984377861023, -0.07109399884939194, -0.21929441392421722, 0.17644496262073517, -0.17396239936351776, 0.09233485162258148, -0.5188213586807251, -0.32240360975265503, -0.30294570326805115, -0.5099567770957947, 3.5798354148864746, 0.3072960674762726, 0.3074120581150055, 0.5840611457824707, -0.10037853568792343, -0.03987138718366623, 0.45354270935058594, 0.31863123178482056, -0.02669595181941986, -0.36619699001312256, -0.2977786958217621, -0.21946761012077332, 0.14917540550231934, -0.26759985089302063, -0.08718569576740265, 0.06428803503513336, 0.10811831057071686, -0.3337690532207489, -0.028091929852962494, 0.5755767226219177, 0.08933471143245697, -0.2106703817844391, 0.09857720136642456, 0.1909637600183487, -0.13784673810005188, 0.1400100290775299, 0.15600216388702393, 0.12916727364063263, 0.5715613961219788, -0.09127210080623627, 0.4746516942977905, 0.5123459100723267, -0.36291274428367615, -0.4208228290081024, 0.14264163374900818, 0.03125595301389694, 0.2159738391637802, 0.22806601226329803, 0.01781841740012169, -0.27227649092674255, 0.6483389139175415, -0.4004822373390198, 0.13649111986160278, -0.40348556637763977, -0.11353348195552826, -0.462688148021698, 0.3298487067222595, -0.8577306270599365, 0.5420546531677246, -0.252023845911026, 0.9499770402908325, -0.22657273709774017, 0.2524961829185486, -0.35243862867355347, 0.27883633971214294, 0.5449309349060059, -0.1306920200586319, 1.1204079389572144, 0.13755933940410614, -0.5751690864562988, -0.08617521822452545, 0.24343761801719666, -0.4853658080101013, -0.2824980616569519, 0.32123392820358276, 0.5606538653373718, -0.4099113345146179, -0.5825729370117188, 0.4283886253833771, -0.002332475036382675, -0.34707435965538025, 0.15028595924377441, 0.3415648937225342, 0.2027929723262787, 0.439543217420578, 0.18080855906009674, 0.14736059308052063, 0.028918683528900146, 0.5860585570335388, -0.5019932985305786, -0.1602649837732315, 0.1373821347951889, -0.8451972007751465, -0.19290441274642944, -0.029170289635658264, -0.5959517955780029, 0.6348916888237, 0.5982891321182251, -0.42278116941452026, 0.3268236517906189, 0.27779239416122437, 0.2737027704715729, 0.17013119161128998, -0.5132546424865723, -0.314409077167511, 0.47636890411376953, 0.20830833911895752, 0.0821789801120758, -0.4424154460430145, -0.1877436637878418, -0.15256303548812866, 0.07663675397634506, 0.4682183265686035, -0.3238946795463562, 0.18731649219989777, -0.2587861120700836, 0.2207353264093399, 0.13624945282936096, -0.08920028805732727, 0.2435685694217682, -0.17472730576992035, -0.497812420129776, -0.048707373440265656, -0.09788087010383606, -0.2299848049879074, -0.3948436975479126, 0.24054792523384094, 0.021829532459378242, 0.7114318013191223, 0.13032150268554688, 0.0012654364109039307, 0.07822177559137344, 0.367881715297699, -0.0016050860285758972, -2.621814727783203, 0.1479703187942505, -0.44223690032958984, -0.2814837694168091, -0.784009575843811, 0.33852964639663696, -0.13955137133598328, 0.48666155338287354, -0.19763389229774475, 0.24910490214824677, 0.6431464552879333, 0.16235142946243286, 0.37768587470054626, 0.5357261896133423, 0.38998499512672424, -0.2771848440170288, 0.06944172829389572, -0.20207983255386353, -0.35765695571899414, -0.008670279756188393, 0.7556968927383423, 0.16883669793605804, 0.028257064521312714, 0.0719861090183258, -0.03527410328388214, -0.09385215491056442, 0.8888745307922363, -0.04217447340488434, 0.6262712478637695, -0.8190277218818665, -0.2909623384475708, 0.26134347915649414, 0.12160733342170715, -0.4868147671222687, 0.01905965805053711, -0.9831347465515137, -0.36733463406562805, -0.17690476775169373, 0.20419403910636902, -0.8541672229766846, -0.4319593906402588, -0.04915723204612732, -0.26853156089782715, -0.3583802580833435, -0.524289608001709, -0.1082097515463829, 0.2751597762107849, -0.27092722058296204, -0.24896150827407837, 0.4251653254032135, 0.09940572082996368, -0.6012035608291626, -0.45046722888946533, 0.21606943011283875, -0.5888578295707703, 0.37623515725135803, -0.41640979051589966, 0.5604457855224609, -0.6327221393585205, 0.0057005733251571655, 0.20753782987594604, -0.3507942855358124, 0.10944710671901703, 0.07179573178291321, -0.36468055844306946, 0.20974084734916687, 0.07333426177501678, 0.2418416440486908, -0.05312417447566986, -0.7498676180839539, -0.26763367652893066, 0.8548980951309204, -0.040008045732975006, 0.19717861711978912, -0.19006282091140747, -0.2597011923789978, 0.6524684429168701, 0.3062251806259155, -0.02053806558251381, -0.10425560176372528, 0.4799295663833618, -0.4491803050041199, -0.29236680269241333, 0.3039289712905884, 0.5532107353210449, -0.06588605791330338, 0.6468912363052368, -0.5092726349830627, 0.264503538608551, 0.4000009596347809, 0.3264871835708618, 0.3030707836151123, -0.0015028566122055054, -0.4697878360748291, 0.21046018600463867, -0.3566627502441406, -1.938750982284546, -0.03916487097740173, -0.03027902916073799, -0.12545937299728394, -0.07084588706493378, 0.2480117529630661, -0.4636892080307007, -0.17672163248062134, -0.09594371169805527, -0.5952211618423462, 0.26515835523605347, 0.3039238750934601, -0.19786566495895386, 0.26365238428115845, -0.19333523511886597, 0.34561219811439514, 0.8230719566345215, -0.2871250510215759, 0.19264712929725647, -0.651836097240448, 0.05867679417133331, -0.06997860968112946, 1.585233211517334, 0.2933080196380615, 0.23515675961971283, -0.0416225865483284, -0.15442249178886414, -0.041384413838386536, 0.8208202123641968, -0.2622918486595154, 0.8227771520614624, -0.1512259989976883, 0.5043107867240906, -0.3185371160507202, 0.32179000973701477, 0.35215896368026733, 0.11817014217376709, 0.24956165254116058, 0.4923792779445648, 0.4452495276927948, -0.14258715510368347, -0.3819512128829956, 0.03912797570228577, -0.229094460606575, 0.6498212218284607, 0.0693991482257843, -0.16350486874580383, -0.8621214032173157, -0.4578806757926941, -0.2158191204071045, 0.8039660453796387, -0.3425668179988861, -0.6415888071060181, 0.2401028871536255, 0.03126899525523186, 0.12430239468812943, -0.11323082447052002, 0.21175223588943481, -0.07663150131702423, -0.36105185747146606, 0.1975521743297577, -0.26214414834976196, -0.15585458278656006, 0.40030965209007263, 0.5536881685256958], metadata={'file_path': '/home/daimler/workspaces/agents-course-huggingface/2.2-llamaindex/data/persona_1003.txt', 'file_name': 'persona_1003.txt', 'file_type': 'text/plain', 'file_size': 170, 'creation_date': '2025-03-13', 'last_modified_date': '2025-03-13'}, excluded_embed_metadata_keys=['file_name', 'file_type', 'file_size', 'creation_date', 'last_modified_date', 'last_accessed_date'], excluded_llm_metadata_keys=['file_name', 'file_type', 'file_size', 'creation_date', 'last_modified_date', 'last_accessed_date'], relationships={<NodeRelationship.SOURCE: '1'>: RelatedNodeInfo(node_id='e02db8ec-fc84-47b0-a4d7-011c68c0872d', node_type=<ObjectType.DOCUMENT: '4'>, metadata={'file_path': '/home/daimler/workspaces/agents-course-huggingface/2.2-llamaindex/data/persona_1003.txt', 'file_name': 'persona_1003.txt', 'file_type': 'text/plain', 'file_size': 170, 'creation_date': '2025-03-13', 'last_modified_date': '2025-03-13'}, hash='04cffc0652a9718f5fb9e38c0963cf2424689febd46fd8a85e1c85fddfed744d')}, metadata_template='{key}: {value}', metadata_separator='\\n', text='A special education teacher or instructional specialist focused on inclusive education and assistive technology, likely working with students with diverse learning needs.', mimetype='text/plain', start_char_idx=0, end_char_idx=170, metadata_seperator='\\n', text_template='{metadata_str}\\n\\n{content}'),\n",
       " TextNode(id_='a4b30e84-6b49-4d8a-b94e-e1bd90b804cf', embedding=[0.03445717692375183, 0.07493269443511963, 0.31318753957748413, -0.021572962403297424, 0.5677325129508972, -0.3420149087905884, 0.25908488035202026, 0.12075913697481155, -0.5693930387496948, -0.3155679404735565, -0.2471904456615448, -0.40509822964668274, -0.22799763083457947, 0.2450132519006729, -0.02295701950788498, 0.3057090640068054, -0.6305285096168518, 0.7289241552352905, 0.8542865514755249, -0.174091637134552, 0.10456410050392151, -0.15088115632534027, 0.025643937289714813, 0.026975899934768677, -0.05451051890850067, 0.19226470589637756, 0.15715542435646057, -0.33028191328048706, -0.31591561436653137, -0.6859633326530457, -0.08585719764232635, -0.00256897509098053, -0.08771836757659912, 0.5961670279502869, -0.018940545618534088, 0.7710205316543579, 0.19190043210983276, 0.8367559909820557, -0.1624237596988678, 0.12999427318572998, -0.5169561505317688, -0.06924793124198914, 0.16505829989910126, 0.3918564021587372, 0.15325267612934113, -0.3707122504711151, 0.6943798065185547, -0.6616198420524597, -0.8553200960159302, -1.2004096508026123, 0.0908387154340744, -0.3107569217681885, -0.48546624183654785, 0.27057722210884094, 0.25271934270858765, 0.49761226773262024, 0.7193098664283752, 0.34780216217041016, 0.22251568734645844, -0.06839573383331299, 0.16444426774978638, -0.1083068698644638, -1.7752708196640015, 0.7881200313568115, -0.026984646916389465, 0.0014907047152519226, -0.5896995663642883, -0.41292789578437805, 0.028918493539094925, -0.2947688400745392, -0.20970109105110168, -0.6017135977745056, -0.40554100275039673, 0.04502228647470474, 0.5135225057601929, -0.07798540592193604, -0.2541418671607971, 0.11862263083457947, -0.1949416995048523, -0.07105446606874466, 0.08324111998081207, -0.12763535976409912, -0.16800206899642944, -0.3761005103588104, 0.05313709378242493, -0.0844113901257515, -0.09558823704719543, -0.052750639617443085, 0.1291269063949585, -0.03969106078147888, 0.07659558951854706, -0.31659767031669617, 0.5694324970245361, -0.4511905908584595, 0.0025101900100708008, -0.28930824995040894, 0.3533628284931183, 0.3514169752597809, 0.1415378302335739, 3.8221700191497803, -0.25578638911247253, 0.7489410042762756, 0.30981579422950745, 0.2183244526386261, 0.041728317737579346, -0.19411472976207733, -0.24858954548835754, -0.3100988268852234, -0.2726304531097412, -0.19768491387367249, -0.3432118594646454, 0.3048241138458252, -0.09530086815357208, 0.43724513053894043, 1.0327692031860352, -0.4593483805656433, -0.04430525004863739, 0.6134029030799866, -0.09643855690956116, 0.15804056823253632, 0.03484933823347092, -0.41188371181488037, 0.3750227391719818, 0.44096797704696655, 0.35127267241477966, 0.34698760509490967, 0.3778671622276306, 0.10688390582799911, 0.40677621960639954, -0.081053227186203, 0.09438879787921906, 0.03415266424417496, -0.6407114863395691, 0.419830322265625, -0.029073357582092285, -0.25227251648902893, 0.08943277597427368, -0.1683613657951355, -0.29638487100601196, 0.31834569573402405, -0.28639400005340576, 0.6760105490684509, -0.4625496566295624, -0.31210827827453613, -0.9768726229667664, 0.4233306050300598, 0.11936910450458527, 0.10515832155942917, -0.2012462168931961, 0.28446143865585327, -0.4843418002128601, -0.029947921633720398, 0.16369616985321045, -0.032619982957839966, 0.4180976152420044, 0.04335916414856911, 0.4678746163845062, 0.3902861475944519, -0.1014176681637764, 0.241125226020813, 0.34717968106269836, -0.3656969666481018, 0.07999451458454132, 0.5494217276573181, 0.2701294720172882, -0.8065252304077148, -0.4363482594490051, -0.05312083661556244, 0.4238601326942444, -0.02717018872499466, 0.321023553609848, 0.14576242864131927, 0.24984323978424072, 0.5330726504325867, 0.47595053911209106, 0.37189140915870667, 0.10774345695972443, 0.7011728286743164, -0.302301824092865, -0.34585317969322205, 0.04859891161322594, -0.48185715079307556, -0.522074282169342, -0.05732877552509308, -0.20195183157920837, 0.19835054874420166, -0.37433579564094543, -0.2406446784734726, 0.020059414207935333, 0.4457591474056244, 0.20211118459701538, 0.25448858737945557, 0.5321414470672607, -0.06522920727729797, 0.2092321515083313, -0.27285611629486084, -0.001322731375694275, -0.15728873014450073, -0.11122007668018341, -0.23279547691345215, -0.15289603173732758, -0.07828959077596664, -0.3968185484409332, 0.11888837069272995, -0.07745151966810226, 0.2175750434398651, -0.022581040859222412, -0.17434494197368622, 0.3139474391937256, -0.15336644649505615, -0.459457129240036, 0.34926456212997437, 0.0751047283411026, -0.008581142872571945, 0.1725606620311737, 0.4903794229030609, 0.24802210927009583, -0.07834009826183319, 0.571933925151825, 0.2261931300163269, -0.0292825847864151, -0.2253812551498413, -0.41399893164634705, -2.5477633476257324, -0.3648369014263153, -1.2224836349487305, 0.2065226435661316, -1.0381383895874023, 0.19140368700027466, 0.06495131552219391, -0.09438766539096832, -0.3294638395309448, 0.6385635733604431, -0.023076161742210388, -0.2856409251689911, 0.4937227964401245, 0.5498387813568115, 0.37213754653930664, -0.06012563407421112, 0.38221991062164307, -0.42147478461265564, -0.7822881937026978, 0.3086259663105011, 0.9250876903533936, -0.3775247037410736, -0.40589088201522827, -0.30265429615974426, 0.19571828842163086, -0.1396598070859909, 1.0580146312713623, -0.083397775888443, 0.23078769445419312, -0.16503916680812836, -0.2853267192840576, 0.09889602661132812, -0.06781916320323944, -0.8139609694480896, -0.16844302415847778, -0.4424571394920349, -0.05102922022342682, -0.1857767403125763, -0.43554505705833435, -0.38793766498565674, -0.25341087579727173, 0.3564489781856537, -0.4487593472003937, 0.07866448163986206, -0.6688293218612671, -0.13175944983959198, -0.14819146692752838, 0.1336616575717926, -0.1705167591571808, -0.15736225247383118, -0.1279623806476593, -0.16482135653495789, -0.28239795565605164, -0.049323320388793945, -0.22582381963729858, 0.5377747416496277, -0.3485044836997986, 0.147548109292984, -0.45349445939064026, 0.15524861216545105, 0.02170267328619957, -0.44780221581459045, 0.2870542109012604, 0.46836400032043457, -0.011033840477466583, 0.2620198726654053, -0.10444064438343048, -0.18487682938575745, 0.1023462563753128, -0.6258172988891602, -0.10495918989181519, 0.8968784809112549, -0.3583187162876129, -0.7783327102661133, 0.36494627594947815, -0.3790730834007263, 0.10417972505092621, 0.1856623888015747, -0.031771570444107056, -0.3186793923377991, 0.2358519732952118, -0.5973443984985352, 0.18063148856163025, 0.10269223153591156, -0.015065323561429977, 0.21014444530010223, 0.3087392747402191, -0.3470132648944855, 0.269020140171051, 0.37322890758514404, 0.6416885256767273, 0.09974595159292221, -0.4687293469905853, -0.49879828095436096, 0.5609206557273865, -0.017831478267908096, -2.1662604808807373, -0.1747487485408783, 0.12182554602622986, 0.393574595451355, 0.16122397780418396, -0.1442854255437851, -0.278362512588501, 0.04881292209029198, 0.4488334059715271, -0.02479054033756256, 0.6002930998802185, 0.14866125583648682, -0.18938738107681274, 0.33224982023239136, 0.2597097158432007, -0.08379308879375458, 0.07410494238138199, 0.3426842987537384, -0.12289537489414215, -0.05486440658569336, 0.16620191931724548, -0.27304163575172424, 1.4591352939605713, 0.11394065618515015, 0.15810172259807587, 0.08843433856964111, -0.2932738959789276, 0.16567592322826385, 0.2795257568359375, 0.04122176021337509, 0.7013283371925354, -0.2888663113117218, 0.9822880029678345, -0.29717230796813965, -0.0420384556055069, 0.1835431456565857, -0.14425118267536163, 0.5240912437438965, -0.017378829419612885, -0.22684401273727417, -0.27485936880111694, -0.08637718856334686, 0.3617638051509857, -0.2957890033721924, 0.5421507954597473, -0.05997328460216522, 0.020037367939949036, -0.19347691535949707, -0.5628190636634827, 0.3907162547111511, 0.1817684769630432, -0.38743239641189575, -0.689907431602478, -0.1587325632572174, 0.283522367477417, -0.1074075698852539, 0.2535499930381775, -0.23707738518714905, 0.02957344800233841, 0.11445829272270203, -0.22062553465366364, 0.06104716658592224, -0.15160277485847473, 0.24028262495994568, 0.567535400390625], metadata={'file_path': '/home/daimler/workspaces/agents-course-huggingface/2.2-llamaindex/data/persona_1004.txt', 'file_name': 'persona_1004.txt', 'file_type': 'text/plain', 'file_size': 160, 'creation_date': '2025-03-13', 'last_modified_date': '2025-03-13'}, excluded_embed_metadata_keys=['file_name', 'file_type', 'file_size', 'creation_date', 'last_modified_date', 'last_accessed_date'], excluded_llm_metadata_keys=['file_name', 'file_type', 'file_size', 'creation_date', 'last_modified_date', 'last_accessed_date'], relationships={<NodeRelationship.SOURCE: '1'>: RelatedNodeInfo(node_id='0593af3e-01e8-40db-9f14-500dd7553f11', node_type=<ObjectType.DOCUMENT: '4'>, metadata={'file_path': '/home/daimler/workspaces/agents-course-huggingface/2.2-llamaindex/data/persona_1004.txt', 'file_name': 'persona_1004.txt', 'file_type': 'text/plain', 'file_size': 160, 'creation_date': '2025-03-13', 'last_modified_date': '2025-03-13'}, hash='19628b0ae4a0f0ebd63b75e13df7d9183f42e8bb84358fdc2c9049c016c4b67d')}, metadata_template='{key}: {value}', metadata_separator='\\n', text='An environmental historian or urban planner focused on ecological conservation and sustainability, likely working in local government or a related organization.', mimetype='text/plain', start_char_idx=0, end_char_idx=160, metadata_seperator='\\n', text_template='{metadata_str}\\n\\n{content}'),\n",
       " TextNode(id_='9dd714cc-eeda-4b70-9d37-da8d2b723333', embedding=[-0.1687806248664856, 0.3506174385547638, 0.29168474674224854, -0.4154185950756073, 0.2380090355873108, -0.2662294805049896, 0.06271110475063324, -0.27412933111190796, -0.8443544507026672, -0.9558203220367432, -0.3669280409812927, -0.38944151997566223, -0.2533021569252014, 0.3708029091358185, 0.3538314998149872, 0.2165001630783081, -0.4509383738040924, 0.6139907240867615, 0.3004400134086609, -0.027799740433692932, -0.6198015809059143, -0.19836503267288208, 0.611559271812439, 0.37542498111724854, 0.02009306102991104, 0.08106747269630432, 0.6294538378715515, -0.22314712405204773, -0.3806649148464203, -1.3113124370574951, -0.019875405356287956, -0.044914938509464264, -0.03176315128803253, 0.5114833116531372, 0.470095694065094, 0.06275683641433716, 0.16427898406982422, 0.3491315245628357, 0.2504059672355652, -0.11188957095146179, -0.23201504349708557, -0.11134059727191925, 0.40151745080947876, 0.533240556716919, 0.7379900217056274, 0.43778228759765625, 0.4235575795173645, 0.37323078513145447, -0.2962333858013153, -0.7626732587814331, -0.40278422832489014, -0.11304569244384766, -0.06517119705677032, -0.1439811885356903, 0.8020206689834595, 0.6916570663452148, 0.5510141253471375, -0.0033892467617988586, 0.22293317317962646, 0.06077919900417328, 0.1977580338716507, 0.31756681203842163, -1.899561882019043, 0.42064785957336426, 0.18258415162563324, 0.3841562271118164, 0.3124675452709198, -0.3271225690841675, -0.0859760046005249, -0.06783664226531982, -0.5697608590126038, -0.34144461154937744, -0.4774928689002991, -0.34794890880584717, 0.2177322506904602, -0.13834503293037415, -0.00790192186832428, 0.17343097925186157, -0.38368067145347595, -0.0875704288482666, 0.40332502126693726, -0.004563257098197937, 0.04218447208404541, -0.23804821074008942, -0.12120047956705093, -0.4125591814517975, -0.28034183382987976, -0.4785638451576233, -0.10192437469959259, -0.25695279240608215, -0.17137163877487183, -0.7554303407669067, 0.5733280777931213, -0.4155126214027405, -0.04765705019235611, -0.00818052887916565, -0.24326473474502563, 0.3338048458099365, 0.1544441282749176, 3.6533374786376953, -0.06589743494987488, 0.693004846572876, 0.17265288531780243, -0.16258957982063293, -0.25759217143058777, 0.26775145530700684, 0.2668325901031494, -0.04712352901697159, -0.46874913573265076, -0.12166440486907959, -0.01849844679236412, 0.44317060708999634, -0.08937367796897888, -0.1494699865579605, 1.214022159576416, -0.5669215321540833, 0.14522506296634674, 0.055354245007038116, 0.17662551999092102, -0.04528779909014702, -0.10481927543878555, 0.17627491056919098, 0.37342503666877747, -0.2352830022573471, 0.13480627536773682, 0.26823192834854126, 0.44523075222969055, 0.3223423361778259, 0.37213006615638733, -0.4408974051475525, -0.49600327014923096, -0.2625380754470825, -0.5238643884658813, -0.07165250182151794, 0.2551911473274231, 0.07452060282230377, 0.24390968680381775, -0.14293599128723145, 0.12611013650894165, -0.04720514267683029, -0.24258017539978027, -0.30881571769714355, -0.44620582461357117, 0.35302481055259705, -0.999885082244873, 0.17656855285167694, 0.15501968562602997, 0.2506907284259796, -0.10737549513578415, 0.40514662861824036, 0.013517864048480988, 0.07711521536111832, -0.4830129146575928, -0.29092034697532654, 0.05983522906899452, 0.31493446230888367, 0.6952114105224609, 0.6660428643226624, -0.4233350157737732, 0.09951514005661011, -0.1656990647315979, -0.6729291081428528, 0.1601792573928833, 0.427313894033432, 0.09063315391540527, -1.1552401781082153, -0.5676084160804749, -0.03311147540807724, 0.07245036959648132, 0.08993121981620789, 0.6514227390289307, -0.1754026710987091, -0.4767201244831085, 0.6333977580070496, 0.3117467164993286, 0.6102309823036194, 0.20716330409049988, 0.5817010402679443, -0.4287109673023224, -0.39770248532295227, 0.1664031445980072, -0.8542461395263672, -0.2927607297897339, -0.19402137398719788, -0.16364488005638123, 0.7741522789001465, 0.2095903903245926, -0.054384488612413406, 0.04368576034903526, 0.11209259182214737, 0.4228328764438629, 0.6647594571113586, -0.014859728515148163, -0.020444417372345924, -0.06058666855096817, -0.2653823792934418, 0.11714380979537964, 0.1527835726737976, 0.1512340009212494, -0.21917442977428436, -0.361298531293869, -0.09987737238407135, -0.3420443534851074, 0.20152831077575684, -0.23449110984802246, 0.12497831881046295, -0.16281959414482117, -0.2708675265312195, 0.08348706364631653, -0.47103041410446167, -0.504494845867157, 0.2401469349861145, -0.3678615987300873, -0.6563961505889893, -0.014872804284095764, -0.28664159774780273, 0.04695775359869003, 0.007415466010570526, 0.08440551161766052, 0.03449438512325287, -0.24919763207435608, -0.4260905683040619, -0.629788339138031, -2.7810966968536377, -0.18545003235340118, -0.8446656465530396, 0.036710143089294434, -0.428933322429657, -0.4003905653953552, 0.3008849620819092, 0.16626471281051636, -0.33863845467567444, 0.8535357117652893, -0.39023005962371826, -0.0658441036939621, 0.31883007287979126, 0.35464558005332947, 0.3026837408542633, -0.09107561409473419, -0.08761700987815857, -0.07976430654525757, -0.5741523504257202, 0.5227280259132385, 0.647678017616272, -0.12840089201927185, -0.20739124715328217, -0.5716341733932495, 0.3834364712238312, 0.006909601390361786, 1.0952675342559814, 0.05074600502848625, 0.3257739245891571, -0.34024351835250854, -0.2584531605243683, -0.010095052421092987, -0.03412860259413719, -0.08283831924200058, 0.29323703050613403, -0.27749523520469666, 0.8029500246047974, 0.22065532207489014, 0.1619943529367447, -0.15294933319091797, -0.28349757194519043, 0.17269036173820496, -0.17266713082790375, 0.08227182924747467, -0.5770244002342224, -0.18867680430412292, 0.04944060742855072, -0.20122948288917542, -0.2792337238788605, -0.39052408933639526, 0.22262601554393768, 0.06840474903583527, 0.08053149282932281, 0.26437753438949585, -0.6595687866210938, 0.08223049342632294, -0.365421861410141, 0.009225688874721527, 0.019152991473674774, 0.639451801776886, -0.19146636128425598, -0.007215827703475952, 0.04485371708869934, -0.3894224762916565, -0.021266110241413116, 0.487178772687912, -0.1686592549085617, -0.1451583206653595, 0.17421433329582214, -0.024634189903736115, -0.026403972879052162, 0.5823509693145752, -0.7409276366233826, -0.5446312427520752, 0.4545758366584778, 0.1155238002538681, -0.006765633821487427, 0.5874390602111816, -0.3643151819705963, 0.010950528085231781, 0.4652843773365021, -0.3929502069950104, 0.01748301088809967, 0.25454068183898926, 0.020108548924326897, -0.0974336564540863, 0.14838236570358276, -0.21778534352779388, 0.462928831577301, 0.3834470510482788, 0.4762573838233948, 0.05736793577671051, -0.60032719373703, 0.2225302755832672, 0.04935390129685402, -0.30221593379974365, -1.9367884397506714, -0.09424906969070435, 0.628985583782196, 0.8838112950325012, 0.28390341997146606, 0.13232065737247467, -0.19817423820495605, -0.3887587785720825, 0.09575468301773071, -0.4675770401954651, 0.5338769555091858, 0.6085765361785889, 0.12523843348026276, 0.18633879721164703, 0.3250792622566223, -0.28917619585990906, 0.14752639830112457, 0.14984747767448425, -0.46612077951431274, 0.22856423258781433, 0.2645435929298401, -0.027671217918395996, 1.15379798412323, 0.1611662656068802, -0.04530583322048187, -0.07186423242092133, 0.19273723661899567, 0.4039967954158783, -0.062068790197372437, -0.028802180662751198, 0.6052777171134949, -0.25992894172668457, 0.5502488613128662, -0.5205219984054565, -0.17784756422042847, 0.20739294588565826, -0.3819417953491211, 0.23412661254405975, -0.15432600677013397, -0.119632788002491, -0.3986271023750305, 0.13696077466011047, -0.10136190056800842, -0.10437162220478058, 0.39245814085006714, 0.11251303553581238, -0.18277648091316223, 0.018481217324733734, -0.09584657847881317, 0.5804194211959839, 0.08799578249454498, 0.029009012505412102, -0.4551663398742676, 0.22348053753376007, 0.7927547097206116, -0.14773914217948914, 0.05951021611690521, 0.4137074649333954, -0.03144408017396927, -0.08076763898134232, -0.3462966978549957, 0.1147206574678421, 0.0026606395840644836, -0.016827404499053955, 0.5396436452865601], metadata={'file_path': '/home/daimler/workspaces/agents-course-huggingface/2.2-llamaindex/data/persona_1005.txt', 'file_name': 'persona_1005.txt', 'file_type': 'text/plain', 'file_size': 85, 'creation_date': '2025-03-13', 'last_modified_date': '2025-03-13'}, excluded_embed_metadata_keys=['file_name', 'file_type', 'file_size', 'creation_date', 'last_modified_date', 'last_accessed_date'], excluded_llm_metadata_keys=['file_name', 'file_type', 'file_size', 'creation_date', 'last_modified_date', 'last_accessed_date'], relationships={<NodeRelationship.SOURCE: '1'>: RelatedNodeInfo(node_id='478bec85-e6d7-4d57-bda6-8b2b2a909787', node_type=<ObjectType.DOCUMENT: '4'>, metadata={'file_path': '/home/daimler/workspaces/agents-course-huggingface/2.2-llamaindex/data/persona_1005.txt', 'file_name': 'persona_1005.txt', 'file_type': 'text/plain', 'file_size': 85, 'creation_date': '2025-03-13', 'last_modified_date': '2025-03-13'}, hash='f9e87c24312f7290b04f62167fa845fd1fb3b07ff4d39ab099563339a8f34838')}, metadata_template='{key}: {value}', metadata_separator='\\n', text='An historian focused on 19th-century Irish politics and the Irish Home Rule movement.', mimetype='text/plain', start_char_idx=0, end_char_idx=85, metadata_seperator='\\n', text_template='{metadata_str}\\n\\n{content}')]"
      ]
     },
     "execution_count": 5,
     "metadata": {},
     "output_type": "execute_result"
    }
   ],
   "source": [
    "# from llama_index.embeddings.huggingface_api import HuggingFaceInferenceAPIEmbedding\n",
    "from llama_index.core.node_parser import SentenceSplitter\n",
    "from llama_index.core.ingestion import IngestionPipeline\n",
    "from llama_index.embeddings.ollama import OllamaEmbedding\n",
    "\n",
    "# create the pipeline with transformations\n",
    "pipeline = IngestionPipeline(\n",
    "    transformations=[\n",
    "        SentenceSplitter(),\n",
    "        # HuggingFaceInferenceAPIEmbedding(model_name=\"BAAI/bge-small-en-v1.5\"),\n",
    "        OllamaEmbedding(model_name=\"qllama/bge-small-en-v1.5:f16\")\n",
    "    ]\n",
    ")\n",
    "\n",
    "# run the pipeline sync or async\n",
    "nodes = await pipeline.arun(documents=documents[:10])\n",
    "nodes"
   ]
  },
  {
   "cell_type": "markdown",
   "metadata": {
    "id": "hGv8Fg-S1NKr"
   },
   "source": [
    "As, you can see, we have created a list of `Node` objects, which are just chunks of text from the original documents. Let's explore how we can add these nodes to a vector store.\n",
    "\n",
    "### Storing and indexing documents\n",
    "\n",
    "Since we are using an ingestion pipeline, we can directly attach a vector store to the pipeline to populate it.\n",
    "In this case, we will use `Chroma` to store our documents.\n",
    "Let's run the pipeline again with the vector store attached.\n",
    "The `IngestionPipeline` caches the operations so this should be fast!"
   ]
  },
  {
   "cell_type": "code",
   "execution_count": 6,
   "metadata": {
    "id": "cz2DL3QQ1NKr",
    "outputId": "51262c5a-32dd-4872-e80a-fb43b54e5a95"
   },
   "outputs": [
    {
     "data": {
      "text/plain": [
       "10"
      ]
     },
     "execution_count": 6,
     "metadata": {},
     "output_type": "execute_result"
    }
   ],
   "source": [
    "import chromadb\n",
    "from llama_index.vector_stores.chroma import ChromaVectorStore\n",
    "\n",
    "db = chromadb.PersistentClient(path=\"./alfred_chroma_db\")\n",
    "chroma_collection = db.get_or_create_collection(name=\"alfred\")\n",
    "vector_store = ChromaVectorStore(chroma_collection=chroma_collection)\n",
    "\n",
    "pipeline = IngestionPipeline(\n",
    "    transformations=[\n",
    "        SentenceSplitter(),\n",
    "        # HuggingFaceInferenceAPIEmbedding(model_name=\"BAAI/bge-small-en-v1.5\"),\n",
    "        OllamaEmbedding(model_name=\"qllama/bge-small-en-v1.5:f16\")\n",
    "\n",
    "    ],\n",
    "    vector_store=vector_store,\n",
    ")\n",
    "\n",
    "nodes = await pipeline.arun(documents=documents[:10])\n",
    "len(nodes)"
   ]
  },
  {
   "cell_type": "markdown",
   "metadata": {
    "id": "KzzRx-tv1NKs"
   },
   "source": [
    "We can create a `VectorStoreIndex` from the vector store and use it to query the documents by passing the vector store and embedding model to the `from_vector_store()` method."
   ]
  },
  {
   "cell_type": "code",
   "execution_count": 7,
   "metadata": {
    "id": "ls0HyUcF1NKs"
   },
   "outputs": [],
   "source": [
    "from llama_index.core import VectorStoreIndex\n",
    "# from llama_index.embeddings.huggingface_api import HuggingFaceInferenceAPIEmbedding\n",
    "\n",
    "# embed_model = HuggingFaceInferenceAPIEmbedding(model_name=\"BAAI/bge-small-en-v1.5\")\n",
    "embed_model = OllamaEmbedding(model_name=\"qllama/bge-small-en-v1.5:f16\")\n",
    "index = VectorStoreIndex.from_vector_store(\n",
    "    vector_store=vector_store, embed_model=embed_model\n",
    ")"
   ]
  },
  {
   "cell_type": "markdown",
   "metadata": {
    "id": "hd2YHW3b1NKs"
   },
   "source": [
    "We don't need to worry about persisting the index to disk, as it is automatically saved within the `ChromaVectorStore` object and the passed directory path.\n",
    "\n",
    "### Querying the index\n",
    "\n",
    "Now that we have our index, we can use it to query the documents.\n",
    "Let's create a `QueryEngine` from the index and use it to query the documents using a specific response mode.\n"
   ]
  },
  {
   "cell_type": "code",
   "execution_count": 8,
   "metadata": {
    "id": "tQ9oQmKz1NKs",
    "outputId": "dc0ad1ae-9896-4c6a-fbc1-7a3b915f6966"
   },
   "outputs": [
    {
     "data": {
      "text/plain": [
       "Response(response=\"Hello! I have spent many years as an anthropologist in Cyprus, delving into its rich cultural tapestry. My travels across this island have allowed me to immerse myself in the lives of Cypriots, understanding their customs and ways deeply. Through my research and personal experiences, I have witnessed firsthand how history shapes society and culture here. If you're interested in learning more about Cyprus's unique heritage, feel free to ask!\", source_nodes=[NodeWithScore(node=TextNode(id_='372496be-c985-453a-b534-bbbdbfdd02fa', embedding=None, metadata={'file_path': '/home/daimler/workspaces/agents-course-huggingface/2.2-llamaindex/data/persona_1.txt', 'file_name': 'persona_1.txt', 'file_type': 'text/plain', 'file_size': 266, 'creation_date': '2025-03-11', 'last_modified_date': '2025-03-11'}, excluded_embed_metadata_keys=['file_name', 'file_type', 'file_size', 'creation_date', 'last_modified_date', 'last_accessed_date'], excluded_llm_metadata_keys=['file_name', 'file_type', 'file_size', 'creation_date', 'last_modified_date', 'last_accessed_date'], relationships={<NodeRelationship.SOURCE: '1'>: RelatedNodeInfo(node_id='2fc1c32a-0584-4da3-bd4d-75a0ab5e6288', node_type='4', metadata={'file_path': '/home/daimler/workspaces/agents-course-huggingface/2.2-llamaindex/data/persona_1.txt', 'file_name': 'persona_1.txt', 'file_type': 'text/plain', 'file_size': 266, 'creation_date': '2025-03-11', 'last_modified_date': '2025-03-11'}, hash='e6c87149a97bf9e5dbdf33922a4e5023c6b72550ca0b63472bd5d25103b28e99')}, metadata_template='{key}: {value}', metadata_separator='\\n', text='An anthropologist or a cultural expert interested in the intricacies of Cypriot culture, history, and society, particularly someone who has spent considerable time researching and living in Cyprus to gain a deep understanding of its people, customs, and way of life.', mimetype='text/plain', start_char_idx=0, end_char_idx=266, metadata_seperator='\\n', text_template='{metadata_str}\\n\\n{content}'), score=1.3418682013177493e-26)], metadata={'372496be-c985-453a-b534-bbbdbfdd02fa': {'file_path': '/home/daimler/workspaces/agents-course-huggingface/2.2-llamaindex/data/persona_1.txt', 'file_name': 'persona_1.txt', 'file_type': 'text/plain', 'file_size': 266, 'creation_date': '2025-03-11', 'last_modified_date': '2025-03-11'}})"
      ]
     },
     "execution_count": 8,
     "metadata": {},
     "output_type": "execute_result"
    }
   ],
   "source": [
    "# from llama_index.llms.huggingface_api import HuggingFaceInferenceAPI\n",
    "from llama_index.llms.ollama import Ollama \n",
    "import nest_asyncio\n",
    "\n",
    "nest_asyncio.apply()  # This is needed to run the query engine\n",
    "# llm = HuggingFaceInferenceAPI(model_name=\"Qwen/Qwen2.5-Coder-32B-Instruct\")\n",
    "llm = Ollama(model=\"myaniu/qwen2.5-1m:7b\")\n",
    "query_engine = index.as_query_engine(\n",
    "    llm=llm,\n",
    "    response_mode=\"tree_summarize\",\n",
    "    embed_model=OllamaEmbedding(model_name=\"qllama/bge-small-en-v1.5:f16\")\n",
    ")\n",
    "response = query_engine.query(\n",
    "    \"Respond using a persona that describes author and travel experiences?\"\n",
    ")\n",
    "response"
   ]
  },
  {
   "cell_type": "markdown",
   "metadata": {
    "id": "LW3chD1M1NKs"
   },
   "source": [
    "## Evaluation and observability\n",
    "\n",
    "LlamaIndex provides **built-in evaluation tools to assess response quality.**\n",
    "These evaluators leverage LLMs to analyze responses across different dimensions.\n",
    "We can now check if the query is faithful to the original persona."
   ]
  },
  {
   "cell_type": "code",
   "execution_count": 9,
   "metadata": {
    "id": "3e7_52IS1NKt",
    "outputId": "faacbac2-dc02-4b5f-b744-da79584992a1"
   },
   "outputs": [
    {
     "data": {
      "text/plain": [
       "True"
      ]
     },
     "execution_count": 9,
     "metadata": {},
     "output_type": "execute_result"
    }
   ],
   "source": [
    "from llama_index.core.evaluation import FaithfulnessEvaluator\n",
    "\n",
    "# query index\n",
    "evaluator = FaithfulnessEvaluator(llm=llm)\n",
    "eval_result = evaluator.evaluate_response(response=response)\n",
    "eval_result.passing"
   ]
  },
  {
   "cell_type": "markdown",
   "metadata": {
    "id": "Gtu2P1Ak1NKt"
   },
   "source": [
    "If one of these LLM based evaluators does not give enough context, we can check the response using the Arize Phoenix tool, after creating an account at [LlamaTrace](https://llamatrace.com/login) and generating an API key."
   ]
  },
  {
   "cell_type": "code",
   "execution_count": 20,
   "metadata": {
    "id": "sEWs61PL1NKt"
   },
   "outputs": [
    {
     "name": "stdout",
     "output_type": "stream",
     "text": [
      "Note: you may need to restart the kernel to use updated packages.\n"
     ]
    }
   ],
   "source": [
    "pip install -q arize-phoenix\n"
   ]
  },
  {
   "cell_type": "code",
   "execution_count": 21,
   "metadata": {},
   "outputs": [],
   "source": [
    "\n",
    "\n",
    "import llama_index\n",
    "import os\n",
    "from dotenv import load_dotenv\n",
    "# Load environment variables from .env file\n",
    "load_dotenv()\n",
    "\n",
    "\n",
    "llama_index.core.set_global_handler(\n",
    "    \"arize_phoenix\", \n",
    "    endpoint=\"https://llamatrace.com/v1/traces\"\n",
    ")\n"
   ]
  },
  {
   "cell_type": "markdown",
   "metadata": {
    "id": "L4cMPOyR1NKt"
   },
   "source": [
    "Now, we can query the index and see the response in the Arize Phoenix tool."
   ]
  },
  {
   "cell_type": "code",
   "execution_count": 23,
   "metadata": {
    "id": "65v7xZTO1NKt",
    "outputId": "db278596-b6d2-4bd2-fb9b-aa9440f52b91"
   },
   "outputs": [
    {
     "data": {
      "text/plain": [
       "Response(response='The given context does not provide any information about someone interested in AI and technology. It only describes a cultural expert focused on Cypriot culture, history, and society. Therefore, there is no name available to answer the query based on the provided information.', source_nodes=[NodeWithScore(node=TextNode(id_='812a3c97-9036-42c6-9e4d-98c84eb113d3', embedding=None, metadata={'file_path': '/home/daimler/workspaces/agents-course-huggingface/2.2-llamaindex/data/persona_1.txt', 'file_name': 'persona_1.txt', 'file_type': 'text/plain', 'file_size': 266, 'creation_date': '2025-03-13', 'last_modified_date': '2025-03-13'}, excluded_embed_metadata_keys=['file_name', 'file_type', 'file_size', 'creation_date', 'last_modified_date', 'last_accessed_date'], excluded_llm_metadata_keys=['file_name', 'file_type', 'file_size', 'creation_date', 'last_modified_date', 'last_accessed_date'], relationships={<NodeRelationship.SOURCE: '1'>: RelatedNodeInfo(node_id='19c80b98-6507-466f-964f-a3ffc61f3364', node_type='4', metadata={'file_path': '/home/daimler/workspaces/agents-course-huggingface/2.2-llamaindex/data/persona_1.txt', 'file_name': 'persona_1.txt', 'file_type': 'text/plain', 'file_size': 266, 'creation_date': '2025-03-13', 'last_modified_date': '2025-03-13'}, hash='e6c87149a97bf9e5dbdf33922a4e5023c6b72550ca0b63472bd5d25103b28e99')}, metadata_template='{key}: {value}', metadata_separator='\\n', text='An anthropologist or a cultural expert interested in the intricacies of Cypriot culture, history, and society, particularly someone who has spent considerable time researching and living in Cyprus to gain a deep understanding of its people, customs, and way of life.', mimetype='text/plain', start_char_idx=0, end_char_idx=266, metadata_seperator='\\n', text_template='{metadata_str}\\n\\n{content}'), score=5.539546573303053e-27)], metadata={'812a3c97-9036-42c6-9e4d-98c84eb113d3': {'file_path': '/home/daimler/workspaces/agents-course-huggingface/2.2-llamaindex/data/persona_1.txt', 'file_name': 'persona_1.txt', 'file_type': 'text/plain', 'file_size': 266, 'creation_date': '2025-03-13', 'last_modified_date': '2025-03-13'}})"
      ]
     },
     "execution_count": 23,
     "metadata": {},
     "output_type": "execute_result"
    }
   ],
   "source": [
    "response = query_engine.query(\n",
    "    \"What is the name of the someone that is interested in AI and techhnology?\"\n",
    ")\n",
    "response"
   ]
  },
  {
   "cell_type": "markdown",
   "metadata": {
    "id": "ovo2HSx91NKt"
   },
   "source": [
    "We can then go to the [LlamaTrace](https://llamatrace.com/login) and explore the process and response."
   ]
  }
 ],
 "metadata": {
  "colab": {
   "provenance": [
    {
     "file_id": "https://huggingface.co/agents-course/notebooks/blob/main/unit2/llama-index/components.ipynb",
     "timestamp": 1741690302626
    }
   ]
  },
  "kernelspec": {
   "display_name": ".venv",
   "language": "python",
   "name": "python3"
  },
  "language_info": {
   "codemirror_mode": {
    "name": "ipython",
    "version": 3
   },
   "file_extension": ".py",
   "mimetype": "text/x-python",
   "name": "python",
   "nbconvert_exporter": "python",
   "pygments_lexer": "ipython3",
   "version": "3.11.11"
  },
  "widgets": {
   "application/vnd.jupyter.widget-state+json": {
    "07e834b48f854538972d127e7527d1b9": {
     "model_module": "@jupyter-widgets/controls",
     "model_module_version": "1.5.0",
     "model_name": "DescriptionStyleModel",
     "state": {
      "_model_module": "@jupyter-widgets/controls",
      "_model_module_version": "1.5.0",
      "_model_name": "DescriptionStyleModel",
      "_view_count": null,
      "_view_module": "@jupyter-widgets/base",
      "_view_module_version": "1.2.0",
      "_view_name": "StyleView",
      "description_width": ""
     }
    },
    "08971f1893624ec9ac667fcd5db2ea6a": {
     "model_module": "@jupyter-widgets/controls",
     "model_module_version": "1.5.0",
     "model_name": "ProgressStyleModel",
     "state": {
      "_model_module": "@jupyter-widgets/controls",
      "_model_module_version": "1.5.0",
      "_model_name": "ProgressStyleModel",
      "_view_count": null,
      "_view_module": "@jupyter-widgets/base",
      "_view_module_version": "1.2.0",
      "_view_name": "StyleView",
      "bar_color": null,
      "description_width": ""
     }
    },
    "11cafa9b09894b32a0db92ddc63f5a02": {
     "model_module": "@jupyter-widgets/controls",
     "model_module_version": "1.5.0",
     "model_name": "DescriptionStyleModel",
     "state": {
      "_model_module": "@jupyter-widgets/controls",
      "_model_module_version": "1.5.0",
      "_model_name": "DescriptionStyleModel",
      "_view_count": null,
      "_view_module": "@jupyter-widgets/base",
      "_view_module_version": "1.2.0",
      "_view_name": "StyleView",
      "description_width": ""
     }
    },
    "1484b5df2a7448a0a30df75f7d5a364c": {
     "model_module": "@jupyter-widgets/controls",
     "model_module_version": "1.5.0",
     "model_name": "FloatProgressModel",
     "state": {
      "_dom_classes": [],
      "_model_module": "@jupyter-widgets/controls",
      "_model_module_version": "1.5.0",
      "_model_name": "FloatProgressModel",
      "_view_count": null,
      "_view_module": "@jupyter-widgets/controls",
      "_view_module_version": "1.5.0",
      "_view_name": "ProgressView",
      "bar_style": "success",
      "description": "",
      "description_tooltip": null,
      "layout": "IPY_MODEL_66a6ef4900704a4daf064897a1fa9826",
      "max": 35015530,
      "min": 0,
      "orientation": "horizontal",
      "style": "IPY_MODEL_9dd5c5db612b46f3963a2f6230d50f2b",
      "value": 35015530
     }
    },
    "198c993b694c4c138f4b63947aef9b20": {
     "model_module": "@jupyter-widgets/base",
     "model_module_version": "1.2.0",
     "model_name": "LayoutModel",
     "state": {
      "_model_module": "@jupyter-widgets/base",
      "_model_module_version": "1.2.0",
      "_model_name": "LayoutModel",
      "_view_count": null,
      "_view_module": "@jupyter-widgets/base",
      "_view_module_version": "1.2.0",
      "_view_name": "LayoutView",
      "align_content": null,
      "align_items": null,
      "align_self": null,
      "border": null,
      "bottom": null,
      "display": null,
      "flex": null,
      "flex_flow": null,
      "grid_area": null,
      "grid_auto_columns": null,
      "grid_auto_flow": null,
      "grid_auto_rows": null,
      "grid_column": null,
      "grid_gap": null,
      "grid_row": null,
      "grid_template_areas": null,
      "grid_template_columns": null,
      "grid_template_rows": null,
      "height": null,
      "justify_content": null,
      "justify_items": null,
      "left": null,
      "margin": null,
      "max_height": null,
      "max_width": null,
      "min_height": null,
      "min_width": null,
      "object_fit": null,
      "object_position": null,
      "order": null,
      "overflow": null,
      "overflow_x": null,
      "overflow_y": null,
      "padding": null,
      "right": null,
      "top": null,
      "visibility": null,
      "width": null
     }
    },
    "1a7324435c0b4e9f82cabb0e3a391137": {
     "model_module": "@jupyter-widgets/controls",
     "model_module_version": "1.5.0",
     "model_name": "FloatProgressModel",
     "state": {
      "_dom_classes": [],
      "_model_module": "@jupyter-widgets/controls",
      "_model_module_version": "1.5.0",
      "_model_name": "FloatProgressModel",
      "_view_count": null,
      "_view_module": "@jupyter-widgets/controls",
      "_view_module_version": "1.5.0",
      "_view_name": "ProgressView",
      "bar_style": "success",
      "description": "",
      "description_tooltip": null,
      "layout": "IPY_MODEL_b66fc89af7494d60966aebdc33583976",
      "max": 618,
      "min": 0,
      "orientation": "horizontal",
      "style": "IPY_MODEL_e0bb7b185297412a8b6eb642dc3fa75b",
      "value": 618
     }
    },
    "218e36725f514eeb8b1e8ff68f7313ab": {
     "model_module": "@jupyter-widgets/base",
     "model_module_version": "1.2.0",
     "model_name": "LayoutModel",
     "state": {
      "_model_module": "@jupyter-widgets/base",
      "_model_module_version": "1.2.0",
      "_model_name": "LayoutModel",
      "_view_count": null,
      "_view_module": "@jupyter-widgets/base",
      "_view_module_version": "1.2.0",
      "_view_name": "LayoutView",
      "align_content": null,
      "align_items": null,
      "align_self": null,
      "border": null,
      "bottom": null,
      "display": null,
      "flex": null,
      "flex_flow": null,
      "grid_area": null,
      "grid_auto_columns": null,
      "grid_auto_flow": null,
      "grid_auto_rows": null,
      "grid_column": null,
      "grid_gap": null,
      "grid_row": null,
      "grid_template_areas": null,
      "grid_template_columns": null,
      "grid_template_rows": null,
      "height": null,
      "justify_content": null,
      "justify_items": null,
      "left": null,
      "margin": null,
      "max_height": null,
      "max_width": null,
      "min_height": null,
      "min_width": null,
      "object_fit": null,
      "object_position": null,
      "order": null,
      "overflow": null,
      "overflow_x": null,
      "overflow_y": null,
      "padding": null,
      "right": null,
      "top": null,
      "visibility": null,
      "width": null
     }
    },
    "21a9ee17898f444caff3097604ea9251": {
     "model_module": "@jupyter-widgets/controls",
     "model_module_version": "1.5.0",
     "model_name": "HTMLModel",
     "state": {
      "_dom_classes": [],
      "_model_module": "@jupyter-widgets/controls",
      "_model_module_version": "1.5.0",
      "_model_name": "HTMLModel",
      "_view_count": null,
      "_view_module": "@jupyter-widgets/controls",
      "_view_module_version": "1.5.0",
      "_view_name": "HTMLView",
      "description": "",
      "description_tooltip": null,
      "layout": "IPY_MODEL_3150a5757b724e05a74ee0fcf1ad4aba",
      "placeholder": "​",
      "style": "IPY_MODEL_6c8677c2a49244a4b227a6f0a8c40f9b",
      "value": " 35.0M/35.0M [00:00&lt;00:00, 54.9MB/s]"
     }
    },
    "22ef5d69f10849fe9593cc35acbfd3ca": {
     "model_module": "@jupyter-widgets/controls",
     "model_module_version": "1.5.0",
     "model_name": "HTMLModel",
     "state": {
      "_dom_classes": [],
      "_model_module": "@jupyter-widgets/controls",
      "_model_module_version": "1.5.0",
      "_model_name": "HTMLModel",
      "_view_count": null,
      "_view_module": "@jupyter-widgets/controls",
      "_view_module_version": "1.5.0",
      "_view_name": "HTMLView",
      "description": "",
      "description_tooltip": null,
      "layout": "IPY_MODEL_e92b9a8903e541d2938e0338be92419f",
      "placeholder": "​",
      "style": "IPY_MODEL_07e834b48f854538972d127e7527d1b9",
      "value": "Generating train split: 100%"
     }
    },
    "2c61b333bfe047a3b7d260ff3fc37564": {
     "model_module": "@jupyter-widgets/base",
     "model_module_version": "1.2.0",
     "model_name": "LayoutModel",
     "state": {
      "_model_module": "@jupyter-widgets/base",
      "_model_module_version": "1.2.0",
      "_model_name": "LayoutModel",
      "_view_count": null,
      "_view_module": "@jupyter-widgets/base",
      "_view_module_version": "1.2.0",
      "_view_name": "LayoutView",
      "align_content": null,
      "align_items": null,
      "align_self": null,
      "border": null,
      "bottom": null,
      "display": null,
      "flex": null,
      "flex_flow": null,
      "grid_area": null,
      "grid_auto_columns": null,
      "grid_auto_flow": null,
      "grid_auto_rows": null,
      "grid_column": null,
      "grid_gap": null,
      "grid_row": null,
      "grid_template_areas": null,
      "grid_template_columns": null,
      "grid_template_rows": null,
      "height": null,
      "justify_content": null,
      "justify_items": null,
      "left": null,
      "margin": null,
      "max_height": null,
      "max_width": null,
      "min_height": null,
      "min_width": null,
      "object_fit": null,
      "object_position": null,
      "order": null,
      "overflow": null,
      "overflow_x": null,
      "overflow_y": null,
      "padding": null,
      "right": null,
      "top": null,
      "visibility": null,
      "width": null
     }
    },
    "3150a5757b724e05a74ee0fcf1ad4aba": {
     "model_module": "@jupyter-widgets/base",
     "model_module_version": "1.2.0",
     "model_name": "LayoutModel",
     "state": {
      "_model_module": "@jupyter-widgets/base",
      "_model_module_version": "1.2.0",
      "_model_name": "LayoutModel",
      "_view_count": null,
      "_view_module": "@jupyter-widgets/base",
      "_view_module_version": "1.2.0",
      "_view_name": "LayoutView",
      "align_content": null,
      "align_items": null,
      "align_self": null,
      "border": null,
      "bottom": null,
      "display": null,
      "flex": null,
      "flex_flow": null,
      "grid_area": null,
      "grid_auto_columns": null,
      "grid_auto_flow": null,
      "grid_auto_rows": null,
      "grid_column": null,
      "grid_gap": null,
      "grid_row": null,
      "grid_template_areas": null,
      "grid_template_columns": null,
      "grid_template_rows": null,
      "height": null,
      "justify_content": null,
      "justify_items": null,
      "left": null,
      "margin": null,
      "max_height": null,
      "max_width": null,
      "min_height": null,
      "min_width": null,
      "object_fit": null,
      "object_position": null,
      "order": null,
      "overflow": null,
      "overflow_x": null,
      "overflow_y": null,
      "padding": null,
      "right": null,
      "top": null,
      "visibility": null,
      "width": null
     }
    },
    "31f2eb111f2f4041959358056952a6a8": {
     "model_module": "@jupyter-widgets/controls",
     "model_module_version": "1.5.0",
     "model_name": "DescriptionStyleModel",
     "state": {
      "_model_module": "@jupyter-widgets/controls",
      "_model_module_version": "1.5.0",
      "_model_name": "DescriptionStyleModel",
      "_view_count": null,
      "_view_module": "@jupyter-widgets/base",
      "_view_module_version": "1.2.0",
      "_view_name": "StyleView",
      "description_width": ""
     }
    },
    "3c3605c2eaa546b782330ec02eeb633f": {
     "model_module": "@jupyter-widgets/controls",
     "model_module_version": "1.5.0",
     "model_name": "HTMLModel",
     "state": {
      "_dom_classes": [],
      "_model_module": "@jupyter-widgets/controls",
      "_model_module_version": "1.5.0",
      "_model_name": "HTMLModel",
      "_view_count": null,
      "_view_module": "@jupyter-widgets/controls",
      "_view_module_version": "1.5.0",
      "_view_name": "HTMLView",
      "description": "",
      "description_tooltip": null,
      "layout": "IPY_MODEL_fb7e3dd03c3b4a2b8b3753f8be7d6187",
      "placeholder": "​",
      "style": "IPY_MODEL_8d479fd64fba4ea1a90c462c0673f4ea",
      "value": "train-00000-of-00001.parquet: 100%"
     }
    },
    "62ba2ae726ed47c0859337b41e37f58f": {
     "model_module": "@jupyter-widgets/base",
     "model_module_version": "1.2.0",
     "model_name": "LayoutModel",
     "state": {
      "_model_module": "@jupyter-widgets/base",
      "_model_module_version": "1.2.0",
      "_model_name": "LayoutModel",
      "_view_count": null,
      "_view_module": "@jupyter-widgets/base",
      "_view_module_version": "1.2.0",
      "_view_name": "LayoutView",
      "align_content": null,
      "align_items": null,
      "align_self": null,
      "border": null,
      "bottom": null,
      "display": null,
      "flex": null,
      "flex_flow": null,
      "grid_area": null,
      "grid_auto_columns": null,
      "grid_auto_flow": null,
      "grid_auto_rows": null,
      "grid_column": null,
      "grid_gap": null,
      "grid_row": null,
      "grid_template_areas": null,
      "grid_template_columns": null,
      "grid_template_rows": null,
      "height": null,
      "justify_content": null,
      "justify_items": null,
      "left": null,
      "margin": null,
      "max_height": null,
      "max_width": null,
      "min_height": null,
      "min_width": null,
      "object_fit": null,
      "object_position": null,
      "order": null,
      "overflow": null,
      "overflow_x": null,
      "overflow_y": null,
      "padding": null,
      "right": null,
      "top": null,
      "visibility": null,
      "width": null
     }
    },
    "66a6ef4900704a4daf064897a1fa9826": {
     "model_module": "@jupyter-widgets/base",
     "model_module_version": "1.2.0",
     "model_name": "LayoutModel",
     "state": {
      "_model_module": "@jupyter-widgets/base",
      "_model_module_version": "1.2.0",
      "_model_name": "LayoutModel",
      "_view_count": null,
      "_view_module": "@jupyter-widgets/base",
      "_view_module_version": "1.2.0",
      "_view_name": "LayoutView",
      "align_content": null,
      "align_items": null,
      "align_self": null,
      "border": null,
      "bottom": null,
      "display": null,
      "flex": null,
      "flex_flow": null,
      "grid_area": null,
      "grid_auto_columns": null,
      "grid_auto_flow": null,
      "grid_auto_rows": null,
      "grid_column": null,
      "grid_gap": null,
      "grid_row": null,
      "grid_template_areas": null,
      "grid_template_columns": null,
      "grid_template_rows": null,
      "height": null,
      "justify_content": null,
      "justify_items": null,
      "left": null,
      "margin": null,
      "max_height": null,
      "max_width": null,
      "min_height": null,
      "min_width": null,
      "object_fit": null,
      "object_position": null,
      "order": null,
      "overflow": null,
      "overflow_x": null,
      "overflow_y": null,
      "padding": null,
      "right": null,
      "top": null,
      "visibility": null,
      "width": null
     }
    },
    "6c8677c2a49244a4b227a6f0a8c40f9b": {
     "model_module": "@jupyter-widgets/controls",
     "model_module_version": "1.5.0",
     "model_name": "DescriptionStyleModel",
     "state": {
      "_model_module": "@jupyter-widgets/controls",
      "_model_module_version": "1.5.0",
      "_model_name": "DescriptionStyleModel",
      "_view_count": null,
      "_view_module": "@jupyter-widgets/base",
      "_view_module_version": "1.2.0",
      "_view_name": "StyleView",
      "description_width": ""
     }
    },
    "810a8adb618e47c790f787ba733b033e": {
     "model_module": "@jupyter-widgets/controls",
     "model_module_version": "1.5.0",
     "model_name": "HTMLModel",
     "state": {
      "_dom_classes": [],
      "_model_module": "@jupyter-widgets/controls",
      "_model_module_version": "1.5.0",
      "_model_name": "HTMLModel",
      "_view_count": null,
      "_view_module": "@jupyter-widgets/controls",
      "_view_module_version": "1.5.0",
      "_view_name": "HTMLView",
      "description": "",
      "description_tooltip": null,
      "layout": "IPY_MODEL_62ba2ae726ed47c0859337b41e37f58f",
      "placeholder": "​",
      "style": "IPY_MODEL_fd7c81e523174b02b784f50fed54aea7",
      "value": "README.md: 100%"
     }
    },
    "889bfa2b52f64de0ad8cce2e0de9c9ef": {
     "model_module": "@jupyter-widgets/controls",
     "model_module_version": "1.5.0",
     "model_name": "HBoxModel",
     "state": {
      "_dom_classes": [],
      "_model_module": "@jupyter-widgets/controls",
      "_model_module_version": "1.5.0",
      "_model_name": "HBoxModel",
      "_view_count": null,
      "_view_module": "@jupyter-widgets/controls",
      "_view_module_version": "1.5.0",
      "_view_name": "HBoxView",
      "box_style": "",
      "children": [
       "IPY_MODEL_810a8adb618e47c790f787ba733b033e",
       "IPY_MODEL_1a7324435c0b4e9f82cabb0e3a391137",
       "IPY_MODEL_e75b792b65a84c91bf636b84fcab8ea2"
      ],
      "layout": "IPY_MODEL_eecc7a8a6ca9457b8257893e455a2b28"
     }
    },
    "8d479fd64fba4ea1a90c462c0673f4ea": {
     "model_module": "@jupyter-widgets/controls",
     "model_module_version": "1.5.0",
     "model_name": "DescriptionStyleModel",
     "state": {
      "_model_module": "@jupyter-widgets/controls",
      "_model_module_version": "1.5.0",
      "_model_name": "DescriptionStyleModel",
      "_view_count": null,
      "_view_module": "@jupyter-widgets/base",
      "_view_module_version": "1.2.0",
      "_view_name": "StyleView",
      "description_width": ""
     }
    },
    "9dd5c5db612b46f3963a2f6230d50f2b": {
     "model_module": "@jupyter-widgets/controls",
     "model_module_version": "1.5.0",
     "model_name": "ProgressStyleModel",
     "state": {
      "_model_module": "@jupyter-widgets/controls",
      "_model_module_version": "1.5.0",
      "_model_name": "ProgressStyleModel",
      "_view_count": null,
      "_view_module": "@jupyter-widgets/base",
      "_view_module_version": "1.2.0",
      "_view_name": "StyleView",
      "bar_color": null,
      "description_width": ""
     }
    },
    "b14b7dc1c75c43ffa0611c0dc4aeeec9": {
     "model_module": "@jupyter-widgets/base",
     "model_module_version": "1.2.0",
     "model_name": "LayoutModel",
     "state": {
      "_model_module": "@jupyter-widgets/base",
      "_model_module_version": "1.2.0",
      "_model_name": "LayoutModel",
      "_view_count": null,
      "_view_module": "@jupyter-widgets/base",
      "_view_module_version": "1.2.0",
      "_view_name": "LayoutView",
      "align_content": null,
      "align_items": null,
      "align_self": null,
      "border": null,
      "bottom": null,
      "display": null,
      "flex": null,
      "flex_flow": null,
      "grid_area": null,
      "grid_auto_columns": null,
      "grid_auto_flow": null,
      "grid_auto_rows": null,
      "grid_column": null,
      "grid_gap": null,
      "grid_row": null,
      "grid_template_areas": null,
      "grid_template_columns": null,
      "grid_template_rows": null,
      "height": null,
      "justify_content": null,
      "justify_items": null,
      "left": null,
      "margin": null,
      "max_height": null,
      "max_width": null,
      "min_height": null,
      "min_width": null,
      "object_fit": null,
      "object_position": null,
      "order": null,
      "overflow": null,
      "overflow_x": null,
      "overflow_y": null,
      "padding": null,
      "right": null,
      "top": null,
      "visibility": null,
      "width": null
     }
    },
    "b66fc89af7494d60966aebdc33583976": {
     "model_module": "@jupyter-widgets/base",
     "model_module_version": "1.2.0",
     "model_name": "LayoutModel",
     "state": {
      "_model_module": "@jupyter-widgets/base",
      "_model_module_version": "1.2.0",
      "_model_name": "LayoutModel",
      "_view_count": null,
      "_view_module": "@jupyter-widgets/base",
      "_view_module_version": "1.2.0",
      "_view_name": "LayoutView",
      "align_content": null,
      "align_items": null,
      "align_self": null,
      "border": null,
      "bottom": null,
      "display": null,
      "flex": null,
      "flex_flow": null,
      "grid_area": null,
      "grid_auto_columns": null,
      "grid_auto_flow": null,
      "grid_auto_rows": null,
      "grid_column": null,
      "grid_gap": null,
      "grid_row": null,
      "grid_template_areas": null,
      "grid_template_columns": null,
      "grid_template_rows": null,
      "height": null,
      "justify_content": null,
      "justify_items": null,
      "left": null,
      "margin": null,
      "max_height": null,
      "max_width": null,
      "min_height": null,
      "min_width": null,
      "object_fit": null,
      "object_position": null,
      "order": null,
      "overflow": null,
      "overflow_x": null,
      "overflow_y": null,
      "padding": null,
      "right": null,
      "top": null,
      "visibility": null,
      "width": null
     }
    },
    "bf950d5c1a4c4fdb984483ba98656de0": {
     "model_module": "@jupyter-widgets/base",
     "model_module_version": "1.2.0",
     "model_name": "LayoutModel",
     "state": {
      "_model_module": "@jupyter-widgets/base",
      "_model_module_version": "1.2.0",
      "_model_name": "LayoutModel",
      "_view_count": null,
      "_view_module": "@jupyter-widgets/base",
      "_view_module_version": "1.2.0",
      "_view_name": "LayoutView",
      "align_content": null,
      "align_items": null,
      "align_self": null,
      "border": null,
      "bottom": null,
      "display": null,
      "flex": null,
      "flex_flow": null,
      "grid_area": null,
      "grid_auto_columns": null,
      "grid_auto_flow": null,
      "grid_auto_rows": null,
      "grid_column": null,
      "grid_gap": null,
      "grid_row": null,
      "grid_template_areas": null,
      "grid_template_columns": null,
      "grid_template_rows": null,
      "height": null,
      "justify_content": null,
      "justify_items": null,
      "left": null,
      "margin": null,
      "max_height": null,
      "max_width": null,
      "min_height": null,
      "min_width": null,
      "object_fit": null,
      "object_position": null,
      "order": null,
      "overflow": null,
      "overflow_x": null,
      "overflow_y": null,
      "padding": null,
      "right": null,
      "top": null,
      "visibility": null,
      "width": null
     }
    },
    "da0f77c2421c43398b8b659c30b0a662": {
     "model_module": "@jupyter-widgets/controls",
     "model_module_version": "1.5.0",
     "model_name": "HBoxModel",
     "state": {
      "_dom_classes": [],
      "_model_module": "@jupyter-widgets/controls",
      "_model_module_version": "1.5.0",
      "_model_name": "HBoxModel",
      "_view_count": null,
      "_view_module": "@jupyter-widgets/controls",
      "_view_module_version": "1.5.0",
      "_view_name": "HBoxView",
      "box_style": "",
      "children": [
       "IPY_MODEL_3c3605c2eaa546b782330ec02eeb633f",
       "IPY_MODEL_1484b5df2a7448a0a30df75f7d5a364c",
       "IPY_MODEL_21a9ee17898f444caff3097604ea9251"
      ],
      "layout": "IPY_MODEL_198c993b694c4c138f4b63947aef9b20"
     }
    },
    "db4c0e0d4f834a21a436c5c1f1004a13": {
     "model_module": "@jupyter-widgets/controls",
     "model_module_version": "1.5.0",
     "model_name": "FloatProgressModel",
     "state": {
      "_dom_classes": [],
      "_model_module": "@jupyter-widgets/controls",
      "_model_module_version": "1.5.0",
      "_model_name": "FloatProgressModel",
      "_view_count": null,
      "_view_module": "@jupyter-widgets/controls",
      "_view_module_version": "1.5.0",
      "_view_name": "ProgressView",
      "bar_style": "success",
      "description": "",
      "description_tooltip": null,
      "layout": "IPY_MODEL_b14b7dc1c75c43ffa0611c0dc4aeeec9",
      "max": 5000,
      "min": 0,
      "orientation": "horizontal",
      "style": "IPY_MODEL_08971f1893624ec9ac667fcd5db2ea6a",
      "value": 5000
     }
    },
    "e0bb7b185297412a8b6eb642dc3fa75b": {
     "model_module": "@jupyter-widgets/controls",
     "model_module_version": "1.5.0",
     "model_name": "ProgressStyleModel",
     "state": {
      "_model_module": "@jupyter-widgets/controls",
      "_model_module_version": "1.5.0",
      "_model_name": "ProgressStyleModel",
      "_view_count": null,
      "_view_module": "@jupyter-widgets/base",
      "_view_module_version": "1.2.0",
      "_view_name": "StyleView",
      "bar_color": null,
      "description_width": ""
     }
    },
    "e75b792b65a84c91bf636b84fcab8ea2": {
     "model_module": "@jupyter-widgets/controls",
     "model_module_version": "1.5.0",
     "model_name": "HTMLModel",
     "state": {
      "_dom_classes": [],
      "_model_module": "@jupyter-widgets/controls",
      "_model_module_version": "1.5.0",
      "_model_name": "HTMLModel",
      "_view_count": null,
      "_view_module": "@jupyter-widgets/controls",
      "_view_module_version": "1.5.0",
      "_view_name": "HTMLView",
      "description": "",
      "description_tooltip": null,
      "layout": "IPY_MODEL_218e36725f514eeb8b1e8ff68f7313ab",
      "placeholder": "​",
      "style": "IPY_MODEL_31f2eb111f2f4041959358056952a6a8",
      "value": " 618/618 [00:00&lt;00:00, 16.4kB/s]"
     }
    },
    "e92b9a8903e541d2938e0338be92419f": {
     "model_module": "@jupyter-widgets/base",
     "model_module_version": "1.2.0",
     "model_name": "LayoutModel",
     "state": {
      "_model_module": "@jupyter-widgets/base",
      "_model_module_version": "1.2.0",
      "_model_name": "LayoutModel",
      "_view_count": null,
      "_view_module": "@jupyter-widgets/base",
      "_view_module_version": "1.2.0",
      "_view_name": "LayoutView",
      "align_content": null,
      "align_items": null,
      "align_self": null,
      "border": null,
      "bottom": null,
      "display": null,
      "flex": null,
      "flex_flow": null,
      "grid_area": null,
      "grid_auto_columns": null,
      "grid_auto_flow": null,
      "grid_auto_rows": null,
      "grid_column": null,
      "grid_gap": null,
      "grid_row": null,
      "grid_template_areas": null,
      "grid_template_columns": null,
      "grid_template_rows": null,
      "height": null,
      "justify_content": null,
      "justify_items": null,
      "left": null,
      "margin": null,
      "max_height": null,
      "max_width": null,
      "min_height": null,
      "min_width": null,
      "object_fit": null,
      "object_position": null,
      "order": null,
      "overflow": null,
      "overflow_x": null,
      "overflow_y": null,
      "padding": null,
      "right": null,
      "top": null,
      "visibility": null,
      "width": null
     }
    },
    "eecc7a8a6ca9457b8257893e455a2b28": {
     "model_module": "@jupyter-widgets/base",
     "model_module_version": "1.2.0",
     "model_name": "LayoutModel",
     "state": {
      "_model_module": "@jupyter-widgets/base",
      "_model_module_version": "1.2.0",
      "_model_name": "LayoutModel",
      "_view_count": null,
      "_view_module": "@jupyter-widgets/base",
      "_view_module_version": "1.2.0",
      "_view_name": "LayoutView",
      "align_content": null,
      "align_items": null,
      "align_self": null,
      "border": null,
      "bottom": null,
      "display": null,
      "flex": null,
      "flex_flow": null,
      "grid_area": null,
      "grid_auto_columns": null,
      "grid_auto_flow": null,
      "grid_auto_rows": null,
      "grid_column": null,
      "grid_gap": null,
      "grid_row": null,
      "grid_template_areas": null,
      "grid_template_columns": null,
      "grid_template_rows": null,
      "height": null,
      "justify_content": null,
      "justify_items": null,
      "left": null,
      "margin": null,
      "max_height": null,
      "max_width": null,
      "min_height": null,
      "min_width": null,
      "object_fit": null,
      "object_position": null,
      "order": null,
      "overflow": null,
      "overflow_x": null,
      "overflow_y": null,
      "padding": null,
      "right": null,
      "top": null,
      "visibility": null,
      "width": null
     }
    },
    "ef2ee083c042471e90b53e3c55897389": {
     "model_module": "@jupyter-widgets/controls",
     "model_module_version": "1.5.0",
     "model_name": "HBoxModel",
     "state": {
      "_dom_classes": [],
      "_model_module": "@jupyter-widgets/controls",
      "_model_module_version": "1.5.0",
      "_model_name": "HBoxModel",
      "_view_count": null,
      "_view_module": "@jupyter-widgets/controls",
      "_view_module_version": "1.5.0",
      "_view_name": "HBoxView",
      "box_style": "",
      "children": [
       "IPY_MODEL_22ef5d69f10849fe9593cc35acbfd3ca",
       "IPY_MODEL_db4c0e0d4f834a21a436c5c1f1004a13",
       "IPY_MODEL_f2e73f6a0ae4479d8e18bb259061c1b2"
      ],
      "layout": "IPY_MODEL_2c61b333bfe047a3b7d260ff3fc37564"
     }
    },
    "f2e73f6a0ae4479d8e18bb259061c1b2": {
     "model_module": "@jupyter-widgets/controls",
     "model_module_version": "1.5.0",
     "model_name": "HTMLModel",
     "state": {
      "_dom_classes": [],
      "_model_module": "@jupyter-widgets/controls",
      "_model_module_version": "1.5.0",
      "_model_name": "HTMLModel",
      "_view_count": null,
      "_view_module": "@jupyter-widgets/controls",
      "_view_module_version": "1.5.0",
      "_view_name": "HTMLView",
      "description": "",
      "description_tooltip": null,
      "layout": "IPY_MODEL_bf950d5c1a4c4fdb984483ba98656de0",
      "placeholder": "​",
      "style": "IPY_MODEL_11cafa9b09894b32a0db92ddc63f5a02",
      "value": " 5000/5000 [00:01&lt;00:00, 4314.67 examples/s]"
     }
    },
    "fb7e3dd03c3b4a2b8b3753f8be7d6187": {
     "model_module": "@jupyter-widgets/base",
     "model_module_version": "1.2.0",
     "model_name": "LayoutModel",
     "state": {
      "_model_module": "@jupyter-widgets/base",
      "_model_module_version": "1.2.0",
      "_model_name": "LayoutModel",
      "_view_count": null,
      "_view_module": "@jupyter-widgets/base",
      "_view_module_version": "1.2.0",
      "_view_name": "LayoutView",
      "align_content": null,
      "align_items": null,
      "align_self": null,
      "border": null,
      "bottom": null,
      "display": null,
      "flex": null,
      "flex_flow": null,
      "grid_area": null,
      "grid_auto_columns": null,
      "grid_auto_flow": null,
      "grid_auto_rows": null,
      "grid_column": null,
      "grid_gap": null,
      "grid_row": null,
      "grid_template_areas": null,
      "grid_template_columns": null,
      "grid_template_rows": null,
      "height": null,
      "justify_content": null,
      "justify_items": null,
      "left": null,
      "margin": null,
      "max_height": null,
      "max_width": null,
      "min_height": null,
      "min_width": null,
      "object_fit": null,
      "object_position": null,
      "order": null,
      "overflow": null,
      "overflow_x": null,
      "overflow_y": null,
      "padding": null,
      "right": null,
      "top": null,
      "visibility": null,
      "width": null
     }
    },
    "fd7c81e523174b02b784f50fed54aea7": {
     "model_module": "@jupyter-widgets/controls",
     "model_module_version": "1.5.0",
     "model_name": "DescriptionStyleModel",
     "state": {
      "_model_module": "@jupyter-widgets/controls",
      "_model_module_version": "1.5.0",
      "_model_name": "DescriptionStyleModel",
      "_view_count": null,
      "_view_module": "@jupyter-widgets/base",
      "_view_module_version": "1.2.0",
      "_view_name": "StyleView",
      "description_width": ""
     }
    }
   }
  }
 },
 "nbformat": 4,
 "nbformat_minor": 0
}
